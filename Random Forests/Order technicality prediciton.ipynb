{
 "cells": [
  {
   "cell_type": "code",
   "execution_count": 1,
   "metadata": {},
   "outputs": [],
   "source": [
    "import pandas as pd\n",
    "import matplotlib.pyplot as plt\n",
    "from sklearn.model_selection import train_test_split,GridSearchCV\n",
    "from sklearn.pipeline import Pipeline\n",
    "from sklearn.impute import SimpleImputer\n",
    "from sklearn.preprocessing import OneHotEncoder, MinMaxScaler\n",
    "from sklearn.tree import DecisionTreeClassifier\n",
    "from sklearn.compose import ColumnTransformer\n",
    "from sklearn.metrics import accuracy_score,confusion_matrix, plot_confusion_matrix\n",
    "from sklearn import set_config\n",
    "set_config(display='diagram')"
   ]
  },
  {
   "cell_type": "markdown",
   "metadata": {},
   "source": [
    "# Should an order should be sent to a technical approver"
   ]
  },
  {
   "cell_type": "markdown",
   "metadata": {},
   "source": [
    "In this problem, I build a Machine Learning model that makes decisions about whether to send an order to a technical approver or not.\n",
    "This problem is based on Chapter 2 of [*Machine Learning for Business*](https://www.manning.com/books/machine-learning-for-business)."
   ]
  },
  {
   "cell_type": "markdown",
   "metadata": {},
   "source": [
    "<img src=\"ML for business.png\" alt=\"Drawing\" style=\"width: 150px;\"/>"
   ]
  },
  {
   "cell_type": "markdown",
   "metadata": {},
   "source": [
    "You work in the purchasing department of a company. \n",
    "Your job is to receive requisitions from staff to buy a product or service.\n",
    "For some products, such as computers, you need to send the request to a technical advisor.\n",
    "Hence, when an order comes in, you need to decide whether to send it straight to the requester's financial approver or whether you should send it to a technical approver first."
   ]
  },
  {
   "cell_type": "markdown",
   "metadata": {},
   "source": [
    "![im](im1.png)"
   ]
  },
  {
   "cell_type": "code",
   "execution_count": 2,
   "metadata": {},
   "outputs": [
    {
     "data": {
      "text/html": [
       "<div>\n",
       "<style scoped>\n",
       "    .dataframe tbody tr th:only-of-type {\n",
       "        vertical-align: middle;\n",
       "    }\n",
       "\n",
       "    .dataframe tbody tr th {\n",
       "        vertical-align: top;\n",
       "    }\n",
       "\n",
       "    .dataframe thead th {\n",
       "        text-align: right;\n",
       "    }\n",
       "</style>\n",
       "<table border=\"1\" class=\"dataframe\">\n",
       "  <thead>\n",
       "    <tr style=\"text-align: right;\">\n",
       "      <th></th>\n",
       "      <th>tech_approval_required</th>\n",
       "      <th>requester_id</th>\n",
       "      <th>role</th>\n",
       "      <th>product</th>\n",
       "      <th>quantity</th>\n",
       "      <th>price</th>\n",
       "      <th>total</th>\n",
       "    </tr>\n",
       "  </thead>\n",
       "  <tbody>\n",
       "    <tr>\n",
       "      <th>0</th>\n",
       "      <td>0</td>\n",
       "      <td>E2300</td>\n",
       "      <td>tech</td>\n",
       "      <td>Desk</td>\n",
       "      <td>1</td>\n",
       "      <td>664</td>\n",
       "      <td>664</td>\n",
       "    </tr>\n",
       "    <tr>\n",
       "      <th>1</th>\n",
       "      <td>0</td>\n",
       "      <td>E2300</td>\n",
       "      <td>tech</td>\n",
       "      <td>Keyboard</td>\n",
       "      <td>9</td>\n",
       "      <td>649</td>\n",
       "      <td>5841</td>\n",
       "    </tr>\n",
       "    <tr>\n",
       "      <th>2</th>\n",
       "      <td>0</td>\n",
       "      <td>E2374</td>\n",
       "      <td>non-tech</td>\n",
       "      <td>Keyboard</td>\n",
       "      <td>1</td>\n",
       "      <td>821</td>\n",
       "      <td>821</td>\n",
       "    </tr>\n",
       "    <tr>\n",
       "      <th>3</th>\n",
       "      <td>1</td>\n",
       "      <td>E2374</td>\n",
       "      <td>non-tech</td>\n",
       "      <td>Desktop Computer</td>\n",
       "      <td>24</td>\n",
       "      <td>655</td>\n",
       "      <td>15720</td>\n",
       "    </tr>\n",
       "    <tr>\n",
       "      <th>4</th>\n",
       "      <td>0</td>\n",
       "      <td>E2327</td>\n",
       "      <td>non-tech</td>\n",
       "      <td>Desk</td>\n",
       "      <td>1</td>\n",
       "      <td>758</td>\n",
       "      <td>758</td>\n",
       "    </tr>\n",
       "  </tbody>\n",
       "</table>\n",
       "</div>"
      ],
      "text/plain": [
       "   tech_approval_required requester_id      role           product  quantity  \\\n",
       "0                       0        E2300      tech              Desk         1   \n",
       "1                       0        E2300      tech          Keyboard         9   \n",
       "2                       0        E2374  non-tech          Keyboard         1   \n",
       "3                       1        E2374  non-tech  Desktop Computer        24   \n",
       "4                       0        E2327  non-tech              Desk         1   \n",
       "\n",
       "   price  total  \n",
       "0    664    664  \n",
       "1    649   5841  \n",
       "2    821    821  \n",
       "3    655  15720  \n",
       "4    758    758  "
      ]
     },
     "execution_count": 2,
     "metadata": {},
     "output_type": "execute_result"
    }
   ],
   "source": [
    "# load data\n",
    "url = 'https://raw.githubusercontent.com/um-perez-alvaro/Data-Science-Practice/master/Data/orders_with_predicted_value.csv'\n",
    "orders = pd.read_csv(url)\n",
    "orders.head(5) "
   ]
  },
  {
   "cell_type": "markdown",
   "metadata": {},
   "source": [
    "The dataset consistis of 1000 historical orders, and a flag that indicates whether that order was sent to a technical approver or not (the `tech_approval_required`)."
   ]
  },
  {
   "cell_type": "code",
   "execution_count": 3,
   "metadata": {},
   "outputs": [
    {
     "data": {
      "text/plain": [
       "0    807\n",
       "1    193\n",
       "Name: tech_approval_required, dtype: int64"
      ]
     },
     "execution_count": 3,
     "metadata": {},
     "output_type": "execute_result"
    }
   ],
   "source": [
    "orders.tech_approval_required.value_counts()"
   ]
  },
  {
   "cell_type": "markdown",
   "metadata": {},
   "source": [
    "Your end goal is to be able to submit an order to a Machine Learning model and have it return a result that recommends sending the order to a technical approver or not."
   ]
  },
  {
   "cell_type": "markdown",
   "metadata": {},
   "source": [
    "**Part 1:** Define the feature matrix X and the target vector y from the `orders` dataframe,  and then split X and y into training and testing sets."
   ]
  },
  {
   "cell_type": "code",
   "execution_count": 4,
   "metadata": {},
   "outputs": [
    {
     "data": {
      "text/html": [
       "<div>\n",
       "<style scoped>\n",
       "    .dataframe tbody tr th:only-of-type {\n",
       "        vertical-align: middle;\n",
       "    }\n",
       "\n",
       "    .dataframe tbody tr th {\n",
       "        vertical-align: top;\n",
       "    }\n",
       "\n",
       "    .dataframe thead th {\n",
       "        text-align: right;\n",
       "    }\n",
       "</style>\n",
       "<table border=\"1\" class=\"dataframe\">\n",
       "  <thead>\n",
       "    <tr style=\"text-align: right;\">\n",
       "      <th></th>\n",
       "      <th>role</th>\n",
       "      <th>product</th>\n",
       "      <th>quantity</th>\n",
       "      <th>price</th>\n",
       "      <th>total</th>\n",
       "    </tr>\n",
       "  </thead>\n",
       "  <tbody>\n",
       "    <tr>\n",
       "      <th>0</th>\n",
       "      <td>tech</td>\n",
       "      <td>Desk</td>\n",
       "      <td>1</td>\n",
       "      <td>664</td>\n",
       "      <td>664</td>\n",
       "    </tr>\n",
       "    <tr>\n",
       "      <th>1</th>\n",
       "      <td>tech</td>\n",
       "      <td>Keyboard</td>\n",
       "      <td>9</td>\n",
       "      <td>649</td>\n",
       "      <td>5841</td>\n",
       "    </tr>\n",
       "    <tr>\n",
       "      <th>2</th>\n",
       "      <td>non-tech</td>\n",
       "      <td>Keyboard</td>\n",
       "      <td>1</td>\n",
       "      <td>821</td>\n",
       "      <td>821</td>\n",
       "    </tr>\n",
       "    <tr>\n",
       "      <th>3</th>\n",
       "      <td>non-tech</td>\n",
       "      <td>Desktop Computer</td>\n",
       "      <td>24</td>\n",
       "      <td>655</td>\n",
       "      <td>15720</td>\n",
       "    </tr>\n",
       "    <tr>\n",
       "      <th>4</th>\n",
       "      <td>non-tech</td>\n",
       "      <td>Desk</td>\n",
       "      <td>1</td>\n",
       "      <td>758</td>\n",
       "      <td>758</td>\n",
       "    </tr>\n",
       "    <tr>\n",
       "      <th>...</th>\n",
       "      <td>...</td>\n",
       "      <td>...</td>\n",
       "      <td>...</td>\n",
       "      <td>...</td>\n",
       "      <td>...</td>\n",
       "    </tr>\n",
       "    <tr>\n",
       "      <th>995</th>\n",
       "      <td>non-tech</td>\n",
       "      <td>Laptop Computer</td>\n",
       "      <td>1</td>\n",
       "      <td>116</td>\n",
       "      <td>116</td>\n",
       "    </tr>\n",
       "    <tr>\n",
       "      <th>996</th>\n",
       "      <td>non-tech</td>\n",
       "      <td>Laptop Computer</td>\n",
       "      <td>1</td>\n",
       "      <td>1132</td>\n",
       "      <td>1132</td>\n",
       "    </tr>\n",
       "    <tr>\n",
       "      <th>997</th>\n",
       "      <td>non-tech</td>\n",
       "      <td>Keyboard</td>\n",
       "      <td>2</td>\n",
       "      <td>804</td>\n",
       "      <td>1608</td>\n",
       "    </tr>\n",
       "    <tr>\n",
       "      <th>998</th>\n",
       "      <td>non-tech</td>\n",
       "      <td>Desk</td>\n",
       "      <td>3</td>\n",
       "      <td>270</td>\n",
       "      <td>810</td>\n",
       "    </tr>\n",
       "    <tr>\n",
       "      <th>999</th>\n",
       "      <td>non-tech</td>\n",
       "      <td>Mouse</td>\n",
       "      <td>1</td>\n",
       "      <td>236</td>\n",
       "      <td>236</td>\n",
       "    </tr>\n",
       "  </tbody>\n",
       "</table>\n",
       "<p>1000 rows × 5 columns</p>\n",
       "</div>"
      ],
      "text/plain": [
       "         role           product  quantity  price  total\n",
       "0        tech              Desk         1    664    664\n",
       "1        tech          Keyboard         9    649   5841\n",
       "2    non-tech          Keyboard         1    821    821\n",
       "3    non-tech  Desktop Computer        24    655  15720\n",
       "4    non-tech              Desk         1    758    758\n",
       "..        ...               ...       ...    ...    ...\n",
       "995  non-tech   Laptop Computer         1    116    116\n",
       "996  non-tech   Laptop Computer         1   1132   1132\n",
       "997  non-tech          Keyboard         2    804   1608\n",
       "998  non-tech              Desk         3    270    810\n",
       "999  non-tech             Mouse         1    236    236\n",
       "\n",
       "[1000 rows x 5 columns]"
      ]
     },
     "execution_count": 4,
     "metadata": {},
     "output_type": "execute_result"
    }
   ],
   "source": [
    "# your code here\n",
    "x=orders.drop(['tech_approval_required','requester_id'],axis=1)\n",
    "x"
   ]
  },
  {
   "cell_type": "code",
   "execution_count": 5,
   "metadata": {},
   "outputs": [],
   "source": [
    "y=orders.tech_approval_required"
   ]
  },
  {
   "cell_type": "code",
   "execution_count": 6,
   "metadata": {},
   "outputs": [],
   "source": [
    "x_train,x_test,y_train,y_test=train_test_split(x,y)"
   ]
  },
  {
   "cell_type": "markdown",
   "metadata": {},
   "source": [
    "**Part 3:** build a classification pipeline (feature preprocessor + Classification Tree)"
   ]
  },
  {
   "cell_type": "code",
   "execution_count": 7,
   "metadata": {},
   "outputs": [],
   "source": [
    "numerical_features=['quantity','price','total']\n",
    "numerical_processor= Pipeline(steps=[\n",
    "    ('imputer', SimpleImputer(strategy='mean')),\n",
    "    ('scaler',MinMaxScaler())\n",
    "])"
   ]
  },
  {
   "cell_type": "code",
   "execution_count": 8,
   "metadata": {},
   "outputs": [],
   "source": [
    "categorical_features=['role','product']\n",
    "categorical_processor= Pipeline(steps=[\n",
    "    ('imputer',SimpleImputer(strategy= 'most_frequent')),\n",
    "    ('encoder',OneHotEncoder())\n",
    "])"
   ]
  },
  {
   "cell_type": "code",
   "execution_count": 9,
   "metadata": {},
   "outputs": [],
   "source": [
    "# your code here\n",
    "processor= ColumnTransformer(transformers=[\n",
    "    ('cat_process',categorical_processor,categorical_features),\n",
    "    ('num_process',numerical_processor,numerical_features)\n",
    "],remainder='drop')"
   ]
  },
  {
   "cell_type": "code",
   "execution_count": 10,
   "metadata": {},
   "outputs": [],
   "source": [
    "pipe= Pipeline(steps=[\n",
    "    ('processor',processor),\n",
    "    ('tree_clf',DecisionTreeClassifier())\n",
    "])"
   ]
  },
  {
   "cell_type": "code",
   "execution_count": 11,
   "metadata": {
    "scrolled": false
   },
   "outputs": [
    {
     "data": {
      "text/html": [
       "<style>#sk-1a489310-e8eb-4aff-8ed4-efecfe05656f {color: black;background-color: white;}#sk-1a489310-e8eb-4aff-8ed4-efecfe05656f pre{padding: 0;}#sk-1a489310-e8eb-4aff-8ed4-efecfe05656f div.sk-toggleable {background-color: white;}#sk-1a489310-e8eb-4aff-8ed4-efecfe05656f label.sk-toggleable__label {cursor: pointer;display: block;width: 100%;margin-bottom: 0;padding: 0.2em 0.3em;box-sizing: border-box;text-align: center;}#sk-1a489310-e8eb-4aff-8ed4-efecfe05656f div.sk-toggleable__content {max-height: 0;max-width: 0;overflow: hidden;text-align: left;background-color: #f0f8ff;}#sk-1a489310-e8eb-4aff-8ed4-efecfe05656f div.sk-toggleable__content pre {margin: 0.2em;color: black;border-radius: 0.25em;background-color: #f0f8ff;}#sk-1a489310-e8eb-4aff-8ed4-efecfe05656f input.sk-toggleable__control:checked~div.sk-toggleable__content {max-height: 200px;max-width: 100%;overflow: auto;}#sk-1a489310-e8eb-4aff-8ed4-efecfe05656f div.sk-estimator input.sk-toggleable__control:checked~label.sk-toggleable__label {background-color: #d4ebff;}#sk-1a489310-e8eb-4aff-8ed4-efecfe05656f div.sk-label input.sk-toggleable__control:checked~label.sk-toggleable__label {background-color: #d4ebff;}#sk-1a489310-e8eb-4aff-8ed4-efecfe05656f input.sk-hidden--visually {border: 0;clip: rect(1px 1px 1px 1px);clip: rect(1px, 1px, 1px, 1px);height: 1px;margin: -1px;overflow: hidden;padding: 0;position: absolute;width: 1px;}#sk-1a489310-e8eb-4aff-8ed4-efecfe05656f div.sk-estimator {font-family: monospace;background-color: #f0f8ff;margin: 0.25em 0.25em;border: 1px dotted black;border-radius: 0.25em;box-sizing: border-box;}#sk-1a489310-e8eb-4aff-8ed4-efecfe05656f div.sk-estimator:hover {background-color: #d4ebff;}#sk-1a489310-e8eb-4aff-8ed4-efecfe05656f div.sk-parallel-item::after {content: \"\";width: 100%;border-bottom: 1px solid gray;flex-grow: 1;}#sk-1a489310-e8eb-4aff-8ed4-efecfe05656f div.sk-label:hover label.sk-toggleable__label {background-color: #d4ebff;}#sk-1a489310-e8eb-4aff-8ed4-efecfe05656f div.sk-serial::before {content: \"\";position: absolute;border-left: 1px solid gray;box-sizing: border-box;top: 2em;bottom: 0;left: 50%;}#sk-1a489310-e8eb-4aff-8ed4-efecfe05656f div.sk-serial {display: flex;flex-direction: column;align-items: center;background-color: white;}#sk-1a489310-e8eb-4aff-8ed4-efecfe05656f div.sk-item {z-index: 1;}#sk-1a489310-e8eb-4aff-8ed4-efecfe05656f div.sk-parallel {display: flex;align-items: stretch;justify-content: center;background-color: white;}#sk-1a489310-e8eb-4aff-8ed4-efecfe05656f div.sk-parallel-item {display: flex;flex-direction: column;position: relative;background-color: white;}#sk-1a489310-e8eb-4aff-8ed4-efecfe05656f div.sk-parallel-item:first-child::after {align-self: flex-end;width: 50%;}#sk-1a489310-e8eb-4aff-8ed4-efecfe05656f div.sk-parallel-item:last-child::after {align-self: flex-start;width: 50%;}#sk-1a489310-e8eb-4aff-8ed4-efecfe05656f div.sk-parallel-item:only-child::after {width: 0;}#sk-1a489310-e8eb-4aff-8ed4-efecfe05656f div.sk-dashed-wrapped {border: 1px dashed gray;margin: 0.2em;box-sizing: border-box;padding-bottom: 0.1em;background-color: white;position: relative;}#sk-1a489310-e8eb-4aff-8ed4-efecfe05656f div.sk-label label {font-family: monospace;font-weight: bold;background-color: white;display: inline-block;line-height: 1.2em;}#sk-1a489310-e8eb-4aff-8ed4-efecfe05656f div.sk-label-container {position: relative;z-index: 2;text-align: center;}#sk-1a489310-e8eb-4aff-8ed4-efecfe05656f div.sk-container {display: inline-block;position: relative;}</style><div id=\"sk-1a489310-e8eb-4aff-8ed4-efecfe05656f\" class\"sk-top-container\"><div class=\"sk-container\"><div class=\"sk-item sk-dashed-wrapped\"><div class=\"sk-label-container\"><div class=\"sk-label sk-toggleable\"><input class=\"sk-toggleable__control sk-hidden--visually\" id=\"b6c8844e-6055-484c-9dd6-46907fa9f8be\" type=\"checkbox\" ><label class=\"sk-toggleable__label\" for=\"b6c8844e-6055-484c-9dd6-46907fa9f8be\">Pipeline</label><div class=\"sk-toggleable__content\"><pre>Pipeline(steps=[('processor',\n",
       "                 ColumnTransformer(transformers=[('cat_process',\n",
       "                                                  Pipeline(steps=[('imputer',\n",
       "                                                                   SimpleImputer(strategy='most_frequent')),\n",
       "                                                                  ('encoder',\n",
       "                                                                   OneHotEncoder())]),\n",
       "                                                  ['role', 'product']),\n",
       "                                                 ('num_process',\n",
       "                                                  Pipeline(steps=[('imputer',\n",
       "                                                                   SimpleImputer()),\n",
       "                                                                  ('scaler',\n",
       "                                                                   MinMaxScaler())]),\n",
       "                                                  ['quantity', 'price',\n",
       "                                                   'total'])])),\n",
       "                ('tree_clf', DecisionTreeClassifier())])</pre></div></div></div><div class=\"sk-serial\"><div class=\"sk-item sk-dashed-wrapped\"><div class=\"sk-label-container\"><div class=\"sk-label sk-toggleable\"><input class=\"sk-toggleable__control sk-hidden--visually\" id=\"3706722f-f8b9-4ab1-b7e1-340b74c87de3\" type=\"checkbox\" ><label class=\"sk-toggleable__label\" for=\"3706722f-f8b9-4ab1-b7e1-340b74c87de3\">processor: ColumnTransformer</label><div class=\"sk-toggleable__content\"><pre>ColumnTransformer(transformers=[('cat_process',\n",
       "                                 Pipeline(steps=[('imputer',\n",
       "                                                  SimpleImputer(strategy='most_frequent')),\n",
       "                                                 ('encoder', OneHotEncoder())]),\n",
       "                                 ['role', 'product']),\n",
       "                                ('num_process',\n",
       "                                 Pipeline(steps=[('imputer', SimpleImputer()),\n",
       "                                                 ('scaler', MinMaxScaler())]),\n",
       "                                 ['quantity', 'price', 'total'])])</pre></div></div></div><div class=\"sk-parallel\"><div class=\"sk-parallel-item\"><div class=\"sk-item\"><div class=\"sk-label-container\"><div class=\"sk-label sk-toggleable\"><input class=\"sk-toggleable__control sk-hidden--visually\" id=\"f6e363a2-c368-4409-af05-b7063d586228\" type=\"checkbox\" ><label class=\"sk-toggleable__label\" for=\"f6e363a2-c368-4409-af05-b7063d586228\">cat_process</label><div class=\"sk-toggleable__content\"><pre>['role', 'product']</pre></div></div></div><div class=\"sk-serial\"><div class=\"sk-item\"><div class=\"sk-serial\"><div class=\"sk-item\"><div class=\"sk-estimator sk-toggleable\"><input class=\"sk-toggleable__control sk-hidden--visually\" id=\"90f9afbd-83c6-452e-9c00-3458b42423f4\" type=\"checkbox\" ><label class=\"sk-toggleable__label\" for=\"90f9afbd-83c6-452e-9c00-3458b42423f4\">SimpleImputer</label><div class=\"sk-toggleable__content\"><pre>SimpleImputer(strategy='most_frequent')</pre></div></div></div><div class=\"sk-item\"><div class=\"sk-estimator sk-toggleable\"><input class=\"sk-toggleable__control sk-hidden--visually\" id=\"c8011444-fb2d-4bef-8451-ff4118374f71\" type=\"checkbox\" ><label class=\"sk-toggleable__label\" for=\"c8011444-fb2d-4bef-8451-ff4118374f71\">OneHotEncoder</label><div class=\"sk-toggleable__content\"><pre>OneHotEncoder()</pre></div></div></div></div></div></div></div></div><div class=\"sk-parallel-item\"><div class=\"sk-item\"><div class=\"sk-label-container\"><div class=\"sk-label sk-toggleable\"><input class=\"sk-toggleable__control sk-hidden--visually\" id=\"7caf561b-a41a-4bae-9f2b-d0dfe30941de\" type=\"checkbox\" ><label class=\"sk-toggleable__label\" for=\"7caf561b-a41a-4bae-9f2b-d0dfe30941de\">num_process</label><div class=\"sk-toggleable__content\"><pre>['quantity', 'price', 'total']</pre></div></div></div><div class=\"sk-serial\"><div class=\"sk-item\"><div class=\"sk-serial\"><div class=\"sk-item\"><div class=\"sk-estimator sk-toggleable\"><input class=\"sk-toggleable__control sk-hidden--visually\" id=\"f58bb002-03fc-4d36-920f-cfb11aaea057\" type=\"checkbox\" ><label class=\"sk-toggleable__label\" for=\"f58bb002-03fc-4d36-920f-cfb11aaea057\">SimpleImputer</label><div class=\"sk-toggleable__content\"><pre>SimpleImputer()</pre></div></div></div><div class=\"sk-item\"><div class=\"sk-estimator sk-toggleable\"><input class=\"sk-toggleable__control sk-hidden--visually\" id=\"100aa340-1f9f-435d-86bc-f8b2022140ec\" type=\"checkbox\" ><label class=\"sk-toggleable__label\" for=\"100aa340-1f9f-435d-86bc-f8b2022140ec\">MinMaxScaler</label><div class=\"sk-toggleable__content\"><pre>MinMaxScaler()</pre></div></div></div></div></div></div></div></div></div></div><div class=\"sk-item\"><div class=\"sk-estimator sk-toggleable\"><input class=\"sk-toggleable__control sk-hidden--visually\" id=\"c473a0d6-28bd-4bcf-b681-9dc770582f27\" type=\"checkbox\" ><label class=\"sk-toggleable__label\" for=\"c473a0d6-28bd-4bcf-b681-9dc770582f27\">DecisionTreeClassifier</label><div class=\"sk-toggleable__content\"><pre>DecisionTreeClassifier()</pre></div></div></div></div></div></div></div>"
      ],
      "text/plain": [
       "Pipeline(steps=[('processor',\n",
       "                 ColumnTransformer(transformers=[('cat_process',\n",
       "                                                  Pipeline(steps=[('imputer',\n",
       "                                                                   SimpleImputer(strategy='most_frequent')),\n",
       "                                                                  ('encoder',\n",
       "                                                                   OneHotEncoder())]),\n",
       "                                                  ['role', 'product']),\n",
       "                                                 ('num_process',\n",
       "                                                  Pipeline(steps=[('imputer',\n",
       "                                                                   SimpleImputer()),\n",
       "                                                                  ('scaler',\n",
       "                                                                   MinMaxScaler())]),\n",
       "                                                  ['quantity', 'price',\n",
       "                                                   'total'])])),\n",
       "                ('tree_clf', DecisionTreeClassifier())])"
      ]
     },
     "execution_count": 11,
     "metadata": {},
     "output_type": "execute_result"
    }
   ],
   "source": [
    "pipe"
   ]
  },
  {
   "cell_type": "code",
   "execution_count": null,
   "metadata": {},
   "outputs": [],
   "source": [
    "\n"
   ]
  },
  {
   "cell_type": "markdown",
   "metadata": {},
   "source": [
    "**Part 4:** Use `GridSearchCV` to find a good `max_depth` value."
   ]
  },
  {
   "cell_type": "code",
   "execution_count": 12,
   "metadata": {},
   "outputs": [],
   "source": [
    "# your code here\n",
    "param_dic ={'tree_clf__max_depth':[2,5,10,20],\n",
    "            'tree_clf__min_samples_split':[16,32,64,128],\n",
    "            'tree_clf__min_samples_leaf':[16,32,64,128]}"
   ]
  },
  {
   "cell_type": "code",
   "execution_count": 13,
   "metadata": {},
   "outputs": [],
   "source": [
    "grid=GridSearchCV(pipe,\n",
    "                  param_dic,\n",
    "                  cv=10,\n",
    "                  scoring='accuracy',\n",
    "                  n_jobs=-1,verbose=1)"
   ]
  },
  {
   "cell_type": "code",
   "execution_count": 14,
   "metadata": {},
   "outputs": [
    {
     "name": "stdout",
     "output_type": "stream",
     "text": [
      "Fitting 10 folds for each of 64 candidates, totalling 640 fits\n"
     ]
    },
    {
     "data": {
      "text/html": [
       "<style>#sk-62cd5219-759e-41eb-b0b1-3185c9c33d8c {color: black;background-color: white;}#sk-62cd5219-759e-41eb-b0b1-3185c9c33d8c pre{padding: 0;}#sk-62cd5219-759e-41eb-b0b1-3185c9c33d8c div.sk-toggleable {background-color: white;}#sk-62cd5219-759e-41eb-b0b1-3185c9c33d8c label.sk-toggleable__label {cursor: pointer;display: block;width: 100%;margin-bottom: 0;padding: 0.2em 0.3em;box-sizing: border-box;text-align: center;}#sk-62cd5219-759e-41eb-b0b1-3185c9c33d8c div.sk-toggleable__content {max-height: 0;max-width: 0;overflow: hidden;text-align: left;background-color: #f0f8ff;}#sk-62cd5219-759e-41eb-b0b1-3185c9c33d8c div.sk-toggleable__content pre {margin: 0.2em;color: black;border-radius: 0.25em;background-color: #f0f8ff;}#sk-62cd5219-759e-41eb-b0b1-3185c9c33d8c input.sk-toggleable__control:checked~div.sk-toggleable__content {max-height: 200px;max-width: 100%;overflow: auto;}#sk-62cd5219-759e-41eb-b0b1-3185c9c33d8c div.sk-estimator input.sk-toggleable__control:checked~label.sk-toggleable__label {background-color: #d4ebff;}#sk-62cd5219-759e-41eb-b0b1-3185c9c33d8c div.sk-label input.sk-toggleable__control:checked~label.sk-toggleable__label {background-color: #d4ebff;}#sk-62cd5219-759e-41eb-b0b1-3185c9c33d8c input.sk-hidden--visually {border: 0;clip: rect(1px 1px 1px 1px);clip: rect(1px, 1px, 1px, 1px);height: 1px;margin: -1px;overflow: hidden;padding: 0;position: absolute;width: 1px;}#sk-62cd5219-759e-41eb-b0b1-3185c9c33d8c div.sk-estimator {font-family: monospace;background-color: #f0f8ff;margin: 0.25em 0.25em;border: 1px dotted black;border-radius: 0.25em;box-sizing: border-box;}#sk-62cd5219-759e-41eb-b0b1-3185c9c33d8c div.sk-estimator:hover {background-color: #d4ebff;}#sk-62cd5219-759e-41eb-b0b1-3185c9c33d8c div.sk-parallel-item::after {content: \"\";width: 100%;border-bottom: 1px solid gray;flex-grow: 1;}#sk-62cd5219-759e-41eb-b0b1-3185c9c33d8c div.sk-label:hover label.sk-toggleable__label {background-color: #d4ebff;}#sk-62cd5219-759e-41eb-b0b1-3185c9c33d8c div.sk-serial::before {content: \"\";position: absolute;border-left: 1px solid gray;box-sizing: border-box;top: 2em;bottom: 0;left: 50%;}#sk-62cd5219-759e-41eb-b0b1-3185c9c33d8c div.sk-serial {display: flex;flex-direction: column;align-items: center;background-color: white;}#sk-62cd5219-759e-41eb-b0b1-3185c9c33d8c div.sk-item {z-index: 1;}#sk-62cd5219-759e-41eb-b0b1-3185c9c33d8c div.sk-parallel {display: flex;align-items: stretch;justify-content: center;background-color: white;}#sk-62cd5219-759e-41eb-b0b1-3185c9c33d8c div.sk-parallel-item {display: flex;flex-direction: column;position: relative;background-color: white;}#sk-62cd5219-759e-41eb-b0b1-3185c9c33d8c div.sk-parallel-item:first-child::after {align-self: flex-end;width: 50%;}#sk-62cd5219-759e-41eb-b0b1-3185c9c33d8c div.sk-parallel-item:last-child::after {align-self: flex-start;width: 50%;}#sk-62cd5219-759e-41eb-b0b1-3185c9c33d8c div.sk-parallel-item:only-child::after {width: 0;}#sk-62cd5219-759e-41eb-b0b1-3185c9c33d8c div.sk-dashed-wrapped {border: 1px dashed gray;margin: 0.2em;box-sizing: border-box;padding-bottom: 0.1em;background-color: white;position: relative;}#sk-62cd5219-759e-41eb-b0b1-3185c9c33d8c div.sk-label label {font-family: monospace;font-weight: bold;background-color: white;display: inline-block;line-height: 1.2em;}#sk-62cd5219-759e-41eb-b0b1-3185c9c33d8c div.sk-label-container {position: relative;z-index: 2;text-align: center;}#sk-62cd5219-759e-41eb-b0b1-3185c9c33d8c div.sk-container {display: inline-block;position: relative;}</style><div id=\"sk-62cd5219-759e-41eb-b0b1-3185c9c33d8c\" class\"sk-top-container\"><div class=\"sk-container\"><div class=\"sk-item sk-dashed-wrapped\"><div class=\"sk-label-container\"><div class=\"sk-label sk-toggleable\"><input class=\"sk-toggleable__control sk-hidden--visually\" id=\"b1b29e40-5922-4298-a07e-f91fe7da130e\" type=\"checkbox\" ><label class=\"sk-toggleable__label\" for=\"b1b29e40-5922-4298-a07e-f91fe7da130e\">GridSearchCV</label><div class=\"sk-toggleable__content\"><pre>GridSearchCV(cv=10,\n",
       "             estimator=Pipeline(steps=[('processor',\n",
       "                                        ColumnTransformer(transformers=[('cat_process',\n",
       "                                                                         Pipeline(steps=[('imputer',\n",
       "                                                                                          SimpleImputer(strategy='most_frequent')),\n",
       "                                                                                         ('encoder',\n",
       "                                                                                          OneHotEncoder())]),\n",
       "                                                                         ['role',\n",
       "                                                                          'product']),\n",
       "                                                                        ('num_process',\n",
       "                                                                         Pipeline(steps=[('imputer',\n",
       "                                                                                          SimpleImputer()),\n",
       "                                                                                         ('scaler',\n",
       "                                                                                          MinMaxScaler())]),\n",
       "                                                                         ['quantity',\n",
       "                                                                          'price',\n",
       "                                                                          'total'])])),\n",
       "                                       ('tree_clf', DecisionTreeClassifier())]),\n",
       "             n_jobs=-1,\n",
       "             param_grid={'tree_clf__max_depth': [2, 5, 10, 20],\n",
       "                         'tree_clf__min_samples_leaf': [16, 32, 64, 128],\n",
       "                         'tree_clf__min_samples_split': [16, 32, 64, 128]},\n",
       "             scoring='accuracy', verbose=1)</pre></div></div></div><div class=\"sk-parallel\"><div class=\"sk-parallel-item\"><div class=\"sk-item\"><div class=\"sk-serial\"><div class=\"sk-item\"><div class=\"sk-serial\"><div class=\"sk-item sk-dashed-wrapped\"><div class=\"sk-label-container\"><div class=\"sk-label sk-toggleable\"><input class=\"sk-toggleable__control sk-hidden--visually\" id=\"81a6eb60-f180-44f6-a03a-20b62dd8b808\" type=\"checkbox\" ><label class=\"sk-toggleable__label\" for=\"81a6eb60-f180-44f6-a03a-20b62dd8b808\">processor: ColumnTransformer</label><div class=\"sk-toggleable__content\"><pre>ColumnTransformer(transformers=[('cat_process',\n",
       "                                 Pipeline(steps=[('imputer',\n",
       "                                                  SimpleImputer(strategy='most_frequent')),\n",
       "                                                 ('encoder', OneHotEncoder())]),\n",
       "                                 ['role', 'product']),\n",
       "                                ('num_process',\n",
       "                                 Pipeline(steps=[('imputer', SimpleImputer()),\n",
       "                                                 ('scaler', MinMaxScaler())]),\n",
       "                                 ['quantity', 'price', 'total'])])</pre></div></div></div><div class=\"sk-parallel\"><div class=\"sk-parallel-item\"><div class=\"sk-item\"><div class=\"sk-label-container\"><div class=\"sk-label sk-toggleable\"><input class=\"sk-toggleable__control sk-hidden--visually\" id=\"be5222ae-81ec-44d7-9142-a1de891b2d0b\" type=\"checkbox\" ><label class=\"sk-toggleable__label\" for=\"be5222ae-81ec-44d7-9142-a1de891b2d0b\">cat_process</label><div class=\"sk-toggleable__content\"><pre>['role', 'product']</pre></div></div></div><div class=\"sk-serial\"><div class=\"sk-item\"><div class=\"sk-serial\"><div class=\"sk-item\"><div class=\"sk-estimator sk-toggleable\"><input class=\"sk-toggleable__control sk-hidden--visually\" id=\"921e6f80-30a2-44aa-b1f5-fd70b2a79b7c\" type=\"checkbox\" ><label class=\"sk-toggleable__label\" for=\"921e6f80-30a2-44aa-b1f5-fd70b2a79b7c\">SimpleImputer</label><div class=\"sk-toggleable__content\"><pre>SimpleImputer(strategy='most_frequent')</pre></div></div></div><div class=\"sk-item\"><div class=\"sk-estimator sk-toggleable\"><input class=\"sk-toggleable__control sk-hidden--visually\" id=\"faed60d8-4b16-44f2-bf7b-8e0118230fab\" type=\"checkbox\" ><label class=\"sk-toggleable__label\" for=\"faed60d8-4b16-44f2-bf7b-8e0118230fab\">OneHotEncoder</label><div class=\"sk-toggleable__content\"><pre>OneHotEncoder()</pre></div></div></div></div></div></div></div></div><div class=\"sk-parallel-item\"><div class=\"sk-item\"><div class=\"sk-label-container\"><div class=\"sk-label sk-toggleable\"><input class=\"sk-toggleable__control sk-hidden--visually\" id=\"4df0eb14-372b-46ba-bafc-be792440cb0a\" type=\"checkbox\" ><label class=\"sk-toggleable__label\" for=\"4df0eb14-372b-46ba-bafc-be792440cb0a\">num_process</label><div class=\"sk-toggleable__content\"><pre>['quantity', 'price', 'total']</pre></div></div></div><div class=\"sk-serial\"><div class=\"sk-item\"><div class=\"sk-serial\"><div class=\"sk-item\"><div class=\"sk-estimator sk-toggleable\"><input class=\"sk-toggleable__control sk-hidden--visually\" id=\"99cc3280-9d48-4885-bbfc-d1aaa6d30fcf\" type=\"checkbox\" ><label class=\"sk-toggleable__label\" for=\"99cc3280-9d48-4885-bbfc-d1aaa6d30fcf\">SimpleImputer</label><div class=\"sk-toggleable__content\"><pre>SimpleImputer()</pre></div></div></div><div class=\"sk-item\"><div class=\"sk-estimator sk-toggleable\"><input class=\"sk-toggleable__control sk-hidden--visually\" id=\"c326dae4-d127-4f42-aa6a-8c339a9d339b\" type=\"checkbox\" ><label class=\"sk-toggleable__label\" for=\"c326dae4-d127-4f42-aa6a-8c339a9d339b\">MinMaxScaler</label><div class=\"sk-toggleable__content\"><pre>MinMaxScaler()</pre></div></div></div></div></div></div></div></div></div></div><div class=\"sk-item\"><div class=\"sk-estimator sk-toggleable\"><input class=\"sk-toggleable__control sk-hidden--visually\" id=\"6dacd8e6-a446-4e6b-a1de-183856895062\" type=\"checkbox\" ><label class=\"sk-toggleable__label\" for=\"6dacd8e6-a446-4e6b-a1de-183856895062\">DecisionTreeClassifier</label><div class=\"sk-toggleable__content\"><pre>DecisionTreeClassifier()</pre></div></div></div></div></div></div></div></div></div></div></div></div>"
      ],
      "text/plain": [
       "GridSearchCV(cv=10,\n",
       "             estimator=Pipeline(steps=[('processor',\n",
       "                                        ColumnTransformer(transformers=[('cat_process',\n",
       "                                                                         Pipeline(steps=[('imputer',\n",
       "                                                                                          SimpleImputer(strategy='most_frequent')),\n",
       "                                                                                         ('encoder',\n",
       "                                                                                          OneHotEncoder())]),\n",
       "                                                                         ['role',\n",
       "                                                                          'product']),\n",
       "                                                                        ('num_process',\n",
       "                                                                         Pipeline(steps=[('imputer',\n",
       "                                                                                          SimpleImputer()),\n",
       "                                                                                         ('scaler',\n",
       "                                                                                          MinMaxScaler())]),\n",
       "                                                                         ['quantity',\n",
       "                                                                          'price',\n",
       "                                                                          'total'])])),\n",
       "                                       ('tree_clf', DecisionTreeClassifier())]),\n",
       "             n_jobs=-1,\n",
       "             param_grid={'tree_clf__max_depth': [2, 5, 10, 20],\n",
       "                         'tree_clf__min_samples_leaf': [16, 32, 64, 128],\n",
       "                         'tree_clf__min_samples_split': [16, 32, 64, 128]},\n",
       "             scoring='accuracy', verbose=1)"
      ]
     },
     "execution_count": 14,
     "metadata": {},
     "output_type": "execute_result"
    }
   ],
   "source": [
    "grid.fit(x_train,y_train)"
   ]
  },
  {
   "cell_type": "code",
   "execution_count": 15,
   "metadata": {},
   "outputs": [
    {
     "data": {
      "text/plain": [
       "0.9866666666666667"
      ]
     },
     "execution_count": 15,
     "metadata": {},
     "output_type": "execute_result"
    }
   ],
   "source": [
    "grid.best_score_"
   ]
  },
  {
   "cell_type": "code",
   "execution_count": 16,
   "metadata": {},
   "outputs": [
    {
     "data": {
      "text/plain": [
       "{'tree_clf__max_depth': 2,\n",
       " 'tree_clf__min_samples_leaf': 16,\n",
       " 'tree_clf__min_samples_split': 16}"
      ]
     },
     "execution_count": 16,
     "metadata": {},
     "output_type": "execute_result"
    }
   ],
   "source": [
    "grid.best_params_"
   ]
  },
  {
   "cell_type": "code",
   "execution_count": null,
   "metadata": {},
   "outputs": [],
   "source": []
  },
  {
   "cell_type": "markdown",
   "metadata": {},
   "source": [
    "**Part 5:**  Evaluate the performance of your classification pipeline on the test set"
   ]
  },
  {
   "cell_type": "code",
   "execution_count": 17,
   "metadata": {},
   "outputs": [],
   "source": [
    "best_clf=grid.best_estimator_"
   ]
  },
  {
   "cell_type": "code",
   "execution_count": 18,
   "metadata": {},
   "outputs": [
    {
     "data": {
      "text/html": [
       "<style>#sk-6bd8c3ed-2b44-4d7d-9c2f-eea789d38dcd {color: black;background-color: white;}#sk-6bd8c3ed-2b44-4d7d-9c2f-eea789d38dcd pre{padding: 0;}#sk-6bd8c3ed-2b44-4d7d-9c2f-eea789d38dcd div.sk-toggleable {background-color: white;}#sk-6bd8c3ed-2b44-4d7d-9c2f-eea789d38dcd label.sk-toggleable__label {cursor: pointer;display: block;width: 100%;margin-bottom: 0;padding: 0.2em 0.3em;box-sizing: border-box;text-align: center;}#sk-6bd8c3ed-2b44-4d7d-9c2f-eea789d38dcd div.sk-toggleable__content {max-height: 0;max-width: 0;overflow: hidden;text-align: left;background-color: #f0f8ff;}#sk-6bd8c3ed-2b44-4d7d-9c2f-eea789d38dcd div.sk-toggleable__content pre {margin: 0.2em;color: black;border-radius: 0.25em;background-color: #f0f8ff;}#sk-6bd8c3ed-2b44-4d7d-9c2f-eea789d38dcd input.sk-toggleable__control:checked~div.sk-toggleable__content {max-height: 200px;max-width: 100%;overflow: auto;}#sk-6bd8c3ed-2b44-4d7d-9c2f-eea789d38dcd div.sk-estimator input.sk-toggleable__control:checked~label.sk-toggleable__label {background-color: #d4ebff;}#sk-6bd8c3ed-2b44-4d7d-9c2f-eea789d38dcd div.sk-label input.sk-toggleable__control:checked~label.sk-toggleable__label {background-color: #d4ebff;}#sk-6bd8c3ed-2b44-4d7d-9c2f-eea789d38dcd input.sk-hidden--visually {border: 0;clip: rect(1px 1px 1px 1px);clip: rect(1px, 1px, 1px, 1px);height: 1px;margin: -1px;overflow: hidden;padding: 0;position: absolute;width: 1px;}#sk-6bd8c3ed-2b44-4d7d-9c2f-eea789d38dcd div.sk-estimator {font-family: monospace;background-color: #f0f8ff;margin: 0.25em 0.25em;border: 1px dotted black;border-radius: 0.25em;box-sizing: border-box;}#sk-6bd8c3ed-2b44-4d7d-9c2f-eea789d38dcd div.sk-estimator:hover {background-color: #d4ebff;}#sk-6bd8c3ed-2b44-4d7d-9c2f-eea789d38dcd div.sk-parallel-item::after {content: \"\";width: 100%;border-bottom: 1px solid gray;flex-grow: 1;}#sk-6bd8c3ed-2b44-4d7d-9c2f-eea789d38dcd div.sk-label:hover label.sk-toggleable__label {background-color: #d4ebff;}#sk-6bd8c3ed-2b44-4d7d-9c2f-eea789d38dcd div.sk-serial::before {content: \"\";position: absolute;border-left: 1px solid gray;box-sizing: border-box;top: 2em;bottom: 0;left: 50%;}#sk-6bd8c3ed-2b44-4d7d-9c2f-eea789d38dcd div.sk-serial {display: flex;flex-direction: column;align-items: center;background-color: white;}#sk-6bd8c3ed-2b44-4d7d-9c2f-eea789d38dcd div.sk-item {z-index: 1;}#sk-6bd8c3ed-2b44-4d7d-9c2f-eea789d38dcd div.sk-parallel {display: flex;align-items: stretch;justify-content: center;background-color: white;}#sk-6bd8c3ed-2b44-4d7d-9c2f-eea789d38dcd div.sk-parallel-item {display: flex;flex-direction: column;position: relative;background-color: white;}#sk-6bd8c3ed-2b44-4d7d-9c2f-eea789d38dcd div.sk-parallel-item:first-child::after {align-self: flex-end;width: 50%;}#sk-6bd8c3ed-2b44-4d7d-9c2f-eea789d38dcd div.sk-parallel-item:last-child::after {align-self: flex-start;width: 50%;}#sk-6bd8c3ed-2b44-4d7d-9c2f-eea789d38dcd div.sk-parallel-item:only-child::after {width: 0;}#sk-6bd8c3ed-2b44-4d7d-9c2f-eea789d38dcd div.sk-dashed-wrapped {border: 1px dashed gray;margin: 0.2em;box-sizing: border-box;padding-bottom: 0.1em;background-color: white;position: relative;}#sk-6bd8c3ed-2b44-4d7d-9c2f-eea789d38dcd div.sk-label label {font-family: monospace;font-weight: bold;background-color: white;display: inline-block;line-height: 1.2em;}#sk-6bd8c3ed-2b44-4d7d-9c2f-eea789d38dcd div.sk-label-container {position: relative;z-index: 2;text-align: center;}#sk-6bd8c3ed-2b44-4d7d-9c2f-eea789d38dcd div.sk-container {display: inline-block;position: relative;}</style><div id=\"sk-6bd8c3ed-2b44-4d7d-9c2f-eea789d38dcd\" class\"sk-top-container\"><div class=\"sk-container\"><div class=\"sk-item sk-dashed-wrapped\"><div class=\"sk-label-container\"><div class=\"sk-label sk-toggleable\"><input class=\"sk-toggleable__control sk-hidden--visually\" id=\"32178329-433e-4be4-bb2c-a30e99be2367\" type=\"checkbox\" ><label class=\"sk-toggleable__label\" for=\"32178329-433e-4be4-bb2c-a30e99be2367\">Pipeline</label><div class=\"sk-toggleable__content\"><pre>Pipeline(steps=[('processor',\n",
       "                 ColumnTransformer(transformers=[('cat_process',\n",
       "                                                  Pipeline(steps=[('imputer',\n",
       "                                                                   SimpleImputer(strategy='most_frequent')),\n",
       "                                                                  ('encoder',\n",
       "                                                                   OneHotEncoder())]),\n",
       "                                                  ['role', 'product']),\n",
       "                                                 ('num_process',\n",
       "                                                  Pipeline(steps=[('imputer',\n",
       "                                                                   SimpleImputer()),\n",
       "                                                                  ('scaler',\n",
       "                                                                   MinMaxScaler())]),\n",
       "                                                  ['quantity', 'price',\n",
       "                                                   'total'])])),\n",
       "                ('tree_clf',\n",
       "                 DecisionTreeClassifier(max_depth=2, min_samples_leaf=16,\n",
       "                                        min_samples_split=16))])</pre></div></div></div><div class=\"sk-serial\"><div class=\"sk-item sk-dashed-wrapped\"><div class=\"sk-label-container\"><div class=\"sk-label sk-toggleable\"><input class=\"sk-toggleable__control sk-hidden--visually\" id=\"28067e7c-a60a-477f-834a-34ce63fc3df6\" type=\"checkbox\" ><label class=\"sk-toggleable__label\" for=\"28067e7c-a60a-477f-834a-34ce63fc3df6\">processor: ColumnTransformer</label><div class=\"sk-toggleable__content\"><pre>ColumnTransformer(transformers=[('cat_process',\n",
       "                                 Pipeline(steps=[('imputer',\n",
       "                                                  SimpleImputer(strategy='most_frequent')),\n",
       "                                                 ('encoder', OneHotEncoder())]),\n",
       "                                 ['role', 'product']),\n",
       "                                ('num_process',\n",
       "                                 Pipeline(steps=[('imputer', SimpleImputer()),\n",
       "                                                 ('scaler', MinMaxScaler())]),\n",
       "                                 ['quantity', 'price', 'total'])])</pre></div></div></div><div class=\"sk-parallel\"><div class=\"sk-parallel-item\"><div class=\"sk-item\"><div class=\"sk-label-container\"><div class=\"sk-label sk-toggleable\"><input class=\"sk-toggleable__control sk-hidden--visually\" id=\"3c24e3ed-681d-441a-9c6e-9f9639880494\" type=\"checkbox\" ><label class=\"sk-toggleable__label\" for=\"3c24e3ed-681d-441a-9c6e-9f9639880494\">cat_process</label><div class=\"sk-toggleable__content\"><pre>['role', 'product']</pre></div></div></div><div class=\"sk-serial\"><div class=\"sk-item\"><div class=\"sk-serial\"><div class=\"sk-item\"><div class=\"sk-estimator sk-toggleable\"><input class=\"sk-toggleable__control sk-hidden--visually\" id=\"f47f1a43-96e5-4b0a-b331-6129fe02a0c6\" type=\"checkbox\" ><label class=\"sk-toggleable__label\" for=\"f47f1a43-96e5-4b0a-b331-6129fe02a0c6\">SimpleImputer</label><div class=\"sk-toggleable__content\"><pre>SimpleImputer(strategy='most_frequent')</pre></div></div></div><div class=\"sk-item\"><div class=\"sk-estimator sk-toggleable\"><input class=\"sk-toggleable__control sk-hidden--visually\" id=\"f917a1d0-d8df-48c1-bea0-935ab66258a5\" type=\"checkbox\" ><label class=\"sk-toggleable__label\" for=\"f917a1d0-d8df-48c1-bea0-935ab66258a5\">OneHotEncoder</label><div class=\"sk-toggleable__content\"><pre>OneHotEncoder()</pre></div></div></div></div></div></div></div></div><div class=\"sk-parallel-item\"><div class=\"sk-item\"><div class=\"sk-label-container\"><div class=\"sk-label sk-toggleable\"><input class=\"sk-toggleable__control sk-hidden--visually\" id=\"2480815c-8974-470e-a115-4a77932e9a84\" type=\"checkbox\" ><label class=\"sk-toggleable__label\" for=\"2480815c-8974-470e-a115-4a77932e9a84\">num_process</label><div class=\"sk-toggleable__content\"><pre>['quantity', 'price', 'total']</pre></div></div></div><div class=\"sk-serial\"><div class=\"sk-item\"><div class=\"sk-serial\"><div class=\"sk-item\"><div class=\"sk-estimator sk-toggleable\"><input class=\"sk-toggleable__control sk-hidden--visually\" id=\"a82dbfe4-1452-4cd2-b0ac-58b08988bd49\" type=\"checkbox\" ><label class=\"sk-toggleable__label\" for=\"a82dbfe4-1452-4cd2-b0ac-58b08988bd49\">SimpleImputer</label><div class=\"sk-toggleable__content\"><pre>SimpleImputer()</pre></div></div></div><div class=\"sk-item\"><div class=\"sk-estimator sk-toggleable\"><input class=\"sk-toggleable__control sk-hidden--visually\" id=\"1d1f15ac-e8db-4d93-84c8-4a183ae0f75e\" type=\"checkbox\" ><label class=\"sk-toggleable__label\" for=\"1d1f15ac-e8db-4d93-84c8-4a183ae0f75e\">MinMaxScaler</label><div class=\"sk-toggleable__content\"><pre>MinMaxScaler()</pre></div></div></div></div></div></div></div></div></div></div><div class=\"sk-item\"><div class=\"sk-estimator sk-toggleable\"><input class=\"sk-toggleable__control sk-hidden--visually\" id=\"48d29ce6-c831-4759-a03a-568136fdd7f4\" type=\"checkbox\" ><label class=\"sk-toggleable__label\" for=\"48d29ce6-c831-4759-a03a-568136fdd7f4\">DecisionTreeClassifier</label><div class=\"sk-toggleable__content\"><pre>DecisionTreeClassifier(max_depth=2, min_samples_leaf=16, min_samples_split=16)</pre></div></div></div></div></div></div></div>"
      ],
      "text/plain": [
       "Pipeline(steps=[('processor',\n",
       "                 ColumnTransformer(transformers=[('cat_process',\n",
       "                                                  Pipeline(steps=[('imputer',\n",
       "                                                                   SimpleImputer(strategy='most_frequent')),\n",
       "                                                                  ('encoder',\n",
       "                                                                   OneHotEncoder())]),\n",
       "                                                  ['role', 'product']),\n",
       "                                                 ('num_process',\n",
       "                                                  Pipeline(steps=[('imputer',\n",
       "                                                                   SimpleImputer()),\n",
       "                                                                  ('scaler',\n",
       "                                                                   MinMaxScaler())]),\n",
       "                                                  ['quantity', 'price',\n",
       "                                                   'total'])])),\n",
       "                ('tree_clf',\n",
       "                 DecisionTreeClassifier(max_depth=2, min_samples_leaf=16,\n",
       "                                        min_samples_split=16))])"
      ]
     },
     "execution_count": 18,
     "metadata": {},
     "output_type": "execute_result"
    }
   ],
   "source": [
    "# your code here\n",
    "best_clf.fit(x_train,y_train)"
   ]
  },
  {
   "cell_type": "code",
   "execution_count": 19,
   "metadata": {},
   "outputs": [],
   "source": [
    "y_test_pred= best_clf.predict(x_test)"
   ]
  },
  {
   "cell_type": "code",
   "execution_count": 20,
   "metadata": {},
   "outputs": [
    {
     "data": {
      "text/plain": [
       "0.992"
      ]
     },
     "execution_count": 20,
     "metadata": {},
     "output_type": "execute_result"
    }
   ],
   "source": [
    "accuracy_score(y_test,y_test_pred)"
   ]
  },
  {
   "cell_type": "markdown",
   "metadata": {},
   "source": [
    "**Part 6:** Use the `plot_tree` function to visualize the pipeline classification tree."
   ]
  },
  {
   "cell_type": "code",
   "execution_count": 21,
   "metadata": {},
   "outputs": [],
   "source": [
    "# your code here\n",
    "from sklearn.tree import plot_tree"
   ]
  },
  {
   "cell_type": "code",
   "execution_count": 22,
   "metadata": {},
   "outputs": [
    {
     "data": {
      "text/html": [
       "<style>#sk-3e32df9f-319a-47a0-b43b-3d5cd8dee746 {color: black;background-color: white;}#sk-3e32df9f-319a-47a0-b43b-3d5cd8dee746 pre{padding: 0;}#sk-3e32df9f-319a-47a0-b43b-3d5cd8dee746 div.sk-toggleable {background-color: white;}#sk-3e32df9f-319a-47a0-b43b-3d5cd8dee746 label.sk-toggleable__label {cursor: pointer;display: block;width: 100%;margin-bottom: 0;padding: 0.2em 0.3em;box-sizing: border-box;text-align: center;}#sk-3e32df9f-319a-47a0-b43b-3d5cd8dee746 div.sk-toggleable__content {max-height: 0;max-width: 0;overflow: hidden;text-align: left;background-color: #f0f8ff;}#sk-3e32df9f-319a-47a0-b43b-3d5cd8dee746 div.sk-toggleable__content pre {margin: 0.2em;color: black;border-radius: 0.25em;background-color: #f0f8ff;}#sk-3e32df9f-319a-47a0-b43b-3d5cd8dee746 input.sk-toggleable__control:checked~div.sk-toggleable__content {max-height: 200px;max-width: 100%;overflow: auto;}#sk-3e32df9f-319a-47a0-b43b-3d5cd8dee746 div.sk-estimator input.sk-toggleable__control:checked~label.sk-toggleable__label {background-color: #d4ebff;}#sk-3e32df9f-319a-47a0-b43b-3d5cd8dee746 div.sk-label input.sk-toggleable__control:checked~label.sk-toggleable__label {background-color: #d4ebff;}#sk-3e32df9f-319a-47a0-b43b-3d5cd8dee746 input.sk-hidden--visually {border: 0;clip: rect(1px 1px 1px 1px);clip: rect(1px, 1px, 1px, 1px);height: 1px;margin: -1px;overflow: hidden;padding: 0;position: absolute;width: 1px;}#sk-3e32df9f-319a-47a0-b43b-3d5cd8dee746 div.sk-estimator {font-family: monospace;background-color: #f0f8ff;margin: 0.25em 0.25em;border: 1px dotted black;border-radius: 0.25em;box-sizing: border-box;}#sk-3e32df9f-319a-47a0-b43b-3d5cd8dee746 div.sk-estimator:hover {background-color: #d4ebff;}#sk-3e32df9f-319a-47a0-b43b-3d5cd8dee746 div.sk-parallel-item::after {content: \"\";width: 100%;border-bottom: 1px solid gray;flex-grow: 1;}#sk-3e32df9f-319a-47a0-b43b-3d5cd8dee746 div.sk-label:hover label.sk-toggleable__label {background-color: #d4ebff;}#sk-3e32df9f-319a-47a0-b43b-3d5cd8dee746 div.sk-serial::before {content: \"\";position: absolute;border-left: 1px solid gray;box-sizing: border-box;top: 2em;bottom: 0;left: 50%;}#sk-3e32df9f-319a-47a0-b43b-3d5cd8dee746 div.sk-serial {display: flex;flex-direction: column;align-items: center;background-color: white;}#sk-3e32df9f-319a-47a0-b43b-3d5cd8dee746 div.sk-item {z-index: 1;}#sk-3e32df9f-319a-47a0-b43b-3d5cd8dee746 div.sk-parallel {display: flex;align-items: stretch;justify-content: center;background-color: white;}#sk-3e32df9f-319a-47a0-b43b-3d5cd8dee746 div.sk-parallel-item {display: flex;flex-direction: column;position: relative;background-color: white;}#sk-3e32df9f-319a-47a0-b43b-3d5cd8dee746 div.sk-parallel-item:first-child::after {align-self: flex-end;width: 50%;}#sk-3e32df9f-319a-47a0-b43b-3d5cd8dee746 div.sk-parallel-item:last-child::after {align-self: flex-start;width: 50%;}#sk-3e32df9f-319a-47a0-b43b-3d5cd8dee746 div.sk-parallel-item:only-child::after {width: 0;}#sk-3e32df9f-319a-47a0-b43b-3d5cd8dee746 div.sk-dashed-wrapped {border: 1px dashed gray;margin: 0.2em;box-sizing: border-box;padding-bottom: 0.1em;background-color: white;position: relative;}#sk-3e32df9f-319a-47a0-b43b-3d5cd8dee746 div.sk-label label {font-family: monospace;font-weight: bold;background-color: white;display: inline-block;line-height: 1.2em;}#sk-3e32df9f-319a-47a0-b43b-3d5cd8dee746 div.sk-label-container {position: relative;z-index: 2;text-align: center;}#sk-3e32df9f-319a-47a0-b43b-3d5cd8dee746 div.sk-container {display: inline-block;position: relative;}</style><div id=\"sk-3e32df9f-319a-47a0-b43b-3d5cd8dee746\" class\"sk-top-container\"><div class=\"sk-container\"><div class=\"sk-item sk-dashed-wrapped\"><div class=\"sk-label-container\"><div class=\"sk-label sk-toggleable\"><input class=\"sk-toggleable__control sk-hidden--visually\" id=\"0ff1fed9-2acc-4394-9fa0-807ba2009625\" type=\"checkbox\" ><label class=\"sk-toggleable__label\" for=\"0ff1fed9-2acc-4394-9fa0-807ba2009625\">Pipeline</label><div class=\"sk-toggleable__content\"><pre>Pipeline(steps=[('processor',\n",
       "                 ColumnTransformer(transformers=[('cat_process',\n",
       "                                                  Pipeline(steps=[('imputer',\n",
       "                                                                   SimpleImputer(strategy='most_frequent')),\n",
       "                                                                  ('encoder',\n",
       "                                                                   OneHotEncoder())]),\n",
       "                                                  ['role', 'product']),\n",
       "                                                 ('num_process',\n",
       "                                                  Pipeline(steps=[('imputer',\n",
       "                                                                   SimpleImputer()),\n",
       "                                                                  ('scaler',\n",
       "                                                                   MinMaxScaler())]),\n",
       "                                                  ['quantity', 'price',\n",
       "                                                   'total'])])),\n",
       "                ('tree_clf',\n",
       "                 DecisionTreeClassifier(max_depth=2, min_samples_leaf=16,\n",
       "                                        min_samples_split=16))])</pre></div></div></div><div class=\"sk-serial\"><div class=\"sk-item sk-dashed-wrapped\"><div class=\"sk-label-container\"><div class=\"sk-label sk-toggleable\"><input class=\"sk-toggleable__control sk-hidden--visually\" id=\"a525ddc3-1f9f-40e3-b220-4cf86fa61f5b\" type=\"checkbox\" ><label class=\"sk-toggleable__label\" for=\"a525ddc3-1f9f-40e3-b220-4cf86fa61f5b\">processor: ColumnTransformer</label><div class=\"sk-toggleable__content\"><pre>ColumnTransformer(transformers=[('cat_process',\n",
       "                                 Pipeline(steps=[('imputer',\n",
       "                                                  SimpleImputer(strategy='most_frequent')),\n",
       "                                                 ('encoder', OneHotEncoder())]),\n",
       "                                 ['role', 'product']),\n",
       "                                ('num_process',\n",
       "                                 Pipeline(steps=[('imputer', SimpleImputer()),\n",
       "                                                 ('scaler', MinMaxScaler())]),\n",
       "                                 ['quantity', 'price', 'total'])])</pre></div></div></div><div class=\"sk-parallel\"><div class=\"sk-parallel-item\"><div class=\"sk-item\"><div class=\"sk-label-container\"><div class=\"sk-label sk-toggleable\"><input class=\"sk-toggleable__control sk-hidden--visually\" id=\"5968c928-96ef-4eba-9fd9-ff2a50950549\" type=\"checkbox\" ><label class=\"sk-toggleable__label\" for=\"5968c928-96ef-4eba-9fd9-ff2a50950549\">cat_process</label><div class=\"sk-toggleable__content\"><pre>['role', 'product']</pre></div></div></div><div class=\"sk-serial\"><div class=\"sk-item\"><div class=\"sk-serial\"><div class=\"sk-item\"><div class=\"sk-estimator sk-toggleable\"><input class=\"sk-toggleable__control sk-hidden--visually\" id=\"280ae774-3568-4ce7-9883-185794bb33a1\" type=\"checkbox\" ><label class=\"sk-toggleable__label\" for=\"280ae774-3568-4ce7-9883-185794bb33a1\">SimpleImputer</label><div class=\"sk-toggleable__content\"><pre>SimpleImputer(strategy='most_frequent')</pre></div></div></div><div class=\"sk-item\"><div class=\"sk-estimator sk-toggleable\"><input class=\"sk-toggleable__control sk-hidden--visually\" id=\"032f49d9-5bc4-478b-a328-c49cc35311bb\" type=\"checkbox\" ><label class=\"sk-toggleable__label\" for=\"032f49d9-5bc4-478b-a328-c49cc35311bb\">OneHotEncoder</label><div class=\"sk-toggleable__content\"><pre>OneHotEncoder()</pre></div></div></div></div></div></div></div></div><div class=\"sk-parallel-item\"><div class=\"sk-item\"><div class=\"sk-label-container\"><div class=\"sk-label sk-toggleable\"><input class=\"sk-toggleable__control sk-hidden--visually\" id=\"eecd5379-f285-416e-835e-bd0da2fc7343\" type=\"checkbox\" ><label class=\"sk-toggleable__label\" for=\"eecd5379-f285-416e-835e-bd0da2fc7343\">num_process</label><div class=\"sk-toggleable__content\"><pre>['quantity', 'price', 'total']</pre></div></div></div><div class=\"sk-serial\"><div class=\"sk-item\"><div class=\"sk-serial\"><div class=\"sk-item\"><div class=\"sk-estimator sk-toggleable\"><input class=\"sk-toggleable__control sk-hidden--visually\" id=\"a9382e58-c4a3-4ff8-82e7-341589ba2bcd\" type=\"checkbox\" ><label class=\"sk-toggleable__label\" for=\"a9382e58-c4a3-4ff8-82e7-341589ba2bcd\">SimpleImputer</label><div class=\"sk-toggleable__content\"><pre>SimpleImputer()</pre></div></div></div><div class=\"sk-item\"><div class=\"sk-estimator sk-toggleable\"><input class=\"sk-toggleable__control sk-hidden--visually\" id=\"fba05a45-35d9-4d09-95e5-9c21245cd792\" type=\"checkbox\" ><label class=\"sk-toggleable__label\" for=\"fba05a45-35d9-4d09-95e5-9c21245cd792\">MinMaxScaler</label><div class=\"sk-toggleable__content\"><pre>MinMaxScaler()</pre></div></div></div></div></div></div></div></div></div></div><div class=\"sk-item\"><div class=\"sk-estimator sk-toggleable\"><input class=\"sk-toggleable__control sk-hidden--visually\" id=\"afb212f5-e405-488d-a4d1-852c12a30160\" type=\"checkbox\" ><label class=\"sk-toggleable__label\" for=\"afb212f5-e405-488d-a4d1-852c12a30160\">DecisionTreeClassifier</label><div class=\"sk-toggleable__content\"><pre>DecisionTreeClassifier(max_depth=2, min_samples_leaf=16, min_samples_split=16)</pre></div></div></div></div></div></div></div>"
      ],
      "text/plain": [
       "Pipeline(steps=[('processor',\n",
       "                 ColumnTransformer(transformers=[('cat_process',\n",
       "                                                  Pipeline(steps=[('imputer',\n",
       "                                                                   SimpleImputer(strategy='most_frequent')),\n",
       "                                                                  ('encoder',\n",
       "                                                                   OneHotEncoder())]),\n",
       "                                                  ['role', 'product']),\n",
       "                                                 ('num_process',\n",
       "                                                  Pipeline(steps=[('imputer',\n",
       "                                                                   SimpleImputer()),\n",
       "                                                                  ('scaler',\n",
       "                                                                   MinMaxScaler())]),\n",
       "                                                  ['quantity', 'price',\n",
       "                                                   'total'])])),\n",
       "                ('tree_clf',\n",
       "                 DecisionTreeClassifier(max_depth=2, min_samples_leaf=16,\n",
       "                                        min_samples_split=16))])"
      ]
     },
     "execution_count": 22,
     "metadata": {},
     "output_type": "execute_result"
    }
   ],
   "source": [
    "best_clf.fit(x_train,y_train)"
   ]
  },
  {
   "cell_type": "code",
   "execution_count": null,
   "metadata": {},
   "outputs": [],
   "source": []
  },
  {
   "cell_type": "code",
   "execution_count": 26,
   "metadata": {},
   "outputs": [
    {
     "data": {
      "image/png": "[encoded data removed]",
      "text/plain": [
       "<Figure size 720x720 with 1 Axes>"
      ]
     },
     "metadata": {
      "needs_background": "light"
     },
     "output_type": "display_data"
    }
   ],
   "source": [
    "plt.figure(figsize=(10,10))\n",
    "_ =plot_tree(best_clf['tree_clf'])\n"
   ]
  },
  {
   "cell_type": "markdown",
   "metadata": {},
   "source": [
    "**Part 7:** Describe with words how the classification tree makes predictions."
   ]
  },
  {
   "cell_type": "markdown",
   "metadata": {},
   "source": [
    "## Random Forests\n",
    "- Random forests make subsets from the data.\n",
    "- They then use each of the subsets to train a classification trees\n",
    "- Once you have fitted each tree they will each make predictions\n",
    "- The majority vote of all the leaf nodes will become the prediction"
   ]
  },
  {
   "cell_type": "code",
   "execution_count": null,
   "metadata": {},
   "outputs": [],
   "source": []
  }
 ],
 "metadata": {
  "kernelspec": {
   "display_name": "Python 3",
   "language": "python",
   "name": "python3"
  },
  "language_info": {
   "codemirror_mode": {
    "name": "ipython",
    "version": 3
   },
   "file_extension": ".py",
   "mimetype": "text/x-python",
   "name": "python",
   "nbconvert_exporter": "python",
   "pygments_lexer": "ipython3",
   "version": "3.8.8"
  },
  "notice": "Copyright 2017 Amazon.com, Inc. or its affiliates. All Rights Reserved.  Licensed under the Apache License, Version 2.0 (the \"License\"). You may not use this file except in compliance with the License. A copy of the License is located at http://aws.amazon.com/apache2.0/ or in the \"license\" file accompanying this file. This file is distributed on an \"AS IS\" BASIS, WITHOUT WARRANTIES OR CONDITIONS OF ANY KIND, either express or implied. See the License for the specific language governing permissions and limitations under the License."
 },
 "nbformat": 4,
 "nbformat_minor": 2
}
