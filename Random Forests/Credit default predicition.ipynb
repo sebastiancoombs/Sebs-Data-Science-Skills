{
 "cells": [
  {
   "cell_type": "code",
   "execution_count": 1,
   "metadata": {},
   "outputs": [],
   "source": [
    "import pandas as pd"
   ]
  },
  {
   "cell_type": "markdown",
   "metadata": {},
   "source": [
    "# Credit scoring "
   ]
  },
  {
   "cell_type": "markdown",
   "metadata": {},
   "source": [
    "Credit scoring algorithms, which make a guess at the probability of default, are the method banks use to determine whether or not a loan should be granted.\n",
    "I build a Random Forest to predict whether the customer will repay their credit within 90 days."
   ]
  },
  {
   "cell_type": "code",
   "execution_count": 2,
   "metadata": {
    "scrolled": false
   },
   "outputs": [
    {
     "data": {
      "text/html": [
       "<div>\n",
       "<style scoped>\n",
       "    .dataframe tbody tr th:only-of-type {\n",
       "        vertical-align: middle;\n",
       "    }\n",
       "\n",
       "    .dataframe tbody tr th {\n",
       "        vertical-align: top;\n",
       "    }\n",
       "\n",
       "    .dataframe thead th {\n",
       "        text-align: right;\n",
       "    }\n",
       "</style>\n",
       "<table border=\"1\" class=\"dataframe\">\n",
       "  <thead>\n",
       "    <tr style=\"text-align: right;\">\n",
       "      <th></th>\n",
       "      <th>SeriousDlqin2yrs</th>\n",
       "      <th>age</th>\n",
       "      <th>NumberOfTime30-59DaysPastDueNotWorse</th>\n",
       "      <th>DebtRatio</th>\n",
       "      <th>NumberOfTimes90DaysLate</th>\n",
       "      <th>NumberOfTime60-89DaysPastDueNotWorse</th>\n",
       "      <th>MonthlyIncome</th>\n",
       "      <th>NumberOfDependents</th>\n",
       "    </tr>\n",
       "  </thead>\n",
       "  <tbody>\n",
       "    <tr>\n",
       "      <th>0</th>\n",
       "      <td>0</td>\n",
       "      <td>64</td>\n",
       "      <td>0</td>\n",
       "      <td>0.249908</td>\n",
       "      <td>0</td>\n",
       "      <td>0</td>\n",
       "      <td>8158.0</td>\n",
       "      <td>0.0</td>\n",
       "    </tr>\n",
       "    <tr>\n",
       "      <th>1</th>\n",
       "      <td>0</td>\n",
       "      <td>58</td>\n",
       "      <td>0</td>\n",
       "      <td>3870.000000</td>\n",
       "      <td>0</td>\n",
       "      <td>0</td>\n",
       "      <td>NaN</td>\n",
       "      <td>0.0</td>\n",
       "    </tr>\n",
       "    <tr>\n",
       "      <th>2</th>\n",
       "      <td>0</td>\n",
       "      <td>41</td>\n",
       "      <td>0</td>\n",
       "      <td>0.456127</td>\n",
       "      <td>0</td>\n",
       "      <td>0</td>\n",
       "      <td>6666.0</td>\n",
       "      <td>0.0</td>\n",
       "    </tr>\n",
       "    <tr>\n",
       "      <th>3</th>\n",
       "      <td>0</td>\n",
       "      <td>43</td>\n",
       "      <td>0</td>\n",
       "      <td>0.000190</td>\n",
       "      <td>0</td>\n",
       "      <td>0</td>\n",
       "      <td>10500.0</td>\n",
       "      <td>2.0</td>\n",
       "    </tr>\n",
       "    <tr>\n",
       "      <th>4</th>\n",
       "      <td>1</td>\n",
       "      <td>49</td>\n",
       "      <td>0</td>\n",
       "      <td>0.271820</td>\n",
       "      <td>0</td>\n",
       "      <td>0</td>\n",
       "      <td>400.0</td>\n",
       "      <td>0.0</td>\n",
       "    </tr>\n",
       "  </tbody>\n",
       "</table>\n",
       "</div>"
      ],
      "text/plain": [
       "   SeriousDlqin2yrs  age  NumberOfTime30-59DaysPastDueNotWorse    DebtRatio  \\\n",
       "0                 0   64                                     0     0.249908   \n",
       "1                 0   58                                     0  3870.000000   \n",
       "2                 0   41                                     0     0.456127   \n",
       "3                 0   43                                     0     0.000190   \n",
       "4                 1   49                                     0     0.271820   \n",
       "\n",
       "   NumberOfTimes90DaysLate  NumberOfTime60-89DaysPastDueNotWorse  \\\n",
       "0                        0                                     0   \n",
       "1                        0                                     0   \n",
       "2                        0                                     0   \n",
       "3                        0                                     0   \n",
       "4                        0                                     0   \n",
       "\n",
       "   MonthlyIncome  NumberOfDependents  \n",
       "0         8158.0                 0.0  \n",
       "1            NaN                 0.0  \n",
       "2         6666.0                 0.0  \n",
       "3        10500.0                 2.0  \n",
       "4          400.0                 0.0  "
      ]
     },
     "execution_count": 2,
     "metadata": {},
     "output_type": "execute_result"
    }
   ],
   "source": [
    "# load the data\n",
    "url = 'https://raw.githubusercontent.com/um-perez-alvaro/Data-Science-Practice/master/Data/credit_scoring.csv'\n",
    "credit_scoring = pd.read_csv(url)\n",
    "credit_scoring.head()"
   ]
  },
  {
   "cell_type": "markdown",
   "metadata": {},
   "source": [
    "**Data Description**\n",
    "\n",
    "| Feature | Description |\n",
    "| :- | -: |\n",
    "|SeriousDlqin2yrs (target variable) | Customer hasn't paid the loan debt within 90 days \n",
    "|age\t| Customer age\n",
    "|DebtRatio | Total monthly loan payments (loan, alimony, etc.) / Total monthly income percentage\n",
    "|NumberOfTime30-59DaysPastDueNotWorse | The number of cases when client has overdue 30-59 days (not worse) on other loans |during the last 2 years\n",
    "|NumberOfTimes90DaysLate\tInput Feature | Number of cases when customer had 90+dpd overdue on other credits\n",
    "|NumberOfTime60-89DaysPastDueNotWorse | \tNumber of cased when customer has 60-89dpd (not worse) during the last 2 years\n",
    "|NumberOfDependents | The number of customer dependents\n"
   ]
  },
  {
   "cell_type": "markdown",
   "metadata": {},
   "source": [
    "**goal** is to train a Random Forest classifier that predicts the target column (`SeriousDlqin2yrs`), tune the Random Forest hyperparameters, and test the performance of the classification model (useing `recall` and `accuracy` to evaluate the performance.)"
   ]
  },
  {
   "cell_type": "code",
   "execution_count": 3,
   "metadata": {},
   "outputs": [],
   "source": [
    "import pandas as pd\n",
    "import matplotlib.pyplot as plt\n",
    "from sklearn.model_selection import train_test_split,GridSearchCV\n",
    "from sklearn.pipeline import Pipeline\n",
    "from sklearn.impute import SimpleImputer\n",
    "from sklearn.preprocessing import MinMaxScaler\n",
    "from sklearn.ensemble import RandomForestClassifier\n",
    "from sklearn.metrics import accuracy_score,recall_score,confusion_matrix, plot_confusion_matrix\n",
    "from sklearn import set_config\n",
    "set_config(display='diagram')"
   ]
  },
  {
   "cell_type": "code",
   "execution_count": 4,
   "metadata": {},
   "outputs": [],
   "source": [
    "x=credit_scoring.drop(['SeriousDlqin2yrs'],axis=1)"
   ]
  },
  {
   "cell_type": "code",
   "execution_count": 5,
   "metadata": {},
   "outputs": [],
   "source": [
    "y=credit_scoring.SeriousDlqin2yrs"
   ]
  },
  {
   "cell_type": "code",
   "execution_count": 6,
   "metadata": {},
   "outputs": [],
   "source": [
    "pipe= Pipeline(steps=[\n",
    "    ('imputer', SimpleImputer(strategy='mean')),\n",
    "    ('scaler',MinMaxScaler()),\n",
    "    ('tree_clf',RandomForestClassifier())\n",
    "])"
   ]
  },
  {
   "cell_type": "code",
   "execution_count": 7,
   "metadata": {},
   "outputs": [],
   "source": [
    "x_train,x_test,y_train,y_test=train_test_split(x,y)"
   ]
  },
  {
   "cell_type": "code",
   "execution_count": 8,
   "metadata": {},
   "outputs": [
    {
     "data": {
      "text/html": [
       "<style>#sk-c4e59783-33ac-4c1a-bb85-713972b369bd {color: black;background-color: white;}#sk-c4e59783-33ac-4c1a-bb85-713972b369bd pre{padding: 0;}#sk-c4e59783-33ac-4c1a-bb85-713972b369bd div.sk-toggleable {background-color: white;}#sk-c4e59783-33ac-4c1a-bb85-713972b369bd label.sk-toggleable__label {cursor: pointer;display: block;width: 100%;margin-bottom: 0;padding: 0.2em 0.3em;box-sizing: border-box;text-align: center;}#sk-c4e59783-33ac-4c1a-bb85-713972b369bd div.sk-toggleable__content {max-height: 0;max-width: 0;overflow: hidden;text-align: left;background-color: #f0f8ff;}#sk-c4e59783-33ac-4c1a-bb85-713972b369bd div.sk-toggleable__content pre {margin: 0.2em;color: black;border-radius: 0.25em;background-color: #f0f8ff;}#sk-c4e59783-33ac-4c1a-bb85-713972b369bd input.sk-toggleable__control:checked~div.sk-toggleable__content {max-height: 200px;max-width: 100%;overflow: auto;}#sk-c4e59783-33ac-4c1a-bb85-713972b369bd div.sk-estimator input.sk-toggleable__control:checked~label.sk-toggleable__label {background-color: #d4ebff;}#sk-c4e59783-33ac-4c1a-bb85-713972b369bd div.sk-label input.sk-toggleable__control:checked~label.sk-toggleable__label {background-color: #d4ebff;}#sk-c4e59783-33ac-4c1a-bb85-713972b369bd input.sk-hidden--visually {border: 0;clip: rect(1px 1px 1px 1px);clip: rect(1px, 1px, 1px, 1px);height: 1px;margin: -1px;overflow: hidden;padding: 0;position: absolute;width: 1px;}#sk-c4e59783-33ac-4c1a-bb85-713972b369bd div.sk-estimator {font-family: monospace;background-color: #f0f8ff;margin: 0.25em 0.25em;border: 1px dotted black;border-radius: 0.25em;box-sizing: border-box;}#sk-c4e59783-33ac-4c1a-bb85-713972b369bd div.sk-estimator:hover {background-color: #d4ebff;}#sk-c4e59783-33ac-4c1a-bb85-713972b369bd div.sk-parallel-item::after {content: \"\";width: 100%;border-bottom: 1px solid gray;flex-grow: 1;}#sk-c4e59783-33ac-4c1a-bb85-713972b369bd div.sk-label:hover label.sk-toggleable__label {background-color: #d4ebff;}#sk-c4e59783-33ac-4c1a-bb85-713972b369bd div.sk-serial::before {content: \"\";position: absolute;border-left: 1px solid gray;box-sizing: border-box;top: 2em;bottom: 0;left: 50%;}#sk-c4e59783-33ac-4c1a-bb85-713972b369bd div.sk-serial {display: flex;flex-direction: column;align-items: center;background-color: white;}#sk-c4e59783-33ac-4c1a-bb85-713972b369bd div.sk-item {z-index: 1;}#sk-c4e59783-33ac-4c1a-bb85-713972b369bd div.sk-parallel {display: flex;align-items: stretch;justify-content: center;background-color: white;}#sk-c4e59783-33ac-4c1a-bb85-713972b369bd div.sk-parallel-item {display: flex;flex-direction: column;position: relative;background-color: white;}#sk-c4e59783-33ac-4c1a-bb85-713972b369bd div.sk-parallel-item:first-child::after {align-self: flex-end;width: 50%;}#sk-c4e59783-33ac-4c1a-bb85-713972b369bd div.sk-parallel-item:last-child::after {align-self: flex-start;width: 50%;}#sk-c4e59783-33ac-4c1a-bb85-713972b369bd div.sk-parallel-item:only-child::after {width: 0;}#sk-c4e59783-33ac-4c1a-bb85-713972b369bd div.sk-dashed-wrapped {border: 1px dashed gray;margin: 0.2em;box-sizing: border-box;padding-bottom: 0.1em;background-color: white;position: relative;}#sk-c4e59783-33ac-4c1a-bb85-713972b369bd div.sk-label label {font-family: monospace;font-weight: bold;background-color: white;display: inline-block;line-height: 1.2em;}#sk-c4e59783-33ac-4c1a-bb85-713972b369bd div.sk-label-container {position: relative;z-index: 2;text-align: center;}#sk-c4e59783-33ac-4c1a-bb85-713972b369bd div.sk-container {display: inline-block;position: relative;}</style><div id=\"sk-c4e59783-33ac-4c1a-bb85-713972b369bd\" class\"sk-top-container\"><div class=\"sk-container\"><div class=\"sk-item sk-dashed-wrapped\"><div class=\"sk-label-container\"><div class=\"sk-label sk-toggleable\"><input class=\"sk-toggleable__control sk-hidden--visually\" id=\"3d2cbd64-9963-49b9-9d3e-9a87bd24232d\" type=\"checkbox\" ><label class=\"sk-toggleable__label\" for=\"3d2cbd64-9963-49b9-9d3e-9a87bd24232d\">Pipeline</label><div class=\"sk-toggleable__content\"><pre>Pipeline(steps=[('imputer', SimpleImputer()), ('scaler', MinMaxScaler()),\n",
       "                ('tree_clf', RandomForestClassifier())])</pre></div></div></div><div class=\"sk-serial\"><div class=\"sk-item\"><div class=\"sk-estimator sk-toggleable\"><input class=\"sk-toggleable__control sk-hidden--visually\" id=\"775426d4-2bf4-4f9d-8765-a87d2e225aa8\" type=\"checkbox\" ><label class=\"sk-toggleable__label\" for=\"775426d4-2bf4-4f9d-8765-a87d2e225aa8\">SimpleImputer</label><div class=\"sk-toggleable__content\"><pre>SimpleImputer()</pre></div></div></div><div class=\"sk-item\"><div class=\"sk-estimator sk-toggleable\"><input class=\"sk-toggleable__control sk-hidden--visually\" id=\"87144494-feba-48c2-a4b6-ebef46b4649c\" type=\"checkbox\" ><label class=\"sk-toggleable__label\" for=\"87144494-feba-48c2-a4b6-ebef46b4649c\">MinMaxScaler</label><div class=\"sk-toggleable__content\"><pre>MinMaxScaler()</pre></div></div></div><div class=\"sk-item\"><div class=\"sk-estimator sk-toggleable\"><input class=\"sk-toggleable__control sk-hidden--visually\" id=\"5bcb28fa-9eee-42d8-b760-021943d64eed\" type=\"checkbox\" ><label class=\"sk-toggleable__label\" for=\"5bcb28fa-9eee-42d8-b760-021943d64eed\">RandomForestClassifier</label><div class=\"sk-toggleable__content\"><pre>RandomForestClassifier()</pre></div></div></div></div></div></div></div>"
      ],
      "text/plain": [
       "Pipeline(steps=[('imputer', SimpleImputer()), ('scaler', MinMaxScaler()),\n",
       "                ('tree_clf', RandomForestClassifier())])"
      ]
     },
     "execution_count": 8,
     "metadata": {},
     "output_type": "execute_result"
    }
   ],
   "source": [
    "pipe.fit(x_train,y_train)"
   ]
  },
  {
   "cell_type": "code",
   "execution_count": 10,
   "metadata": {},
   "outputs": [],
   "source": [
    "param_dic ={'tree_clf__n_estimators':[5,10,25,50,100,200],\n",
    "            'tree_clf__max_depth':[2,5,10,20],\n",
    "            'tree_clf__min_samples_split':[2,4,8,16,32]}\n"
   ]
  },
  {
   "cell_type": "code",
   "execution_count": 11,
   "metadata": {},
   "outputs": [],
   "source": [
    "grid=GridSearchCV(pipe,\n",
    "                  param_dic,\n",
    "                  cv=10,\n",
    "                  scoring='accuracy',\n",
    "                  n_jobs=-1,verbose=1)"
   ]
  },
  {
   "cell_type": "code",
   "execution_count": 12,
   "metadata": {},
   "outputs": [
    {
     "name": "stdout",
     "output_type": "stream",
     "text": [
      "Fitting 10 folds for each of 120 candidates, totalling 1200 fits\n"
     ]
    },
    {
     "data": {
      "text/html": [
       "<style>#sk-cd5371d6-36c4-4fd2-a228-d71a4aa72720 {color: black;background-color: white;}#sk-cd5371d6-36c4-4fd2-a228-d71a4aa72720 pre{padding: 0;}#sk-cd5371d6-36c4-4fd2-a228-d71a4aa72720 div.sk-toggleable {background-color: white;}#sk-cd5371d6-36c4-4fd2-a228-d71a4aa72720 label.sk-toggleable__label {cursor: pointer;display: block;width: 100%;margin-bottom: 0;padding: 0.2em 0.3em;box-sizing: border-box;text-align: center;}#sk-cd5371d6-36c4-4fd2-a228-d71a4aa72720 div.sk-toggleable__content {max-height: 0;max-width: 0;overflow: hidden;text-align: left;background-color: #f0f8ff;}#sk-cd5371d6-36c4-4fd2-a228-d71a4aa72720 div.sk-toggleable__content pre {margin: 0.2em;color: black;border-radius: 0.25em;background-color: #f0f8ff;}#sk-cd5371d6-36c4-4fd2-a228-d71a4aa72720 input.sk-toggleable__control:checked~div.sk-toggleable__content {max-height: 200px;max-width: 100%;overflow: auto;}#sk-cd5371d6-36c4-4fd2-a228-d71a4aa72720 div.sk-estimator input.sk-toggleable__control:checked~label.sk-toggleable__label {background-color: #d4ebff;}#sk-cd5371d6-36c4-4fd2-a228-d71a4aa72720 div.sk-label input.sk-toggleable__control:checked~label.sk-toggleable__label {background-color: #d4ebff;}#sk-cd5371d6-36c4-4fd2-a228-d71a4aa72720 input.sk-hidden--visually {border: 0;clip: rect(1px 1px 1px 1px);clip: rect(1px, 1px, 1px, 1px);height: 1px;margin: -1px;overflow: hidden;padding: 0;position: absolute;width: 1px;}#sk-cd5371d6-36c4-4fd2-a228-d71a4aa72720 div.sk-estimator {font-family: monospace;background-color: #f0f8ff;margin: 0.25em 0.25em;border: 1px dotted black;border-radius: 0.25em;box-sizing: border-box;}#sk-cd5371d6-36c4-4fd2-a228-d71a4aa72720 div.sk-estimator:hover {background-color: #d4ebff;}#sk-cd5371d6-36c4-4fd2-a228-d71a4aa72720 div.sk-parallel-item::after {content: \"\";width: 100%;border-bottom: 1px solid gray;flex-grow: 1;}#sk-cd5371d6-36c4-4fd2-a228-d71a4aa72720 div.sk-label:hover label.sk-toggleable__label {background-color: #d4ebff;}#sk-cd5371d6-36c4-4fd2-a228-d71a4aa72720 div.sk-serial::before {content: \"\";position: absolute;border-left: 1px solid gray;box-sizing: border-box;top: 2em;bottom: 0;left: 50%;}#sk-cd5371d6-36c4-4fd2-a228-d71a4aa72720 div.sk-serial {display: flex;flex-direction: column;align-items: center;background-color: white;}#sk-cd5371d6-36c4-4fd2-a228-d71a4aa72720 div.sk-item {z-index: 1;}#sk-cd5371d6-36c4-4fd2-a228-d71a4aa72720 div.sk-parallel {display: flex;align-items: stretch;justify-content: center;background-color: white;}#sk-cd5371d6-36c4-4fd2-a228-d71a4aa72720 div.sk-parallel-item {display: flex;flex-direction: column;position: relative;background-color: white;}#sk-cd5371d6-36c4-4fd2-a228-d71a4aa72720 div.sk-parallel-item:first-child::after {align-self: flex-end;width: 50%;}#sk-cd5371d6-36c4-4fd2-a228-d71a4aa72720 div.sk-parallel-item:last-child::after {align-self: flex-start;width: 50%;}#sk-cd5371d6-36c4-4fd2-a228-d71a4aa72720 div.sk-parallel-item:only-child::after {width: 0;}#sk-cd5371d6-36c4-4fd2-a228-d71a4aa72720 div.sk-dashed-wrapped {border: 1px dashed gray;margin: 0.2em;box-sizing: border-box;padding-bottom: 0.1em;background-color: white;position: relative;}#sk-cd5371d6-36c4-4fd2-a228-d71a4aa72720 div.sk-label label {font-family: monospace;font-weight: bold;background-color: white;display: inline-block;line-height: 1.2em;}#sk-cd5371d6-36c4-4fd2-a228-d71a4aa72720 div.sk-label-container {position: relative;z-index: 2;text-align: center;}#sk-cd5371d6-36c4-4fd2-a228-d71a4aa72720 div.sk-container {display: inline-block;position: relative;}</style><div id=\"sk-cd5371d6-36c4-4fd2-a228-d71a4aa72720\" class\"sk-top-container\"><div class=\"sk-container\"><div class=\"sk-item sk-dashed-wrapped\"><div class=\"sk-label-container\"><div class=\"sk-label sk-toggleable\"><input class=\"sk-toggleable__control sk-hidden--visually\" id=\"d4f69b1d-73ba-4fa4-a863-813405b8178e\" type=\"checkbox\" ><label class=\"sk-toggleable__label\" for=\"d4f69b1d-73ba-4fa4-a863-813405b8178e\">GridSearchCV</label><div class=\"sk-toggleable__content\"><pre>GridSearchCV(cv=10,\n",
       "             estimator=Pipeline(steps=[('imputer', SimpleImputer()),\n",
       "                                       ('scaler', MinMaxScaler()),\n",
       "                                       ('tree_clf', RandomForestClassifier())]),\n",
       "             n_jobs=-1,\n",
       "             param_grid={'tree_clf__max_depth': [2, 5, 10, 20],\n",
       "                         'tree_clf__min_samples_split': [2, 4, 8, 16, 32],\n",
       "                         'tree_clf__n_estimators': [5, 10, 25, 50, 100, 200]},\n",
       "             scoring='accuracy', verbose=1)</pre></div></div></div><div class=\"sk-parallel\"><div class=\"sk-parallel-item\"><div class=\"sk-item\"><div class=\"sk-serial\"><div class=\"sk-item\"><div class=\"sk-serial\"><div class=\"sk-item\"><div class=\"sk-estimator sk-toggleable\"><input class=\"sk-toggleable__control sk-hidden--visually\" id=\"8e9eb930-63f2-4c7a-9271-8c6154b778c7\" type=\"checkbox\" ><label class=\"sk-toggleable__label\" for=\"8e9eb930-63f2-4c7a-9271-8c6154b778c7\">SimpleImputer</label><div class=\"sk-toggleable__content\"><pre>SimpleImputer()</pre></div></div></div><div class=\"sk-item\"><div class=\"sk-estimator sk-toggleable\"><input class=\"sk-toggleable__control sk-hidden--visually\" id=\"59073f39-ca46-49d1-b4d8-4986efb1b327\" type=\"checkbox\" ><label class=\"sk-toggleable__label\" for=\"59073f39-ca46-49d1-b4d8-4986efb1b327\">MinMaxScaler</label><div class=\"sk-toggleable__content\"><pre>MinMaxScaler()</pre></div></div></div><div class=\"sk-item\"><div class=\"sk-estimator sk-toggleable\"><input class=\"sk-toggleable__control sk-hidden--visually\" id=\"0f9e532d-9599-4eac-b899-2bd4c5568efb\" type=\"checkbox\" ><label class=\"sk-toggleable__label\" for=\"0f9e532d-9599-4eac-b899-2bd4c5568efb\">RandomForestClassifier</label><div class=\"sk-toggleable__content\"><pre>RandomForestClassifier()</pre></div></div></div></div></div></div></div></div></div></div></div></div>"
      ],
      "text/plain": [
       "GridSearchCV(cv=10,\n",
       "             estimator=Pipeline(steps=[('imputer', SimpleImputer()),\n",
       "                                       ('scaler', MinMaxScaler()),\n",
       "                                       ('tree_clf', RandomForestClassifier())]),\n",
       "             n_jobs=-1,\n",
       "             param_grid={'tree_clf__max_depth': [2, 5, 10, 20],\n",
       "                         'tree_clf__min_samples_split': [2, 4, 8, 16, 32],\n",
       "                         'tree_clf__n_estimators': [5, 10, 25, 50, 100, 200]},\n",
       "             scoring='accuracy', verbose=1)"
      ]
     },
     "execution_count": 12,
     "metadata": {},
     "output_type": "execute_result"
    }
   ],
   "source": [
    "grid.fit(x_train,y_train)"
   ]
  },
  {
   "cell_type": "code",
   "execution_count": 13,
   "metadata": {},
   "outputs": [
    {
     "data": {
      "text/plain": [
       "{'tree_clf__max_depth': 20,\n",
       " 'tree_clf__min_samples_split': 32,\n",
       " 'tree_clf__n_estimators': 200}"
      ]
     },
     "execution_count": 13,
     "metadata": {},
     "output_type": "execute_result"
    }
   ],
   "source": [
    "grid.best_params_"
   ]
  },
  {
   "cell_type": "code",
   "execution_count": 14,
   "metadata": {},
   "outputs": [],
   "source": [
    "best_clf=grid.best_estimator_"
   ]
  },
  {
   "cell_type": "code",
   "execution_count": 15,
   "metadata": {},
   "outputs": [
    {
     "data": {
      "text/html": [
       "<style>#sk-401de2ab-3857-467d-b7b4-6fa7ffbb56b6 {color: black;background-color: white;}#sk-401de2ab-3857-467d-b7b4-6fa7ffbb56b6 pre{padding: 0;}#sk-401de2ab-3857-467d-b7b4-6fa7ffbb56b6 div.sk-toggleable {background-color: white;}#sk-401de2ab-3857-467d-b7b4-6fa7ffbb56b6 label.sk-toggleable__label {cursor: pointer;display: block;width: 100%;margin-bottom: 0;padding: 0.2em 0.3em;box-sizing: border-box;text-align: center;}#sk-401de2ab-3857-467d-b7b4-6fa7ffbb56b6 div.sk-toggleable__content {max-height: 0;max-width: 0;overflow: hidden;text-align: left;background-color: #f0f8ff;}#sk-401de2ab-3857-467d-b7b4-6fa7ffbb56b6 div.sk-toggleable__content pre {margin: 0.2em;color: black;border-radius: 0.25em;background-color: #f0f8ff;}#sk-401de2ab-3857-467d-b7b4-6fa7ffbb56b6 input.sk-toggleable__control:checked~div.sk-toggleable__content {max-height: 200px;max-width: 100%;overflow: auto;}#sk-401de2ab-3857-467d-b7b4-6fa7ffbb56b6 div.sk-estimator input.sk-toggleable__control:checked~label.sk-toggleable__label {background-color: #d4ebff;}#sk-401de2ab-3857-467d-b7b4-6fa7ffbb56b6 div.sk-label input.sk-toggleable__control:checked~label.sk-toggleable__label {background-color: #d4ebff;}#sk-401de2ab-3857-467d-b7b4-6fa7ffbb56b6 input.sk-hidden--visually {border: 0;clip: rect(1px 1px 1px 1px);clip: rect(1px, 1px, 1px, 1px);height: 1px;margin: -1px;overflow: hidden;padding: 0;position: absolute;width: 1px;}#sk-401de2ab-3857-467d-b7b4-6fa7ffbb56b6 div.sk-estimator {font-family: monospace;background-color: #f0f8ff;margin: 0.25em 0.25em;border: 1px dotted black;border-radius: 0.25em;box-sizing: border-box;}#sk-401de2ab-3857-467d-b7b4-6fa7ffbb56b6 div.sk-estimator:hover {background-color: #d4ebff;}#sk-401de2ab-3857-467d-b7b4-6fa7ffbb56b6 div.sk-parallel-item::after {content: \"\";width: 100%;border-bottom: 1px solid gray;flex-grow: 1;}#sk-401de2ab-3857-467d-b7b4-6fa7ffbb56b6 div.sk-label:hover label.sk-toggleable__label {background-color: #d4ebff;}#sk-401de2ab-3857-467d-b7b4-6fa7ffbb56b6 div.sk-serial::before {content: \"\";position: absolute;border-left: 1px solid gray;box-sizing: border-box;top: 2em;bottom: 0;left: 50%;}#sk-401de2ab-3857-467d-b7b4-6fa7ffbb56b6 div.sk-serial {display: flex;flex-direction: column;align-items: center;background-color: white;}#sk-401de2ab-3857-467d-b7b4-6fa7ffbb56b6 div.sk-item {z-index: 1;}#sk-401de2ab-3857-467d-b7b4-6fa7ffbb56b6 div.sk-parallel {display: flex;align-items: stretch;justify-content: center;background-color: white;}#sk-401de2ab-3857-467d-b7b4-6fa7ffbb56b6 div.sk-parallel-item {display: flex;flex-direction: column;position: relative;background-color: white;}#sk-401de2ab-3857-467d-b7b4-6fa7ffbb56b6 div.sk-parallel-item:first-child::after {align-self: flex-end;width: 50%;}#sk-401de2ab-3857-467d-b7b4-6fa7ffbb56b6 div.sk-parallel-item:last-child::after {align-self: flex-start;width: 50%;}#sk-401de2ab-3857-467d-b7b4-6fa7ffbb56b6 div.sk-parallel-item:only-child::after {width: 0;}#sk-401de2ab-3857-467d-b7b4-6fa7ffbb56b6 div.sk-dashed-wrapped {border: 1px dashed gray;margin: 0.2em;box-sizing: border-box;padding-bottom: 0.1em;background-color: white;position: relative;}#sk-401de2ab-3857-467d-b7b4-6fa7ffbb56b6 div.sk-label label {font-family: monospace;font-weight: bold;background-color: white;display: inline-block;line-height: 1.2em;}#sk-401de2ab-3857-467d-b7b4-6fa7ffbb56b6 div.sk-label-container {position: relative;z-index: 2;text-align: center;}#sk-401de2ab-3857-467d-b7b4-6fa7ffbb56b6 div.sk-container {display: inline-block;position: relative;}</style><div id=\"sk-401de2ab-3857-467d-b7b4-6fa7ffbb56b6\" class\"sk-top-container\"><div class=\"sk-container\"><div class=\"sk-item sk-dashed-wrapped\"><div class=\"sk-label-container\"><div class=\"sk-label sk-toggleable\"><input class=\"sk-toggleable__control sk-hidden--visually\" id=\"dbf3efd5-bf0b-44de-be74-d66f7c290329\" type=\"checkbox\" ><label class=\"sk-toggleable__label\" for=\"dbf3efd5-bf0b-44de-be74-d66f7c290329\">Pipeline</label><div class=\"sk-toggleable__content\"><pre>Pipeline(steps=[('imputer', SimpleImputer()), ('scaler', MinMaxScaler()),\n",
       "                ('tree_clf',\n",
       "                 RandomForestClassifier(max_depth=20, min_samples_split=32,\n",
       "                                        n_estimators=200))])</pre></div></div></div><div class=\"sk-serial\"><div class=\"sk-item\"><div class=\"sk-estimator sk-toggleable\"><input class=\"sk-toggleable__control sk-hidden--visually\" id=\"99b4e1ae-4dc7-4d6a-91bf-7e0cf7a3eb10\" type=\"checkbox\" ><label class=\"sk-toggleable__label\" for=\"99b4e1ae-4dc7-4d6a-91bf-7e0cf7a3eb10\">SimpleImputer</label><div class=\"sk-toggleable__content\"><pre>SimpleImputer()</pre></div></div></div><div class=\"sk-item\"><div class=\"sk-estimator sk-toggleable\"><input class=\"sk-toggleable__control sk-hidden--visually\" id=\"66abe75a-a400-43ea-bcb5-f6cec7249e96\" type=\"checkbox\" ><label class=\"sk-toggleable__label\" for=\"66abe75a-a400-43ea-bcb5-f6cec7249e96\">MinMaxScaler</label><div class=\"sk-toggleable__content\"><pre>MinMaxScaler()</pre></div></div></div><div class=\"sk-item\"><div class=\"sk-estimator sk-toggleable\"><input class=\"sk-toggleable__control sk-hidden--visually\" id=\"9119c96f-67a6-40a4-bcf2-017db903b261\" type=\"checkbox\" ><label class=\"sk-toggleable__label\" for=\"9119c96f-67a6-40a4-bcf2-017db903b261\">RandomForestClassifier</label><div class=\"sk-toggleable__content\"><pre>RandomForestClassifier(max_depth=20, min_samples_split=32, n_estimators=200)</pre></div></div></div></div></div></div></div>"
      ],
      "text/plain": [
       "Pipeline(steps=[('imputer', SimpleImputer()), ('scaler', MinMaxScaler()),\n",
       "                ('tree_clf',\n",
       "                 RandomForestClassifier(max_depth=20, min_samples_split=32,\n",
       "                                        n_estimators=200))])"
      ]
     },
     "execution_count": 15,
     "metadata": {},
     "output_type": "execute_result"
    }
   ],
   "source": [
    "best_clf.fit(x_train,y_train)"
   ]
  },
  {
   "cell_type": "code",
   "execution_count": 20,
   "metadata": {},
   "outputs": [],
   "source": [
    "y_test_pred= best_clf.predict(x_test)"
   ]
  },
  {
   "cell_type": "code",
   "execution_count": 21,
   "metadata": {},
   "outputs": [
    {
     "data": {
      "text/plain": [
       "0.836321675838807"
      ]
     },
     "execution_count": 21,
     "metadata": {},
     "output_type": "execute_result"
    }
   ],
   "source": [
    "accuracy_score(y_test,y_test_pred)"
   ]
  },
  {
   "cell_type": "code",
   "execution_count": 22,
   "metadata": {},
   "outputs": [
    {
     "data": {
      "text/plain": [
       "0.47027687296416937"
      ]
     },
     "execution_count": 22,
     "metadata": {},
     "output_type": "execute_result"
    }
   ],
   "source": [
    "recall_score(y_test,y_test_pred)"
   ]
  },
  {
   "cell_type": "code",
   "execution_count": null,
   "metadata": {},
   "outputs": [],
   "source": []
  }
 ],
 "metadata": {
  "kernelspec": {
   "display_name": "Python 3.9.12 ('base')",
   "language": "python",
   "name": "python3"
  },
  "language_info": {
   "codemirror_mode": {
    "name": "ipython",
    "version": 3
   },
   "file_extension": ".py",
   "mimetype": "text/x-python",
   "name": "python",
   "nbconvert_exporter": "python",
   "pygments_lexer": "ipython3",
   "version": "3.9.12"
  },
  "vscode": {
   "interpreter": {
    "hash": "64f66822a0f77c79a13345922a004189662baff35ab326d8d7e9a08c27c4bee1"
   }
  }
 },
 "nbformat": 4,
 "nbformat_minor": 4
}
