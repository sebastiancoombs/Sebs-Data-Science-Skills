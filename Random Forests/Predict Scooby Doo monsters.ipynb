{
 "cells": [
  {
   "cell_type": "code",
   "execution_count": 1,
   "metadata": {},
   "outputs": [],
   "source": [
    "import pandas as pd\n",
    "import matplotlib.pyplot as plt"
   ]
  },
  {
   "cell_type": "markdown",
   "metadata": {},
   "source": [
    "# Scooby Doo monsters"
   ]
  },
  {
   "cell_type": "markdown",
   "metadata": {},
   "source": [
    "The [Scooby-Doo](https://en.wikipedia.org/wiki/Scooby-Doo) cartoon series featured teenagers Fred Jones, Daphne Blake, Velma Dinkley, and Shaggy Rogers, and their talking Great Dane named Scooby-Doo, who solve mysteries involving supposedly supernatural creatures through a series of antics and missteps."
   ]
  },
  {
   "cell_type": "markdown",
   "metadata": {},
   "source": [
    "![Scooby-Doo](scoobydoo.png)"
   ]
  },
  {
   "cell_type": "code",
   "execution_count": 2,
   "metadata": {},
   "outputs": [
    {
     "data": {
      "text/html": [
       "<div>\n",
       "<style scoped>\n",
       "    .dataframe tbody tr th:only-of-type {\n",
       "        vertical-align: middle;\n",
       "    }\n",
       "\n",
       "    .dataframe tbody tr th {\n",
       "        vertical-align: top;\n",
       "    }\n",
       "\n",
       "    .dataframe thead th {\n",
       "        text-align: right;\n",
       "    }\n",
       "</style>\n",
       "<table border=\"1\" class=\"dataframe\">\n",
       "  <thead>\n",
       "    <tr style=\"text-align: right;\">\n",
       "      <th></th>\n",
       "      <th>series_name</th>\n",
       "      <th>network</th>\n",
       "      <th>season</th>\n",
       "      <th>title</th>\n",
       "      <th>imdb</th>\n",
       "      <th>engagement</th>\n",
       "      <th>date_aired</th>\n",
       "      <th>run_time</th>\n",
       "      <th>format</th>\n",
       "      <th>monster_name</th>\n",
       "      <th>...</th>\n",
       "      <th>batman</th>\n",
       "      <th>scooby_dum</th>\n",
       "      <th>scrappy_doo</th>\n",
       "      <th>hex_girls</th>\n",
       "      <th>blue_falcon</th>\n",
       "      <th>fred_va</th>\n",
       "      <th>daphnie_va</th>\n",
       "      <th>velma_va</th>\n",
       "      <th>shaggy_va</th>\n",
       "      <th>scooby_va</th>\n",
       "    </tr>\n",
       "  </thead>\n",
       "  <tbody>\n",
       "    <tr>\n",
       "      <th>0</th>\n",
       "      <td>Scooby Doo, Where Are You!</td>\n",
       "      <td>CBS</td>\n",
       "      <td>1</td>\n",
       "      <td>What a Night for a Knight</td>\n",
       "      <td>8.1</td>\n",
       "      <td>556.0</td>\n",
       "      <td>1969-09-13</td>\n",
       "      <td>21</td>\n",
       "      <td>TV Series</td>\n",
       "      <td>Black Knight</td>\n",
       "      <td>...</td>\n",
       "      <td>False</td>\n",
       "      <td>False</td>\n",
       "      <td>False</td>\n",
       "      <td>False</td>\n",
       "      <td>False</td>\n",
       "      <td>Frank Welker</td>\n",
       "      <td>Stefanianna Christopherson</td>\n",
       "      <td>Nicole Jaffe</td>\n",
       "      <td>Casey Kasem</td>\n",
       "      <td>Don Messick</td>\n",
       "    </tr>\n",
       "    <tr>\n",
       "      <th>1</th>\n",
       "      <td>Scooby Doo, Where Are You!</td>\n",
       "      <td>CBS</td>\n",
       "      <td>1</td>\n",
       "      <td>A Clue for Scooby Doo</td>\n",
       "      <td>8.1</td>\n",
       "      <td>479.0</td>\n",
       "      <td>1969-09-20</td>\n",
       "      <td>22</td>\n",
       "      <td>TV Series</td>\n",
       "      <td>Ghost of Cptn. Cuttler</td>\n",
       "      <td>...</td>\n",
       "      <td>False</td>\n",
       "      <td>False</td>\n",
       "      <td>False</td>\n",
       "      <td>False</td>\n",
       "      <td>False</td>\n",
       "      <td>Frank Welker</td>\n",
       "      <td>Stefanianna Christopherson</td>\n",
       "      <td>Nicole Jaffe</td>\n",
       "      <td>Casey Kasem</td>\n",
       "      <td>Don Messick</td>\n",
       "    </tr>\n",
       "    <tr>\n",
       "      <th>2</th>\n",
       "      <td>Scooby Doo, Where Are You!</td>\n",
       "      <td>CBS</td>\n",
       "      <td>1</td>\n",
       "      <td>Hassle in the Castle</td>\n",
       "      <td>8.0</td>\n",
       "      <td>455.0</td>\n",
       "      <td>1969-09-27</td>\n",
       "      <td>21</td>\n",
       "      <td>TV Series</td>\n",
       "      <td>Phantom</td>\n",
       "      <td>...</td>\n",
       "      <td>False</td>\n",
       "      <td>False</td>\n",
       "      <td>False</td>\n",
       "      <td>False</td>\n",
       "      <td>False</td>\n",
       "      <td>Frank Welker</td>\n",
       "      <td>Stefanianna Christopherson</td>\n",
       "      <td>Nicole Jaffe</td>\n",
       "      <td>Casey Kasem</td>\n",
       "      <td>Don Messick</td>\n",
       "    </tr>\n",
       "    <tr>\n",
       "      <th>3</th>\n",
       "      <td>Scooby Doo, Where Are You!</td>\n",
       "      <td>CBS</td>\n",
       "      <td>1</td>\n",
       "      <td>Mine Your Own Business</td>\n",
       "      <td>7.8</td>\n",
       "      <td>426.0</td>\n",
       "      <td>1969-10-04</td>\n",
       "      <td>21</td>\n",
       "      <td>TV Series</td>\n",
       "      <td>Miner 49'er</td>\n",
       "      <td>...</td>\n",
       "      <td>False</td>\n",
       "      <td>False</td>\n",
       "      <td>False</td>\n",
       "      <td>False</td>\n",
       "      <td>False</td>\n",
       "      <td>Frank Welker</td>\n",
       "      <td>Stefanianna Christopherson</td>\n",
       "      <td>Nicole Jaffe</td>\n",
       "      <td>Casey Kasem</td>\n",
       "      <td>Don Messick</td>\n",
       "    </tr>\n",
       "    <tr>\n",
       "      <th>4</th>\n",
       "      <td>Scooby Doo, Where Are You!</td>\n",
       "      <td>CBS</td>\n",
       "      <td>1</td>\n",
       "      <td>Decoy for a Dognapper</td>\n",
       "      <td>7.5</td>\n",
       "      <td>391.0</td>\n",
       "      <td>1969-10-11</td>\n",
       "      <td>21</td>\n",
       "      <td>TV Series</td>\n",
       "      <td>Indian Witch Doctor</td>\n",
       "      <td>...</td>\n",
       "      <td>False</td>\n",
       "      <td>False</td>\n",
       "      <td>False</td>\n",
       "      <td>False</td>\n",
       "      <td>False</td>\n",
       "      <td>Frank Welker</td>\n",
       "      <td>Stefanianna Christopherson</td>\n",
       "      <td>Nicole Jaffe</td>\n",
       "      <td>Casey Kasem</td>\n",
       "      <td>Don Messick</td>\n",
       "    </tr>\n",
       "  </tbody>\n",
       "</table>\n",
       "<p>5 rows × 74 columns</p>\n",
       "</div>"
      ],
      "text/plain": [
       "                  series_name network season                      title  imdb  \\\n",
       "0  Scooby Doo, Where Are You!     CBS      1  What a Night for a Knight   8.1   \n",
       "1  Scooby Doo, Where Are You!     CBS      1      A Clue for Scooby Doo   8.1   \n",
       "2  Scooby Doo, Where Are You!     CBS      1       Hassle in the Castle   8.0   \n",
       "3  Scooby Doo, Where Are You!     CBS      1     Mine Your Own Business   7.8   \n",
       "4  Scooby Doo, Where Are You!     CBS      1      Decoy for a Dognapper   7.5   \n",
       "\n",
       "   engagement  date_aired  run_time     format            monster_name  ...  \\\n",
       "0       556.0  1969-09-13        21  TV Series            Black Knight  ...   \n",
       "1       479.0  1969-09-20        22  TV Series  Ghost of Cptn. Cuttler  ...   \n",
       "2       455.0  1969-09-27        21  TV Series                 Phantom  ...   \n",
       "3       426.0  1969-10-04        21  TV Series             Miner 49'er  ...   \n",
       "4       391.0  1969-10-11        21  TV Series     Indian Witch Doctor  ...   \n",
       "\n",
       "  batman scooby_dum scrappy_doo hex_girls blue_falcon       fred_va  \\\n",
       "0  False      False       False     False       False  Frank Welker   \n",
       "1  False      False       False     False       False  Frank Welker   \n",
       "2  False      False       False     False       False  Frank Welker   \n",
       "3  False      False       False     False       False  Frank Welker   \n",
       "4  False      False       False     False       False  Frank Welker   \n",
       "\n",
       "                   daphnie_va      velma_va    shaggy_va    scooby_va  \n",
       "0  Stefanianna Christopherson  Nicole Jaffe  Casey Kasem  Don Messick  \n",
       "1  Stefanianna Christopherson  Nicole Jaffe  Casey Kasem  Don Messick  \n",
       "2  Stefanianna Christopherson  Nicole Jaffe  Casey Kasem  Don Messick  \n",
       "3  Stefanianna Christopherson  Nicole Jaffe  Casey Kasem  Don Messick  \n",
       "4  Stefanianna Christopherson  Nicole Jaffe  Casey Kasem  Don Messick  \n",
       "\n",
       "[5 rows x 74 columns]"
      ]
     },
     "execution_count": 2,
     "metadata": {},
     "output_type": "execute_result"
    }
   ],
   "source": [
    "# load data\n",
    "url = 'https://raw.githubusercontent.com/um-perez-alvaro/Data-Science-Practice/master/Data/scoobydoo.csv'\n",
    "data = pd.read_csv(url)\n",
    "data.head()"
   ]
  },
  {
   "cell_type": "markdown",
   "metadata": {},
   "source": [
    "The **goal** is to predict which Scooby Doo monsters are real and which are not (the `monster_real` column), **based on the year each episode was aired and the episode rating** (the imdb column)."
   ]
  },
  {
   "cell_type": "markdown",
   "metadata": {},
   "source": [
    "**Part 1:** Add a `year` column with the year each episode was aired."
   ]
  },
  {
   "cell_type": "code",
   "execution_count": 3,
   "metadata": {},
   "outputs": [],
   "source": [
    "# your code here\n",
    "data['year']=pd.DatetimeIndex(data['date_aired']).year"
   ]
  },
  {
   "cell_type": "markdown",
   "metadata": {},
   "source": [
    "**Part 2:** Drop the rows that have a missing `monster_real`, `year` or `imdb` values."
   ]
  },
  {
   "cell_type": "code",
   "execution_count": 4,
   "metadata": {},
   "outputs": [],
   "source": [
    "# your code here\n",
    "data.dropna(subset=('monster_real','year','imdb'),axis=0,inplace=True)"
   ]
  },
  {
   "cell_type": "markdown",
   "metadata": {},
   "source": [
    "**Part 3:** Define the feature matrix X (`year` and `imdb` columns) and the target vector y (`monster_real` column) from the dataframe"
   ]
  },
  {
   "cell_type": "code",
   "execution_count": 5,
   "metadata": {},
   "outputs": [],
   "source": [
    "# your code here\\\n",
    "x=data[['year','imdb']]\n",
    "y=data.monster_real"
   ]
  },
  {
   "cell_type": "code",
   "execution_count": 6,
   "metadata": {},
   "outputs": [
    {
     "data": {
      "text/plain": [
       "year    0\n",
       "imdb    0\n",
       "dtype: int64"
      ]
     },
     "execution_count": 6,
     "metadata": {},
     "output_type": "execute_result"
    }
   ],
   "source": [
    "x.isna().sum()"
   ]
  },
  {
   "cell_type": "markdown",
   "metadata": {},
   "source": [
    "**Part 4:** Plot the data points (i.e., plot `year` values against `imdb` values). Color each point in the scatter plot according to whether the monster is real or fake."
   ]
  },
  {
   "cell_type": "code",
   "execution_count": 7,
   "metadata": {},
   "outputs": [
    {
     "data": {
      "text/plain": [
       "<bound method Series.unique of 0      fake\n",
       "1      fake\n",
       "2      fake\n",
       "3      fake\n",
       "4      fake\n",
       "       ... \n",
       "583    fake\n",
       "584    fake\n",
       "585    fake\n",
       "599    fake\n",
       "600    fake\n",
       "Name: monster_real, Length: 501, dtype: object>"
      ]
     },
     "execution_count": 7,
     "metadata": {},
     "output_type": "execute_result"
    }
   ],
   "source": [
    "data.monster_real.unique"
   ]
  },
  {
   "cell_type": "code",
   "execution_count": 8,
   "metadata": {},
   "outputs": [
    {
     "data": {
      "text/plain": [
       "<matplotlib.legend.Legend at 0xa46f370>"
      ]
     },
     "execution_count": 8,
     "metadata": {},
     "output_type": "execute_result"
    },
    {
     "data": {
      "image/png": "[encoded data removed]",
      "text/plain": [
       "<Figure size 432x288 with 1 Axes>"
      ]
     },
     "metadata": {
      "needs_background": "light"
     },
     "output_type": "display_data"
    }
   ],
   "source": [
    "# your code here\n",
    "F=data.loc[data.monster_real=='fake']\n",
    "R=data.loc[data.monster_real=='real']\n",
    "x1=F[['year','imdb']]\n",
    "y1=F.monster_real\n",
    "x2=R[['year','imdb']]\n",
    "y2=R.monster_real\n",
    "plt.scatter(x1.year,x1.imdb,c='r',label='Fake')\n",
    "plt.scatter(x2.year,x2.imdb,c='b', label= 'Real')\n",
    "plt.legend()"
   ]
  },
  {
   "cell_type": "markdown",
   "metadata": {},
   "source": [
    "**Part 5:** Train a classification tree (with `max_depth=5`) on the data. "
   ]
  },
  {
   "cell_type": "code",
   "execution_count": 9,
   "metadata": {},
   "outputs": [
    {
     "data": {
      "text/plain": [
       "DecisionTreeClassifier(max_depth=5)"
      ]
     },
     "execution_count": 9,
     "metadata": {},
     "output_type": "execute_result"
    }
   ],
   "source": [
    "# your code here\n",
    "from sklearn.tree import DecisionTreeClassifier\n",
    "from sklearn.metrics import accuracy_score\n",
    "tree_clf=DecisionTreeClassifier(max_depth=5)\n",
    "tree_clf.fit(x,y)"
   ]
  },
  {
   "cell_type": "markdown",
   "metadata": {},
   "source": [
    "**Part 6**: Use a classification tree to predict the y vector, and compute the confusion matrix."
   ]
  },
  {
   "cell_type": "code",
   "execution_count": 10,
   "metadata": {},
   "outputs": [
    {
     "data": {
      "text/plain": [
       "array([[384,   5],\n",
       "       [ 28,  84]], dtype=int64)"
      ]
     },
     "execution_count": 10,
     "metadata": {},
     "output_type": "execute_result"
    }
   ],
   "source": [
    "\n",
    "y_pred=tree_clf.predict(x)\n",
    "from sklearn.metrics import confusion_matrix\n",
    "confusion_matrix(y,y_pred)"
   ]
  },
  {
   "cell_type": "code",
   "execution_count": null,
   "metadata": {},
   "outputs": [],
   "source": []
  },
  {
   "cell_type": "code",
   "execution_count": null,
   "metadata": {},
   "outputs": [],
   "source": []
  },
  {
   "cell_type": "markdown",
   "metadata": {},
   "source": [
    "**Part 7:** Use the [`draw_lassification_regions function`](https://github.com/um-perez-alvaro/Data-Science-Practice/blob/master/Jupyter%20Notebooks/Classification/notebooks/functions.py) the classification tree results"
   ]
  },
  {
   "cell_type": "code",
   "execution_count": 11,
   "metadata": {},
   "outputs": [],
   "source": [
    "# draw_classification_regions function\n",
    "# visualize the classification region\n",
    "import matplotlib.pyplot as plt\n",
    "import numpy as np\n",
    "def draw_classification_regions(X,y,model):\n",
    "    \n",
    "    # classes \n",
    "    classes = model.classes_\n",
    "    # feature names\n",
    "    try:\n",
    "        feature_names = X.columns\n",
    "    except:\n",
    "        feature_names = ['feature #1','feature #2']\n",
    "    \n",
    "    # put data into numpy arrays\n",
    "    try:\n",
    "        X = np.array(X)\n",
    "        y = np.array(y).flatten()\n",
    "    except:\n",
    "        print('something went wrong')\n",
    "    \n",
    "    from matplotlib.colors import ListedColormap\n",
    "    # create a mesh grid\n",
    "    h = .01\n",
    "    x_min, x_max = X[:, 0].min() - .1, X[:, 0].max() + .1\n",
    "    y_min, y_max = X[:, 1].min() - .1, X[:, 1].max() + .1\n",
    "    xx, yy = np.meshgrid(np.arange(x_min, x_max, h),\n",
    "                         np.arange(y_min, y_max, h))\n",
    "\n",
    "    # evaluate classifier at all mesh grid points\n",
    "    Z = model.predict(np.c_[xx.ravel(), yy.ravel()])\n",
    "    Z = Z.reshape(xx.shape)\n",
    "    \n",
    "    # number of classes\n",
    "    n_classes = len(np.unique(y))\n",
    "    \n",
    "    # map classes to 0,1,2\n",
    "    for i in range(n_classes):\n",
    "        Z[Z==classes[i]]=i\n",
    "\n",
    "    # Put the result into a color plot\n",
    "    fig, ax = plt.subplots(figsize=(10,5))\n",
    "    colors = ['C0','C1','C2']\n",
    "    if n_classes==3:\n",
    "        custom_cmap = ListedColormap(['#9898ff','#fafab0','#a0faa0'])\n",
    "    else:\n",
    "        custom_cmap = ListedColormap(['#9898ff','#fafab0'])\n",
    "        \n",
    "    ax.contourf(xx, yy, Z, cmap=custom_cmap)\n",
    "\n",
    "    # plot dataset\n",
    "    for i in range(n_classes):\n",
    "        ax.scatter(X[y==classes[i],0], X[y==classes[i],1], c = colors[i], label=classes[i], s=75, alpha=0.8)\n",
    "\n",
    "    ax.set_xlabel(feature_names[0], fontsize=15)\n",
    "    ax.set_ylabel(feature_names[1], fontsize=15)\n",
    "\n",
    "    ax.legend()"
   ]
  },
  {
   "cell_type": "markdown",
   "metadata": {},
   "source": [
    "**Part 8:** Repeat parts 5--7 with `max_depth=20`."
   ]
  },
  {
   "cell_type": "code",
   "execution_count": 13,
   "metadata": {},
   "outputs": [
    {
     "data": {
      "image/png": "[encoded data removed]",
      "text/plain": [
       "<Figure size 720x360 with 1 Axes>"
      ]
     },
     "metadata": {
      "needs_background": "light"
     },
     "output_type": "display_data"
    }
   ],
   "source": [
    "# your code here\n",
    "draw_classification_regions(x,y,tree_clf)"
   ]
  },
  {
   "cell_type": "code",
   "execution_count": 14,
   "metadata": {},
   "outputs": [],
   "source": [
    "tree_clf=DecisionTreeClassifier(max_depth=20)\n",
    "tree_clf.fit(x,y)\n",
    "y_pred=tree_clf.predict(x)"
   ]
  },
  {
   "cell_type": "code",
   "execution_count": 15,
   "metadata": {},
   "outputs": [
    {
     "data": {
      "text/plain": [
       "array([[382,   7],\n",
       "       [ 10, 102]], dtype=int64)"
      ]
     },
     "execution_count": 15,
     "metadata": {},
     "output_type": "execute_result"
    }
   ],
   "source": [
    "confusion_matrix(y,y_pred)"
   ]
  },
  {
   "cell_type": "code",
   "execution_count": 16,
   "metadata": {},
   "outputs": [
    {
     "data": {
      "image/png": "[encoded data removed]",
      "text/plain": [
       "<Figure size 720x360 with 1 Axes>"
      ]
     },
     "metadata": {
      "needs_background": "light"
     },
     "output_type": "display_data"
    }
   ],
   "source": [
    "draw_classification_regions(x,y,tree_clf)"
   ]
  },
  {
   "cell_type": "code",
   "execution_count": null,
   "metadata": {},
   "outputs": [],
   "source": []
  },
  {
   "cell_type": "code",
   "execution_count": null,
   "metadata": {},
   "outputs": [],
   "source": []
  },
  {
   "cell_type": "code",
   "execution_count": null,
   "metadata": {},
   "outputs": [],
   "source": []
  }
 ],
 "metadata": {
  "kernelspec": {
   "display_name": "Python 3",
   "language": "python",
   "name": "python3"
  },
  "language_info": {
   "codemirror_mode": {
    "name": "ipython",
    "version": 3
   },
   "file_extension": ".py",
   "mimetype": "text/x-python",
   "name": "python",
   "nbconvert_exporter": "python",
   "pygments_lexer": "ipython3",
   "version": "3.8.8"
  }
 },
 "nbformat": 4,
 "nbformat_minor": 4
}
