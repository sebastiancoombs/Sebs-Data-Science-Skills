{
 "cells": [
  {
   "cell_type": "code",
   "execution_count": 1,
   "metadata": {},
   "outputs": [],
   "source": [
    "import pandas as pd\n",
    "from sklearn.model_selection import train_test_split\n",
    "from sklearn.ensemble import RandomForestClassifier\n",
    "from sklearn.model_selection import GridSearchCV\n",
    "from sklearn.metrics import accuracy_score,confusion_matrix,recall_score"
   ]
  },
  {
   "cell_type": "markdown",
   "metadata": {},
   "source": [
    "# Predicting whether to contact a customer because they are at risk of churning"
   ]
  },
  {
   "cell_type": "markdown",
   "metadata": {},
   "source": [
    "*Churn* is the therm used when a company loses a customer.\n",
    "I build a Machine Learning model that identifies customers that are at risk of churning.\n",
    "This problem is based on Chapter 3 of [*Machine Learning for Business*](https://www.manning.com/books/machine-learning-for-business)."
   ]
  },
  {
   "cell_type": "markdown",
   "metadata": {},
   "source": [
    "<img src=\"ML for business.png\" alt=\"Drawing\" style=\"width: 150px;\"/>"
   ]
  },
  {
   "cell_type": "markdown",
   "metadata": {},
   "source": [
    "## Introduction"
   ]
  },
  {
   "cell_type": "markdown",
   "metadata": {},
   "source": [
    "You are the Head of Operations for a commercial company that sells high-quality products.\n",
    "Most of your customer have used your company for a long time, but you still regularly lose customers to your competitors.\n",
    "To help retain customers, you want to identify those customers who are at risk of churning so you can call them to determine whether there is some way to address their move to another supplier."
   ]
  },
  {
   "cell_type": "markdown",
   "metadata": {},
   "source": [
    "<img src=\"im2.png\" alt=\"Drawing\" style=\"width: 500px;\"/>"
   ]
  },
  {
   "cell_type": "code",
   "execution_count": 2,
   "metadata": {},
   "outputs": [
    {
     "data": {
      "text/html": [
       "<div>\n",
       "<style scoped>\n",
       "    .dataframe tbody tr th:only-of-type {\n",
       "        vertical-align: middle;\n",
       "    }\n",
       "\n",
       "    .dataframe tbody tr th {\n",
       "        vertical-align: top;\n",
       "    }\n",
       "\n",
       "    .dataframe thead th {\n",
       "        text-align: right;\n",
       "    }\n",
       "</style>\n",
       "<table border=\"1\" class=\"dataframe\">\n",
       "  <thead>\n",
       "    <tr style=\"text-align: right;\">\n",
       "      <th></th>\n",
       "      <th>churned</th>\n",
       "      <th>customer_code</th>\n",
       "      <th>co_name</th>\n",
       "      <th>total_spend</th>\n",
       "      <th>week_minus_4</th>\n",
       "      <th>week_minus_3</th>\n",
       "      <th>week_minus_2</th>\n",
       "      <th>last_week</th>\n",
       "      <th>4-3_delta</th>\n",
       "      <th>3-2_delta</th>\n",
       "      <th>2-1_delta</th>\n",
       "    </tr>\n",
       "    <tr>\n",
       "      <th>id</th>\n",
       "      <th></th>\n",
       "      <th></th>\n",
       "      <th></th>\n",
       "      <th></th>\n",
       "      <th></th>\n",
       "      <th></th>\n",
       "      <th></th>\n",
       "      <th></th>\n",
       "      <th></th>\n",
       "      <th></th>\n",
       "      <th></th>\n",
       "    </tr>\n",
       "  </thead>\n",
       "  <tbody>\n",
       "    <tr>\n",
       "      <th>1</th>\n",
       "      <td>0</td>\n",
       "      <td>1826</td>\n",
       "      <td>Hoffman Martinez and Chandler</td>\n",
       "      <td>68567.34</td>\n",
       "      <td>0.81</td>\n",
       "      <td>0.02</td>\n",
       "      <td>0.74</td>\n",
       "      <td>1.45</td>\n",
       "      <td>-0.79</td>\n",
       "      <td>0.72</td>\n",
       "      <td>0.71</td>\n",
       "    </tr>\n",
       "    <tr>\n",
       "      <th>2</th>\n",
       "      <td>0</td>\n",
       "      <td>772</td>\n",
       "      <td>Lee Martin and Escobar</td>\n",
       "      <td>74335.27</td>\n",
       "      <td>1.87</td>\n",
       "      <td>1.02</td>\n",
       "      <td>1.29</td>\n",
       "      <td>1.19</td>\n",
       "      <td>-0.85</td>\n",
       "      <td>0.27</td>\n",
       "      <td>-0.10</td>\n",
       "    </tr>\n",
       "    <tr>\n",
       "      <th>3</th>\n",
       "      <td>0</td>\n",
       "      <td>479</td>\n",
       "      <td>Hobbs Mcdaniel and Baker</td>\n",
       "      <td>48746.22</td>\n",
       "      <td>1.21</td>\n",
       "      <td>0.70</td>\n",
       "      <td>1.04</td>\n",
       "      <td>2.12</td>\n",
       "      <td>-0.51</td>\n",
       "      <td>0.34</td>\n",
       "      <td>1.08</td>\n",
       "    </tr>\n",
       "    <tr>\n",
       "      <th>4</th>\n",
       "      <td>0</td>\n",
       "      <td>1692</td>\n",
       "      <td>Williams-Harris</td>\n",
       "      <td>64416.70</td>\n",
       "      <td>0.75</td>\n",
       "      <td>2.08</td>\n",
       "      <td>2.40</td>\n",
       "      <td>2.02</td>\n",
       "      <td>1.33</td>\n",
       "      <td>0.32</td>\n",
       "      <td>-0.38</td>\n",
       "    </tr>\n",
       "    <tr>\n",
       "      <th>5</th>\n",
       "      <td>0</td>\n",
       "      <td>2578</td>\n",
       "      <td>Beck-Snyder</td>\n",
       "      <td>71623.20</td>\n",
       "      <td>2.33</td>\n",
       "      <td>0.66</td>\n",
       "      <td>1.97</td>\n",
       "      <td>1.60</td>\n",
       "      <td>-1.67</td>\n",
       "      <td>1.31</td>\n",
       "      <td>-0.37</td>\n",
       "    </tr>\n",
       "  </tbody>\n",
       "</table>\n",
       "</div>"
      ],
      "text/plain": [
       "    churned  customer_code                        co_name  total_spend  \\\n",
       "id                                                                       \n",
       "1         0           1826  Hoffman Martinez and Chandler     68567.34   \n",
       "2         0            772         Lee Martin and Escobar     74335.27   \n",
       "3         0            479       Hobbs Mcdaniel and Baker     48746.22   \n",
       "4         0           1692                Williams-Harris     64416.70   \n",
       "5         0           2578                    Beck-Snyder     71623.20   \n",
       "\n",
       "    week_minus_4  week_minus_3  week_minus_2  last_week  4-3_delta  3-2_delta  \\\n",
       "id                                                                              \n",
       "1           0.81          0.02          0.74       1.45      -0.79       0.72   \n",
       "2           1.87          1.02          1.29       1.19      -0.85       0.27   \n",
       "3           1.21          0.70          1.04       2.12      -0.51       0.34   \n",
       "4           0.75          2.08          2.40       2.02       1.33       0.32   \n",
       "5           2.33          0.66          1.97       1.60      -1.67       1.31   \n",
       "\n",
       "    2-1_delta  \n",
       "id             \n",
       "1        0.71  \n",
       "2       -0.10  \n",
       "3        1.08  \n",
       "4       -0.38  \n",
       "5       -0.37  "
      ]
     },
     "execution_count": 2,
     "metadata": {},
     "output_type": "execute_result"
    }
   ],
   "source": [
    "# load the data\n",
    "url = 'https://raw.githubusercontent.com/um-perez-alvaro/Data-Science-Practice/master/Data/churn_data.csv'\n",
    "data = pd.read_csv(url, index_col = 'id')\n",
    "data.head()"
   ]
  },
  {
   "cell_type": "markdown",
   "metadata": {},
   "source": [
    "**Data Description**\n",
    "\n",
    "\n",
    "| Feature | Description |\n",
    "| :- | -: |\n",
    "| churned | whether the custumer churned (1) or not (0) |\n",
    "| customer_code | unique customer identification code |\n",
    "| co_name | company name |\n",
    "| total_spend | the sum of the total spent over the year | \n",
    "| week_minus_4 <br> week_minus_3 <br> week_minus_2 <br> last_week | weekly spend as a percentage of the average spend |\n",
    "| 4-3_delta <br> 3-2_delta <br> 2-1_delta | weekly change relative to the average spend |"
   ]
  },
  {
   "cell_type": "markdown",
   "metadata": {},
   "source": [
    "For example, in week_minus_3, Hoffman Martinez and Chandler "
   ]
  },
  {
   "cell_type": "code",
   "execution_count": 3,
   "metadata": {},
   "outputs": [
    {
     "data": {
      "text/html": [
       "<div>\n",
       "<style scoped>\n",
       "    .dataframe tbody tr th:only-of-type {\n",
       "        vertical-align: middle;\n",
       "    }\n",
       "\n",
       "    .dataframe tbody tr th {\n",
       "        vertical-align: top;\n",
       "    }\n",
       "\n",
       "    .dataframe thead th {\n",
       "        text-align: right;\n",
       "    }\n",
       "</style>\n",
       "<table border=\"1\" class=\"dataframe\">\n",
       "  <thead>\n",
       "    <tr style=\"text-align: right;\">\n",
       "      <th></th>\n",
       "      <th>churned</th>\n",
       "      <th>customer_code</th>\n",
       "      <th>co_name</th>\n",
       "      <th>total_spend</th>\n",
       "      <th>week_minus_4</th>\n",
       "      <th>week_minus_3</th>\n",
       "      <th>week_minus_2</th>\n",
       "      <th>last_week</th>\n",
       "      <th>4-3_delta</th>\n",
       "      <th>3-2_delta</th>\n",
       "      <th>2-1_delta</th>\n",
       "    </tr>\n",
       "    <tr>\n",
       "      <th>id</th>\n",
       "      <th></th>\n",
       "      <th></th>\n",
       "      <th></th>\n",
       "      <th></th>\n",
       "      <th></th>\n",
       "      <th></th>\n",
       "      <th></th>\n",
       "      <th></th>\n",
       "      <th></th>\n",
       "      <th></th>\n",
       "      <th></th>\n",
       "    </tr>\n",
       "  </thead>\n",
       "  <tbody>\n",
       "    <tr>\n",
       "      <th>1</th>\n",
       "      <td>0</td>\n",
       "      <td>1826</td>\n",
       "      <td>Hoffman Martinez and Chandler</td>\n",
       "      <td>68567.34</td>\n",
       "      <td>0.81</td>\n",
       "      <td>0.02</td>\n",
       "      <td>0.74</td>\n",
       "      <td>1.45</td>\n",
       "      <td>-0.79</td>\n",
       "      <td>0.72</td>\n",
       "      <td>0.71</td>\n",
       "    </tr>\n",
       "  </tbody>\n",
       "</table>\n",
       "</div>"
      ],
      "text/plain": [
       "    churned  customer_code                        co_name  total_spend  \\\n",
       "id                                                                       \n",
       "1         0           1826  Hoffman Martinez and Chandler     68567.34   \n",
       "\n",
       "    week_minus_4  week_minus_3  week_minus_2  last_week  4-3_delta  3-2_delta  \\\n",
       "id                                                                              \n",
       "1           0.81          0.02          0.74       1.45      -0.79       0.72   \n",
       "\n",
       "    2-1_delta  \n",
       "id             \n",
       "1        0.71  "
      ]
     },
     "execution_count": 3,
     "metadata": {},
     "output_type": "execute_result"
    }
   ],
   "source": [
    "data.head(1)"
   ]
  },
  {
   "cell_type": "markdown",
   "metadata": {},
   "source": [
    "has sales that are 0.02 times their average week.\n",
    "In week_minus_4, their sales are 0.81 times their average sales. \n",
    "This means that their weekly sales decrease by 0.79 of their normal sales from week_minus_4 to week_minus_3.\n",
    "This is shown by a -0.79 in the the 4-3_delta column."
   ]
  },
  {
   "cell_type": "markdown",
   "metadata": {},
   "source": [
    "The are 2999 customers"
   ]
  },
  {
   "cell_type": "code",
   "execution_count": 4,
   "metadata": {
    "scrolled": true
   },
   "outputs": [
    {
     "data": {
      "text/plain": [
       "2999"
      ]
     },
     "execution_count": 4,
     "metadata": {},
     "output_type": "execute_result"
    }
   ],
   "source": [
    "len(data)"
   ]
  },
  {
   "cell_type": "markdown",
   "metadata": {},
   "source": [
    "We have an imbalanced dataset (most customers did not churn)"
   ]
  },
  {
   "cell_type": "code",
   "execution_count": 5,
   "metadata": {},
   "outputs": [
    {
     "data": {
      "text/plain": [
       "0    2833\n",
       "1     166\n",
       "Name: churned, dtype: int64"
      ]
     },
     "execution_count": 5,
     "metadata": {},
     "output_type": "execute_result"
    }
   ],
   "source": [
    "# number of customers that churned\n",
    "data.churned.value_counts()"
   ]
  },
  {
   "cell_type": "markdown",
   "metadata": {},
   "source": [
    "The **goal** is to build a classification pipeline that predicts whether a customer will churn or not based on the columns `total_spend`, `week_minus_4`, `week_minus_3`, `week_minus_2`, `last_week`, `4-3_delta`, `3-2_delta`, and `2-1_delta`"
   ]
  },
  {
   "cell_type": "markdown",
   "metadata": {},
   "source": [
    "**Part 1:** Define X and y from the DataFrame, and then split X and y into training and testing sets."
   ]
  },
  {
   "cell_type": "code",
   "execution_count": 6,
   "metadata": {},
   "outputs": [],
   "source": [
    "X= data.drop(['churned','customer_code','co_name'],axis=1)\n",
    "y=data.churned"
   ]
  },
  {
   "cell_type": "code",
   "execution_count": 7,
   "metadata": {},
   "outputs": [],
   "source": [
    "x_train,x_test,y_train,y_test=train_test_split(X,y)"
   ]
  },
  {
   "cell_type": "markdown",
   "metadata": {},
   "source": [
    "**Part 2:**  build a  random forest classifier"
   ]
  },
  {
   "cell_type": "code",
   "execution_count": 8,
   "metadata": {},
   "outputs": [],
   "source": [
    "forest=RandomForestClassifier()"
   ]
  },
  {
   "cell_type": "markdown",
   "metadata": {},
   "source": [
    "**Part 3:** use a grid search to tune the random forest hyperparameters (Use **recall** as the model evaluation metric)"
   ]
  },
  {
   "cell_type": "markdown",
   "metadata": {},
   "source": [
    "**Remark:** Many scikit-learn [classification models](https://www.google.com/search?q=random+forest+classifier+sklearn&rlz=1C1CHBF_enUS767US767&oq=random+forest+class&aqs=chrome.2.0i433i512j69i57j0i512l4j69i60l2.5119j0j9&sourceid=chrome&ie=UTF-8) have a `class_weight` hyperparameter.\n",
    "Setting `class_weight= 'balanced'` places more emphasis on the minority class."
   ]
  },
  {
   "cell_type": "code",
   "execution_count": 9,
   "metadata": {},
   "outputs": [],
   "source": [
    "param_dic ={'max_depth':[2,5,10,20],\n",
    "            'min_samples_split':[16,32,64,128],\n",
    "            'min_samples_leaf':[16,32,64,128],\n",
    "            'class_weight':['balanced', 'balanced_subsample']}"
   ]
  },
  {
   "cell_type": "code",
   "execution_count": 10,
   "metadata": {},
   "outputs": [],
   "source": [
    "grid=GridSearchCV(forest,\n",
    "                  param_dic,\n",
    "                  cv=10,\n",
    "                  scoring='recall',\n",
    "                  n_jobs=-1,verbose=1)"
   ]
  },
  {
   "cell_type": "code",
   "execution_count": 11,
   "metadata": {},
   "outputs": [
    {
     "name": "stdout",
     "output_type": "stream",
     "text": [
      "Fitting 10 folds for each of 128 candidates, totalling 1280 fits\n"
     ]
    },
    {
     "data": {
      "text/plain": [
       "{'class_weight': 'balanced_subsample',\n",
       " 'max_depth': 5,\n",
       " 'min_samples_leaf': 64,\n",
       " 'min_samples_split': 64}"
      ]
     },
     "execution_count": 11,
     "metadata": {},
     "output_type": "execute_result"
    }
   ],
   "source": [
    "grid.fit(x_train,y_train)\n",
    "grid.best_params_"
   ]
  },
  {
   "cell_type": "code",
   "execution_count": 12,
   "metadata": {},
   "outputs": [],
   "source": [
    "best_tree=grid.best_estimator_"
   ]
  },
  {
   "cell_type": "code",
   "execution_count": 13,
   "metadata": {},
   "outputs": [],
   "source": [
    "y_test_pred=best_tree.predict(x_test)"
   ]
  },
  {
   "cell_type": "markdown",
   "metadata": {},
   "source": [
    "**Part 4:** evaluate the performance of your classification pipeline on the test set"
   ]
  },
  {
   "cell_type": "code",
   "execution_count": 14,
   "metadata": {},
   "outputs": [
    {
     "data": {
      "text/plain": [
       "array([[661,  52],\n",
       "       [  0,  37]], dtype=int64)"
      ]
     },
     "execution_count": 14,
     "metadata": {},
     "output_type": "execute_result"
    }
   ],
   "source": [
    "# confusion matrix\n",
    "confusion_matrix(y_test,y_test_pred)"
   ]
  },
  {
   "cell_type": "code",
   "execution_count": 15,
   "metadata": {},
   "outputs": [
    {
     "data": {
      "text/plain": [
       "0.9306666666666666"
      ]
     },
     "execution_count": 15,
     "metadata": {},
     "output_type": "execute_result"
    }
   ],
   "source": [
    "# accuracy score\n",
    "accuracy_score(y_test,y_test_pred)"
   ]
  },
  {
   "cell_type": "code",
   "execution_count": 16,
   "metadata": {},
   "outputs": [
    {
     "data": {
      "text/plain": [
       "1.0"
      ]
     },
     "execution_count": 16,
     "metadata": {},
     "output_type": "execute_result"
    }
   ],
   "source": [
    "# recall\n",
    "recall_score(y_test,y_test_pred)"
   ]
  },
  {
   "cell_type": "markdown",
   "metadata": {},
   "source": [
    "**Part 5:** Use the `feature_importances_` method to plot the estimated importance of each feature."
   ]
  },
  {
   "cell_type": "code",
   "execution_count": 17,
   "metadata": {},
   "outputs": [
    {
     "data": {
      "text/plain": [
       "<AxesSubplot:>"
      ]
     },
     "execution_count": 17,
     "metadata": {},
     "output_type": "execute_result"
    },
    {
     "data": {
      "image/png": "[encoded data removed]",
      "text/plain": [
       "<Figure size 432x288 with 1 Axes>"
      ]
     },
     "metadata": {
      "needs_background": "light"
     },
     "output_type": "display_data"
    }
   ],
   "source": [
    "pd.DataFrame(data=best_tree.feature_importances_,\n",
    "            index=X.columns,\n",
    "            columns=['feature importance']).plot.barh()"
   ]
  }
 ],
 "metadata": {
  "kernelspec": {
   "display_name": "Python 3 (ipykernel)",
   "language": "python",
   "name": "python3"
  },
  "language_info": {
   "codemirror_mode": {
    "name": "ipython",
    "version": 3
   },
   "file_extension": ".py",
   "mimetype": "text/x-python",
   "name": "python",
   "nbconvert_exporter": "python",
   "pygments_lexer": "ipython3",
   "version": "3.9.7"
  },
  "notice": "Copyright 2017 Amazon.com, Inc. or its affiliates. All Rights Reserved.  Licensed under the Apache License, Version 2.0 (the \"License\"). You may not use this file except in compliance with the License. A copy of the License is located at http://aws.amazon.com/apache2.0/ or in the \"license\" file accompanying this file. This file is distributed on an \"AS IS\" BASIS, WITHOUT WARRANTIES OR CONDITIONS OF ANY KIND, either express or implied. See the License for the specific language governing permissions and limitations under the License."
 },
 "nbformat": 4,
 "nbformat_minor": 2
}
