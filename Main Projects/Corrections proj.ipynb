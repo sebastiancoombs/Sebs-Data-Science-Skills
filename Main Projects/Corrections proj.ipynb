{
 "cells": [
  {
   "cell_type": "code",
   "execution_count": 1,
   "id": "6c7bae70",
   "metadata": {},
   "outputs": [],
   "source": [
    "import pandas as pd\n",
    "import numpy as np\n",
    "import sklearn as sk\n",
    "import matplotlib.pyplot as plt\n",
    "from zipfile import ZipFile\n",
    "from urllib.request import urlopen\n",
    "import os\n"
   ]
  },
  {
   "cell_type": "code",
   "execution_count": 5,
   "id": "9f4bd440",
   "metadata": {},
   "outputs": [
    {
     "ename": "FileNotFoundError",
     "evalue": "[WinError 2] The system cannot find the file specified: 'MT_COR_Database.xlsx'",
     "output_type": "error",
     "traceback": [
      "\u001b[1;31m---------------------------------------------------------------------------\u001b[0m",
      "\u001b[1;31mFileNotFoundError\u001b[0m                         Traceback (most recent call last)",
      "\u001b[1;32m~\\AppData\\Local\\Temp/ipykernel_22732/318225260.py\u001b[0m in \u001b[0;36m<module>\u001b[1;34m\u001b[0m\n\u001b[1;32m----> 1\u001b[1;33m \u001b[0mos\u001b[0m\u001b[1;33m.\u001b[0m\u001b[0mremove\u001b[0m\u001b[1;33m(\u001b[0m\u001b[1;34m\"MT_COR_Database.xlsx\"\u001b[0m\u001b[1;33m)\u001b[0m\u001b[1;33m\u001b[0m\u001b[1;33m\u001b[0m\u001b[0m\n\u001b[0m",
      "\u001b[1;31mFileNotFoundError\u001b[0m: [WinError 2] The system cannot find the file specified: 'MT_COR_Database.xlsx'"
     ]
    }
   ],
   "source": [
    "os.remove(\"MT_COR_Database.xlsx\")"
   ]
  },
  {
   "cell_type": "code",
   "execution_count": 8,
   "id": "164e2912",
   "metadata": {},
   "outputs": [
    {
     "name": "stderr",
     "output_type": "stream",
     "text": [
      "C:\\Users\\sebas\\AppData\\Local\\Temp/ipykernel_22732/2373981850.py:8: DeprecationWarning: use options instead of chrome_options\n",
      "  driver = webdriver.Chrome(chrome_options=chrome_options)\n",
      "C:\\Users\\sebas\\AppData\\Local\\Temp/ipykernel_22732/2373981850.py:15: DeprecationWarning: find_element_by_xpath is deprecated. Please use find_element(by=By.XPATH, value=xpath) instead\n",
      "  driver.find_element_by_xpath('//*[@id=\"root\"]/div/button').click()\n"
     ]
    }
   ],
   "source": [
    "from selenium import webdriver\n",
    "import webbrowser\n",
    "import time\n",
    "\n",
    "chrome_options = webdriver.ChromeOptions()\n",
    "prefs = {'download.default_directory' : 'C:\\\\Users\\sebas\\School_stuff\\DS Projects\\Emily Proj'}\n",
    "chrome_options.add_experimental_option('prefs', prefs)\n",
    "driver = webdriver.Chrome(chrome_options=chrome_options)\n",
    "\n",
    "driver.get(\"https://dataportal.mt.gov/t/COR/views/PublicDatabaseDownload_16243742104110/Download?:showAppBanner=false&:display_count=n&:showVizHome=n&:origin=viz_share_link&%3AisGuestRedirectFromVizportal=y&%3Aembed=y\")\n",
    "\n",
    "time.sleep(45)\n",
    "# Obtain button by Xpath and click.\n",
    "driver.switch_to.frame(0)\n",
    "driver.find_element_by_xpath('//*[@id=\"root\"]/div/button').click()\n",
    "time.sleep(30)\n",
    "driver.close()"
   ]
  },
  {
   "cell_type": "code",
   "execution_count": 9,
   "id": "040cc300",
   "metadata": {},
   "outputs": [],
   "source": [
    "data=pd.read_excel('MT_COR_Database.xlsx',sheet_name=['Offender Demographics','Offender Names','Offender Legal'])"
   ]
  },
  {
   "cell_type": "code",
   "execution_count": 10,
   "id": "f042357e",
   "metadata": {},
   "outputs": [],
   "source": [
    "demo=data['Offender Demographics']\n",
    "names=data['Offender Names']\n",
    "legal=data['Offender Legal']"
   ]
  },
  {
   "cell_type": "code",
   "execution_count": 11,
   "id": "fa83effd",
   "metadata": {},
   "outputs": [
    {
     "data": {
      "text/plain": [
       "Index(['DOC_ID', 'SEX', 'RACE', 'BIRTH_YEAR', 'BIRTH_STATE', 'CITIZENSHIP',\n",
       "       'HEIGHT', 'WEIGHT', 'HANDEDNESS', 'HAIR_COLOR', 'BUILD', 'SKIN_TONE',\n",
       "       'EYE_COLOR', 'CORRECTIONAL_STATUS', 'STATUS_START_DATE',\n",
       "       'LOCATION_NAME', 'LOCATION_ADDRESS', 'LOCATION_PHONE',\n",
       "       'MONTANA_RESIDENT', 'PROJECTED_DOC_EXPIRATION', 'LAST_UPDATED_x',\n",
       "       'DOCKET', 'COUNTS', 'LEGAL_TYPE', 'OFFENSE_CODE',\n",
       "       'TOTAL_SENTENCED_MONTHS', 'SENTENCE_TYPE', 'OFFENSE', 'JUDGE', 'COUNTY',\n",
       "       'OFFENSE_DATE', 'PRONOUNCEMENT_DATE', 'LAST_UPDATED_y'],\n",
       "      dtype='object')"
      ]
     },
     "execution_count": 11,
     "metadata": {},
     "output_type": "execute_result"
    }
   ],
   "source": [
    "demo_v_legal = pd.merge(demo, legal, on='DOC_ID')\n",
    "demo_v_legal.columns"
   ]
  },
  {
   "cell_type": "code",
   "execution_count": 12,
   "id": "e17bd001",
   "metadata": {},
   "outputs": [
    {
     "data": {
      "text/html": [
       "<div>\n",
       "<style scoped>\n",
       "    .dataframe tbody tr th:only-of-type {\n",
       "        vertical-align: middle;\n",
       "    }\n",
       "\n",
       "    .dataframe tbody tr th {\n",
       "        vertical-align: top;\n",
       "    }\n",
       "\n",
       "    .dataframe thead th {\n",
       "        text-align: right;\n",
       "    }\n",
       "</style>\n",
       "<table border=\"1\" class=\"dataframe\">\n",
       "  <thead>\n",
       "    <tr style=\"text-align: right;\">\n",
       "      <th></th>\n",
       "      <th>DOC_ID</th>\n",
       "      <th>SEX</th>\n",
       "      <th>RACE</th>\n",
       "      <th>BIRTH_YEAR</th>\n",
       "      <th>BIRTH_STATE</th>\n",
       "      <th>CITIZENSHIP</th>\n",
       "      <th>HEIGHT</th>\n",
       "      <th>WEIGHT</th>\n",
       "      <th>HANDEDNESS</th>\n",
       "      <th>HAIR_COLOR</th>\n",
       "      <th>...</th>\n",
       "      <th>LEGAL_TYPE</th>\n",
       "      <th>OFFENSE_CODE</th>\n",
       "      <th>TOTAL_SENTENCED_MONTHS</th>\n",
       "      <th>SENTENCE_TYPE</th>\n",
       "      <th>OFFENSE</th>\n",
       "      <th>JUDGE</th>\n",
       "      <th>COUNTY</th>\n",
       "      <th>OFFENSE_DATE</th>\n",
       "      <th>PRONOUNCEMENT_DATE</th>\n",
       "      <th>LAST_UPDATED_y</th>\n",
       "    </tr>\n",
       "  </thead>\n",
       "  <tbody>\n",
       "    <tr>\n",
       "      <th>0</th>\n",
       "      <td>10004</td>\n",
       "      <td>M</td>\n",
       "      <td>White</td>\n",
       "      <td>1957</td>\n",
       "      <td>Montana</td>\n",
       "      <td>United States</td>\n",
       "      <td>5 FT 10 IN</td>\n",
       "      <td>150</td>\n",
       "      <td>RIGHT</td>\n",
       "      <td>Brown</td>\n",
       "      <td>...</td>\n",
       "      <td>Original Sentence</td>\n",
       "      <td>618731</td>\n",
       "      <td>60.0</td>\n",
       "      <td>DOC Commit None Suspended</td>\n",
       "      <td>DUI-Excess Alc Conc-4th or Subseq Off</td>\n",
       "      <td>Rieger</td>\n",
       "      <td>Dawson</td>\n",
       "      <td>12/19/2017</td>\n",
       "      <td>5/15/2018</td>\n",
       "      <td>5/6/2022 12:26:51 AM</td>\n",
       "    </tr>\n",
       "    <tr>\n",
       "      <th>1</th>\n",
       "      <td>10004</td>\n",
       "      <td>M</td>\n",
       "      <td>White</td>\n",
       "      <td>1957</td>\n",
       "      <td>Montana</td>\n",
       "      <td>United States</td>\n",
       "      <td>5 FT 10 IN</td>\n",
       "      <td>150</td>\n",
       "      <td>RIGHT</td>\n",
       "      <td>Brown</td>\n",
       "      <td>...</td>\n",
       "      <td>Original Sentence</td>\n",
       "      <td>459103</td>\n",
       "      <td>60.0</td>\n",
       "      <td>MSP/MWP All Suspended</td>\n",
       "      <td>Criminal Possession with Intent to Distribute</td>\n",
       "      <td>Cox</td>\n",
       "      <td>Dawson</td>\n",
       "      <td>3/20/1997</td>\n",
       "      <td>12/15/1997</td>\n",
       "      <td>5/6/2022 12:27:11 AM</td>\n",
       "    </tr>\n",
       "    <tr>\n",
       "      <th>2</th>\n",
       "      <td>10004</td>\n",
       "      <td>M</td>\n",
       "      <td>White</td>\n",
       "      <td>1957</td>\n",
       "      <td>Montana</td>\n",
       "      <td>United States</td>\n",
       "      <td>5 FT 10 IN</td>\n",
       "      <td>150</td>\n",
       "      <td>RIGHT</td>\n",
       "      <td>Brown</td>\n",
       "      <td>...</td>\n",
       "      <td>Probation Violation Sentence</td>\n",
       "      <td>455503</td>\n",
       "      <td>120.0</td>\n",
       "      <td>MSP/MWP None Suspended</td>\n",
       "      <td>Sexual Intercourse without Consent</td>\n",
       "      <td>Mc Donough  Rc</td>\n",
       "      <td>Dawson</td>\n",
       "      <td>1/5/1987</td>\n",
       "      <td>2/10/1987</td>\n",
       "      <td>5/6/2022 12:27:12 AM</td>\n",
       "    </tr>\n",
       "    <tr>\n",
       "      <th>3</th>\n",
       "      <td>10004</td>\n",
       "      <td>M</td>\n",
       "      <td>White</td>\n",
       "      <td>1957</td>\n",
       "      <td>Montana</td>\n",
       "      <td>United States</td>\n",
       "      <td>5 FT 10 IN</td>\n",
       "      <td>150</td>\n",
       "      <td>RIGHT</td>\n",
       "      <td>Brown</td>\n",
       "      <td>...</td>\n",
       "      <td>Probation Violation Sentence</td>\n",
       "      <td>618731</td>\n",
       "      <td>60.0</td>\n",
       "      <td>MSP/MWP None Suspended</td>\n",
       "      <td>DUI-Excess Alc Conc-4th or Subseq Off</td>\n",
       "      <td>Simonton</td>\n",
       "      <td>Dawson</td>\n",
       "      <td>11/19/2002</td>\n",
       "      <td>6/21/2004</td>\n",
       "      <td>5/6/2022 12:27:09 AM</td>\n",
       "    </tr>\n",
       "    <tr>\n",
       "      <th>4</th>\n",
       "      <td>10004</td>\n",
       "      <td>M</td>\n",
       "      <td>White</td>\n",
       "      <td>1957</td>\n",
       "      <td>Montana</td>\n",
       "      <td>United States</td>\n",
       "      <td>5 FT 10 IN</td>\n",
       "      <td>150</td>\n",
       "      <td>RIGHT</td>\n",
       "      <td>Brown</td>\n",
       "      <td>...</td>\n",
       "      <td>Probation Violation Sentence</td>\n",
       "      <td>459101</td>\n",
       "      <td>120.0</td>\n",
       "      <td>DOC Commit None Suspended</td>\n",
       "      <td>Criminal Distribution of Dangerous Drugs</td>\n",
       "      <td>Day</td>\n",
       "      <td>Custer</td>\n",
       "      <td>2/11/2010</td>\n",
       "      <td>2/26/2016</td>\n",
       "      <td>5/6/2022 12:26:57 AM</td>\n",
       "    </tr>\n",
       "  </tbody>\n",
       "</table>\n",
       "<p>5 rows × 33 columns</p>\n",
       "</div>"
      ],
      "text/plain": [
       "   DOC_ID SEX   RACE  BIRTH_YEAR BIRTH_STATE    CITIZENSHIP      HEIGHT  \\\n",
       "0   10004   M  White        1957     Montana  United States  5 FT 10 IN   \n",
       "1   10004   M  White        1957     Montana  United States  5 FT 10 IN   \n",
       "2   10004   M  White        1957     Montana  United States  5 FT 10 IN   \n",
       "3   10004   M  White        1957     Montana  United States  5 FT 10 IN   \n",
       "4   10004   M  White        1957     Montana  United States  5 FT 10 IN   \n",
       "\n",
       "   WEIGHT HANDEDNESS HAIR_COLOR  ...                    LEGAL_TYPE  \\\n",
       "0     150      RIGHT      Brown  ...             Original Sentence   \n",
       "1     150      RIGHT      Brown  ...             Original Sentence   \n",
       "2     150      RIGHT      Brown  ...  Probation Violation Sentence   \n",
       "3     150      RIGHT      Brown  ...  Probation Violation Sentence   \n",
       "4     150      RIGHT      Brown  ...  Probation Violation Sentence   \n",
       "\n",
       "  OFFENSE_CODE TOTAL_SENTENCED_MONTHS              SENTENCE_TYPE  \\\n",
       "0       618731                   60.0  DOC Commit None Suspended   \n",
       "1       459103                   60.0      MSP/MWP All Suspended   \n",
       "2       455503                  120.0     MSP/MWP None Suspended   \n",
       "3       618731                   60.0     MSP/MWP None Suspended   \n",
       "4       459101                  120.0  DOC Commit None Suspended   \n",
       "\n",
       "                                         OFFENSE           JUDGE  COUNTY  \\\n",
       "0          DUI-Excess Alc Conc-4th or Subseq Off          Rieger  Dawson   \n",
       "1  Criminal Possession with Intent to Distribute             Cox  Dawson   \n",
       "2             Sexual Intercourse without Consent  Mc Donough  Rc  Dawson   \n",
       "3          DUI-Excess Alc Conc-4th or Subseq Off        Simonton  Dawson   \n",
       "4       Criminal Distribution of Dangerous Drugs             Day  Custer   \n",
       "\n",
       "   OFFENSE_DATE PRONOUNCEMENT_DATE        LAST_UPDATED_y  \n",
       "0    12/19/2017          5/15/2018  5/6/2022 12:26:51 AM  \n",
       "1     3/20/1997         12/15/1997  5/6/2022 12:27:11 AM  \n",
       "2      1/5/1987          2/10/1987  5/6/2022 12:27:12 AM  \n",
       "3    11/19/2002          6/21/2004  5/6/2022 12:27:09 AM  \n",
       "4     2/11/2010          2/26/2016  5/6/2022 12:26:57 AM  \n",
       "\n",
       "[5 rows x 33 columns]"
      ]
     },
     "execution_count": 12,
     "metadata": {},
     "output_type": "execute_result"
    }
   ],
   "source": [
    "demo_v_legal.head()"
   ]
  },
  {
   "cell_type": "code",
   "execution_count": 13,
   "id": "7bdc1df0",
   "metadata": {},
   "outputs": [],
   "source": [
    "clean_data=demo_v_legal.drop(['BUILD',\n",
    "                              'STATUS_START_DATE',\n",
    "                              'DOC_ID',\n",
    "                              'HEIGHT',\n",
    "                              'WEIGHT',\n",
    "                              'LOCATION_NAME',\n",
    "                              'DOCKET',\n",
    "                              'BIRTH_STATE',\n",
    "                              'HANDEDNESS',\n",
    "                              'HAIR_COLOR',\n",
    "                              'SKIN_TONE',\n",
    "                              'EYE_COLOR',\n",
    "                              'LOCATION_ADDRESS',\n",
    "                              'LOCATION_PHONE',\n",
    "                              'PROJECTED_DOC_EXPIRATION',\n",
    "                              'LAST_UPDATED_x',\n",
    "                              'LAST_UPDATED_y'], axis=1)"
   ]
  },
  {
   "cell_type": "code",
   "execution_count": 14,
   "id": "aad1f804",
   "metadata": {},
   "outputs": [],
   "source": [
    "from sklearn.linear_model import Ridge\n",
    "from sklearn.preprocessing import PolynomialFeatures,MinMaxScaler, OneHotEncoder\n",
    "from sklearn.compose import ColumnTransformer\n",
    "from sklearn.pipeline import Pipeline\n",
    "from sklearn import set_config\n",
    "from sklearn.ensemble import RandomForestRegressor \n",
    "set_config(display='diagram')"
   ]
  },
  {
   "cell_type": "code",
   "execution_count": 15,
   "id": "6a161d36",
   "metadata": {},
   "outputs": [],
   "source": [
    "clean_data['AGE']= 2022-clean_data.BIRTH_YEAR\n",
    "clean_data['AGE']\n",
    "clean_data.drop('BIRTH_YEAR',axis=1,inplace=True)\n",
    "clean_data.OFFENSE_DATE=pd.to_datetime(clean_data.OFFENSE_DATE,errors='coerce').dropna()\n",
    "clean_data.PRONOUNCEMENT_DATE=pd.to_datetime(clean_data.PRONOUNCEMENT_DATE,errors='coerce').dropna()\n",
    "clean_data=clean_data[clean_data.OFFENSE_DATE>'1960-01-01']\n",
    "#clean_data=clean_data.set_index('OFFENSE_DATE').sort_index()#"
   ]
  },
  {
   "cell_type": "code",
   "execution_count": null,
   "id": "6be6da10",
   "metadata": {},
   "outputs": [],
   "source": []
  },
  {
   "cell_type": "code",
   "execution_count": 16,
   "id": "75f5b8bc",
   "metadata": {},
   "outputs": [
    {
     "data": {
      "text/plain": [
       "SEX                         0\n",
       "RACE                        0\n",
       "CITIZENSHIP                 0\n",
       "CORRECTIONAL_STATUS         0\n",
       "MONTANA_RESIDENT            0\n",
       "COUNTS                      0\n",
       "LEGAL_TYPE                  0\n",
       "OFFENSE_CODE                0\n",
       "TOTAL_SENTENCED_MONTHS    666\n",
       "SENTENCE_TYPE               0\n",
       "OFFENSE                     0\n",
       "JUDGE                       0\n",
       "COUNTY                      0\n",
       "OFFENSE_DATE                0\n",
       "PRONOUNCEMENT_DATE         64\n",
       "AGE                         0\n",
       "dtype: int64"
      ]
     },
     "execution_count": 16,
     "metadata": {},
     "output_type": "execute_result"
    }
   ],
   "source": [
    "clean_data.isna().sum()"
   ]
  },
  {
   "cell_type": "code",
   "execution_count": 17,
   "id": "f9704160",
   "metadata": {},
   "outputs": [],
   "source": [
    "clean_data=clean_data.dropna()"
   ]
  },
  {
   "cell_type": "code",
   "execution_count": 18,
   "id": "36f9212c",
   "metadata": {},
   "outputs": [
    {
     "data": {
      "text/plain": [
       "(39017, 16)"
      ]
     },
     "execution_count": 18,
     "metadata": {},
     "output_type": "execute_result"
    }
   ],
   "source": [
    "clean_data.shape"
   ]
  },
  {
   "cell_type": "code",
   "execution_count": 19,
   "id": "6c29b6f2",
   "metadata": {},
   "outputs": [
    {
     "data": {
      "text/html": [
       "<div>\n",
       "<style scoped>\n",
       "    .dataframe tbody tr th:only-of-type {\n",
       "        vertical-align: middle;\n",
       "    }\n",
       "\n",
       "    .dataframe tbody tr th {\n",
       "        vertical-align: top;\n",
       "    }\n",
       "\n",
       "    .dataframe thead th {\n",
       "        text-align: right;\n",
       "    }\n",
       "</style>\n",
       "<table border=\"1\" class=\"dataframe\">\n",
       "  <thead>\n",
       "    <tr style=\"text-align: right;\">\n",
       "      <th></th>\n",
       "      <th>SEX</th>\n",
       "      <th>RACE</th>\n",
       "      <th>CITIZENSHIP</th>\n",
       "      <th>CORRECTIONAL_STATUS</th>\n",
       "      <th>MONTANA_RESIDENT</th>\n",
       "      <th>COUNTS</th>\n",
       "      <th>LEGAL_TYPE</th>\n",
       "      <th>OFFENSE_CODE</th>\n",
       "      <th>TOTAL_SENTENCED_MONTHS</th>\n",
       "      <th>SENTENCE_TYPE</th>\n",
       "      <th>OFFENSE</th>\n",
       "      <th>JUDGE</th>\n",
       "      <th>COUNTY</th>\n",
       "      <th>OFFENSE_DATE</th>\n",
       "      <th>PRONOUNCEMENT_DATE</th>\n",
       "      <th>AGE</th>\n",
       "    </tr>\n",
       "  </thead>\n",
       "  <tbody>\n",
       "    <tr>\n",
       "      <th>0</th>\n",
       "      <td>M</td>\n",
       "      <td>White</td>\n",
       "      <td>United States</td>\n",
       "      <td>Conditional Release</td>\n",
       "      <td>Y</td>\n",
       "      <td>1</td>\n",
       "      <td>Original Sentence</td>\n",
       "      <td>618731</td>\n",
       "      <td>60.0</td>\n",
       "      <td>DOC Commit None Suspended</td>\n",
       "      <td>DUI-Excess Alc Conc-4th or Subseq Off</td>\n",
       "      <td>Rieger</td>\n",
       "      <td>Dawson</td>\n",
       "      <td>2017-12-19</td>\n",
       "      <td>2018-05-15</td>\n",
       "      <td>65</td>\n",
       "    </tr>\n",
       "    <tr>\n",
       "      <th>1</th>\n",
       "      <td>M</td>\n",
       "      <td>White</td>\n",
       "      <td>United States</td>\n",
       "      <td>Conditional Release</td>\n",
       "      <td>Y</td>\n",
       "      <td>1</td>\n",
       "      <td>Original Sentence</td>\n",
       "      <td>459103</td>\n",
       "      <td>60.0</td>\n",
       "      <td>MSP/MWP All Suspended</td>\n",
       "      <td>Criminal Possession with Intent to Distribute</td>\n",
       "      <td>Cox</td>\n",
       "      <td>Dawson</td>\n",
       "      <td>1997-03-20</td>\n",
       "      <td>1997-12-15</td>\n",
       "      <td>65</td>\n",
       "    </tr>\n",
       "    <tr>\n",
       "      <th>2</th>\n",
       "      <td>M</td>\n",
       "      <td>White</td>\n",
       "      <td>United States</td>\n",
       "      <td>Conditional Release</td>\n",
       "      <td>Y</td>\n",
       "      <td>1</td>\n",
       "      <td>Probation Violation Sentence</td>\n",
       "      <td>455503</td>\n",
       "      <td>120.0</td>\n",
       "      <td>MSP/MWP None Suspended</td>\n",
       "      <td>Sexual Intercourse without Consent</td>\n",
       "      <td>Mc Donough  Rc</td>\n",
       "      <td>Dawson</td>\n",
       "      <td>1987-01-05</td>\n",
       "      <td>1987-02-10</td>\n",
       "      <td>65</td>\n",
       "    </tr>\n",
       "    <tr>\n",
       "      <th>3</th>\n",
       "      <td>M</td>\n",
       "      <td>White</td>\n",
       "      <td>United States</td>\n",
       "      <td>Conditional Release</td>\n",
       "      <td>Y</td>\n",
       "      <td>2</td>\n",
       "      <td>Probation Violation Sentence</td>\n",
       "      <td>618731</td>\n",
       "      <td>60.0</td>\n",
       "      <td>MSP/MWP None Suspended</td>\n",
       "      <td>DUI-Excess Alc Conc-4th or Subseq Off</td>\n",
       "      <td>Simonton</td>\n",
       "      <td>Dawson</td>\n",
       "      <td>2002-11-19</td>\n",
       "      <td>2004-06-21</td>\n",
       "      <td>65</td>\n",
       "    </tr>\n",
       "    <tr>\n",
       "      <th>4</th>\n",
       "      <td>M</td>\n",
       "      <td>White</td>\n",
       "      <td>United States</td>\n",
       "      <td>Conditional Release</td>\n",
       "      <td>Y</td>\n",
       "      <td>1</td>\n",
       "      <td>Probation Violation Sentence</td>\n",
       "      <td>459101</td>\n",
       "      <td>120.0</td>\n",
       "      <td>DOC Commit None Suspended</td>\n",
       "      <td>Criminal Distribution of Dangerous Drugs</td>\n",
       "      <td>Day</td>\n",
       "      <td>Custer</td>\n",
       "      <td>2010-02-11</td>\n",
       "      <td>2016-02-26</td>\n",
       "      <td>65</td>\n",
       "    </tr>\n",
       "  </tbody>\n",
       "</table>\n",
       "</div>"
      ],
      "text/plain": [
       "  SEX   RACE    CITIZENSHIP  CORRECTIONAL_STATUS MONTANA_RESIDENT  COUNTS  \\\n",
       "0   M  White  United States  Conditional Release                Y       1   \n",
       "1   M  White  United States  Conditional Release                Y       1   \n",
       "2   M  White  United States  Conditional Release                Y       1   \n",
       "3   M  White  United States  Conditional Release                Y       2   \n",
       "4   M  White  United States  Conditional Release                Y       1   \n",
       "\n",
       "                     LEGAL_TYPE OFFENSE_CODE  TOTAL_SENTENCED_MONTHS  \\\n",
       "0             Original Sentence       618731                    60.0   \n",
       "1             Original Sentence       459103                    60.0   \n",
       "2  Probation Violation Sentence       455503                   120.0   \n",
       "3  Probation Violation Sentence       618731                    60.0   \n",
       "4  Probation Violation Sentence       459101                   120.0   \n",
       "\n",
       "               SENTENCE_TYPE                                        OFFENSE  \\\n",
       "0  DOC Commit None Suspended          DUI-Excess Alc Conc-4th or Subseq Off   \n",
       "1      MSP/MWP All Suspended  Criminal Possession with Intent to Distribute   \n",
       "2     MSP/MWP None Suspended             Sexual Intercourse without Consent   \n",
       "3     MSP/MWP None Suspended          DUI-Excess Alc Conc-4th or Subseq Off   \n",
       "4  DOC Commit None Suspended       Criminal Distribution of Dangerous Drugs   \n",
       "\n",
       "            JUDGE  COUNTY OFFENSE_DATE PRONOUNCEMENT_DATE  AGE  \n",
       "0          Rieger  Dawson   2017-12-19         2018-05-15   65  \n",
       "1             Cox  Dawson   1997-03-20         1997-12-15   65  \n",
       "2  Mc Donough  Rc  Dawson   1987-01-05         1987-02-10   65  \n",
       "3        Simonton  Dawson   2002-11-19         2004-06-21   65  \n",
       "4             Day  Custer   2010-02-11         2016-02-26   65  "
      ]
     },
     "execution_count": 19,
     "metadata": {},
     "output_type": "execute_result"
    }
   ],
   "source": [
    "clean_data.head()\n"
   ]
  },
  {
   "cell_type": "code",
   "execution_count": 20,
   "id": "193464ca",
   "metadata": {},
   "outputs": [
    {
     "data": {
      "text/plain": [
       "11988.0     6\n",
       "3600.0      1\n",
       "2400.0      1\n",
       "2160.0      1\n",
       "1800.0     70\n",
       "           ..\n",
       "4.0         3\n",
       "3.0         6\n",
       "2.0         5\n",
       "1.0         3\n",
       "0.0        46\n",
       "Name: TOTAL_SENTENCED_MONTHS, Length: 179, dtype: int64"
      ]
     },
     "execution_count": 20,
     "metadata": {},
     "output_type": "execute_result"
    }
   ],
   "source": [
    "sentence_values=clean_data.TOTAL_SENTENCED_MONTHS.value_counts()\n",
    "sentence_values.sort_index(ascending=False)"
   ]
  },
  {
   "cell_type": "code",
   "execution_count": 21,
   "id": "d8d53a74",
   "metadata": {},
   "outputs": [
    {
     "data": {
      "text/plain": [
       "<matplotlib.collections.PathCollection at 0x1ddb0b8ff10>"
      ]
     },
     "execution_count": 21,
     "metadata": {},
     "output_type": "execute_result"
    },
    {
     "data": {
      "image/png": "[encoded data removed]",
      "text/plain": [
       "<Figure size 864x864 with 1 Axes>"
      ]
     },
     "metadata": {},
     "output_type": "display_data"
    }
   ],
   "source": [
    "plt.scatter(clean_data.OFFENSE_DATE,clean_data.TOTAL_SENTENCED_MONTHS)"
   ]
  },
  {
   "cell_type": "code",
   "execution_count": 22,
   "id": "edf05f3e",
   "metadata": {},
   "outputs": [],
   "source": [
    "clean_data=clean_data[clean_data.TOTAL_SENTENCED_MONTHS<3500]"
   ]
  },
  {
   "cell_type": "code",
   "execution_count": 23,
   "id": "7ba2028b",
   "metadata": {},
   "outputs": [
    {
     "data": {
      "text/plain": [
       "<matplotlib.collections.PathCollection at 0x1dda934aeb0>"
      ]
     },
     "execution_count": 23,
     "metadata": {},
     "output_type": "execute_result"
    },
    {
     "data": {
      "image/png": "[encoded data removed]",
      "text/plain": [
       "<Figure size 864x864 with 1 Axes>"
      ]
     },
     "metadata": {},
     "output_type": "display_data"
    }
   ],
   "source": [
    "plt.scatter(clean_data.OFFENSE_DATE,clean_data.TOTAL_SENTENCED_MONTHS)"
   ]
  },
  {
   "cell_type": "markdown",
   "id": "0a4845a4",
   "metadata": {},
   "source": [
    "Add current givenor feature and maybe normalize by population"
   ]
  },
  {
   "cell_type": "code",
   "execution_count": 24,
   "id": "469721e9",
   "metadata": {},
   "outputs": [
    {
     "data": {
      "text/plain": [
       "<AxesSubplot:>"
      ]
     },
     "execution_count": 24,
     "metadata": {},
     "output_type": "execute_result"
    },
    {
     "data": {
      "image/png": "[encoded data removed]",
      "text/plain": [
       "<Figure size 864x864 with 1 Axes>"
      ]
     },
     "metadata": {},
     "output_type": "display_data"
    }
   ],
   "source": [
    "clean_data.TOTAL_SENTENCED_MONTHS.hist(bins=100)"
   ]
  },
  {
   "cell_type": "code",
   "execution_count": 25,
   "id": "b5f182c8",
   "metadata": {},
   "outputs": [
    {
     "data": {
      "text/plain": [
       "<AxesSubplot:>"
      ]
     },
     "execution_count": 25,
     "metadata": {},
     "output_type": "execute_result"
    },
    {
     "data": {
      "image/png": "[encoded data removed]",
      "text/plain": [
       "<Figure size 864x864 with 1 Axes>"
      ]
     },
     "metadata": {},
     "output_type": "display_data"
    }
   ],
   "source": [
    "vis_data=clean_data[clean_data.TOTAL_SENTENCED_MONTHS<500]\n",
    "vis_data.TOTAL_SENTENCED_MONTHS.hist(bins=100)"
   ]
  },
  {
   "cell_type": "code",
   "execution_count": 26,
   "id": "c0bebbf1",
   "metadata": {},
   "outputs": [],
   "source": [
    "\n",
    "\n",
    "clean_data['Offense_Day']=clean_data.OFFENSE_DATE.dt.day\n",
    "clean_data['Offense_Day_Week']= clean_data.OFFENSE_DATE.dt.dayofweek\n",
    "clean_data['Offense_Month']=clean_data.OFFENSE_DATE.dt.month\n",
    "clean_data['Offense_Year']=clean_data.OFFENSE_DATE.dt.year\n",
    "\n",
    "clean_data['Sentence_Day']= clean_data.PRONOUNCEMENT_DATE.dt.day\n",
    "clean_data['Sentence_Day_of_Week']= clean_data.PRONOUNCEMENT_DATE.dt.dayofweek\n",
    "clean_data['Sentence_Month']=clean_data.PRONOUNCEMENT_DATE.dt.month\n",
    "clean_data['Sentence_Year']=clean_data.PRONOUNCEMENT_DATE.dt.year\n",
    "\n",
    "clean_data.set_index('OFFENSE_DATE')\n",
    "clean_data.drop('PRONOUNCEMENT_DATE',axis=1,inplace=True)"
   ]
  },
  {
   "cell_type": "code",
   "execution_count": 27,
   "id": "6966bf6f",
   "metadata": {},
   "outputs": [
    {
     "data": {
      "text/plain": [
       "Index(['SEX', 'RACE', 'CITIZENSHIP', 'CORRECTIONAL_STATUS', 'MONTANA_RESIDENT',\n",
       "       'COUNTS', 'LEGAL_TYPE', 'OFFENSE_CODE', 'TOTAL_SENTENCED_MONTHS',\n",
       "       'SENTENCE_TYPE', 'OFFENSE', 'JUDGE', 'COUNTY', 'OFFENSE_DATE', 'AGE',\n",
       "       'Offense_Day', 'Offense_Day_Week', 'Offense_Month', 'Offense_Year',\n",
       "       'Sentence_Day', 'Sentence_Day_of_Week', 'Sentence_Month',\n",
       "       'Sentence_Year'],\n",
       "      dtype='object')"
      ]
     },
     "execution_count": 27,
     "metadata": {},
     "output_type": "execute_result"
    }
   ],
   "source": [
    "clean_data.columns"
   ]
  },
  {
   "cell_type": "code",
   "execution_count": 28,
   "id": "2463153b",
   "metadata": {},
   "outputs": [],
   "source": [
    "clean_data.to_csv('clean_corrections.csv')"
   ]
  },
  {
   "cell_type": "code",
   "execution_count": 29,
   "id": "0ff3feb3",
   "metadata": {},
   "outputs": [],
   "source": [
    "y=clean_data.TOTAL_SENTENCED_MONTHS\n",
    "X=clean_data.drop('TOTAL_SENTENCED_MONTHS',axis=1)\n",
    "cat_features=['SEX',\n",
    "              'RACE',\n",
    "              'CITIZENSHIP',\n",
    "              'CORRECTIONAL_STATUS',\n",
    "              'MONTANA_RESIDENT',\n",
    "              'LEGAL_TYPE',\n",
    "              'OFFENSE_CODE',\n",
    "              'SENTENCE_TYPE',\n",
    "              'OFFENSE',\n",
    "              'JUDGE',\n",
    "              'COUNTY',\n",
    "              'Offense_Day',\n",
    "              'Offense_Day_Week',\n",
    "              'Offense_Month',\n",
    "              'Offense_Year',\n",
    "              'Sentence_Day',\n",
    "              'Sentence_Day_of_Week',\n",
    "              'Sentence_Month',\n",
    "              'Sentence_Year',\n",
    "             ]\n",
    "\n",
    "\n",
    "num_features=['AGE',\n",
    "              'COUNTS'\n",
    "             ]\n",
    "\n",
    "\n",
    "processor=ColumnTransformer(transformers=[\n",
    "    ('cat_processor',OneHotEncoder(handle_unknown='ignore'),cat_features),\n",
    "    ('num_processor',MinMaxScaler(),num_features),\n",
    "])\n",
    "\n",
    "pipe=Pipeline(steps=[\n",
    "    ('preprocessor',processor),\n",
    "    ('reg',RandomForestRegressor())\n",
    "])"
   ]
  },
  {
   "cell_type": "code",
   "execution_count": 30,
   "id": "03f4560b",
   "metadata": {},
   "outputs": [
    {
     "data": {
      "text/plain": [
       "(39010, 22)"
      ]
     },
     "execution_count": 30,
     "metadata": {},
     "output_type": "execute_result"
    }
   ],
   "source": [
    "features=X.columns\n",
    "X.shape"
   ]
  },
  {
   "cell_type": "code",
   "execution_count": 31,
   "id": "0ef59944",
   "metadata": {},
   "outputs": [],
   "source": [
    "from sklearn.model_selection import train_test_split\n",
    "x_train,x_test,y_train,y_test= train_test_split(X,y)"
   ]
  },
  {
   "cell_type": "code",
   "execution_count": null,
   "id": "11f0f760",
   "metadata": {},
   "outputs": [],
   "source": []
  },
  {
   "cell_type": "code",
   "execution_count": 32,
   "id": "0f9735aa",
   "metadata": {},
   "outputs": [],
   "source": [
    "xtrain, x_val, ytrain, y_val=train_test_split(x_train,y_train)"
   ]
  },
  {
   "cell_type": "code",
   "execution_count": 33,
   "id": "7e48af4a",
   "metadata": {},
   "outputs": [
    {
     "data": {
      "text/plain": [
       "(21942, 22)"
      ]
     },
     "execution_count": 33,
     "metadata": {},
     "output_type": "execute_result"
    }
   ],
   "source": [
    "xtrain.shape"
   ]
  },
  {
   "cell_type": "code",
   "execution_count": 34,
   "id": "39178143",
   "metadata": {},
   "outputs": [
    {
     "data": {
      "text/html": [
       "<style>#sk-96f58656-824a-4cba-b3bd-4e14406e7e4b {color: black;background-color: white;}#sk-96f58656-824a-4cba-b3bd-4e14406e7e4b pre{padding: 0;}#sk-96f58656-824a-4cba-b3bd-4e14406e7e4b div.sk-toggleable {background-color: white;}#sk-96f58656-824a-4cba-b3bd-4e14406e7e4b label.sk-toggleable__label {cursor: pointer;display: block;width: 100%;margin-bottom: 0;padding: 0.3em;box-sizing: border-box;text-align: center;}#sk-96f58656-824a-4cba-b3bd-4e14406e7e4b label.sk-toggleable__label-arrow:before {content: \"▸\";float: left;margin-right: 0.25em;color: #696969;}#sk-96f58656-824a-4cba-b3bd-4e14406e7e4b label.sk-toggleable__label-arrow:hover:before {color: black;}#sk-96f58656-824a-4cba-b3bd-4e14406e7e4b div.sk-estimator:hover label.sk-toggleable__label-arrow:before {color: black;}#sk-96f58656-824a-4cba-b3bd-4e14406e7e4b div.sk-toggleable__content {max-height: 0;max-width: 0;overflow: hidden;text-align: left;background-color: #f0f8ff;}#sk-96f58656-824a-4cba-b3bd-4e14406e7e4b div.sk-toggleable__content pre {margin: 0.2em;color: black;border-radius: 0.25em;background-color: #f0f8ff;}#sk-96f58656-824a-4cba-b3bd-4e14406e7e4b input.sk-toggleable__control:checked~div.sk-toggleable__content {max-height: 200px;max-width: 100%;overflow: auto;}#sk-96f58656-824a-4cba-b3bd-4e14406e7e4b input.sk-toggleable__control:checked~label.sk-toggleable__label-arrow:before {content: \"▾\";}#sk-96f58656-824a-4cba-b3bd-4e14406e7e4b div.sk-estimator input.sk-toggleable__control:checked~label.sk-toggleable__label {background-color: #d4ebff;}#sk-96f58656-824a-4cba-b3bd-4e14406e7e4b div.sk-label input.sk-toggleable__control:checked~label.sk-toggleable__label {background-color: #d4ebff;}#sk-96f58656-824a-4cba-b3bd-4e14406e7e4b input.sk-hidden--visually {border: 0;clip: rect(1px 1px 1px 1px);clip: rect(1px, 1px, 1px, 1px);height: 1px;margin: -1px;overflow: hidden;padding: 0;position: absolute;width: 1px;}#sk-96f58656-824a-4cba-b3bd-4e14406e7e4b div.sk-estimator {font-family: monospace;background-color: #f0f8ff;border: 1px dotted black;border-radius: 0.25em;box-sizing: border-box;margin-bottom: 0.5em;}#sk-96f58656-824a-4cba-b3bd-4e14406e7e4b div.sk-estimator:hover {background-color: #d4ebff;}#sk-96f58656-824a-4cba-b3bd-4e14406e7e4b div.sk-parallel-item::after {content: \"\";width: 100%;border-bottom: 1px solid gray;flex-grow: 1;}#sk-96f58656-824a-4cba-b3bd-4e14406e7e4b div.sk-label:hover label.sk-toggleable__label {background-color: #d4ebff;}#sk-96f58656-824a-4cba-b3bd-4e14406e7e4b div.sk-serial::before {content: \"\";position: absolute;border-left: 1px solid gray;box-sizing: border-box;top: 2em;bottom: 0;left: 50%;}#sk-96f58656-824a-4cba-b3bd-4e14406e7e4b div.sk-serial {display: flex;flex-direction: column;align-items: center;background-color: white;padding-right: 0.2em;padding-left: 0.2em;}#sk-96f58656-824a-4cba-b3bd-4e14406e7e4b div.sk-item {z-index: 1;}#sk-96f58656-824a-4cba-b3bd-4e14406e7e4b div.sk-parallel {display: flex;align-items: stretch;justify-content: center;background-color: white;}#sk-96f58656-824a-4cba-b3bd-4e14406e7e4b div.sk-parallel::before {content: \"\";position: absolute;border-left: 1px solid gray;box-sizing: border-box;top: 2em;bottom: 0;left: 50%;}#sk-96f58656-824a-4cba-b3bd-4e14406e7e4b div.sk-parallel-item {display: flex;flex-direction: column;position: relative;background-color: white;}#sk-96f58656-824a-4cba-b3bd-4e14406e7e4b div.sk-parallel-item:first-child::after {align-self: flex-end;width: 50%;}#sk-96f58656-824a-4cba-b3bd-4e14406e7e4b div.sk-parallel-item:last-child::after {align-self: flex-start;width: 50%;}#sk-96f58656-824a-4cba-b3bd-4e14406e7e4b div.sk-parallel-item:only-child::after {width: 0;}#sk-96f58656-824a-4cba-b3bd-4e14406e7e4b div.sk-dashed-wrapped {border: 1px dashed gray;margin: 0 0.4em 0.5em 0.4em;box-sizing: border-box;padding-bottom: 0.4em;background-color: white;position: relative;}#sk-96f58656-824a-4cba-b3bd-4e14406e7e4b div.sk-label label {font-family: monospace;font-weight: bold;background-color: white;display: inline-block;line-height: 1.2em;}#sk-96f58656-824a-4cba-b3bd-4e14406e7e4b div.sk-label-container {position: relative;z-index: 2;text-align: center;}#sk-96f58656-824a-4cba-b3bd-4e14406e7e4b div.sk-container {/* jupyter's `normalize.less` sets `[hidden] { display: none; }` but bootstrap.min.css set `[hidden] { display: none !important; }` so we also need the `!important` here to be able to override the default hidden behavior on the sphinx rendered scikit-learn.org. See: https://github.com/scikit-learn/scikit-learn/issues/21755 */display: inline-block !important;position: relative;}#sk-96f58656-824a-4cba-b3bd-4e14406e7e4b div.sk-text-repr-fallback {display: none;}</style><div id=\"sk-96f58656-824a-4cba-b3bd-4e14406e7e4b\" class=\"sk-top-container\"><div class=\"sk-text-repr-fallback\"><pre>Pipeline(steps=[(&#x27;preprocessor&#x27;,\n",
       "                 ColumnTransformer(transformers=[(&#x27;cat_processor&#x27;,\n",
       "                                                  OneHotEncoder(handle_unknown=&#x27;ignore&#x27;),\n",
       "                                                  [&#x27;SEX&#x27;, &#x27;RACE&#x27;, &#x27;CITIZENSHIP&#x27;,\n",
       "                                                   &#x27;CORRECTIONAL_STATUS&#x27;,\n",
       "                                                   &#x27;MONTANA_RESIDENT&#x27;,\n",
       "                                                   &#x27;LEGAL_TYPE&#x27;, &#x27;OFFENSE_CODE&#x27;,\n",
       "                                                   &#x27;SENTENCE_TYPE&#x27;, &#x27;OFFENSE&#x27;,\n",
       "                                                   &#x27;JUDGE&#x27;, &#x27;COUNTY&#x27;,\n",
       "                                                   &#x27;Offense_Day&#x27;,\n",
       "                                                   &#x27;Offense_Day_Week&#x27;,\n",
       "                                                   &#x27;Offense_Month&#x27;,\n",
       "                                                   &#x27;Offense_Year&#x27;,\n",
       "                                                   &#x27;Sentence_Day&#x27;,\n",
       "                                                   &#x27;Sentence_Day_of_Week&#x27;,\n",
       "                                                   &#x27;Sentence_Month&#x27;,\n",
       "                                                   &#x27;Sentence_Year&#x27;]),\n",
       "                                                 (&#x27;num_processor&#x27;,\n",
       "                                                  MinMaxScaler(),\n",
       "                                                  [&#x27;AGE&#x27;, &#x27;COUNTS&#x27;])])),\n",
       "                (&#x27;reg&#x27;, RandomForestRegressor())])</pre><b>Please rerun this cell to show the HTML repr or trust the notebook.</b></div><div class=\"sk-container\" hidden><div class=\"sk-item sk-dashed-wrapped\"><div class=\"sk-label-container\"><div class=\"sk-label sk-toggleable\"><input class=\"sk-toggleable__control sk-hidden--visually\" id=\"81751690-d178-4e69-916c-9c63c6b940fb\" type=\"checkbox\" ><label for=\"81751690-d178-4e69-916c-9c63c6b940fb\" class=\"sk-toggleable__label sk-toggleable__label-arrow\">Pipeline</label><div class=\"sk-toggleable__content\"><pre>Pipeline(steps=[(&#x27;preprocessor&#x27;,\n",
       "                 ColumnTransformer(transformers=[(&#x27;cat_processor&#x27;,\n",
       "                                                  OneHotEncoder(handle_unknown=&#x27;ignore&#x27;),\n",
       "                                                  [&#x27;SEX&#x27;, &#x27;RACE&#x27;, &#x27;CITIZENSHIP&#x27;,\n",
       "                                                   &#x27;CORRECTIONAL_STATUS&#x27;,\n",
       "                                                   &#x27;MONTANA_RESIDENT&#x27;,\n",
       "                                                   &#x27;LEGAL_TYPE&#x27;, &#x27;OFFENSE_CODE&#x27;,\n",
       "                                                   &#x27;SENTENCE_TYPE&#x27;, &#x27;OFFENSE&#x27;,\n",
       "                                                   &#x27;JUDGE&#x27;, &#x27;COUNTY&#x27;,\n",
       "                                                   &#x27;Offense_Day&#x27;,\n",
       "                                                   &#x27;Offense_Day_Week&#x27;,\n",
       "                                                   &#x27;Offense_Month&#x27;,\n",
       "                                                   &#x27;Offense_Year&#x27;,\n",
       "                                                   &#x27;Sentence_Day&#x27;,\n",
       "                                                   &#x27;Sentence_Day_of_Week&#x27;,\n",
       "                                                   &#x27;Sentence_Month&#x27;,\n",
       "                                                   &#x27;Sentence_Year&#x27;]),\n",
       "                                                 (&#x27;num_processor&#x27;,\n",
       "                                                  MinMaxScaler(),\n",
       "                                                  [&#x27;AGE&#x27;, &#x27;COUNTS&#x27;])])),\n",
       "                (&#x27;reg&#x27;, RandomForestRegressor())])</pre></div></div></div><div class=\"sk-serial\"><div class=\"sk-item sk-dashed-wrapped\"><div class=\"sk-label-container\"><div class=\"sk-label sk-toggleable\"><input class=\"sk-toggleable__control sk-hidden--visually\" id=\"518c9ecf-e828-41ea-982a-f245d1430441\" type=\"checkbox\" ><label for=\"518c9ecf-e828-41ea-982a-f245d1430441\" class=\"sk-toggleable__label sk-toggleable__label-arrow\">preprocessor: ColumnTransformer</label><div class=\"sk-toggleable__content\"><pre>ColumnTransformer(transformers=[(&#x27;cat_processor&#x27;,\n",
       "                                 OneHotEncoder(handle_unknown=&#x27;ignore&#x27;),\n",
       "                                 [&#x27;SEX&#x27;, &#x27;RACE&#x27;, &#x27;CITIZENSHIP&#x27;,\n",
       "                                  &#x27;CORRECTIONAL_STATUS&#x27;, &#x27;MONTANA_RESIDENT&#x27;,\n",
       "                                  &#x27;LEGAL_TYPE&#x27;, &#x27;OFFENSE_CODE&#x27;, &#x27;SENTENCE_TYPE&#x27;,\n",
       "                                  &#x27;OFFENSE&#x27;, &#x27;JUDGE&#x27;, &#x27;COUNTY&#x27;, &#x27;Offense_Day&#x27;,\n",
       "                                  &#x27;Offense_Day_Week&#x27;, &#x27;Offense_Month&#x27;,\n",
       "                                  &#x27;Offense_Year&#x27;, &#x27;Sentence_Day&#x27;,\n",
       "                                  &#x27;Sentence_Day_of_Week&#x27;, &#x27;Sentence_Month&#x27;,\n",
       "                                  &#x27;Sentence_Year&#x27;]),\n",
       "                                (&#x27;num_processor&#x27;, MinMaxScaler(),\n",
       "                                 [&#x27;AGE&#x27;, &#x27;COUNTS&#x27;])])</pre></div></div></div><div class=\"sk-parallel\"><div class=\"sk-parallel-item\"><div class=\"sk-item\"><div class=\"sk-label-container\"><div class=\"sk-label sk-toggleable\"><input class=\"sk-toggleable__control sk-hidden--visually\" id=\"fac00cf7-b5b5-40e6-8239-d7d3d2c037d0\" type=\"checkbox\" ><label for=\"fac00cf7-b5b5-40e6-8239-d7d3d2c037d0\" class=\"sk-toggleable__label sk-toggleable__label-arrow\">cat_processor</label><div class=\"sk-toggleable__content\"><pre>[&#x27;SEX&#x27;, &#x27;RACE&#x27;, &#x27;CITIZENSHIP&#x27;, &#x27;CORRECTIONAL_STATUS&#x27;, &#x27;MONTANA_RESIDENT&#x27;, &#x27;LEGAL_TYPE&#x27;, &#x27;OFFENSE_CODE&#x27;, &#x27;SENTENCE_TYPE&#x27;, &#x27;OFFENSE&#x27;, &#x27;JUDGE&#x27;, &#x27;COUNTY&#x27;, &#x27;Offense_Day&#x27;, &#x27;Offense_Day_Week&#x27;, &#x27;Offense_Month&#x27;, &#x27;Offense_Year&#x27;, &#x27;Sentence_Day&#x27;, &#x27;Sentence_Day_of_Week&#x27;, &#x27;Sentence_Month&#x27;, &#x27;Sentence_Year&#x27;]</pre></div></div></div><div class=\"sk-serial\"><div class=\"sk-item\"><div class=\"sk-estimator sk-toggleable\"><input class=\"sk-toggleable__control sk-hidden--visually\" id=\"351e104a-c114-4283-9c05-55a07c2180e7\" type=\"checkbox\" ><label for=\"351e104a-c114-4283-9c05-55a07c2180e7\" class=\"sk-toggleable__label sk-toggleable__label-arrow\">OneHotEncoder</label><div class=\"sk-toggleable__content\"><pre>OneHotEncoder(handle_unknown=&#x27;ignore&#x27;)</pre></div></div></div></div></div></div><div class=\"sk-parallel-item\"><div class=\"sk-item\"><div class=\"sk-label-container\"><div class=\"sk-label sk-toggleable\"><input class=\"sk-toggleable__control sk-hidden--visually\" id=\"338ffe66-02f9-4ef1-b9a4-1b26fc8af7bd\" type=\"checkbox\" ><label for=\"338ffe66-02f9-4ef1-b9a4-1b26fc8af7bd\" class=\"sk-toggleable__label sk-toggleable__label-arrow\">num_processor</label><div class=\"sk-toggleable__content\"><pre>[&#x27;AGE&#x27;, &#x27;COUNTS&#x27;]</pre></div></div></div><div class=\"sk-serial\"><div class=\"sk-item\"><div class=\"sk-estimator sk-toggleable\"><input class=\"sk-toggleable__control sk-hidden--visually\" id=\"c1fcb77c-24d6-4b56-a8ec-c6e9b043f756\" type=\"checkbox\" ><label for=\"c1fcb77c-24d6-4b56-a8ec-c6e9b043f756\" class=\"sk-toggleable__label sk-toggleable__label-arrow\">MinMaxScaler</label><div class=\"sk-toggleable__content\"><pre>MinMaxScaler()</pre></div></div></div></div></div></div></div></div><div class=\"sk-item\"><div class=\"sk-estimator sk-toggleable\"><input class=\"sk-toggleable__control sk-hidden--visually\" id=\"41627302-02e9-4e49-bd2f-1445f753529c\" type=\"checkbox\" ><label for=\"41627302-02e9-4e49-bd2f-1445f753529c\" class=\"sk-toggleable__label sk-toggleable__label-arrow\">RandomForestRegressor</label><div class=\"sk-toggleable__content\"><pre>RandomForestRegressor()</pre></div></div></div></div></div></div></div>"
      ],
      "text/plain": [
       "Pipeline(steps=[('preprocessor',\n",
       "                 ColumnTransformer(transformers=[('cat_processor',\n",
       "                                                  OneHotEncoder(handle_unknown='ignore'),\n",
       "                                                  ['SEX', 'RACE', 'CITIZENSHIP',\n",
       "                                                   'CORRECTIONAL_STATUS',\n",
       "                                                   'MONTANA_RESIDENT',\n",
       "                                                   'LEGAL_TYPE', 'OFFENSE_CODE',\n",
       "                                                   'SENTENCE_TYPE', 'OFFENSE',\n",
       "                                                   'JUDGE', 'COUNTY',\n",
       "                                                   'Offense_Day',\n",
       "                                                   'Offense_Day_Week',\n",
       "                                                   'Offense_Month',\n",
       "                                                   'Offense_Year',\n",
       "                                                   'Sentence_Day',\n",
       "                                                   'Sentence_Day_of_Week',\n",
       "                                                   'Sentence_Month',\n",
       "                                                   'Sentence_Year']),\n",
       "                                                 ('num_processor',\n",
       "                                                  MinMaxScaler(),\n",
       "                                                  ['AGE', 'COUNTS'])])),\n",
       "                ('reg', RandomForestRegressor())])"
      ]
     },
     "execution_count": 34,
     "metadata": {},
     "output_type": "execute_result"
    }
   ],
   "source": [
    "pipe.fit(xtrain,ytrain)"
   ]
  },
  {
   "cell_type": "code",
   "execution_count": 35,
   "id": "00b196fc",
   "metadata": {},
   "outputs": [],
   "source": [
    "pipe['reg'].feature_importances_.shape\n",
    "cat=list(pipe['preprocessor'].named_transformers_['cat_processor'].get_feature_names_out(cat_features))\n",
    "feature_names=cat+num_features"
   ]
  },
  {
   "cell_type": "code",
   "execution_count": 36,
   "id": "568550c1",
   "metadata": {},
   "outputs": [],
   "source": [
    "importances=pd.DataFrame(data= pipe['reg'].feature_importances_,index=feature_names, columns=['coefficient'])"
   ]
  },
  {
   "cell_type": "code",
   "execution_count": 37,
   "id": "f5c6e8cf",
   "metadata": {},
   "outputs": [
    {
     "data": {
      "text/plain": [
       "<AxesSubplot:>"
      ]
     },
     "execution_count": 37,
     "metadata": {},
     "output_type": "execute_result"
    },
    {
     "data": {
      "image/png": "[encoded data removed]",
      "text/plain": [
       "<Figure size 864x864 with 1 Axes>"
      ]
     },
     "metadata": {},
     "output_type": "display_data"
    }
   ],
   "source": [
    "importances.coefficient.sort_values(ascending=False).head(20).plot.barh()"
   ]
  },
  {
   "cell_type": "code",
   "execution_count": 38,
   "id": "8a1f2e77",
   "metadata": {},
   "outputs": [],
   "source": [
    "y_val_pred=pipe.predict(x_val)"
   ]
  },
  {
   "cell_type": "code",
   "execution_count": 39,
   "id": "e8b0c575",
   "metadata": {},
   "outputs": [],
   "source": [
    "from sklearn.metrics import mean_squared_error"
   ]
  },
  {
   "cell_type": "code",
   "execution_count": 40,
   "id": "36cdecab",
   "metadata": {},
   "outputs": [
    {
     "data": {
      "text/plain": [
       "86.10819219191605"
      ]
     },
     "execution_count": 40,
     "metadata": {},
     "output_type": "execute_result"
    }
   ],
   "source": [
    "np.sqrt(mean_squared_error(y_val,y_val_pred))"
   ]
  },
  {
   "cell_type": "code",
   "execution_count": 41,
   "id": "a5b87fc5",
   "metadata": {},
   "outputs": [],
   "source": [
    "y_test_pred=pipe.predict(x_test)"
   ]
  },
  {
   "cell_type": "code",
   "execution_count": 42,
   "id": "2d3a21ce",
   "metadata": {},
   "outputs": [
    {
     "data": {
      "text/plain": [
       "95.9946159122545"
      ]
     },
     "execution_count": 42,
     "metadata": {},
     "output_type": "execute_result"
    }
   ],
   "source": [
    "np.sqrt(mean_squared_error(y_test,y_test_pred))"
   ]
  },
  {
   "cell_type": "code",
   "execution_count": 43,
   "id": "84c31021",
   "metadata": {},
   "outputs": [],
   "source": [
    "##unsupervised Clustering/PCA"
   ]
  },
  {
   "cell_type": "code",
   "execution_count": 44,
   "id": "8d05ffe4",
   "metadata": {},
   "outputs": [
    {
     "data": {
      "text/html": [
       "<div>\n",
       "<style scoped>\n",
       "    .dataframe tbody tr th:only-of-type {\n",
       "        vertical-align: middle;\n",
       "    }\n",
       "\n",
       "    .dataframe tbody tr th {\n",
       "        vertical-align: top;\n",
       "    }\n",
       "\n",
       "    .dataframe thead th {\n",
       "        text-align: right;\n",
       "    }\n",
       "</style>\n",
       "<table border=\"1\" class=\"dataframe\">\n",
       "  <thead>\n",
       "    <tr style=\"text-align: right;\">\n",
       "      <th></th>\n",
       "      <th>SEX</th>\n",
       "      <th>RACE</th>\n",
       "      <th>CITIZENSHIP</th>\n",
       "      <th>CORRECTIONAL_STATUS</th>\n",
       "      <th>MONTANA_RESIDENT</th>\n",
       "      <th>LEGAL_TYPE</th>\n",
       "      <th>OFFENSE_CODE</th>\n",
       "      <th>SENTENCE_TYPE</th>\n",
       "      <th>OFFENSE</th>\n",
       "      <th>JUDGE</th>\n",
       "      <th>COUNTY</th>\n",
       "      <th>Offense_Day</th>\n",
       "      <th>Offense_Day_Week</th>\n",
       "      <th>Offense_Month</th>\n",
       "      <th>Offense_Year</th>\n",
       "      <th>Sentence_Day</th>\n",
       "      <th>Sentence_Day_of_Week</th>\n",
       "      <th>Sentence_Month</th>\n",
       "      <th>Sentence_Year</th>\n",
       "    </tr>\n",
       "  </thead>\n",
       "  <tbody>\n",
       "    <tr>\n",
       "      <th>0</th>\n",
       "      <td>M</td>\n",
       "      <td>White</td>\n",
       "      <td>United States</td>\n",
       "      <td>Conditional Release</td>\n",
       "      <td>Y</td>\n",
       "      <td>Original Sentence</td>\n",
       "      <td>618731</td>\n",
       "      <td>DOC Commit None Suspended</td>\n",
       "      <td>DUI-Excess Alc Conc-4th or Subseq Off</td>\n",
       "      <td>Rieger</td>\n",
       "      <td>Dawson</td>\n",
       "      <td>19</td>\n",
       "      <td>1</td>\n",
       "      <td>12</td>\n",
       "      <td>2017</td>\n",
       "      <td>15</td>\n",
       "      <td>1</td>\n",
       "      <td>5</td>\n",
       "      <td>2018</td>\n",
       "    </tr>\n",
       "    <tr>\n",
       "      <th>1</th>\n",
       "      <td>M</td>\n",
       "      <td>White</td>\n",
       "      <td>United States</td>\n",
       "      <td>Conditional Release</td>\n",
       "      <td>Y</td>\n",
       "      <td>Original Sentence</td>\n",
       "      <td>459103</td>\n",
       "      <td>MSP/MWP All Suspended</td>\n",
       "      <td>Criminal Possession with Intent to Distribute</td>\n",
       "      <td>Cox</td>\n",
       "      <td>Dawson</td>\n",
       "      <td>20</td>\n",
       "      <td>3</td>\n",
       "      <td>3</td>\n",
       "      <td>1997</td>\n",
       "      <td>15</td>\n",
       "      <td>0</td>\n",
       "      <td>12</td>\n",
       "      <td>1997</td>\n",
       "    </tr>\n",
       "    <tr>\n",
       "      <th>2</th>\n",
       "      <td>M</td>\n",
       "      <td>White</td>\n",
       "      <td>United States</td>\n",
       "      <td>Conditional Release</td>\n",
       "      <td>Y</td>\n",
       "      <td>Probation Violation Sentence</td>\n",
       "      <td>455503</td>\n",
       "      <td>MSP/MWP None Suspended</td>\n",
       "      <td>Sexual Intercourse without Consent</td>\n",
       "      <td>Mc Donough  Rc</td>\n",
       "      <td>Dawson</td>\n",
       "      <td>5</td>\n",
       "      <td>0</td>\n",
       "      <td>1</td>\n",
       "      <td>1987</td>\n",
       "      <td>10</td>\n",
       "      <td>1</td>\n",
       "      <td>2</td>\n",
       "      <td>1987</td>\n",
       "    </tr>\n",
       "    <tr>\n",
       "      <th>3</th>\n",
       "      <td>M</td>\n",
       "      <td>White</td>\n",
       "      <td>United States</td>\n",
       "      <td>Conditional Release</td>\n",
       "      <td>Y</td>\n",
       "      <td>Probation Violation Sentence</td>\n",
       "      <td>618731</td>\n",
       "      <td>MSP/MWP None Suspended</td>\n",
       "      <td>DUI-Excess Alc Conc-4th or Subseq Off</td>\n",
       "      <td>Simonton</td>\n",
       "      <td>Dawson</td>\n",
       "      <td>19</td>\n",
       "      <td>1</td>\n",
       "      <td>11</td>\n",
       "      <td>2002</td>\n",
       "      <td>21</td>\n",
       "      <td>0</td>\n",
       "      <td>6</td>\n",
       "      <td>2004</td>\n",
       "    </tr>\n",
       "    <tr>\n",
       "      <th>4</th>\n",
       "      <td>M</td>\n",
       "      <td>White</td>\n",
       "      <td>United States</td>\n",
       "      <td>Conditional Release</td>\n",
       "      <td>Y</td>\n",
       "      <td>Probation Violation Sentence</td>\n",
       "      <td>459101</td>\n",
       "      <td>DOC Commit None Suspended</td>\n",
       "      <td>Criminal Distribution of Dangerous Drugs</td>\n",
       "      <td>Day</td>\n",
       "      <td>Custer</td>\n",
       "      <td>11</td>\n",
       "      <td>3</td>\n",
       "      <td>2</td>\n",
       "      <td>2010</td>\n",
       "      <td>26</td>\n",
       "      <td>4</td>\n",
       "      <td>2</td>\n",
       "      <td>2016</td>\n",
       "    </tr>\n",
       "    <tr>\n",
       "      <th>...</th>\n",
       "      <td>...</td>\n",
       "      <td>...</td>\n",
       "      <td>...</td>\n",
       "      <td>...</td>\n",
       "      <td>...</td>\n",
       "      <td>...</td>\n",
       "      <td>...</td>\n",
       "      <td>...</td>\n",
       "      <td>...</td>\n",
       "      <td>...</td>\n",
       "      <td>...</td>\n",
       "      <td>...</td>\n",
       "      <td>...</td>\n",
       "      <td>...</td>\n",
       "      <td>...</td>\n",
       "      <td>...</td>\n",
       "      <td>...</td>\n",
       "      <td>...</td>\n",
       "      <td>...</td>\n",
       "    </tr>\n",
       "    <tr>\n",
       "      <th>39962</th>\n",
       "      <td>M</td>\n",
       "      <td>White</td>\n",
       "      <td>United States</td>\n",
       "      <td>Probation</td>\n",
       "      <td>Y</td>\n",
       "      <td>Original Sentence</td>\n",
       "      <td>455207</td>\n",
       "      <td>Deferred Sentence</td>\n",
       "      <td>Criminal Endangerment</td>\n",
       "      <td>Olson</td>\n",
       "      <td>Toole</td>\n",
       "      <td>3</td>\n",
       "      <td>0</td>\n",
       "      <td>1</td>\n",
       "      <td>2022</td>\n",
       "      <td>22</td>\n",
       "      <td>1</td>\n",
       "      <td>3</td>\n",
       "      <td>2022</td>\n",
       "    </tr>\n",
       "    <tr>\n",
       "      <th>39964</th>\n",
       "      <td>M</td>\n",
       "      <td>White</td>\n",
       "      <td>United States</td>\n",
       "      <td>Probation</td>\n",
       "      <td>Y</td>\n",
       "      <td>Original Sentence</td>\n",
       "      <td>455104</td>\n",
       "      <td>DOC Commit All Suspended</td>\n",
       "      <td>Negligent Homicide</td>\n",
       "      <td>Harris</td>\n",
       "      <td>Yellowstone</td>\n",
       "      <td>1</td>\n",
       "      <td>1</td>\n",
       "      <td>1</td>\n",
       "      <td>2019</td>\n",
       "      <td>25</td>\n",
       "      <td>4</td>\n",
       "      <td>3</td>\n",
       "      <td>2022</td>\n",
       "    </tr>\n",
       "    <tr>\n",
       "      <th>39967</th>\n",
       "      <td>F</td>\n",
       "      <td>Native American</td>\n",
       "      <td>United States</td>\n",
       "      <td>Probation</td>\n",
       "      <td>Y</td>\n",
       "      <td>Original Sentence</td>\n",
       "      <td>457303</td>\n",
       "      <td>Deferred Sentence</td>\n",
       "      <td>Obstructing Justice</td>\n",
       "      <td>Parker</td>\n",
       "      <td>Cascade</td>\n",
       "      <td>11</td>\n",
       "      <td>4</td>\n",
       "      <td>9</td>\n",
       "      <td>2020</td>\n",
       "      <td>24</td>\n",
       "      <td>3</td>\n",
       "      <td>3</td>\n",
       "      <td>2022</td>\n",
       "    </tr>\n",
       "    <tr>\n",
       "      <th>39968</th>\n",
       "      <td>M</td>\n",
       "      <td>White</td>\n",
       "      <td>United States</td>\n",
       "      <td>Probation</td>\n",
       "      <td>N</td>\n",
       "      <td>Original Sentence</td>\n",
       "      <td>456101</td>\n",
       "      <td>Deferred Sentence</td>\n",
       "      <td>Criminal Mischief</td>\n",
       "      <td>Berger</td>\n",
       "      <td>Beaverhead</td>\n",
       "      <td>1</td>\n",
       "      <td>5</td>\n",
       "      <td>1</td>\n",
       "      <td>2022</td>\n",
       "      <td>5</td>\n",
       "      <td>1</td>\n",
       "      <td>4</td>\n",
       "      <td>2022</td>\n",
       "    </tr>\n",
       "    <tr>\n",
       "      <th>39986</th>\n",
       "      <td>M</td>\n",
       "      <td>White</td>\n",
       "      <td>United States</td>\n",
       "      <td>Probation</td>\n",
       "      <td>Y</td>\n",
       "      <td>Original Sentence</td>\n",
       "      <td>459102</td>\n",
       "      <td>Deferred Sentence</td>\n",
       "      <td>Criminal Possession of Dangerous Drugs</td>\n",
       "      <td>Souza</td>\n",
       "      <td>Yellowstone</td>\n",
       "      <td>1</td>\n",
       "      <td>1</td>\n",
       "      <td>1</td>\n",
       "      <td>2019</td>\n",
       "      <td>28</td>\n",
       "      <td>3</td>\n",
       "      <td>4</td>\n",
       "      <td>2022</td>\n",
       "    </tr>\n",
       "  </tbody>\n",
       "</table>\n",
       "<p>39010 rows × 19 columns</p>\n",
       "</div>"
      ],
      "text/plain": [
       "      SEX             RACE    CITIZENSHIP  CORRECTIONAL_STATUS  \\\n",
       "0       M            White  United States  Conditional Release   \n",
       "1       M            White  United States  Conditional Release   \n",
       "2       M            White  United States  Conditional Release   \n",
       "3       M            White  United States  Conditional Release   \n",
       "4       M            White  United States  Conditional Release   \n",
       "...    ..              ...            ...                  ...   \n",
       "39962   M            White  United States            Probation   \n",
       "39964   M            White  United States            Probation   \n",
       "39967   F  Native American  United States            Probation   \n",
       "39968   M            White  United States            Probation   \n",
       "39986   M            White  United States            Probation   \n",
       "\n",
       "      MONTANA_RESIDENT                    LEGAL_TYPE OFFENSE_CODE  \\\n",
       "0                    Y             Original Sentence       618731   \n",
       "1                    Y             Original Sentence       459103   \n",
       "2                    Y  Probation Violation Sentence       455503   \n",
       "3                    Y  Probation Violation Sentence       618731   \n",
       "4                    Y  Probation Violation Sentence       459101   \n",
       "...                ...                           ...          ...   \n",
       "39962                Y             Original Sentence       455207   \n",
       "39964                Y             Original Sentence       455104   \n",
       "39967                Y             Original Sentence       457303   \n",
       "39968                N             Original Sentence       456101   \n",
       "39986                Y             Original Sentence       459102   \n",
       "\n",
       "                   SENTENCE_TYPE  \\\n",
       "0      DOC Commit None Suspended   \n",
       "1          MSP/MWP All Suspended   \n",
       "2         MSP/MWP None Suspended   \n",
       "3         MSP/MWP None Suspended   \n",
       "4      DOC Commit None Suspended   \n",
       "...                          ...   \n",
       "39962          Deferred Sentence   \n",
       "39964   DOC Commit All Suspended   \n",
       "39967          Deferred Sentence   \n",
       "39968          Deferred Sentence   \n",
       "39986          Deferred Sentence   \n",
       "\n",
       "                                             OFFENSE           JUDGE  \\\n",
       "0              DUI-Excess Alc Conc-4th or Subseq Off          Rieger   \n",
       "1      Criminal Possession with Intent to Distribute             Cox   \n",
       "2                 Sexual Intercourse without Consent  Mc Donough  Rc   \n",
       "3              DUI-Excess Alc Conc-4th or Subseq Off        Simonton   \n",
       "4           Criminal Distribution of Dangerous Drugs             Day   \n",
       "...                                              ...             ...   \n",
       "39962                          Criminal Endangerment           Olson   \n",
       "39964                             Negligent Homicide          Harris   \n",
       "39967                            Obstructing Justice          Parker   \n",
       "39968                              Criminal Mischief          Berger   \n",
       "39986         Criminal Possession of Dangerous Drugs           Souza   \n",
       "\n",
       "            COUNTY  Offense_Day  Offense_Day_Week  Offense_Month  \\\n",
       "0           Dawson           19                 1             12   \n",
       "1           Dawson           20                 3              3   \n",
       "2           Dawson            5                 0              1   \n",
       "3           Dawson           19                 1             11   \n",
       "4           Custer           11                 3              2   \n",
       "...            ...          ...               ...            ...   \n",
       "39962        Toole            3                 0              1   \n",
       "39964  Yellowstone            1                 1              1   \n",
       "39967      Cascade           11                 4              9   \n",
       "39968   Beaverhead            1                 5              1   \n",
       "39986  Yellowstone            1                 1              1   \n",
       "\n",
       "       Offense_Year  Sentence_Day  Sentence_Day_of_Week  Sentence_Month  \\\n",
       "0              2017            15                     1               5   \n",
       "1              1997            15                     0              12   \n",
       "2              1987            10                     1               2   \n",
       "3              2002            21                     0               6   \n",
       "4              2010            26                     4               2   \n",
       "...             ...           ...                   ...             ...   \n",
       "39962          2022            22                     1               3   \n",
       "39964          2019            25                     4               3   \n",
       "39967          2020            24                     3               3   \n",
       "39968          2022             5                     1               4   \n",
       "39986          2019            28                     3               4   \n",
       "\n",
       "       Sentence_Year  \n",
       "0               2018  \n",
       "1               1997  \n",
       "2               1987  \n",
       "3               2004  \n",
       "4               2016  \n",
       "...              ...  \n",
       "39962           2022  \n",
       "39964           2022  \n",
       "39967           2022  \n",
       "39968           2022  \n",
       "39986           2022  \n",
       "\n",
       "[39010 rows x 19 columns]"
      ]
     },
     "execution_count": 44,
     "metadata": {},
     "output_type": "execute_result"
    }
   ],
   "source": [
    "X[cat_features]"
   ]
  },
  {
   "cell_type": "code",
   "execution_count": null,
   "id": "3e3570e8",
   "metadata": {},
   "outputs": [],
   "source": [
    "from sklearn.cluster import AgglomerativeClustering\n",
    "enc=OneHotEncoder(handle_unknown='ignore',sparse=False)"
   ]
  },
  {
   "cell_type": "code",
   "execution_count": null,
   "id": "46f5595b",
   "metadata": {},
   "outputs": [],
   "source": [
    "y=enc.fit_transform(X[cat_features])\n"
   ]
  },
  {
   "cell_type": "code",
   "execution_count": null,
   "id": "b3d27f53",
   "metadata": {},
   "outputs": [],
   "source": [
    "cols=enc.get_feature_names_out(cat_features)"
   ]
  },
  {
   "cell_type": "code",
   "execution_count": null,
   "id": "e44d7806",
   "metadata": {},
   "outputs": [],
   "source": [
    "dummy=pd.DataFrame(data=y, columns=cols,index=X.index)"
   ]
  },
  {
   "cell_type": "code",
   "execution_count": null,
   "id": "e0ea4088",
   "metadata": {},
   "outputs": [],
   "source": [
    "num_features=['AGE',\n",
    "              'COUNTS',\n",
    "              'TOTAL_SENTENCED_MONTHS'\n",
    "             ]"
   ]
  },
  {
   "cell_type": "code",
   "execution_count": null,
   "id": "196e6b1c",
   "metadata": {},
   "outputs": [],
   "source": [
    "dummy.join(clean_data[num_features])"
   ]
  },
  {
   "cell_type": "code",
   "execution_count": null,
   "id": "c1cf3278",
   "metadata": {},
   "outputs": [],
   "source": []
  }
 ],
 "metadata": {
  "kernelspec": {
   "display_name": "Python 3.9.12 ('base')",
   "language": "python",
   "name": "python3"
  },
  "language_info": {
   "codemirror_mode": {
    "name": "ipython",
    "version": 3
   },
   "file_extension": ".py",
   "mimetype": "text/x-python",
   "name": "python",
   "nbconvert_exporter": "python",
   "pygments_lexer": "ipython3",
   "version": "3.9.12"
  },
  "vscode": {
   "interpreter": {
    "hash": "64f66822a0f77c79a13345922a004189662baff35ab326d8d7e9a08c27c4bee1"
   }
  }
 },
 "nbformat": 4,
 "nbformat_minor": 5
}
