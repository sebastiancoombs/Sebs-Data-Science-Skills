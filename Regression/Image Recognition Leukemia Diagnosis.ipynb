{
 "cells": [
  {
   "cell_type": "code",
   "execution_count": 1,
   "metadata": {},
   "outputs": [],
   "source": [
    "import numpy as np\n",
    "import matplotlib.pyplot as plt\n",
    "import pandas as pd"
   ]
  },
  {
   "cell_type": "markdown",
   "metadata": {},
   "source": [
    "# Image Recognition Leukemia Diagnosis"
   ]
  },
  {
   "cell_type": "markdown",
   "metadata": {},
   "source": [
    "The following dataset contains cancer gene-expression levels (16,063 genes, 144 samples) from Multiclass cancer diagnosis using tumor gene expression signatures (Golub et all, 2001)"
   ]
  },
  {
   "cell_type": "code",
   "execution_count": 2,
   "metadata": {},
   "outputs": [
    {
     "data": {
      "text/html": [
       "<div>\n",
       "<style scoped>\n",
       "    .dataframe tbody tr th:only-of-type {\n",
       "        vertical-align: middle;\n",
       "    }\n",
       "\n",
       "    .dataframe tbody tr th {\n",
       "        vertical-align: top;\n",
       "    }\n",
       "\n",
       "    .dataframe thead th {\n",
       "        text-align: right;\n",
       "    }\n",
       "</style>\n",
       "<table border=\"1\" class=\"dataframe\">\n",
       "  <thead>\n",
       "    <tr style=\"text-align: right;\">\n",
       "      <th></th>\n",
       "      <th>gene 0</th>\n",
       "      <th>gene 1</th>\n",
       "      <th>gene 2</th>\n",
       "      <th>gene 3</th>\n",
       "      <th>gene 4</th>\n",
       "      <th>gene 5</th>\n",
       "      <th>gene 6</th>\n",
       "      <th>gene 7</th>\n",
       "      <th>gene 8</th>\n",
       "      <th>gene 9</th>\n",
       "      <th>...</th>\n",
       "      <th>gene 16054</th>\n",
       "      <th>gene 16055</th>\n",
       "      <th>gene 16056</th>\n",
       "      <th>gene 16057</th>\n",
       "      <th>gene 16058</th>\n",
       "      <th>gene 16059</th>\n",
       "      <th>gene 16060</th>\n",
       "      <th>gene 16061</th>\n",
       "      <th>gene 16062</th>\n",
       "      <th>label</th>\n",
       "    </tr>\n",
       "  </thead>\n",
       "  <tbody>\n",
       "    <tr>\n",
       "      <th>0</th>\n",
       "      <td>-73.0</td>\n",
       "      <td>-69.0</td>\n",
       "      <td>-48.0</td>\n",
       "      <td>13.0</td>\n",
       "      <td>-86.0</td>\n",
       "      <td>-147.0</td>\n",
       "      <td>-65.0</td>\n",
       "      <td>-71.0</td>\n",
       "      <td>-32.0</td>\n",
       "      <td>100.0</td>\n",
       "      <td>...</td>\n",
       "      <td>352.0</td>\n",
       "      <td>-67.0</td>\n",
       "      <td>121.0</td>\n",
       "      <td>-5.0</td>\n",
       "      <td>-11.0</td>\n",
       "      <td>-21.0</td>\n",
       "      <td>-41.0</td>\n",
       "      <td>-967.0</td>\n",
       "      <td>-120.0</td>\n",
       "      <td>1</td>\n",
       "    </tr>\n",
       "    <tr>\n",
       "      <th>1</th>\n",
       "      <td>-16.0</td>\n",
       "      <td>-63.0</td>\n",
       "      <td>-97.0</td>\n",
       "      <td>-42.0</td>\n",
       "      <td>-91.0</td>\n",
       "      <td>-164.0</td>\n",
       "      <td>-53.0</td>\n",
       "      <td>-77.0</td>\n",
       "      <td>-17.0</td>\n",
       "      <td>122.0</td>\n",
       "      <td>...</td>\n",
       "      <td>244.0</td>\n",
       "      <td>-15.0</td>\n",
       "      <td>119.0</td>\n",
       "      <td>-32.0</td>\n",
       "      <td>4.0</td>\n",
       "      <td>-14.0</td>\n",
       "      <td>-28.0</td>\n",
       "      <td>-205.0</td>\n",
       "      <td>-31.0</td>\n",
       "      <td>1</td>\n",
       "    </tr>\n",
       "    <tr>\n",
       "      <th>2</th>\n",
       "      <td>4.0</td>\n",
       "      <td>-45.0</td>\n",
       "      <td>-112.0</td>\n",
       "      <td>-25.0</td>\n",
       "      <td>-85.0</td>\n",
       "      <td>-127.0</td>\n",
       "      <td>56.0</td>\n",
       "      <td>-110.0</td>\n",
       "      <td>81.0</td>\n",
       "      <td>41.0</td>\n",
       "      <td>...</td>\n",
       "      <td>163.0</td>\n",
       "      <td>-14.0</td>\n",
       "      <td>7.0</td>\n",
       "      <td>15.0</td>\n",
       "      <td>-8.0</td>\n",
       "      <td>-104.0</td>\n",
       "      <td>-36.0</td>\n",
       "      <td>-245.0</td>\n",
       "      <td>34.0</td>\n",
       "      <td>1</td>\n",
       "    </tr>\n",
       "    <tr>\n",
       "      <th>3</th>\n",
       "      <td>-31.0</td>\n",
       "      <td>-110.0</td>\n",
       "      <td>-20.0</td>\n",
       "      <td>-50.0</td>\n",
       "      <td>-115.0</td>\n",
       "      <td>-113.0</td>\n",
       "      <td>-17.0</td>\n",
       "      <td>-40.0</td>\n",
       "      <td>-17.0</td>\n",
       "      <td>80.0</td>\n",
       "      <td>...</td>\n",
       "      <td>625.0</td>\n",
       "      <td>18.0</td>\n",
       "      <td>59.0</td>\n",
       "      <td>-10.0</td>\n",
       "      <td>32.0</td>\n",
       "      <td>-2.0</td>\n",
       "      <td>10.0</td>\n",
       "      <td>-495.0</td>\n",
       "      <td>-37.0</td>\n",
       "      <td>1</td>\n",
       "    </tr>\n",
       "    <tr>\n",
       "      <th>4</th>\n",
       "      <td>-33.0</td>\n",
       "      <td>-39.0</td>\n",
       "      <td>-45.0</td>\n",
       "      <td>14.0</td>\n",
       "      <td>-56.0</td>\n",
       "      <td>-106.0</td>\n",
       "      <td>73.0</td>\n",
       "      <td>-34.0</td>\n",
       "      <td>18.0</td>\n",
       "      <td>64.0</td>\n",
       "      <td>...</td>\n",
       "      <td>398.0</td>\n",
       "      <td>38.0</td>\n",
       "      <td>215.0</td>\n",
       "      <td>-2.0</td>\n",
       "      <td>44.0</td>\n",
       "      <td>3.0</td>\n",
       "      <td>68.0</td>\n",
       "      <td>-293.0</td>\n",
       "      <td>-34.0</td>\n",
       "      <td>1</td>\n",
       "    </tr>\n",
       "  </tbody>\n",
       "</table>\n",
       "<p>5 rows × 16064 columns</p>\n",
       "</div>"
      ],
      "text/plain": [
       "   gene 0  gene 1  gene 2  gene 3  gene 4  gene 5  gene 6  gene 7  gene 8  \\\n",
       "0   -73.0   -69.0   -48.0    13.0   -86.0  -147.0   -65.0   -71.0   -32.0   \n",
       "1   -16.0   -63.0   -97.0   -42.0   -91.0  -164.0   -53.0   -77.0   -17.0   \n",
       "2     4.0   -45.0  -112.0   -25.0   -85.0  -127.0    56.0  -110.0    81.0   \n",
       "3   -31.0  -110.0   -20.0   -50.0  -115.0  -113.0   -17.0   -40.0   -17.0   \n",
       "4   -33.0   -39.0   -45.0    14.0   -56.0  -106.0    73.0   -34.0    18.0   \n",
       "\n",
       "   gene 9  ...  gene 16054  gene 16055  gene 16056  gene 16057  gene 16058  \\\n",
       "0   100.0  ...       352.0       -67.0       121.0        -5.0       -11.0   \n",
       "1   122.0  ...       244.0       -15.0       119.0       -32.0         4.0   \n",
       "2    41.0  ...       163.0       -14.0         7.0        15.0        -8.0   \n",
       "3    80.0  ...       625.0        18.0        59.0       -10.0        32.0   \n",
       "4    64.0  ...       398.0        38.0       215.0        -2.0        44.0   \n",
       "\n",
       "   gene 16059  gene 16060  gene 16061  gene 16062  label  \n",
       "0       -21.0       -41.0      -967.0      -120.0      1  \n",
       "1       -14.0       -28.0      -205.0       -31.0      1  \n",
       "2      -104.0       -36.0      -245.0        34.0      1  \n",
       "3        -2.0        10.0      -495.0       -37.0      1  \n",
       "4         3.0        68.0      -293.0       -34.0      1  \n",
       "\n",
       "[5 rows x 16064 columns]"
      ]
     },
     "execution_count": 2,
     "metadata": {},
     "output_type": "execute_result"
    }
   ],
   "source": [
    "# load the data\n",
    "url = 'https://raw.githubusercontent.com/um-perez-alvaro/Data-Science-Theory/master/Data/leukemia.csv'\n",
    "data = pd.read_csv(url)\n",
    "data.head(5)"
   ]
  },
  {
   "cell_type": "code",
   "execution_count": 3,
   "metadata": {},
   "outputs": [],
   "source": [
    "X = data.iloc[:,0:16063].to_numpy() # gene expressions levels\n",
    "y = data['label'].to_numpy() # cancer labels"
   ]
  },
  {
   "cell_type": "markdown",
   "metadata": {},
   "source": [
    "Cancer classes are labelled as follows:\n",
    "\n",
    "| Label | Description |\n",
    "| :- | -: |\n",
    "| 1 | Breast |\n",
    "| 2 | Prostate |\n",
    "| 3 | Lung |\n",
    "| 4 | Collerectal |\n",
    "| 5 | Lymphoma |\n",
    "| 6 | Bladder |\n",
    "| 7 | Melanoma |\n",
    "| 8 | Uterus |\n",
    "| 9 | Leukemia |\n",
    "| 10 | Renal |\n",
    "| 11 | Pancreas |\n",
    "| 12 | Ovary |\n",
    "| 13 | Mesothelioma |\n",
    "| 14 | central nervous system |"
   ]
  },
  {
   "cell_type": "markdown",
   "metadata": {},
   "source": [
    "The goal is to fit a linear regression model to classify cancers as either **leukemia** (label 9) or **not-leukemia**."
   ]
  },
  {
   "cell_type": "markdown",
   "metadata": {},
   "source": [
    "Notice that the matrix $X$ has more columns than rows (this is, more features than data points):"
   ]
  },
  {
   "cell_type": "code",
   "execution_count": 4,
   "metadata": {},
   "outputs": [
    {
     "data": {
      "text/plain": [
       "(144, 16063)"
      ]
     },
     "execution_count": 4,
     "metadata": {},
     "output_type": "execute_result"
    }
   ],
   "source": [
    "X.shape"
   ]
  },
  {
   "cell_type": "markdown",
   "metadata": {},
   "source": [
    "As a consequence of this, the matrix $X^TX$ is **not invertible**.\n",
    "This is a situation where it is absolutely necessary to **add regularizaton**."
   ]
  },
  {
   "cell_type": "markdown",
   "metadata": {},
   "source": [
    "## Part 1"
   ]
  },
  {
   "cell_type": "markdown",
   "metadata": {},
   "source": [
    " Build a (0,1)-vector y_leuk, where its $i$th entry is given by\n",
    "\n",
    "$$\n",
    "\\left\\{ \\begin{array}{ll} 1 & \\mbox{ if cancer $i$ is leukemia}\\\\\n",
    "0 & \\mbox{ if cancer $i$ is not leukemia}. \\end{array}\\right.\n",
    "$$"
   ]
  },
  {
   "cell_type": "code",
   "execution_count": 10,
   "metadata": {},
   "outputs": [],
   "source": [
    "y_luek=np.zeros(X.shape[0])"
   ]
  },
  {
   "cell_type": "code",
   "execution_count": null,
   "metadata": {},
   "outputs": [],
   "source": []
  },
  {
   "cell_type": "code",
   "execution_count": 13,
   "metadata": {},
   "outputs": [],
   "source": [
    "y_luek[y==9]=1"
   ]
  },
  {
   "cell_type": "code",
   "execution_count": 14,
   "metadata": {},
   "outputs": [
    {
     "data": {
      "text/plain": [
       "array([ 1,  1,  1,  1,  1,  1,  1,  1,  2,  2,  2,  2,  2,  2,  2,  2,  3,\n",
       "        3,  3,  3,  3,  3,  3,  3,  4,  4,  4,  4,  4,  4,  4,  4,  5,  5,\n",
       "        5,  5,  5,  5,  5,  5,  5,  5,  5,  5,  5,  5,  5,  5,  6,  6,  6,\n",
       "        6,  6,  6,  6,  6,  7,  7,  7,  7,  7,  7,  7,  7,  8,  8,  8,  8,\n",
       "        8,  8,  8,  8,  9,  9,  9,  9,  9,  9,  9,  9,  9,  9,  9,  9,  9,\n",
       "        9,  9,  9,  9,  9,  9,  9,  9,  9,  9,  9, 10, 10, 10, 10, 10, 10,\n",
       "       10, 10, 11, 11, 11, 11, 11, 11, 11, 11, 12, 12, 12, 12, 12, 12, 12,\n",
       "       12, 13, 13, 13, 13, 13, 13, 13, 13, 14, 14, 14, 14, 14, 14, 14, 14,\n",
       "       14, 14, 14, 14, 14, 14, 14, 14], dtype=int64)"
      ]
     },
     "execution_count": 14,
     "metadata": {},
     "output_type": "execute_result"
    }
   ],
   "source": [
    "\n",
    "y"
   ]
  },
  {
   "cell_type": "code",
   "execution_count": 15,
   "metadata": {},
   "outputs": [
    {
     "data": {
      "text/plain": [
       "array([0., 0., 0., 0., 0., 0., 0., 0., 0., 0., 0., 0., 0., 0., 0., 0., 0.,\n",
       "       0., 0., 0., 0., 0., 0., 0., 0., 0., 0., 0., 0., 0., 0., 0., 0., 0.,\n",
       "       0., 0., 0., 0., 0., 0., 0., 0., 0., 0., 0., 0., 0., 0., 0., 0., 0.,\n",
       "       0., 0., 0., 0., 0., 0., 0., 0., 0., 0., 0., 0., 0., 0., 0., 0., 0.,\n",
       "       0., 0., 0., 0., 1., 1., 1., 1., 1., 1., 1., 1., 1., 1., 1., 1., 1.,\n",
       "       1., 1., 1., 1., 1., 1., 1., 1., 1., 1., 1., 0., 0., 0., 0., 0., 0.,\n",
       "       0., 0., 0., 0., 0., 0., 0., 0., 0., 0., 0., 0., 0., 0., 0., 0., 0.,\n",
       "       0., 0., 0., 0., 0., 0., 0., 0., 0., 0., 0., 0., 0., 0., 0., 0., 0.,\n",
       "       0., 0., 0., 0., 0., 0., 0., 0.])"
      ]
     },
     "execution_count": 15,
     "metadata": {},
     "output_type": "execute_result"
    }
   ],
   "source": [
    "y_luek"
   ]
  },
  {
   "cell_type": "markdown",
   "metadata": {},
   "source": [
    "## Part 2"
   ]
  },
  {
   "cell_type": "markdown",
   "metadata": {},
   "source": [
    "Use the data (X,y_leuk) to fit a linear regression model that predicts the vector y_leuk.\n",
    "Add regularization to the model."
   ]
  },
  {
   "cell_type": "code",
   "execution_count": 31,
   "metadata": {},
   "outputs": [],
   "source": [
    "n=X.shape[1]\n",
    "C = 1e-3 # regularization constant\n",
    "\n",
    "theta = np.linalg.solve(X.T.dot(X)+C*np.identity(n), X.T.dot(y_luek))"
   ]
  },
  {
   "cell_type": "code",
   "execution_count": null,
   "metadata": {},
   "outputs": [],
   "source": []
  },
  {
   "cell_type": "markdown",
   "metadata": {},
   "source": [
    "## Part 3"
   ]
  },
  {
   "cell_type": "markdown",
   "metadata": {},
   "source": [
    "Use the linear regression model to classify all the cancers in the following test set. "
   ]
  },
  {
   "cell_type": "code",
   "execution_count": 47,
   "metadata": {},
   "outputs": [
    {
     "data": {
      "text/html": [
       "<div>\n",
       "<style scoped>\n",
       "    .dataframe tbody tr th:only-of-type {\n",
       "        vertical-align: middle;\n",
       "    }\n",
       "\n",
       "    .dataframe tbody tr th {\n",
       "        vertical-align: top;\n",
       "    }\n",
       "\n",
       "    .dataframe thead th {\n",
       "        text-align: right;\n",
       "    }\n",
       "</style>\n",
       "<table border=\"1\" class=\"dataframe\">\n",
       "  <thead>\n",
       "    <tr style=\"text-align: right;\">\n",
       "      <th></th>\n",
       "      <th>gene 0</th>\n",
       "      <th>gene 1</th>\n",
       "      <th>gene 2</th>\n",
       "      <th>gene 3</th>\n",
       "      <th>gene 4</th>\n",
       "      <th>gene 5</th>\n",
       "      <th>gene 6</th>\n",
       "      <th>gene 7</th>\n",
       "      <th>gene 8</th>\n",
       "      <th>gene 9</th>\n",
       "      <th>...</th>\n",
       "      <th>gene 16054</th>\n",
       "      <th>gene 16055</th>\n",
       "      <th>gene 16056</th>\n",
       "      <th>gene 16057</th>\n",
       "      <th>gene 16058</th>\n",
       "      <th>gene 16059</th>\n",
       "      <th>gene 16060</th>\n",
       "      <th>gene 16061</th>\n",
       "      <th>gene 16062</th>\n",
       "      <th>label</th>\n",
       "    </tr>\n",
       "  </thead>\n",
       "  <tbody>\n",
       "    <tr>\n",
       "      <th>0</th>\n",
       "      <td>-44.0</td>\n",
       "      <td>-254.0</td>\n",
       "      <td>-166.0</td>\n",
       "      <td>-55.0</td>\n",
       "      <td>-130.0</td>\n",
       "      <td>-133.0</td>\n",
       "      <td>80.0</td>\n",
       "      <td>-62.0</td>\n",
       "      <td>1.0</td>\n",
       "      <td>22.0</td>\n",
       "      <td>...</td>\n",
       "      <td>715.0</td>\n",
       "      <td>25.0</td>\n",
       "      <td>47.0</td>\n",
       "      <td>-270.0</td>\n",
       "      <td>-265.0</td>\n",
       "      <td>-290.0</td>\n",
       "      <td>-235.0</td>\n",
       "      <td>-826.0</td>\n",
       "      <td>-262.0</td>\n",
       "      <td>1</td>\n",
       "    </tr>\n",
       "    <tr>\n",
       "      <th>1</th>\n",
       "      <td>-13.0</td>\n",
       "      <td>-124.0</td>\n",
       "      <td>-206.0</td>\n",
       "      <td>-29.0</td>\n",
       "      <td>-117.0</td>\n",
       "      <td>-114.0</td>\n",
       "      <td>111.0</td>\n",
       "      <td>-20.0</td>\n",
       "      <td>-25.0</td>\n",
       "      <td>18.0</td>\n",
       "      <td>...</td>\n",
       "      <td>695.0</td>\n",
       "      <td>10.0</td>\n",
       "      <td>57.0</td>\n",
       "      <td>-50.0</td>\n",
       "      <td>-45.0</td>\n",
       "      <td>-61.0</td>\n",
       "      <td>-22.0</td>\n",
       "      <td>-263.0</td>\n",
       "      <td>-52.0</td>\n",
       "      <td>1</td>\n",
       "    </tr>\n",
       "    <tr>\n",
       "      <th>2</th>\n",
       "      <td>-64.3</td>\n",
       "      <td>-184.9</td>\n",
       "      <td>-334.4</td>\n",
       "      <td>-102.2</td>\n",
       "      <td>-289.0</td>\n",
       "      <td>-145.2</td>\n",
       "      <td>-251.9</td>\n",
       "      <td>-150.9</td>\n",
       "      <td>-184.0</td>\n",
       "      <td>179.1</td>\n",
       "      <td>...</td>\n",
       "      <td>1324.6</td>\n",
       "      <td>9.8</td>\n",
       "      <td>127.7</td>\n",
       "      <td>244.0</td>\n",
       "      <td>76.5</td>\n",
       "      <td>100.1</td>\n",
       "      <td>-69.6</td>\n",
       "      <td>-1444.3</td>\n",
       "      <td>-121.6</td>\n",
       "      <td>1</td>\n",
       "    </tr>\n",
       "    <tr>\n",
       "      <th>3</th>\n",
       "      <td>-22.0</td>\n",
       "      <td>-169.0</td>\n",
       "      <td>-164.0</td>\n",
       "      <td>-32.0</td>\n",
       "      <td>-49.0</td>\n",
       "      <td>-141.0</td>\n",
       "      <td>0.0</td>\n",
       "      <td>-22.0</td>\n",
       "      <td>16.0</td>\n",
       "      <td>67.0</td>\n",
       "      <td>...</td>\n",
       "      <td>170.0</td>\n",
       "      <td>20.0</td>\n",
       "      <td>35.0</td>\n",
       "      <td>-275.0</td>\n",
       "      <td>-230.0</td>\n",
       "      <td>-136.0</td>\n",
       "      <td>-228.0</td>\n",
       "      <td>-404.0</td>\n",
       "      <td>-259.0</td>\n",
       "      <td>2</td>\n",
       "    </tr>\n",
       "    <tr>\n",
       "      <th>4</th>\n",
       "      <td>-28.0</td>\n",
       "      <td>-167.0</td>\n",
       "      <td>-158.0</td>\n",
       "      <td>100.0</td>\n",
       "      <td>-129.0</td>\n",
       "      <td>-232.0</td>\n",
       "      <td>148.0</td>\n",
       "      <td>-48.0</td>\n",
       "      <td>14.0</td>\n",
       "      <td>164.0</td>\n",
       "      <td>...</td>\n",
       "      <td>1627.0</td>\n",
       "      <td>76.0</td>\n",
       "      <td>119.0</td>\n",
       "      <td>-6.0</td>\n",
       "      <td>68.0</td>\n",
       "      <td>-22.0</td>\n",
       "      <td>27.0</td>\n",
       "      <td>-1088.0</td>\n",
       "      <td>-58.0</td>\n",
       "      <td>2</td>\n",
       "    </tr>\n",
       "  </tbody>\n",
       "</table>\n",
       "<p>5 rows × 16064 columns</p>\n",
       "</div>"
      ],
      "text/plain": [
       "   gene 0  gene 1  gene 2  gene 3  gene 4  gene 5  gene 6  gene 7  gene 8  \\\n",
       "0   -44.0  -254.0  -166.0   -55.0  -130.0  -133.0    80.0   -62.0     1.0   \n",
       "1   -13.0  -124.0  -206.0   -29.0  -117.0  -114.0   111.0   -20.0   -25.0   \n",
       "2   -64.3  -184.9  -334.4  -102.2  -289.0  -145.2  -251.9  -150.9  -184.0   \n",
       "3   -22.0  -169.0  -164.0   -32.0   -49.0  -141.0     0.0   -22.0    16.0   \n",
       "4   -28.0  -167.0  -158.0   100.0  -129.0  -232.0   148.0   -48.0    14.0   \n",
       "\n",
       "   gene 9  ...  gene 16054  gene 16055  gene 16056  gene 16057  gene 16058  \\\n",
       "0    22.0  ...       715.0        25.0        47.0      -270.0      -265.0   \n",
       "1    18.0  ...       695.0        10.0        57.0       -50.0       -45.0   \n",
       "2   179.1  ...      1324.6         9.8       127.7       244.0        76.5   \n",
       "3    67.0  ...       170.0        20.0        35.0      -275.0      -230.0   \n",
       "4   164.0  ...      1627.0        76.0       119.0        -6.0        68.0   \n",
       "\n",
       "   gene 16059  gene 16060  gene 16061  gene 16062  label  \n",
       "0      -290.0      -235.0      -826.0      -262.0      1  \n",
       "1       -61.0       -22.0      -263.0       -52.0      1  \n",
       "2       100.1       -69.6     -1444.3      -121.6      1  \n",
       "3      -136.0      -228.0      -404.0      -259.0      2  \n",
       "4       -22.0        27.0     -1088.0       -58.0      2  \n",
       "\n",
       "[5 rows x 16064 columns]"
      ]
     },
     "execution_count": 47,
     "metadata": {},
     "output_type": "execute_result"
    }
   ],
   "source": [
    "url = 'https://raw.githubusercontent.com/um-perez-alvaro/Data-Science-Theory/master/Data/leukemia_test.csv'\n",
    "data_test = pd.read_csv(url)\n",
    "data_test.head(5)"
   ]
  },
  {
   "cell_type": "code",
   "execution_count": 48,
   "metadata": {},
   "outputs": [
    {
     "data": {
      "text/plain": [
       "(54, 16064)"
      ]
     },
     "execution_count": 48,
     "metadata": {},
     "output_type": "execute_result"
    }
   ],
   "source": [
    "data_test.shape"
   ]
  },
  {
   "cell_type": "markdown",
   "metadata": {},
   "source": [
    " Use the rule:\n",
    "\n",
    "$$\n",
    "\\mbox{classify cancer $i$ as a }\\left\\{ \\begin{array}{ll} \n",
    "\\mbox{leukemia} & \\mbox{ if predicted y_leuk_test}[i]>0.5 \\\\\n",
    "\\mbox{not leukemia } & \\mbox{ if predicted y_leuk_test}[i]\\leq 0.5\n",
    "\\end{array}\\right.\n",
    "$$"
   ]
  },
  {
   "cell_type": "code",
   "execution_count": 49,
   "metadata": {},
   "outputs": [
    {
     "data": {
      "text/plain": [
       "array([ 1,  1,  1,  2,  2,  3,  3,  3,  4,  4,  4,  5,  5,  5,  5,  5,  5,\n",
       "        6,  6,  6,  7,  7,  8,  8,  9,  9,  9,  9,  9,  9, 10, 10, 10, 11,\n",
       "       11, 11, 12, 12, 12, 13, 13, 13, 14, 14, 14, 14, 12,  4,  3,  2,  2,\n",
       "        2,  2,  1], dtype=int64)"
      ]
     },
     "execution_count": 49,
     "metadata": {},
     "output_type": "execute_result"
    }
   ],
   "source": [
    "X_test = data_test.iloc[:,0:16063].to_numpy() # gene expressions levels\n",
    "y_test = data_test['label'].to_numpy() # cancer labels\n",
    "y_test "
   ]
  },
  {
   "cell_type": "code",
   "execution_count": 50,
   "metadata": {},
   "outputs": [
    {
     "data": {
      "text/plain": [
       "array([ 0.01446532,  0.01639552, -0.00863278, -0.04314798, -0.09681533,\n",
       "        0.08689769, -0.14112178, -0.01919921,  0.03040276,  0.01563883,\n",
       "        0.09468102,  0.01899507,  0.00982812, -0.104462  , -0.00870185,\n",
       "        0.09729794, -0.01163165, -0.02864746, -0.00428255,  0.01418498,\n",
       "       -0.00889534,  0.06925133,  0.02647714,  0.07467371,  0.95617809,\n",
       "        0.83479827,  0.71052863,  0.37763769,  0.94490741,  1.01020334,\n",
       "        0.01984142, -0.04351298, -0.02864805,  0.0072616 , -0.00149272,\n",
       "        0.01610733,  0.0064382 , -0.00494856, -0.01076731, -0.01339627,\n",
       "        0.00469679,  0.04740177, -0.06264696, -0.0836904 ,  0.00171157,\n",
       "        0.03330238,  0.01863737,  0.07100255, -0.01878586,  0.02961079,\n",
       "        0.03863624,  0.06611352,  0.11388109, -0.05224418])"
      ]
     },
     "execution_count": 50,
     "metadata": {},
     "output_type": "execute_result"
    }
   ],
   "source": [
    "y_test_pred=X_test.dot(theta)\n",
    "y_test_pred"
   ]
  },
  {
   "cell_type": "markdown",
   "metadata": {},
   "source": [
    "## Part 4"
   ]
  },
  {
   "cell_type": "markdown",
   "metadata": {},
   "source": [
    "Calculate the percentage of correct and incorrect classifications"
   ]
  },
  {
   "cell_type": "code",
   "execution_count": 51,
   "metadata": {},
   "outputs": [
    {
     "data": {
      "text/plain": [
       "array([0., 0., 0., 0., 0., 0., 0., 0., 0., 0., 0., 0., 0., 0., 0., 0., 0.,\n",
       "       0., 0., 0., 0., 0., 0., 0., 1., 1., 1., 1., 1., 1., 0., 0., 0., 0.,\n",
       "       0., 0., 0., 0., 0., 0., 0., 0., 0., 0., 0., 0., 0., 0., 0., 0., 0.,\n",
       "       0., 0., 0.])"
      ]
     },
     "execution_count": 51,
     "metadata": {},
     "output_type": "execute_result"
    }
   ],
   "source": [
    "y_test_0=np.zeros(X_test.shape[0])\n",
    "y_test_0[y_test==9]=1\n",
    "\n",
    "y_test_0"
   ]
  },
  {
   "cell_type": "code",
   "execution_count": 59,
   "metadata": {},
   "outputs": [],
   "source": [
    "y_test_pred_0=np.zeros(len(y_test))\n",
    "y_test_pred_0[y_test_pred>0.5]=1\n",
    "y_test_pred_0[y_test_pred<=0.5]=0"
   ]
  },
  {
   "cell_type": "code",
   "execution_count": 60,
   "metadata": {},
   "outputs": [],
   "source": [
    "correct=(y_test_pred_0==y_test_0).sum()\n",
    "incorrect=(y_test_pred_0!=y_test_0).sum()"
   ]
  },
  {
   "cell_type": "code",
   "execution_count": 61,
   "metadata": {},
   "outputs": [
    {
     "data": {
      "text/plain": [
       "0.9814814814814815"
      ]
     },
     "execution_count": 61,
     "metadata": {},
     "output_type": "execute_result"
    }
   ],
   "source": [
    "correct/len(y_test)"
   ]
  },
  {
   "cell_type": "code",
   "execution_count": 62,
   "metadata": {},
   "outputs": [
    {
     "data": {
      "text/plain": [
       "0.018518518518518517"
      ]
     },
     "execution_count": 62,
     "metadata": {},
     "output_type": "execute_result"
    }
   ],
   "source": [
    "incorrect/len(y_test)"
   ]
  },
  {
   "cell_type": "code",
   "execution_count": null,
   "metadata": {},
   "outputs": [],
   "source": []
  }
 ],
 "metadata": {
  "kernelspec": {
   "display_name": "Python 3 (ipykernel)",
   "language": "python",
   "name": "python3"
  },
  "language_info": {
   "codemirror_mode": {
    "name": "ipython",
    "version": 3
   },
   "file_extension": ".py",
   "mimetype": "text/x-python",
   "name": "python",
   "nbconvert_exporter": "python",
   "pygments_lexer": "ipython3",
   "version": "3.9.7"
  }
 },
 "nbformat": 4,
 "nbformat_minor": 4
}
