{
 "cells": [
  {
   "cell_type": "markdown",
   "id": "e7bf3518",
   "metadata": {},
   "source": [
    "## logistic regression\n",
    "** 1 dimensional example **"
   ]
  },
  {
   "cell_type": "markdown",
   "id": "aa26a056",
   "metadata": {},
   "source": [
    "# #fitting points along a line"
   ]
  },
  {
   "cell_type": "markdown",
   "id": "e40be4c7",
   "metadata": {},
   "source": []
  },
  {
   "cell_type": "markdown",
   "id": "10fd2c8b",
   "metadata": {},
   "source": [
    "### connecting two groups of lines using a \n",
    "## Sigmoid Function\n",
    "\n",
    "** 1/1+e^(theta(0)-theta(1)*x) ** \n",
    "** prediction is 1 if the resut from the sigmoid function is larger than .5 and the result is 0 less than .5 if the digmoid function is lass than .5 **"
   ]
  },
  {
   "cell_type": "markdown",
   "id": "99498ea1",
   "metadata": {},
   "source": [
    "** 2 dimensional example **"
   ]
  },
  {
   "cell_type": "code",
   "execution_count": 1,
   "id": "d56824ac",
   "metadata": {},
   "outputs": [],
   "source": [
    "### ** 1/1+e^(theta0-theta(1)x(1)-theta(2)x(2)....... theta(N)X(N)-) **"
   ]
  },
  {
   "cell_type": "markdown",
   "id": "4fd60083",
   "metadata": {},
   "source": [
    "# questions\n",
    "## 1. how do i chose model hyper parameters\n",
    "### ex. n_neighbors?\n",
    "## 2. will the model perform well on new data?\n",
    "## 3. which model should i use?\n"
   ]
  },
  {
   "cell_type": "markdown",
   "id": "50a5d892",
   "metadata": {},
   "source": [
    "## Evaluation metrics\n",
    "### -accuracy\n",
    "**percentage of correct predictions **\n",
    "### -confusion matrix\n",
    "** the columns are class one or class 0 and the true values /classes and the rows are the prediction of your model **\n",
    "If the value in 1,1 mean it was corectly classied as true (TP) the number in 0,0 are correctly classifed as false (FN) the false vales are (FN) nd (FP) in 1,0 and 0,1\n",
    "\n",
    "accuracy = Tn+TP/sum of all values\n",
    "\n",
    " ## Recall = TP/TP+FN\n",
    " ### when the actuall value is 1 how often is the prediction correct\n",
    "## Precision=TP/FN+TP\n",
    "### when the model PREDICTION is one how often is the prediction correct\n"
   ]
  },
  {
   "cell_type": "markdown",
   "id": "36d6927b",
   "metadata": {},
   "source": [
    "# spam detector\n",
    "** should we use recall or precision? **\n",
    "** (1:spam, 0: non-spam) **\n",
    "** we use precision **\n",
    "** 2. Fraud transaction detector **\n",
    "** (1: fraud: o: non fraud) **\n"
   ]
  },
  {
   "cell_type": "code",
   "execution_count": 2,
   "id": "02757a00",
   "metadata": {},
   "outputs": [],
   "source": [
    "import pandas as pd"
   ]
  },
  {
   "cell_type": "code",
   "execution_count": 3,
   "id": "6b0b23be",
   "metadata": {},
   "outputs": [],
   "source": [
    "url='https://raw.githubusercontent.com/um-perez-alvaro/Data-Science-Practice/master/Data/pima.csv'"
   ]
  },
  {
   "cell_type": "code",
   "execution_count": 4,
   "id": "4f88e3ba",
   "metadata": {},
   "outputs": [],
   "source": [
    "pima = pd.read_csv(url)"
   ]
  },
  {
   "cell_type": "markdown",
   "id": "62e0e931",
   "metadata": {},
   "source": [
    "## Train-Test splt"
   ]
  },
  {
   "cell_type": "markdown",
   "id": "5a0ccf29",
   "metadata": {},
   "source": [
    "# split data set into two data sets:\n",
    "\n",
    "    Training Set(75% : used to train(fit) the model)\n",
    "    \n",
    "    Testing Set(25% : used to train(fit) the model)"
   ]
  },
  {
   "cell_type": "code",
   "execution_count": 5,
   "id": "bbda8b47",
   "metadata": {},
   "outputs": [],
   "source": [
    "from sklearn.model_selection import train_test_split"
   ]
  },
  {
   "cell_type": "code",
   "execution_count": 6,
   "id": "19fb33ac",
   "metadata": {},
   "outputs": [],
   "source": [
    "y=pima.label\n",
    "x= pima.drop('label',axis =1)"
   ]
  },
  {
   "cell_type": "code",
   "execution_count": 9,
   "id": "49e19f84",
   "metadata": {},
   "outputs": [],
   "source": [
    "X_train,X_test,y_train ,y_test=train_test_split(x,y,train_size=.75)"
   ]
  },
  {
   "cell_type": "code",
   "execution_count": 10,
   "id": "4eea3ef2",
   "metadata": {},
   "outputs": [],
   "source": [
    "from sklearn.neighbors import KNeighborsClassifier"
   ]
  },
  {
   "cell_type": "code",
   "execution_count": 12,
   "id": "d7a828b5",
   "metadata": {},
   "outputs": [
    {
     "data": {
      "text/plain": [
       "KNeighborsClassifier(n_neighbors=10)"
      ]
     },
     "execution_count": 12,
     "metadata": {},
     "output_type": "execute_result"
    }
   ],
   "source": [
    "knn_clf= KNeighborsClassifier(n_neighbors=10)\n",
    "knn_clf.fit(X_train,y_train)"
   ]
  },
  {
   "cell_type": "code",
   "execution_count": 13,
   "id": "905dc04f",
   "metadata": {},
   "outputs": [],
   "source": [
    "#make predictions for the testing set\n",
    "y_test_pred= knn_clf.predict(X_test)\n"
   ]
  },
  {
   "cell_type": "code",
   "execution_count": 14,
   "id": "7d3c697b",
   "metadata": {},
   "outputs": [],
   "source": [
    "from sklearn.metrics import accuracy_score, confusion_matrix, recall_score, precision_score"
   ]
  },
  {
   "cell_type": "code",
   "execution_count": 15,
   "id": "f50d0701",
   "metadata": {},
   "outputs": [
    {
     "data": {
      "text/plain": [
       "0.7239583333333334"
      ]
     },
     "execution_count": 15,
     "metadata": {},
     "output_type": "execute_result"
    }
   ],
   "source": [
    "accuracy_score(y_test,y_test_pred)"
   ]
  },
  {
   "cell_type": "code",
   "execution_count": 16,
   "id": "00645fdc",
   "metadata": {},
   "outputs": [
    {
     "data": {
      "text/plain": [
       "array([[103,  17],\n",
       "       [ 36,  36]], dtype=int64)"
      ]
     },
     "execution_count": 16,
     "metadata": {},
     "output_type": "execute_result"
    }
   ],
   "source": [
    "confusion_matrix(y_test,y_test_pred)"
   ]
  },
  {
   "cell_type": "code",
   "execution_count": 17,
   "id": "09cf0395",
   "metadata": {},
   "outputs": [
    {
     "data": {
      "text/plain": [
       "0.5"
      ]
     },
     "execution_count": 17,
     "metadata": {},
     "output_type": "execute_result"
    }
   ],
   "source": [
    "recall_score(y_test,y_test_pred)"
   ]
  },
  {
   "cell_type": "code",
   "execution_count": 18,
   "id": "99d96aee",
   "metadata": {},
   "outputs": [
    {
     "data": {
      "text/plain": [
       "0.6792452830188679"
      ]
     },
     "execution_count": 18,
     "metadata": {},
     "output_type": "execute_result"
    }
   ],
   "source": [
    "precision_score(y_test,y_test_pred)"
   ]
  },
  {
   "cell_type": "code",
   "execution_count": 19,
   "id": "50f82eaa",
   "metadata": {},
   "outputs": [],
   "source": [
    "from sklearn.model_selection import cross_val_score"
   ]
  },
  {
   "cell_type": "code",
   "execution_count": 21,
   "id": "47765e83",
   "metadata": {},
   "outputs": [],
   "source": [
    "precisions= cross_val_score(knn_clf, x,y, cv=5,scoring = 'precision')"
   ]
  },
  {
   "cell_type": "code",
   "execution_count": 22,
   "id": "1bd52428",
   "metadata": {},
   "outputs": [
    {
     "data": {
      "text/plain": [
       "0.6839236397375932"
      ]
     },
     "execution_count": 22,
     "metadata": {},
     "output_type": "execute_result"
    }
   ],
   "source": [
    "precisions.mean()"
   ]
  },
  {
   "cell_type": "code",
   "execution_count": null,
   "id": "302f6d89",
   "metadata": {},
   "outputs": [],
   "source": []
  }
 ],
 "metadata": {
  "kernelspec": {
   "display_name": "Python 3.9.12 ('base')",
   "language": "python",
   "name": "python3"
  },
  "language_info": {
   "codemirror_mode": {
    "name": "ipython",
    "version": 3
   },
   "file_extension": ".py",
   "mimetype": "text/x-python",
   "name": "python",
   "nbconvert_exporter": "python",
   "pygments_lexer": "ipython3",
   "version": "3.9.12"
  },
  "vscode": {
   "interpreter": {
    "hash": "64f66822a0f77c79a13345922a004189662baff35ab326d8d7e9a08c27c4bee1"
   }
  }
 },
 "nbformat": 4,
 "nbformat_minor": 5
}
