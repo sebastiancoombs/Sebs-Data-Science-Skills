{
 "cells": [
  {
   "cell_type": "code",
   "execution_count": 1,
   "metadata": {},
   "outputs": [],
   "source": [
    "import pandas as pd\n",
    "import numpy as np\n",
    "import matplotlib.pyplot as plt\n",
    "from sklearn.model_selection import train_test_split,GridSearchCV\n",
    "from sklearn.pipeline import Pipeline\n",
    "from sklearn.impute import SimpleImputer\n",
    "from sklearn.preprocessing import MinMaxScaler\n",
    "from sklearn.ensemble import RandomForestRegressor\n",
    "from sklearn.linear_model import LogisticRegression,Lasso,Ridge\n",
    "from sklearn.metrics import accuracy_score,recall_score,confusion_matrix, plot_confusion_matrix\n",
    "from sklearn import set_config\n",
    "set_config(display='diagram')"
   ]
  },
  {
   "cell_type": "markdown",
   "metadata": {},
   "source": [
    "# Predicting House Prices"
   ]
  },
  {
   "cell_type": "code",
   "execution_count": 2,
   "metadata": {
    "scrolled": false
   },
   "outputs": [
    {
     "data": {
      "text/html": [
       "<div>\n",
       "<style scoped>\n",
       "    .dataframe tbody tr th:only-of-type {\n",
       "        vertical-align: middle;\n",
       "    }\n",
       "\n",
       "    .dataframe tbody tr th {\n",
       "        vertical-align: top;\n",
       "    }\n",
       "\n",
       "    .dataframe thead th {\n",
       "        text-align: right;\n",
       "    }\n",
       "</style>\n",
       "<table border=\"1\" class=\"dataframe\">\n",
       "  <thead>\n",
       "    <tr style=\"text-align: right;\">\n",
       "      <th></th>\n",
       "      <th>date</th>\n",
       "      <th>price</th>\n",
       "      <th>bedrooms</th>\n",
       "      <th>bathrooms</th>\n",
       "      <th>sqft_living</th>\n",
       "      <th>sqft_lot</th>\n",
       "      <th>floors</th>\n",
       "      <th>waterfront</th>\n",
       "      <th>view</th>\n",
       "      <th>condition</th>\n",
       "      <th>grade</th>\n",
       "      <th>sqft_above</th>\n",
       "      <th>sqft_basement</th>\n",
       "      <th>yr_built</th>\n",
       "      <th>yr_renovated</th>\n",
       "      <th>zipcode</th>\n",
       "      <th>lat</th>\n",
       "      <th>long</th>\n",
       "      <th>sqft_living15</th>\n",
       "      <th>sqft_lot15</th>\n",
       "    </tr>\n",
       "    <tr>\n",
       "      <th>id</th>\n",
       "      <th></th>\n",
       "      <th></th>\n",
       "      <th></th>\n",
       "      <th></th>\n",
       "      <th></th>\n",
       "      <th></th>\n",
       "      <th></th>\n",
       "      <th></th>\n",
       "      <th></th>\n",
       "      <th></th>\n",
       "      <th></th>\n",
       "      <th></th>\n",
       "      <th></th>\n",
       "      <th></th>\n",
       "      <th></th>\n",
       "      <th></th>\n",
       "      <th></th>\n",
       "      <th></th>\n",
       "      <th></th>\n",
       "      <th></th>\n",
       "    </tr>\n",
       "  </thead>\n",
       "  <tbody>\n",
       "    <tr>\n",
       "      <th>7129300520</th>\n",
       "      <td>20141013T000000</td>\n",
       "      <td>221900.0</td>\n",
       "      <td>3</td>\n",
       "      <td>1.00</td>\n",
       "      <td>1180</td>\n",
       "      <td>5650</td>\n",
       "      <td>1.0</td>\n",
       "      <td>0</td>\n",
       "      <td>0</td>\n",
       "      <td>3</td>\n",
       "      <td>7</td>\n",
       "      <td>1180</td>\n",
       "      <td>0</td>\n",
       "      <td>1955</td>\n",
       "      <td>0</td>\n",
       "      <td>98178</td>\n",
       "      <td>47.5112</td>\n",
       "      <td>-122.257</td>\n",
       "      <td>1340</td>\n",
       "      <td>5650</td>\n",
       "    </tr>\n",
       "    <tr>\n",
       "      <th>6414100192</th>\n",
       "      <td>20141209T000000</td>\n",
       "      <td>538000.0</td>\n",
       "      <td>3</td>\n",
       "      <td>2.25</td>\n",
       "      <td>2570</td>\n",
       "      <td>7242</td>\n",
       "      <td>2.0</td>\n",
       "      <td>0</td>\n",
       "      <td>0</td>\n",
       "      <td>3</td>\n",
       "      <td>7</td>\n",
       "      <td>2170</td>\n",
       "      <td>400</td>\n",
       "      <td>1951</td>\n",
       "      <td>1991</td>\n",
       "      <td>98125</td>\n",
       "      <td>47.7210</td>\n",
       "      <td>-122.319</td>\n",
       "      <td>1690</td>\n",
       "      <td>7639</td>\n",
       "    </tr>\n",
       "    <tr>\n",
       "      <th>5631500400</th>\n",
       "      <td>20150225T000000</td>\n",
       "      <td>180000.0</td>\n",
       "      <td>2</td>\n",
       "      <td>1.00</td>\n",
       "      <td>770</td>\n",
       "      <td>10000</td>\n",
       "      <td>1.0</td>\n",
       "      <td>0</td>\n",
       "      <td>0</td>\n",
       "      <td>3</td>\n",
       "      <td>6</td>\n",
       "      <td>770</td>\n",
       "      <td>0</td>\n",
       "      <td>1933</td>\n",
       "      <td>0</td>\n",
       "      <td>98028</td>\n",
       "      <td>47.7379</td>\n",
       "      <td>-122.233</td>\n",
       "      <td>2720</td>\n",
       "      <td>8062</td>\n",
       "    </tr>\n",
       "    <tr>\n",
       "      <th>2487200875</th>\n",
       "      <td>20141209T000000</td>\n",
       "      <td>604000.0</td>\n",
       "      <td>4</td>\n",
       "      <td>3.00</td>\n",
       "      <td>1960</td>\n",
       "      <td>5000</td>\n",
       "      <td>1.0</td>\n",
       "      <td>0</td>\n",
       "      <td>0</td>\n",
       "      <td>5</td>\n",
       "      <td>7</td>\n",
       "      <td>1050</td>\n",
       "      <td>910</td>\n",
       "      <td>1965</td>\n",
       "      <td>0</td>\n",
       "      <td>98136</td>\n",
       "      <td>47.5208</td>\n",
       "      <td>-122.393</td>\n",
       "      <td>1360</td>\n",
       "      <td>5000</td>\n",
       "    </tr>\n",
       "    <tr>\n",
       "      <th>1954400510</th>\n",
       "      <td>20150218T000000</td>\n",
       "      <td>510000.0</td>\n",
       "      <td>3</td>\n",
       "      <td>2.00</td>\n",
       "      <td>1680</td>\n",
       "      <td>8080</td>\n",
       "      <td>1.0</td>\n",
       "      <td>0</td>\n",
       "      <td>0</td>\n",
       "      <td>3</td>\n",
       "      <td>8</td>\n",
       "      <td>1680</td>\n",
       "      <td>0</td>\n",
       "      <td>1987</td>\n",
       "      <td>0</td>\n",
       "      <td>98074</td>\n",
       "      <td>47.6168</td>\n",
       "      <td>-122.045</td>\n",
       "      <td>1800</td>\n",
       "      <td>7503</td>\n",
       "    </tr>\n",
       "  </tbody>\n",
       "</table>\n",
       "</div>"
      ],
      "text/plain": [
       "                       date     price  bedrooms  bathrooms  sqft_living  \\\n",
       "id                                                                        \n",
       "7129300520  20141013T000000  221900.0         3       1.00         1180   \n",
       "6414100192  20141209T000000  538000.0         3       2.25         2570   \n",
       "5631500400  20150225T000000  180000.0         2       1.00          770   \n",
       "2487200875  20141209T000000  604000.0         4       3.00         1960   \n",
       "1954400510  20150218T000000  510000.0         3       2.00         1680   \n",
       "\n",
       "            sqft_lot  floors  waterfront  view  condition  grade  sqft_above  \\\n",
       "id                                                                             \n",
       "7129300520      5650     1.0           0     0          3      7        1180   \n",
       "6414100192      7242     2.0           0     0          3      7        2170   \n",
       "5631500400     10000     1.0           0     0          3      6         770   \n",
       "2487200875      5000     1.0           0     0          5      7        1050   \n",
       "1954400510      8080     1.0           0     0          3      8        1680   \n",
       "\n",
       "            sqft_basement  yr_built  yr_renovated  zipcode      lat     long  \\\n",
       "id                                                                             \n",
       "7129300520              0      1955             0    98178  47.5112 -122.257   \n",
       "6414100192            400      1951          1991    98125  47.7210 -122.319   \n",
       "5631500400              0      1933             0    98028  47.7379 -122.233   \n",
       "2487200875            910      1965             0    98136  47.5208 -122.393   \n",
       "1954400510              0      1987             0    98074  47.6168 -122.045   \n",
       "\n",
       "            sqft_living15  sqft_lot15  \n",
       "id                                     \n",
       "7129300520           1340        5650  \n",
       "6414100192           1690        7639  \n",
       "5631500400           2720        8062  \n",
       "2487200875           1360        5000  \n",
       "1954400510           1800        7503  "
      ]
     },
     "execution_count": 2,
     "metadata": {},
     "output_type": "execute_result"
    }
   ],
   "source": [
    "# load the data\n",
    "url = 'https://raw.githubusercontent.com/um-perez-alvaro/Data-Science-Practice/master/Data/kc_house_data.csv'\n",
    "sales = pd.read_csv(url, index_col='id')\n",
    "sales.head()"
   ]
  },
  {
   "cell_type": "markdown",
   "metadata": {},
   "source": [
    "This dataset contains house sale prices for King County, which includes Seattle. \n",
    "It includes homes sold between May 2014 and May 2015."
   ]
  },
  {
   "cell_type": "markdown",
   "metadata": {},
   "source": [
    "There are 21 columns:"
   ]
  },
  {
   "cell_type": "markdown",
   "metadata": {},
   "source": [
    "| Column | Description |\n",
    "| :- | -: |\n",
    "| id | Unique ID for each home sold |\n",
    "| date | Date of the home sale |\n",
    "| price | Price of each home sold |\n",
    "| bedrooms | Number of bedrooms |\n",
    "| bathrooms | Number of bathrooms, where .5 accounts for a room with a toilet but no shower |\n",
    "| sqft_living | Square footage of the apartments interior living space |\n",
    "| sqft_lot | Square footage of the land space |\n",
    "| floors | Number of floors |\n",
    "| waterfront | A dummy variable for whether the apartment was overlooking the waterfront or not |\n",
    "| view | An index from 0 to 4 of how good the view of the property was |\n",
    "| condition | An index from 1 to 5 on the condition of the apartment |\n",
    "| grade | An index from 1 to 13, where 1-3 falls short of building construction and design, 7 has an average level of construction and design, and 11-13 have a high quality level of construction and design |\n",
    "| sqft_above | The square footage of the interior housing space hat is above ground level |\n",
    "| sqft_basement | The square footage of the interior housing space that is below ground level |\n",
    "| yr_built | The year the house was initially built |\n",
    "| yr_renovated | The year of the house's last renovation |\n",
    "| zipcode | What zipcode area the house is in |\n",
    "| lat | Latitude |\n",
    "| long | Longitude |\n",
    "| sqft_living15 | The square footage of interior housing living space for the nearest 15 neighbors |\n",
    "| sqft_lot15 | The square footage of the land lots of the nearest 15 neighbors |"
   ]
  },
  {
   "cell_type": "markdown",
   "metadata": {},
   "source": [
    "Your **goal** is to **train** a regression pipeline that predicts house prices, **tune** the pipeline hyperparameters, and **test** its performance."
   ]
  },
  {
   "cell_type": "code",
   "execution_count": 3,
   "metadata": {},
   "outputs": [],
   "source": [
    "X=sales.drop(['price','date','lat','long'],axis=1)\n",
    "y=sales.price"
   ]
  },
  {
   "cell_type": "code",
   "execution_count": 4,
   "metadata": {},
   "outputs": [],
   "source": [
    "X_train,X_test,y_train,y_test= train_test_split(X,y)"
   ]
  },
  {
   "cell_type": "code",
   "execution_count": 5,
   "metadata": {},
   "outputs": [],
   "source": [
    "pipe= Pipeline(steps=[\n",
    "    ('imputer', SimpleImputer(strategy='mean')),\n",
    "    ('scaler',MinMaxScaler()),\n",
    "    ('reg',RandomForestRegressor())\n",
    "])"
   ]
  },
  {
   "cell_type": "code",
   "execution_count": 6,
   "metadata": {},
   "outputs": [
    {
     "data": {
      "text/html": [
       "<style>#sk-c392c357-1755-408a-9684-52d0d7974cd4 {color: black;background-color: white;}#sk-c392c357-1755-408a-9684-52d0d7974cd4 pre{padding: 0;}#sk-c392c357-1755-408a-9684-52d0d7974cd4 div.sk-toggleable {background-color: white;}#sk-c392c357-1755-408a-9684-52d0d7974cd4 label.sk-toggleable__label {cursor: pointer;display: block;width: 100%;margin-bottom: 0;padding: 0.2em 0.3em;box-sizing: border-box;text-align: center;}#sk-c392c357-1755-408a-9684-52d0d7974cd4 div.sk-toggleable__content {max-height: 0;max-width: 0;overflow: hidden;text-align: left;background-color: #f0f8ff;}#sk-c392c357-1755-408a-9684-52d0d7974cd4 div.sk-toggleable__content pre {margin: 0.2em;color: black;border-radius: 0.25em;background-color: #f0f8ff;}#sk-c392c357-1755-408a-9684-52d0d7974cd4 input.sk-toggleable__control:checked~div.sk-toggleable__content {max-height: 200px;max-width: 100%;overflow: auto;}#sk-c392c357-1755-408a-9684-52d0d7974cd4 div.sk-estimator input.sk-toggleable__control:checked~label.sk-toggleable__label {background-color: #d4ebff;}#sk-c392c357-1755-408a-9684-52d0d7974cd4 div.sk-label input.sk-toggleable__control:checked~label.sk-toggleable__label {background-color: #d4ebff;}#sk-c392c357-1755-408a-9684-52d0d7974cd4 input.sk-hidden--visually {border: 0;clip: rect(1px 1px 1px 1px);clip: rect(1px, 1px, 1px, 1px);height: 1px;margin: -1px;overflow: hidden;padding: 0;position: absolute;width: 1px;}#sk-c392c357-1755-408a-9684-52d0d7974cd4 div.sk-estimator {font-family: monospace;background-color: #f0f8ff;margin: 0.25em 0.25em;border: 1px dotted black;border-radius: 0.25em;box-sizing: border-box;}#sk-c392c357-1755-408a-9684-52d0d7974cd4 div.sk-estimator:hover {background-color: #d4ebff;}#sk-c392c357-1755-408a-9684-52d0d7974cd4 div.sk-parallel-item::after {content: \"\";width: 100%;border-bottom: 1px solid gray;flex-grow: 1;}#sk-c392c357-1755-408a-9684-52d0d7974cd4 div.sk-label:hover label.sk-toggleable__label {background-color: #d4ebff;}#sk-c392c357-1755-408a-9684-52d0d7974cd4 div.sk-serial::before {content: \"\";position: absolute;border-left: 1px solid gray;box-sizing: border-box;top: 2em;bottom: 0;left: 50%;}#sk-c392c357-1755-408a-9684-52d0d7974cd4 div.sk-serial {display: flex;flex-direction: column;align-items: center;background-color: white;}#sk-c392c357-1755-408a-9684-52d0d7974cd4 div.sk-item {z-index: 1;}#sk-c392c357-1755-408a-9684-52d0d7974cd4 div.sk-parallel {display: flex;align-items: stretch;justify-content: center;background-color: white;}#sk-c392c357-1755-408a-9684-52d0d7974cd4 div.sk-parallel-item {display: flex;flex-direction: column;position: relative;background-color: white;}#sk-c392c357-1755-408a-9684-52d0d7974cd4 div.sk-parallel-item:first-child::after {align-self: flex-end;width: 50%;}#sk-c392c357-1755-408a-9684-52d0d7974cd4 div.sk-parallel-item:last-child::after {align-self: flex-start;width: 50%;}#sk-c392c357-1755-408a-9684-52d0d7974cd4 div.sk-parallel-item:only-child::after {width: 0;}#sk-c392c357-1755-408a-9684-52d0d7974cd4 div.sk-dashed-wrapped {border: 1px dashed gray;margin: 0.2em;box-sizing: border-box;padding-bottom: 0.1em;background-color: white;position: relative;}#sk-c392c357-1755-408a-9684-52d0d7974cd4 div.sk-label label {font-family: monospace;font-weight: bold;background-color: white;display: inline-block;line-height: 1.2em;}#sk-c392c357-1755-408a-9684-52d0d7974cd4 div.sk-label-container {position: relative;z-index: 2;text-align: center;}#sk-c392c357-1755-408a-9684-52d0d7974cd4 div.sk-container {display: inline-block;position: relative;}</style><div id=\"sk-c392c357-1755-408a-9684-52d0d7974cd4\" class\"sk-top-container\"><div class=\"sk-container\"><div class=\"sk-item sk-dashed-wrapped\"><div class=\"sk-label-container\"><div class=\"sk-label sk-toggleable\"><input class=\"sk-toggleable__control sk-hidden--visually\" id=\"f26a0baf-6e7f-46e3-8e66-8d080b49470d\" type=\"checkbox\" ><label class=\"sk-toggleable__label\" for=\"f26a0baf-6e7f-46e3-8e66-8d080b49470d\">Pipeline</label><div class=\"sk-toggleable__content\"><pre>Pipeline(steps=[('imputer', SimpleImputer()), ('scaler', MinMaxScaler()),\n",
       "                ('reg', RandomForestRegressor())])</pre></div></div></div><div class=\"sk-serial\"><div class=\"sk-item\"><div class=\"sk-estimator sk-toggleable\"><input class=\"sk-toggleable__control sk-hidden--visually\" id=\"4e4356f8-09a7-4f02-bba2-bb3329c75698\" type=\"checkbox\" ><label class=\"sk-toggleable__label\" for=\"4e4356f8-09a7-4f02-bba2-bb3329c75698\">SimpleImputer</label><div class=\"sk-toggleable__content\"><pre>SimpleImputer()</pre></div></div></div><div class=\"sk-item\"><div class=\"sk-estimator sk-toggleable\"><input class=\"sk-toggleable__control sk-hidden--visually\" id=\"60e1dfcf-1ed2-440c-9b64-810fc0838aca\" type=\"checkbox\" ><label class=\"sk-toggleable__label\" for=\"60e1dfcf-1ed2-440c-9b64-810fc0838aca\">MinMaxScaler</label><div class=\"sk-toggleable__content\"><pre>MinMaxScaler()</pre></div></div></div><div class=\"sk-item\"><div class=\"sk-estimator sk-toggleable\"><input class=\"sk-toggleable__control sk-hidden--visually\" id=\"f39a3ea9-5a36-4d19-83ac-934193f9a16a\" type=\"checkbox\" ><label class=\"sk-toggleable__label\" for=\"f39a3ea9-5a36-4d19-83ac-934193f9a16a\">RandomForestRegressor</label><div class=\"sk-toggleable__content\"><pre>RandomForestRegressor()</pre></div></div></div></div></div></div></div>"
      ],
      "text/plain": [
       "Pipeline(steps=[('imputer', SimpleImputer()), ('scaler', MinMaxScaler()),\n",
       "                ('reg', RandomForestRegressor())])"
      ]
     },
     "execution_count": 6,
     "metadata": {},
     "output_type": "execute_result"
    }
   ],
   "source": [
    "pipe.fit(X_train,y_train)"
   ]
  },
  {
   "cell_type": "code",
   "execution_count": 7,
   "metadata": {},
   "outputs": [],
   "source": [
    "prarams_dic={'reg__min_samples_leaf':[1,2,4,8],\n",
    "            'reg__max_depth':[2,5,10]}"
   ]
  },
  {
   "cell_type": "code",
   "execution_count": 10,
   "metadata": {},
   "outputs": [],
   "source": [
    "grid=GridSearchCV(pipe,\n",
    "                  prarams_dic,\n",
    "                  cv=10,\n",
    "                  scoring='neg_root_mean_squared_error',\n",
    "                  n_jobs=-1,verbose=1)"
   ]
  },
  {
   "cell_type": "code",
   "execution_count": 11,
   "metadata": {},
   "outputs": [
    {
     "name": "stdout",
     "output_type": "stream",
     "text": [
      "Fitting 10 folds for each of 12 candidates, totalling 120 fits\n"
     ]
    },
    {
     "data": {
      "text/html": [
       "<style>#sk-de61c3c9-3e66-4cb4-b3c7-5a7efa71dcd2 {color: black;background-color: white;}#sk-de61c3c9-3e66-4cb4-b3c7-5a7efa71dcd2 pre{padding: 0;}#sk-de61c3c9-3e66-4cb4-b3c7-5a7efa71dcd2 div.sk-toggleable {background-color: white;}#sk-de61c3c9-3e66-4cb4-b3c7-5a7efa71dcd2 label.sk-toggleable__label {cursor: pointer;display: block;width: 100%;margin-bottom: 0;padding: 0.2em 0.3em;box-sizing: border-box;text-align: center;}#sk-de61c3c9-3e66-4cb4-b3c7-5a7efa71dcd2 div.sk-toggleable__content {max-height: 0;max-width: 0;overflow: hidden;text-align: left;background-color: #f0f8ff;}#sk-de61c3c9-3e66-4cb4-b3c7-5a7efa71dcd2 div.sk-toggleable__content pre {margin: 0.2em;color: black;border-radius: 0.25em;background-color: #f0f8ff;}#sk-de61c3c9-3e66-4cb4-b3c7-5a7efa71dcd2 input.sk-toggleable__control:checked~div.sk-toggleable__content {max-height: 200px;max-width: 100%;overflow: auto;}#sk-de61c3c9-3e66-4cb4-b3c7-5a7efa71dcd2 div.sk-estimator input.sk-toggleable__control:checked~label.sk-toggleable__label {background-color: #d4ebff;}#sk-de61c3c9-3e66-4cb4-b3c7-5a7efa71dcd2 div.sk-label input.sk-toggleable__control:checked~label.sk-toggleable__label {background-color: #d4ebff;}#sk-de61c3c9-3e66-4cb4-b3c7-5a7efa71dcd2 input.sk-hidden--visually {border: 0;clip: rect(1px 1px 1px 1px);clip: rect(1px, 1px, 1px, 1px);height: 1px;margin: -1px;overflow: hidden;padding: 0;position: absolute;width: 1px;}#sk-de61c3c9-3e66-4cb4-b3c7-5a7efa71dcd2 div.sk-estimator {font-family: monospace;background-color: #f0f8ff;margin: 0.25em 0.25em;border: 1px dotted black;border-radius: 0.25em;box-sizing: border-box;}#sk-de61c3c9-3e66-4cb4-b3c7-5a7efa71dcd2 div.sk-estimator:hover {background-color: #d4ebff;}#sk-de61c3c9-3e66-4cb4-b3c7-5a7efa71dcd2 div.sk-parallel-item::after {content: \"\";width: 100%;border-bottom: 1px solid gray;flex-grow: 1;}#sk-de61c3c9-3e66-4cb4-b3c7-5a7efa71dcd2 div.sk-label:hover label.sk-toggleable__label {background-color: #d4ebff;}#sk-de61c3c9-3e66-4cb4-b3c7-5a7efa71dcd2 div.sk-serial::before {content: \"\";position: absolute;border-left: 1px solid gray;box-sizing: border-box;top: 2em;bottom: 0;left: 50%;}#sk-de61c3c9-3e66-4cb4-b3c7-5a7efa71dcd2 div.sk-serial {display: flex;flex-direction: column;align-items: center;background-color: white;}#sk-de61c3c9-3e66-4cb4-b3c7-5a7efa71dcd2 div.sk-item {z-index: 1;}#sk-de61c3c9-3e66-4cb4-b3c7-5a7efa71dcd2 div.sk-parallel {display: flex;align-items: stretch;justify-content: center;background-color: white;}#sk-de61c3c9-3e66-4cb4-b3c7-5a7efa71dcd2 div.sk-parallel-item {display: flex;flex-direction: column;position: relative;background-color: white;}#sk-de61c3c9-3e66-4cb4-b3c7-5a7efa71dcd2 div.sk-parallel-item:first-child::after {align-self: flex-end;width: 50%;}#sk-de61c3c9-3e66-4cb4-b3c7-5a7efa71dcd2 div.sk-parallel-item:last-child::after {align-self: flex-start;width: 50%;}#sk-de61c3c9-3e66-4cb4-b3c7-5a7efa71dcd2 div.sk-parallel-item:only-child::after {width: 0;}#sk-de61c3c9-3e66-4cb4-b3c7-5a7efa71dcd2 div.sk-dashed-wrapped {border: 1px dashed gray;margin: 0.2em;box-sizing: border-box;padding-bottom: 0.1em;background-color: white;position: relative;}#sk-de61c3c9-3e66-4cb4-b3c7-5a7efa71dcd2 div.sk-label label {font-family: monospace;font-weight: bold;background-color: white;display: inline-block;line-height: 1.2em;}#sk-de61c3c9-3e66-4cb4-b3c7-5a7efa71dcd2 div.sk-label-container {position: relative;z-index: 2;text-align: center;}#sk-de61c3c9-3e66-4cb4-b3c7-5a7efa71dcd2 div.sk-container {display: inline-block;position: relative;}</style><div id=\"sk-de61c3c9-3e66-4cb4-b3c7-5a7efa71dcd2\" class\"sk-top-container\"><div class=\"sk-container\"><div class=\"sk-item sk-dashed-wrapped\"><div class=\"sk-label-container\"><div class=\"sk-label sk-toggleable\"><input class=\"sk-toggleable__control sk-hidden--visually\" id=\"76100205-c266-4971-a3af-f09947ddeeb3\" type=\"checkbox\" ><label class=\"sk-toggleable__label\" for=\"76100205-c266-4971-a3af-f09947ddeeb3\">GridSearchCV</label><div class=\"sk-toggleable__content\"><pre>GridSearchCV(cv=10,\n",
       "             estimator=Pipeline(steps=[('imputer', SimpleImputer()),\n",
       "                                       ('scaler', MinMaxScaler()),\n",
       "                                       ('reg', RandomForestRegressor())]),\n",
       "             n_jobs=-1,\n",
       "             param_grid={'reg__max_depth': [2, 5, 10],\n",
       "                         'reg__min_samples_leaf': [1, 2, 4, 8]},\n",
       "             scoring='neg_root_mean_squared_error', verbose=1)</pre></div></div></div><div class=\"sk-parallel\"><div class=\"sk-parallel-item\"><div class=\"sk-item\"><div class=\"sk-serial\"><div class=\"sk-item\"><div class=\"sk-serial\"><div class=\"sk-item\"><div class=\"sk-estimator sk-toggleable\"><input class=\"sk-toggleable__control sk-hidden--visually\" id=\"95da0153-d890-4b91-858c-3cf8f3f3d7a7\" type=\"checkbox\" ><label class=\"sk-toggleable__label\" for=\"95da0153-d890-4b91-858c-3cf8f3f3d7a7\">SimpleImputer</label><div class=\"sk-toggleable__content\"><pre>SimpleImputer()</pre></div></div></div><div class=\"sk-item\"><div class=\"sk-estimator sk-toggleable\"><input class=\"sk-toggleable__control sk-hidden--visually\" id=\"ca4eb5dc-987a-4285-9d91-d52b016f0c25\" type=\"checkbox\" ><label class=\"sk-toggleable__label\" for=\"ca4eb5dc-987a-4285-9d91-d52b016f0c25\">MinMaxScaler</label><div class=\"sk-toggleable__content\"><pre>MinMaxScaler()</pre></div></div></div><div class=\"sk-item\"><div class=\"sk-estimator sk-toggleable\"><input class=\"sk-toggleable__control sk-hidden--visually\" id=\"4ee50e33-230c-4242-9aa0-e1a8b6c63b4a\" type=\"checkbox\" ><label class=\"sk-toggleable__label\" for=\"4ee50e33-230c-4242-9aa0-e1a8b6c63b4a\">RandomForestRegressor</label><div class=\"sk-toggleable__content\"><pre>RandomForestRegressor()</pre></div></div></div></div></div></div></div></div></div></div></div></div>"
      ],
      "text/plain": [
       "GridSearchCV(cv=10,\n",
       "             estimator=Pipeline(steps=[('imputer', SimpleImputer()),\n",
       "                                       ('scaler', MinMaxScaler()),\n",
       "                                       ('reg', RandomForestRegressor())]),\n",
       "             n_jobs=-1,\n",
       "             param_grid={'reg__max_depth': [2, 5, 10],\n",
       "                         'reg__min_samples_leaf': [1, 2, 4, 8]},\n",
       "             scoring='neg_root_mean_squared_error', verbose=1)"
      ]
     },
     "execution_count": 11,
     "metadata": {},
     "output_type": "execute_result"
    }
   ],
   "source": [
    "grid.fit(X_train,y_train)"
   ]
  },
  {
   "cell_type": "code",
   "execution_count": 12,
   "metadata": {},
   "outputs": [
    {
     "data": {
      "text/plain": [
       "-170657.47862634223"
      ]
     },
     "execution_count": 12,
     "metadata": {},
     "output_type": "execute_result"
    }
   ],
   "source": [
    "grid.best_score_"
   ]
  },
  {
   "cell_type": "code",
   "execution_count": 13,
   "metadata": {},
   "outputs": [],
   "source": [
    "best_clf=grid.best_estimator_"
   ]
  },
  {
   "cell_type": "code",
   "execution_count": 14,
   "metadata": {},
   "outputs": [
    {
     "data": {
      "text/html": [
       "<style>#sk-ef9dc703-bd03-44b0-bac2-632fc1a16b81 {color: black;background-color: white;}#sk-ef9dc703-bd03-44b0-bac2-632fc1a16b81 pre{padding: 0;}#sk-ef9dc703-bd03-44b0-bac2-632fc1a16b81 div.sk-toggleable {background-color: white;}#sk-ef9dc703-bd03-44b0-bac2-632fc1a16b81 label.sk-toggleable__label {cursor: pointer;display: block;width: 100%;margin-bottom: 0;padding: 0.2em 0.3em;box-sizing: border-box;text-align: center;}#sk-ef9dc703-bd03-44b0-bac2-632fc1a16b81 div.sk-toggleable__content {max-height: 0;max-width: 0;overflow: hidden;text-align: left;background-color: #f0f8ff;}#sk-ef9dc703-bd03-44b0-bac2-632fc1a16b81 div.sk-toggleable__content pre {margin: 0.2em;color: black;border-radius: 0.25em;background-color: #f0f8ff;}#sk-ef9dc703-bd03-44b0-bac2-632fc1a16b81 input.sk-toggleable__control:checked~div.sk-toggleable__content {max-height: 200px;max-width: 100%;overflow: auto;}#sk-ef9dc703-bd03-44b0-bac2-632fc1a16b81 div.sk-estimator input.sk-toggleable__control:checked~label.sk-toggleable__label {background-color: #d4ebff;}#sk-ef9dc703-bd03-44b0-bac2-632fc1a16b81 div.sk-label input.sk-toggleable__control:checked~label.sk-toggleable__label {background-color: #d4ebff;}#sk-ef9dc703-bd03-44b0-bac2-632fc1a16b81 input.sk-hidden--visually {border: 0;clip: rect(1px 1px 1px 1px);clip: rect(1px, 1px, 1px, 1px);height: 1px;margin: -1px;overflow: hidden;padding: 0;position: absolute;width: 1px;}#sk-ef9dc703-bd03-44b0-bac2-632fc1a16b81 div.sk-estimator {font-family: monospace;background-color: #f0f8ff;margin: 0.25em 0.25em;border: 1px dotted black;border-radius: 0.25em;box-sizing: border-box;}#sk-ef9dc703-bd03-44b0-bac2-632fc1a16b81 div.sk-estimator:hover {background-color: #d4ebff;}#sk-ef9dc703-bd03-44b0-bac2-632fc1a16b81 div.sk-parallel-item::after {content: \"\";width: 100%;border-bottom: 1px solid gray;flex-grow: 1;}#sk-ef9dc703-bd03-44b0-bac2-632fc1a16b81 div.sk-label:hover label.sk-toggleable__label {background-color: #d4ebff;}#sk-ef9dc703-bd03-44b0-bac2-632fc1a16b81 div.sk-serial::before {content: \"\";position: absolute;border-left: 1px solid gray;box-sizing: border-box;top: 2em;bottom: 0;left: 50%;}#sk-ef9dc703-bd03-44b0-bac2-632fc1a16b81 div.sk-serial {display: flex;flex-direction: column;align-items: center;background-color: white;}#sk-ef9dc703-bd03-44b0-bac2-632fc1a16b81 div.sk-item {z-index: 1;}#sk-ef9dc703-bd03-44b0-bac2-632fc1a16b81 div.sk-parallel {display: flex;align-items: stretch;justify-content: center;background-color: white;}#sk-ef9dc703-bd03-44b0-bac2-632fc1a16b81 div.sk-parallel-item {display: flex;flex-direction: column;position: relative;background-color: white;}#sk-ef9dc703-bd03-44b0-bac2-632fc1a16b81 div.sk-parallel-item:first-child::after {align-self: flex-end;width: 50%;}#sk-ef9dc703-bd03-44b0-bac2-632fc1a16b81 div.sk-parallel-item:last-child::after {align-self: flex-start;width: 50%;}#sk-ef9dc703-bd03-44b0-bac2-632fc1a16b81 div.sk-parallel-item:only-child::after {width: 0;}#sk-ef9dc703-bd03-44b0-bac2-632fc1a16b81 div.sk-dashed-wrapped {border: 1px dashed gray;margin: 0.2em;box-sizing: border-box;padding-bottom: 0.1em;background-color: white;position: relative;}#sk-ef9dc703-bd03-44b0-bac2-632fc1a16b81 div.sk-label label {font-family: monospace;font-weight: bold;background-color: white;display: inline-block;line-height: 1.2em;}#sk-ef9dc703-bd03-44b0-bac2-632fc1a16b81 div.sk-label-container {position: relative;z-index: 2;text-align: center;}#sk-ef9dc703-bd03-44b0-bac2-632fc1a16b81 div.sk-container {display: inline-block;position: relative;}</style><div id=\"sk-ef9dc703-bd03-44b0-bac2-632fc1a16b81\" class\"sk-top-container\"><div class=\"sk-container\"><div class=\"sk-item sk-dashed-wrapped\"><div class=\"sk-label-container\"><div class=\"sk-label sk-toggleable\"><input class=\"sk-toggleable__control sk-hidden--visually\" id=\"8834f0e4-00f8-4a20-9773-b0abab6838b5\" type=\"checkbox\" ><label class=\"sk-toggleable__label\" for=\"8834f0e4-00f8-4a20-9773-b0abab6838b5\">Pipeline</label><div class=\"sk-toggleable__content\"><pre>Pipeline(steps=[('imputer', SimpleImputer()), ('scaler', MinMaxScaler()),\n",
       "                ('reg', RandomForestRegressor(max_depth=10))])</pre></div></div></div><div class=\"sk-serial\"><div class=\"sk-item\"><div class=\"sk-estimator sk-toggleable\"><input class=\"sk-toggleable__control sk-hidden--visually\" id=\"d5598986-3d95-4fac-a434-83d299fc0ac7\" type=\"checkbox\" ><label class=\"sk-toggleable__label\" for=\"d5598986-3d95-4fac-a434-83d299fc0ac7\">SimpleImputer</label><div class=\"sk-toggleable__content\"><pre>SimpleImputer()</pre></div></div></div><div class=\"sk-item\"><div class=\"sk-estimator sk-toggleable\"><input class=\"sk-toggleable__control sk-hidden--visually\" id=\"efb19262-523c-4c38-bcc8-70725395089a\" type=\"checkbox\" ><label class=\"sk-toggleable__label\" for=\"efb19262-523c-4c38-bcc8-70725395089a\">MinMaxScaler</label><div class=\"sk-toggleable__content\"><pre>MinMaxScaler()</pre></div></div></div><div class=\"sk-item\"><div class=\"sk-estimator sk-toggleable\"><input class=\"sk-toggleable__control sk-hidden--visually\" id=\"07da32fc-0616-4fa0-88df-400831e919d9\" type=\"checkbox\" ><label class=\"sk-toggleable__label\" for=\"07da32fc-0616-4fa0-88df-400831e919d9\">RandomForestRegressor</label><div class=\"sk-toggleable__content\"><pre>RandomForestRegressor(max_depth=10)</pre></div></div></div></div></div></div></div>"
      ],
      "text/plain": [
       "Pipeline(steps=[('imputer', SimpleImputer()), ('scaler', MinMaxScaler()),\n",
       "                ('reg', RandomForestRegressor(max_depth=10))])"
      ]
     },
     "execution_count": 14,
     "metadata": {},
     "output_type": "execute_result"
    }
   ],
   "source": [
    "best_clf.fit(X_train,y_train)"
   ]
  },
  {
   "cell_type": "code",
   "execution_count": 15,
   "metadata": {},
   "outputs": [],
   "source": [
    "y_test_pred=best_clf.predict(X_test)"
   ]
  },
  {
   "cell_type": "code",
   "execution_count": 18,
   "metadata": {},
   "outputs": [],
   "source": [
    "price_pred=best_clf.predict(X)"
   ]
  },
  {
   "cell_type": "code",
   "execution_count": 16,
   "metadata": {},
   "outputs": [],
   "source": [
    "accuracy_score=(y_test,y_test_pred)"
   ]
  },
  {
   "cell_type": "markdown",
   "metadata": {},
   "source": [
    "**Plot** the observed prices against the predicted prices."
   ]
  },
  {
   "cell_type": "code",
   "execution_count": 19,
   "metadata": {},
   "outputs": [],
   "source": [
    "sales['price_pred']=price_pred"
   ]
  },
  {
   "cell_type": "code",
   "execution_count": 23,
   "metadata": {},
   "outputs": [
    {
     "data": {
      "text/html": [
       "<div>\n",
       "<style scoped>\n",
       "    .dataframe tbody tr th:only-of-type {\n",
       "        vertical-align: middle;\n",
       "    }\n",
       "\n",
       "    .dataframe tbody tr th {\n",
       "        vertical-align: top;\n",
       "    }\n",
       "\n",
       "    .dataframe thead th {\n",
       "        text-align: right;\n",
       "    }\n",
       "</style>\n",
       "<table border=\"1\" class=\"dataframe\">\n",
       "  <thead>\n",
       "    <tr style=\"text-align: right;\">\n",
       "      <th></th>\n",
       "      <th>price</th>\n",
       "      <th>price_pred</th>\n",
       "    </tr>\n",
       "    <tr>\n",
       "      <th>id</th>\n",
       "      <th></th>\n",
       "      <th></th>\n",
       "    </tr>\n",
       "  </thead>\n",
       "  <tbody>\n",
       "    <tr>\n",
       "      <th>7129300520</th>\n",
       "      <td>221900.0</td>\n",
       "      <td>334946.842830</td>\n",
       "    </tr>\n",
       "    <tr>\n",
       "      <th>6414100192</th>\n",
       "      <td>538000.0</td>\n",
       "      <td>518030.259718</td>\n",
       "    </tr>\n",
       "    <tr>\n",
       "      <th>5631500400</th>\n",
       "      <td>180000.0</td>\n",
       "      <td>340262.129279</td>\n",
       "    </tr>\n",
       "    <tr>\n",
       "      <th>2487200875</th>\n",
       "      <td>604000.0</td>\n",
       "      <td>386146.516821</td>\n",
       "    </tr>\n",
       "    <tr>\n",
       "      <th>1954400510</th>\n",
       "      <td>510000.0</td>\n",
       "      <td>445455.382510</td>\n",
       "    </tr>\n",
       "    <tr>\n",
       "      <th>...</th>\n",
       "      <td>...</td>\n",
       "      <td>...</td>\n",
       "    </tr>\n",
       "    <tr>\n",
       "      <th>263000018</th>\n",
       "      <td>360000.0</td>\n",
       "      <td>478207.509484</td>\n",
       "    </tr>\n",
       "    <tr>\n",
       "      <th>6600060120</th>\n",
       "      <td>400000.0</td>\n",
       "      <td>509472.678609</td>\n",
       "    </tr>\n",
       "    <tr>\n",
       "      <th>1523300141</th>\n",
       "      <td>402101.0</td>\n",
       "      <td>320746.213111</td>\n",
       "    </tr>\n",
       "    <tr>\n",
       "      <th>291310100</th>\n",
       "      <td>400000.0</td>\n",
       "      <td>446566.450173</td>\n",
       "    </tr>\n",
       "    <tr>\n",
       "      <th>1523300157</th>\n",
       "      <td>325000.0</td>\n",
       "      <td>320746.213111</td>\n",
       "    </tr>\n",
       "  </tbody>\n",
       "</table>\n",
       "<p>21613 rows × 2 columns</p>\n",
       "</div>"
      ],
      "text/plain": [
       "               price     price_pred\n",
       "id                                 \n",
       "7129300520  221900.0  334946.842830\n",
       "6414100192  538000.0  518030.259718\n",
       "5631500400  180000.0  340262.129279\n",
       "2487200875  604000.0  386146.516821\n",
       "1954400510  510000.0  445455.382510\n",
       "...              ...            ...\n",
       "263000018   360000.0  478207.509484\n",
       "6600060120  400000.0  509472.678609\n",
       "1523300141  402101.0  320746.213111\n",
       "291310100   400000.0  446566.450173\n",
       "1523300157  325000.0  320746.213111\n",
       "\n",
       "[21613 rows x 2 columns]"
      ]
     },
     "execution_count": 23,
     "metadata": {},
     "output_type": "execute_result"
    }
   ],
   "source": [
    "sales[['price','price_pred']]"
   ]
  },
  {
   "cell_type": "code",
   "execution_count": 21,
   "metadata": {},
   "outputs": [
    {
     "data": {
      "text/plain": [
       "<AxesSubplot:xlabel='price', ylabel='price_pred'>"
      ]
     },
     "execution_count": 21,
     "metadata": {},
     "output_type": "execute_result"
    },
    {
     "data": {
      "image/png": "[encoded data removed]",
      "text/plain": [
       "<Figure size 432x288 with 1 Axes>"
      ]
     },
     "metadata": {
      "needs_background": "light"
     },
     "output_type": "display_data"
    }
   ],
   "source": [
    "sales.plot.scatter(x='price',y='price_pred',color='red')"
   ]
  },
  {
   "cell_type": "code",
   "execution_count": null,
   "metadata": {},
   "outputs": [],
   "source": []
  }
 ],
 "metadata": {
  "kernelspec": {
   "display_name": "Python 3.9.12 ('base')",
   "language": "python",
   "name": "python3"
  },
  "language_info": {
   "codemirror_mode": {
    "name": "ipython",
    "version": 3
   },
   "file_extension": ".py",
   "mimetype": "text/x-python",
   "name": "python",
   "nbconvert_exporter": "python",
   "pygments_lexer": "ipython3",
   "version": "3.9.12"
  },
  "vscode": {
   "interpreter": {
    "hash": "64f66822a0f77c79a13345922a004189662baff35ab326d8d7e9a08c27c4bee1"
   }
  }
 },
 "nbformat": 4,
 "nbformat_minor": 4
}
