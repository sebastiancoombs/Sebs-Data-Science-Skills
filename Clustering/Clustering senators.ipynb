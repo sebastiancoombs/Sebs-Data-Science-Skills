{
 "cells": [
  {
   "cell_type": "code",
   "execution_count": 1,
   "metadata": {},
   "outputs": [],
   "source": [
    "import numpy as np\n",
    "import pandas as pd\n",
    "import matplotlib.pyplot as plt"
   ]
  },
  {
   "cell_type": "markdown",
   "metadata": {},
   "source": [
    "# Clustering senators"
   ]
  },
  {
   "cell_type": "code",
   "execution_count": 55,
   "metadata": {},
   "outputs": [],
   "source": [
    "def kmeans(X,k,max_iterations=1000, return_inertia=False):\n",
    "    from sklearn.metrics import pairwise_distances\n",
    "    # initialize iteration counter\n",
    "    it = 0\n",
    "    repeat = True\n",
    "    \n",
    "    # number of datapoints\n",
    "    m = X.shape[0] \n",
    "    \n",
    "    # initialization\n",
    "    means = X[np.random.choice(m,k,replace=False)] \n",
    "    dist = pairwise_distances(X,means)\n",
    "    clusters = np.argmin(dist, axis=1)\n",
    " \n",
    "    \n",
    "    while repeat and it<max_iterations:\n",
    "        \n",
    "        # update means; # if a cluster has no data points associated with it, replace it with a random data point\n",
    "        means = np.array([np.mean(X[clusters==i], axis=0) \n",
    "                          if np.sum(clusters==i)!=0\n",
    "                          else  X[np.random.randint(m)]\n",
    "                          for i in range(k)])\n",
    "        \n",
    "        # update clusters\n",
    "        dist = pairwise_distances(X,means)\n",
    "        new_clusters = np.argmin(dist, axis=1)\n",
    "        \n",
    "        # check if the new clusters are equal to the previous clusters\n",
    "        if np.sum(clusters!=new_clusters)==0: \n",
    "            repeat = False\n",
    "        clusters = new_clusters\n",
    "                \n",
    "        it += 1 # increment iteration counter by 1\n",
    "    \n",
    "    \n",
    "    results = {'clusters' : clusters, 'means' : means}\n",
    "    # compute inertia\n",
    "    if return_inertia:\n",
    "        results['inertia'] = np.sum([np.sum((X[clusters==i]-means[i])**2) for i in range(k)])/m\n",
    "    \n",
    "    return results"
   ]
  },
  {
   "cell_type": "code",
   "execution_count": null,
   "metadata": {},
   "outputs": [],
   "source": []
  },
  {
   "cell_type": "markdown",
   "metadata": {},
   "source": [
    "I use the voting history from the 114th Congress to split Senators into clusters."
   ]
  },
  {
   "cell_type": "code",
   "execution_count": 56,
   "metadata": {},
   "outputs": [
    {
     "data": {
      "text/html": [
       "<div>\n",
       "<style scoped>\n",
       "    .dataframe tbody tr th:only-of-type {\n",
       "        vertical-align: middle;\n",
       "    }\n",
       "\n",
       "    .dataframe tbody tr th {\n",
       "        vertical-align: top;\n",
       "    }\n",
       "\n",
       "    .dataframe thead th {\n",
       "        text-align: right;\n",
       "    }\n",
       "</style>\n",
       "<table border=\"1\" class=\"dataframe\">\n",
       "  <thead>\n",
       "    <tr style=\"text-align: right;\">\n",
       "      <th></th>\n",
       "      <th>name</th>\n",
       "      <th>party</th>\n",
       "      <th>state</th>\n",
       "      <th>00001</th>\n",
       "      <th>00004</th>\n",
       "      <th>00005</th>\n",
       "      <th>00006</th>\n",
       "      <th>00007</th>\n",
       "      <th>00008</th>\n",
       "      <th>00009</th>\n",
       "      <th>00010</th>\n",
       "      <th>00020</th>\n",
       "      <th>00026</th>\n",
       "      <th>00032</th>\n",
       "      <th>00038</th>\n",
       "      <th>00039</th>\n",
       "      <th>00044</th>\n",
       "      <th>00047</th>\n",
       "    </tr>\n",
       "  </thead>\n",
       "  <tbody>\n",
       "    <tr>\n",
       "      <th>0</th>\n",
       "      <td>Alexander</td>\n",
       "      <td>R</td>\n",
       "      <td>TN</td>\n",
       "      <td>0.0</td>\n",
       "      <td>1.0</td>\n",
       "      <td>1.0</td>\n",
       "      <td>1.0</td>\n",
       "      <td>1.0</td>\n",
       "      <td>0.0</td>\n",
       "      <td>0.0</td>\n",
       "      <td>1.0</td>\n",
       "      <td>1.0</td>\n",
       "      <td>1.0</td>\n",
       "      <td>0.0</td>\n",
       "      <td>0.0</td>\n",
       "      <td>0.0</td>\n",
       "      <td>0.0</td>\n",
       "      <td>0.0</td>\n",
       "    </tr>\n",
       "    <tr>\n",
       "      <th>1</th>\n",
       "      <td>Ayotte</td>\n",
       "      <td>R</td>\n",
       "      <td>NH</td>\n",
       "      <td>0.0</td>\n",
       "      <td>1.0</td>\n",
       "      <td>1.0</td>\n",
       "      <td>1.0</td>\n",
       "      <td>1.0</td>\n",
       "      <td>0.0</td>\n",
       "      <td>0.0</td>\n",
       "      <td>1.0</td>\n",
       "      <td>0.0</td>\n",
       "      <td>1.0</td>\n",
       "      <td>0.0</td>\n",
       "      <td>1.0</td>\n",
       "      <td>0.0</td>\n",
       "      <td>1.0</td>\n",
       "      <td>0.0</td>\n",
       "    </tr>\n",
       "    <tr>\n",
       "      <th>2</th>\n",
       "      <td>Baldwin</td>\n",
       "      <td>D</td>\n",
       "      <td>WI</td>\n",
       "      <td>1.0</td>\n",
       "      <td>0.0</td>\n",
       "      <td>0.0</td>\n",
       "      <td>1.0</td>\n",
       "      <td>0.0</td>\n",
       "      <td>1.0</td>\n",
       "      <td>0.0</td>\n",
       "      <td>1.0</td>\n",
       "      <td>0.0</td>\n",
       "      <td>0.0</td>\n",
       "      <td>1.0</td>\n",
       "      <td>1.0</td>\n",
       "      <td>0.0</td>\n",
       "      <td>1.0</td>\n",
       "      <td>1.0</td>\n",
       "    </tr>\n",
       "    <tr>\n",
       "      <th>3</th>\n",
       "      <td>Barrasso</td>\n",
       "      <td>R</td>\n",
       "      <td>WY</td>\n",
       "      <td>0.0</td>\n",
       "      <td>1.0</td>\n",
       "      <td>1.0</td>\n",
       "      <td>1.0</td>\n",
       "      <td>1.0</td>\n",
       "      <td>0.0</td>\n",
       "      <td>1.0</td>\n",
       "      <td>1.0</td>\n",
       "      <td>1.0</td>\n",
       "      <td>1.0</td>\n",
       "      <td>0.0</td>\n",
       "      <td>0.0</td>\n",
       "      <td>1.0</td>\n",
       "      <td>0.0</td>\n",
       "      <td>0.0</td>\n",
       "    </tr>\n",
       "    <tr>\n",
       "      <th>4</th>\n",
       "      <td>Bennet</td>\n",
       "      <td>D</td>\n",
       "      <td>CO</td>\n",
       "      <td>0.0</td>\n",
       "      <td>0.0</td>\n",
       "      <td>0.0</td>\n",
       "      <td>1.0</td>\n",
       "      <td>0.0</td>\n",
       "      <td>1.0</td>\n",
       "      <td>0.0</td>\n",
       "      <td>1.0</td>\n",
       "      <td>0.0</td>\n",
       "      <td>0.0</td>\n",
       "      <td>0.0</td>\n",
       "      <td>1.0</td>\n",
       "      <td>0.0</td>\n",
       "      <td>1.0</td>\n",
       "      <td>0.0</td>\n",
       "    </tr>\n",
       "  </tbody>\n",
       "</table>\n",
       "</div>"
      ],
      "text/plain": [
       "        name party state  00001  00004  00005  00006  00007  00008  00009  \\\n",
       "0  Alexander     R    TN    0.0    1.0    1.0    1.0    1.0    0.0    0.0   \n",
       "1     Ayotte     R    NH    0.0    1.0    1.0    1.0    1.0    0.0    0.0   \n",
       "2    Baldwin     D    WI    1.0    0.0    0.0    1.0    0.0    1.0    0.0   \n",
       "3   Barrasso     R    WY    0.0    1.0    1.0    1.0    1.0    0.0    1.0   \n",
       "4     Bennet     D    CO    0.0    0.0    0.0    1.0    0.0    1.0    0.0   \n",
       "\n",
       "   00010  00020  00026  00032  00038  00039  00044  00047  \n",
       "0    1.0    1.0    1.0    0.0    0.0    0.0    0.0    0.0  \n",
       "1    1.0    0.0    1.0    0.0    1.0    0.0    1.0    0.0  \n",
       "2    1.0    0.0    0.0    1.0    1.0    0.0    1.0    1.0  \n",
       "3    1.0    1.0    1.0    0.0    0.0    1.0    0.0    0.0  \n",
       "4    1.0    0.0    0.0    0.0    1.0    0.0    1.0    0.0  "
      ]
     },
     "execution_count": 56,
     "metadata": {},
     "output_type": "execute_result"
    }
   ],
   "source": [
    "url = 'https://raw.githubusercontent.com/um-perez-alvaro/Data-Science-Practice/master/Data/114_congress.csv'\n",
    "data = pd.read_csv(url)\n",
    "data.head()"
   ]
  },
  {
   "cell_type": "markdown",
   "metadata": {},
   "source": [
    "The data contains all the votes from the 114th Senate. Each row contains the votes of an individual senator. Votes are coded as 0 for “No”, 1 for “Yes”, and 0.5 for “Abstain”."
   ]
  },
  {
   "cell_type": "code",
   "execution_count": 57,
   "metadata": {},
   "outputs": [],
   "source": [
    "# feature matrix X\n",
    "X = data.drop(['name','party','state'],axis=1).to_numpy()\n",
    "# vector with party affiliation\n",
    "party = data['party'].to_numpy()\n",
    "# senators names\n",
    "names = data['name'].to_numpy()"
   ]
  },
  {
   "cell_type": "markdown",
   "metadata": {},
   "source": [
    "**Part 1:** Use kmeans to split the senators into two clusters. \n",
    "Do the two clusters correspond to the two parties?"
   ]
  },
  {
   "cell_type": "code",
   "execution_count": 58,
   "metadata": {},
   "outputs": [],
   "source": [
    "k=2\n",
    "results = kmeans(X,k,return_inertia=False)\n",
    "\n",
    "clusters = results['clusters']\n",
    "means = results['means']\n"
   ]
  },
  {
   "cell_type": "code",
   "execution_count": 59,
   "metadata": {},
   "outputs": [
    {
     "data": {
      "text/plain": [
       "array(['R', 'R', 'R', 'R', 'R', 'R', 'R', 'R', 'R', 'R', 'R', 'R', 'R',\n",
       "       'R', 'R', 'R', 'R', 'R', 'R', 'R', 'R', 'R', 'R', 'R', 'R', 'D',\n",
       "       'R', 'R', 'R', 'R', 'R', 'R', 'R', 'R', 'D', 'R', 'R', 'R', 'R',\n",
       "       'R', 'R', 'R', 'R', 'R', 'R', 'R', 'R', 'R', 'R', 'R', 'R', 'R',\n",
       "       'R', 'R', 'R', 'R'], dtype=object)"
      ]
     },
     "execution_count": 59,
     "metadata": {},
     "output_type": "execute_result"
    }
   ],
   "source": [
    "Dems=party[clusters==1]\n",
    "Dem_name=names[clusters==1]\n",
    "Dems\n"
   ]
  },
  {
   "cell_type": "code",
   "execution_count": 60,
   "metadata": {},
   "outputs": [
    {
     "data": {
      "text/plain": [
       "array(['D', 'D', 'D', 'D', 'D', 'D', 'D', 'D', 'D', 'D', 'D', 'D', 'D',\n",
       "       'D', 'D', 'D', 'D', 'D', 'D', 'I', 'D', 'D', 'D', 'D', 'D', 'D',\n",
       "       'D', 'D', 'D', 'D', 'D', 'D', 'D', 'I', 'D', 'D', 'D', 'D', 'D',\n",
       "       'D', 'D', 'D', 'D', 'D'], dtype=object)"
      ]
     },
     "execution_count": 60,
     "metadata": {},
     "output_type": "execute_result"
    }
   ],
   "source": [
    "reps=party[clusters==0]\n",
    "rep_name=names[clusters==0]\n",
    "reps"
   ]
  },
  {
   "cell_type": "markdown",
   "metadata": {},
   "source": [
    "**Part 2:** Find the senators that are in the cluster associated with the opposite party"
   ]
  },
  {
   "cell_type": "code",
   "execution_count": 61,
   "metadata": {},
   "outputs": [
    {
     "data": {
      "text/plain": [
       "array(['Baldwin', 'Bennet', 'Blumenthal', 'Booker', 'Boxer', 'Brown',\n",
       "       'Cantwell', 'Cardin', 'Carper', 'Casey', 'Coons', 'Donnelly',\n",
       "       'Durbin', 'Feinstein', 'Franken', 'Gillibrand', 'Heinrich',\n",
       "       'Hirono', 'Kaine', 'King', 'Klobuchar', 'Leahy', 'Markey',\n",
       "       'McCaskill', 'Menendez', 'Merkley', 'Mikulski', 'Murphy', 'Murray',\n",
       "       'Nelson', 'Peters', 'Reed', 'Reid', 'Sanders', 'Schatz', 'Schumer',\n",
       "       'Shaheen', 'Stabenow', 'Tester', 'Udall', 'Warner', 'Warren',\n",
       "       'Whitehouse', 'Wyden'], dtype=object)"
      ]
     },
     "execution_count": 61,
     "metadata": {},
     "output_type": "execute_result"
    }
   ],
   "source": [
    "rep_name[np.where(reps!='R')]"
   ]
  },
  {
   "cell_type": "code",
   "execution_count": 62,
   "metadata": {},
   "outputs": [
    {
     "data": {
      "text/plain": [
       "array(['Alexander', 'Ayotte', 'Barrasso', 'Blunt', 'Boozman', 'Burr',\n",
       "       'Capito', 'Cassidy', 'Coats', 'Cochran', 'Collins', 'Corker',\n",
       "       'Cornyn', 'Cotton', 'Crapo', 'Cruz', 'Daines', 'Enzi', 'Ernst',\n",
       "       'Fischer', 'Flake', 'Gardner', 'Graham', 'Grassley', 'Hatch',\n",
       "       'Heller', 'Hoeven', 'Inhofe', 'Isakson', 'Johnson', 'Kirk',\n",
       "       'Lankford', 'Lee', 'McCain', 'McConnell', 'Moran', 'Murkowski',\n",
       "       'Paul', 'Perdue', 'Portman', 'Risch', 'Roberts', 'Rounds', 'Rubio',\n",
       "       'Sasse', 'Scott', 'Sessions', 'Shelby', 'Sullivan', 'Thune',\n",
       "       'Tillis', 'Toomey', 'Vitter', 'Wicker'], dtype=object)"
      ]
     },
     "execution_count": 62,
     "metadata": {},
     "output_type": "execute_result"
    }
   ],
   "source": [
    "Dem_name[np.where(Dems!='D')]"
   ]
  },
  {
   "cell_type": "markdown",
   "metadata": {},
   "source": [
    "**Part 3:** More clusters could show wings of each party, or cross-party groups. Use kmeans to split the senators into 5 clusters, and analyze the two democratic factions"
   ]
  },
  {
   "cell_type": "code",
   "execution_count": 63,
   "metadata": {},
   "outputs": [],
   "source": [
    "k=5\n",
    "results = kmeans(X,k,return_inertia=False)\n",
    "\n",
    "clusters = results['clusters']\n",
    "means = results['means']"
   ]
  },
  {
   "cell_type": "code",
   "execution_count": 64,
   "metadata": {},
   "outputs": [
    {
     "data": {
      "text/plain": [
       "array([2, 0, 3, 1, 0, 3, 1, 3, 1, 3, 3, 1, 3, 1, 3, 0, 0, 1, 1, 1, 0, 3,\n",
       "       1, 1, 1, 1, 2, 1, 0, 3, 1, 1, 3, 1, 1, 3, 2, 3, 1, 1, 1, 0, 0, 2,\n",
       "       3, 1, 1, 1, 1, 3, 0, 2, 0, 2, 3, 2, 2, 3, 1, 0, 1, 3, 3, 3, 1, 1,\n",
       "       3, 3, 3, 2, 1, 0, 1, 3, 4, 1, 1, 1, 2, 3, 2, 3, 3, 1, 1, 3, 1, 0,\n",
       "       1, 0, 1, 1, 1, 3, 1, 3, 3, 3, 1, 3], dtype=int64)"
      ]
     },
     "execution_count": 64,
     "metadata": {},
     "output_type": "execute_result"
    }
   ],
   "source": [
    "clusters"
   ]
  },
  {
   "cell_type": "code",
   "execution_count": 65,
   "metadata": {},
   "outputs": [
    {
     "data": {
      "text/plain": [
       "range(0, 4)"
      ]
     },
     "execution_count": 65,
     "metadata": {},
     "output_type": "execute_result"
    }
   ],
   "source": [
    "range(k-1)"
   ]
  },
  {
   "cell_type": "raw",
   "metadata": {},
   "source": []
  },
  {
   "cell_type": "code",
   "execution_count": 82,
   "metadata": {},
   "outputs": [
    {
     "name": "stdout",
     "output_type": "stream",
     "text": [
      "faction 1 is \n",
      "['R' 'D' 'D' 'D' 'R' 'D' 'D' 'D' 'I' 'D' 'D' 'D' 'D' 'D' 'Ayotte' 'Bennet'\n",
      " 'Carper' 'Casey' 'Collins' 'Donnelly' 'Heinrich' 'Heitkamp' 'King'\n",
      " 'Klobuchar' 'McCaskill' 'Peters' 'Stabenow' 'Tester' 0]\n",
      "faction 2 is \n",
      "['R' 'R' 'R' 'R' 'R' 'R' 'R' 'R' 'R' 'R' 'R' 'R' 'R' 'R' 'R' 'R' 'R' 'R'\n",
      " 'R' 'R' 'R' 'R' 'R' 'R' 'R' 'R' 'R' 'R' 'R' 'R' 'R' 'R' 'R' 'R' 'R' 'R'\n",
      " 'R' 'R' 'R' 'R' 'R' 'R' 'Barrasso' 'Blunt' 'Boozman' 'Burr' 'Capito'\n",
      " 'Cassidy' 'Coats' 'Cochran' 'Corker' 'Cornyn' 'Cotton' 'Crapo' 'Daines'\n",
      " 'Enzi' 'Ernst' 'Fischer' 'Flake' 'Graham' 'Grassley' 'Hatch' 'Hoeven'\n",
      " 'Inhofe' 'Isakson' 'Johnson' 'McCain' 'McConnell' 'Moran' 'Murkowski'\n",
      " 'Perdue' 'Portman' 'Risch' 'Roberts' 'Rounds' 'Scott' 'Sessions' 'Shelby'\n",
      " 'Sullivan' 'Thune' 'Tillis' 'Toomey' 'Vitter' 'Wicker' 1]\n",
      "faction 3 is \n",
      "['R' 'R' 'R' 'R' 'R' 'R' 'R' 'D' 'R' 'R' 'R' 'Alexander' 'Cruz' 'Gardner'\n",
      " 'Heller' 'Kirk' 'Lankford' 'Lee' 'Manchin' 'Paul' 'Rubio' 'Sasse' 2]\n",
      "faction 4 is \n",
      "['D' 'D' 'D' 'D' 'D' 'D' 'D' 'D' 'D' 'D' 'D' 'D' 'D' 'D' 'D' 'D' 'D' 'D'\n",
      " 'D' 'D' 'D' 'D' 'D' 'I' 'D' 'D' 'D' 'D' 'D' 'D' 'D' 'D' 'Baldwin'\n",
      " 'Blumenthal' 'Booker' 'Boxer' 'Brown' 'Cantwell' 'Cardin' 'Coons'\n",
      " 'Durbin' 'Feinstein' 'Franken' 'Gillibrand' 'Hirono' 'Kaine' 'Leahy'\n",
      " 'Markey' 'Menendez' 'Merkley' 'Mikulski' 'Murphy' 'Murray' 'Nelson'\n",
      " 'Reed' 'Sanders' 'Schatz' 'Schumer' 'Shaheen' 'Udall' 'Warner' 'Warren'\n",
      " 'Whitehouse' 'Wyden' 3]\n",
      "faction 5 is \n",
      "['D' 'Reid' 4]\n"
     ]
    }
   ],
   "source": [
    "for i in range (k):\n",
    "    faction=party[clusters==i]\n",
    "    name=names[clusters==i]\n",
    "    factions=np.hstack((faction,name,i))\n",
    "    print (\"faction \" + str(i+1) + ' is ')\n",
    "    print (factions)"
   ]
  },
  {
   "cell_type": "code",
   "execution_count": 77,
   "metadata": {},
   "outputs": [
    {
     "data": {
      "text/plain": [
       "array(['D', 'Reid', 4], dtype=object)"
      ]
     },
     "execution_count": 77,
     "metadata": {},
     "output_type": "execute_result"
    }
   ],
   "source": [
    "factions"
   ]
  },
  {
   "cell_type": "code",
   "execution_count": null,
   "metadata": {},
   "outputs": [],
   "source": []
  }
 ],
 "metadata": {
  "kernelspec": {
   "display_name": "Python 3 (ipykernel)",
   "language": "python",
   "name": "python3"
  },
  "language_info": {
   "codemirror_mode": {
    "name": "ipython",
    "version": 3
   },
   "file_extension": ".py",
   "mimetype": "text/x-python",
   "name": "python",
   "nbconvert_exporter": "python",
   "pygments_lexer": "ipython3",
   "version": "3.9.7"
  }
 },
 "nbformat": 4,
 "nbformat_minor": 4
}
