{
 "cells": [
  {
   "cell_type": "code",
   "execution_count": 1,
   "metadata": {},
   "outputs": [],
   "source": [
    "import numpy as np\n",
    "from numpy import math\n",
    "import matplotlib.pyplot as plt"
   ]
  },
  {
   "cell_type": "markdown",
   "metadata": {},
   "source": [
    "# Problem 5: a combinatorial explosion"
   ]
  },
  {
   "cell_type": "markdown",
   "metadata": {},
   "source": [
    "If you have n features, there are \n",
    "\n",
    "$$\n",
    "\\dfrac{(n+d-1)!}{d!(n-1)!}\n",
    "$$\n",
    "\n",
    "polynomial features of degree $d$."
   ]
  },
  {
   "cell_type": "markdown",
   "metadata": {},
   "source": [
    "With $n=20$, plot the number of polynomial features as a function of the degree $d$."
   ]
  },
  {
   "cell_type": "code",
   "execution_count": 2,
   "metadata": {},
   "outputs": [],
   "source": [
    "# your code here\n",
    "n=20\n",
    "degrees= range(1,100)\n",
    "num_features=[]\n",
    "degree=[]\n",
    "for d in degrees:\n",
    "    num_features.append(math.factorial(n+d-1)/math.factorial(d)*math.factorial(n-1))\n",
    "    degree.append(d)"
   ]
  },
  {
   "cell_type": "code",
   "execution_count": 3,
   "metadata": {},
   "outputs": [
    {
     "data": {
      "text/plain": [
       "[2.9595060906949637e+35,\n",
       " 3.107481395229712e+36,\n",
       " 2.278819689835122e+37,\n",
       " 1.3103213216551954e+38,\n",
       " 6.2895423439449366e+38,\n",
       " 2.6206426433103906e+39,\n",
       " 9.733815532295736e+39,\n",
       " 3.285162742149811e+40,\n",
       " 1.0220506308910524e+41,\n",
       " 2.9639468295840512e+41,\n",
       " 8.08349135341105e+41,\n",
       " 2.0882352662978546e+42,\n",
       " 5.140271424733181e+42,\n",
       " 1.2116354072585353e+43,\n",
       " 2.746373589786014e+43,\n",
       " 6.007692227656904e+43,\n",
       " 1.2722171776214623e+44,\n",
       " 2.6151130873330056e+44,\n",
       " 5.230226174666011e+44,\n",
       " 1.0198941040598722e+45,\n",
       " 1.9426554363045184e+45,\n",
       " 3.620403313112966e+45,\n",
       " 6.611171267423677e+45,\n",
       " 1.184501518746742e+46,\n",
       " 2.0847226729942662e+46,\n",
       " 3.608173857105461e+46,\n",
       " 6.147259163957451e+46,\n",
       " 1.0318613596642865e+47,\n",
       " 1.7079084573753707e+47,\n",
       " 2.7895838137131056e+47,\n",
       " 4.499328731795331e+47,\n",
       " 7.170805166298809e+47,\n",
       " 1.1299450565076913e+48,\n",
       " 1.761384941026695e+48,\n",
       " 2.717565337584044e+48,\n",
       " 4.151835932420067e+48,\n",
       " 6.283859789608751e+48,\n",
       " 9.425789684413126e+48,\n",
       " 1.4017841069127213e+49,\n",
       " 2.067631557696264e+49,\n",
       " 3.025802279555508e+49,\n",
       " 4.394617596497286e+49,\n",
       " 6.33642537169376e+49,\n",
       " 9.072609054925156e+49,\n",
       " 1.2903266211449112e+50,\n",
       " 1.8232876168352006e+50,\n",
       " 2.560361334279218e+50,\n",
       " 3.5738376957647416e+50,\n",
       " 4.959611496163315e+50,\n",
       " 6.844263864705375e+50,\n",
       " 9.39408765743875e+50,\n",
       " 1.2826542763041368e+51,\n",
       " 1.7424737338471294e+51,\n",
       " 2.355566343904453e+51,\n",
       " 3.169307444525991e+51,\n",
       " 4.244608184633024e+51,\n",
       " 5.6594775795106985e+51,\n",
       " 7.513444372798686e+51,\n",
       " 9.933028153869448e+51,\n",
       " 1.307848706926144e+52,\n",
       " 1.7152114189195332e+52,\n",
       " 2.2408407247174548e+52,\n",
       " 2.9166498321719254e+52,\n",
       " 3.7825302510979653e+52,\n",
       " 4.888192939880448e+52,\n",
       " 6.29539999833088e+52,\n",
       " 8.080662684424712e+52,\n",
       " 1.0338494905072793e+53,\n",
       " 1.3185326835455156e+53,\n",
       " 1.6764201262221555e+53,\n",
       " 2.1250395966196337e+53,\n",
       " 2.6858139346164818e+53,\n",
       " 3.384861397050908e+53,\n",
       " 4.2539474314288445e+53,\n",
       " 5.331614114057485e+53,\n",
       " 6.664517642571855e+53,\n",
       " 8.309009008920756e+53,\n",
       " 1.0332998382888631e+54,\n",
       " 1.2818149892697289e+54,\n",
       " 1.5862460492212895e+54,\n",
       " 1.9583284558287527e+54,\n",
       " 2.4120874882768784e+54,\n",
       " 2.964252094027007e+54,\n",
       " 3.6347376867235915e+54,\n",
       " 4.447208463755924e+54,\n",
       " 5.429731263888046e+54,\n",
       " 6.61553464335785e+54,\n",
       " 8.04388871408284e+54,\n",
       " 9.761123383381425e+54,\n",
       " 1.1821804986539724e+55,\n",
       " 1.4290093939773293e+55,\n",
       " 1.724130899255256e+55,\n",
       " 2.0763726958772977e+55,\n",
       " 2.496065049299305e+55,\n",
       " 2.9952780591591653e+55,\n",
       " 3.5880935083677504e+55,\n",
       " 4.2909159481511244e+55,\n",
       " 5.122828223813077e+55,\n",
       " 6.105997276868112e+55]"
      ]
     },
     "execution_count": 3,
     "metadata": {},
     "output_type": "execute_result"
    }
   ],
   "source": [
    "num_features"
   ]
  },
  {
   "cell_type": "code",
   "execution_count": 4,
   "metadata": {},
   "outputs": [
    {
     "data": {
      "text/plain": [
       "[<matplotlib.lines.Line2D at 0x184e99b1d00>]"
      ]
     },
     "execution_count": 4,
     "metadata": {},
     "output_type": "execute_result"
    },
    {
     "data": {
      "image/png": "[encoded data removed]",
      "text/plain": [
       "<Figure size 432x288 with 1 Axes>"
      ]
     },
     "metadata": {
      "needs_background": "light"
     },
     "output_type": "display_data"
    }
   ],
   "source": [
    "plt.plot(degree,num_features)"
   ]
  },
  {
   "cell_type": "code",
   "execution_count": null,
   "metadata": {},
   "outputs": [],
   "source": []
  },
  {
   "cell_type": "code",
   "execution_count": null,
   "metadata": {},
   "outputs": [],
   "source": []
  },
  {
   "cell_type": "code",
   "execution_count": null,
   "metadata": {},
   "outputs": [],
   "source": []
  }
 ],
 "metadata": {
  "kernelspec": {
   "display_name": "Python 3 (ipykernel)",
   "language": "python",
   "name": "python3"
  },
  "language_info": {
   "codemirror_mode": {
    "name": "ipython",
    "version": 3
   },
   "file_extension": ".py",
   "mimetype": "text/x-python",
   "name": "python",
   "nbconvert_exporter": "python",
   "pygments_lexer": "ipython3",
   "version": "3.9.7"
  }
 },
 "nbformat": 4,
 "nbformat_minor": 4
}
