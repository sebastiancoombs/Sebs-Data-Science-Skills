{
 "cells": [
  {
   "cell_type": "markdown",
   "metadata": {},
   "source": [
    "# Analyzing vehicle and pedestrian stops from law enforcement departments across Rhode Island"
   ]
  },
  {
   "cell_type": "code",
   "execution_count": 1,
   "metadata": {},
   "outputs": [],
   "source": [
    "# import libraries\n",
    "import pandas as pd\n",
    "import numpy as np\n",
    "import matplotlib.pyplot as plt"
   ]
  },
  {
   "cell_type": "code",
   "execution_count": 2,
   "metadata": {},
   "outputs": [],
   "source": [
    "'load the data'\n",
    "url = 'https://raw.githubusercontent.com/um-perez-alvaro/Data-Science-Practice/master/Data/police_ri.csv'\n",
    "ri = pd.read_csv(url, parse_dates={'stop_datetime': ['stop_date','stop_time']})"
   ]
  },
  {
   "cell_type": "markdown",
   "metadata": {},
   "source": [
    "The 'ri' DataFrame contains data on vehicle and pedestrian stops from law enforcement departments across the state of Rhode Island.\n",
    "This dataset has been obtained from the [Standford Open Police Project](https://openpolicing.stanford.edu/)."
   ]
  },
  {
   "cell_type": "code",
   "execution_count": 3,
   "metadata": {},
   "outputs": [
    {
     "data": {
      "text/plain": [
       "Index(['stop_datetime', 'county_name', 'driver_gender', 'driver_age_raw',\n",
       "       'driver_age', 'driver_race', 'violation_raw', 'violation',\n",
       "       'search_conducted', 'search_type', 'stop_outcome', 'is_arrested',\n",
       "       'stop_duration', 'drugs_related_stop'],\n",
       "      dtype='object')"
      ]
     },
     "execution_count": 3,
     "metadata": {},
     "output_type": "execute_result"
    }
   ],
   "source": [
    "ri.columns"
   ]
  },
  {
   "cell_type": "code",
   "execution_count": 4,
   "metadata": {},
   "outputs": [
    {
     "data": {
      "text/html": [
       "<div>\n",
       "<style scoped>\n",
       "    .dataframe tbody tr th:only-of-type {\n",
       "        vertical-align: middle;\n",
       "    }\n",
       "\n",
       "    .dataframe tbody tr th {\n",
       "        vertical-align: top;\n",
       "    }\n",
       "\n",
       "    .dataframe thead th {\n",
       "        text-align: right;\n",
       "    }\n",
       "</style>\n",
       "<table border=\"1\" class=\"dataframe\">\n",
       "  <thead>\n",
       "    <tr style=\"text-align: right;\">\n",
       "      <th></th>\n",
       "      <th>stop_datetime</th>\n",
       "      <th>county_name</th>\n",
       "      <th>driver_gender</th>\n",
       "      <th>driver_age_raw</th>\n",
       "      <th>driver_age</th>\n",
       "      <th>driver_race</th>\n",
       "      <th>violation_raw</th>\n",
       "      <th>violation</th>\n",
       "      <th>search_conducted</th>\n",
       "      <th>search_type</th>\n",
       "      <th>stop_outcome</th>\n",
       "      <th>is_arrested</th>\n",
       "      <th>stop_duration</th>\n",
       "      <th>drugs_related_stop</th>\n",
       "    </tr>\n",
       "  </thead>\n",
       "  <tbody>\n",
       "    <tr>\n",
       "      <th>0</th>\n",
       "      <td>2005-01-02 01:55:00</td>\n",
       "      <td>NaN</td>\n",
       "      <td>M</td>\n",
       "      <td>1985.0</td>\n",
       "      <td>20.0</td>\n",
       "      <td>White</td>\n",
       "      <td>Speeding</td>\n",
       "      <td>Speeding</td>\n",
       "      <td>False</td>\n",
       "      <td>NaN</td>\n",
       "      <td>Citation</td>\n",
       "      <td>False</td>\n",
       "      <td>0-15 Min</td>\n",
       "      <td>False</td>\n",
       "    </tr>\n",
       "    <tr>\n",
       "      <th>1</th>\n",
       "      <td>2005-01-18 08:15:00</td>\n",
       "      <td>NaN</td>\n",
       "      <td>M</td>\n",
       "      <td>1965.0</td>\n",
       "      <td>40.0</td>\n",
       "      <td>White</td>\n",
       "      <td>Speeding</td>\n",
       "      <td>Speeding</td>\n",
       "      <td>False</td>\n",
       "      <td>NaN</td>\n",
       "      <td>Citation</td>\n",
       "      <td>False</td>\n",
       "      <td>0-15 Min</td>\n",
       "      <td>False</td>\n",
       "    </tr>\n",
       "    <tr>\n",
       "      <th>2</th>\n",
       "      <td>2005-01-23 23:15:00</td>\n",
       "      <td>NaN</td>\n",
       "      <td>M</td>\n",
       "      <td>1972.0</td>\n",
       "      <td>33.0</td>\n",
       "      <td>White</td>\n",
       "      <td>Speeding</td>\n",
       "      <td>Speeding</td>\n",
       "      <td>False</td>\n",
       "      <td>NaN</td>\n",
       "      <td>Citation</td>\n",
       "      <td>False</td>\n",
       "      <td>0-15 Min</td>\n",
       "      <td>False</td>\n",
       "    </tr>\n",
       "    <tr>\n",
       "      <th>3</th>\n",
       "      <td>2005-02-20 17:15:00</td>\n",
       "      <td>NaN</td>\n",
       "      <td>M</td>\n",
       "      <td>1986.0</td>\n",
       "      <td>19.0</td>\n",
       "      <td>White</td>\n",
       "      <td>Call for Service</td>\n",
       "      <td>Other</td>\n",
       "      <td>False</td>\n",
       "      <td>NaN</td>\n",
       "      <td>Arrest Driver</td>\n",
       "      <td>True</td>\n",
       "      <td>16-30 Min</td>\n",
       "      <td>False</td>\n",
       "    </tr>\n",
       "    <tr>\n",
       "      <th>4</th>\n",
       "      <td>2005-03-14 10:00:00</td>\n",
       "      <td>NaN</td>\n",
       "      <td>F</td>\n",
       "      <td>1984.0</td>\n",
       "      <td>21.0</td>\n",
       "      <td>White</td>\n",
       "      <td>Speeding</td>\n",
       "      <td>Speeding</td>\n",
       "      <td>False</td>\n",
       "      <td>NaN</td>\n",
       "      <td>Citation</td>\n",
       "      <td>False</td>\n",
       "      <td>0-15 Min</td>\n",
       "      <td>False</td>\n",
       "    </tr>\n",
       "  </tbody>\n",
       "</table>\n",
       "</div>"
      ],
      "text/plain": [
       "        stop_datetime  county_name driver_gender  driver_age_raw  driver_age  \\\n",
       "0 2005-01-02 01:55:00          NaN             M          1985.0        20.0   \n",
       "1 2005-01-18 08:15:00          NaN             M          1965.0        40.0   \n",
       "2 2005-01-23 23:15:00          NaN             M          1972.0        33.0   \n",
       "3 2005-02-20 17:15:00          NaN             M          1986.0        19.0   \n",
       "4 2005-03-14 10:00:00          NaN             F          1984.0        21.0   \n",
       "\n",
       "  driver_race     violation_raw violation  search_conducted search_type  \\\n",
       "0       White          Speeding  Speeding             False         NaN   \n",
       "1       White          Speeding  Speeding             False         NaN   \n",
       "2       White          Speeding  Speeding             False         NaN   \n",
       "3       White  Call for Service     Other             False         NaN   \n",
       "4       White          Speeding  Speeding             False         NaN   \n",
       "\n",
       "    stop_outcome is_arrested stop_duration  drugs_related_stop  \n",
       "0       Citation       False      0-15 Min               False  \n",
       "1       Citation       False      0-15 Min               False  \n",
       "2       Citation       False      0-15 Min               False  \n",
       "3  Arrest Driver        True     16-30 Min               False  \n",
       "4       Citation       False      0-15 Min               False  "
      ]
     },
     "execution_count": 4,
     "metadata": {},
     "output_type": "execute_result"
    }
   ],
   "source": [
    "ri.head()"
   ]
  },
  {
   "cell_type": "markdown",
   "metadata": {},
   "source": [
    "Remove the column that only contains missing values"
   ]
  },
  {
   "cell_type": "code",
   "execution_count": 5,
   "metadata": {},
   "outputs": [
    {
     "data": {
      "text/plain": [
       "stop_datetime             0\n",
       "county_name           91741\n",
       "driver_gender          5335\n",
       "driver_age_raw         5327\n",
       "driver_age             5621\n",
       "driver_race            5333\n",
       "violation_raw          5333\n",
       "violation              5333\n",
       "search_conducted          0\n",
       "search_type           88545\n",
       "stop_outcome           5333\n",
       "is_arrested            5333\n",
       "stop_duration          5333\n",
       "drugs_related_stop        0\n",
       "dtype: int64"
      ]
     },
     "execution_count": 5,
     "metadata": {},
     "output_type": "execute_result"
    }
   ],
   "source": [
    "ri.isna().sum()"
   ]
  },
  {
   "cell_type": "code",
   "execution_count": 6,
   "metadata": {},
   "outputs": [
    {
     "data": {
      "text/plain": [
       "(91741, 14)"
      ]
     },
     "execution_count": 6,
     "metadata": {},
     "output_type": "execute_result"
    }
   ],
   "source": [
    "ri.shape"
   ]
  },
  {
   "cell_type": "code",
   "execution_count": 7,
   "metadata": {},
   "outputs": [],
   "source": [
    "ri.drop('county_name',axis=1, inplace=True)"
   ]
  },
  {
   "cell_type": "markdown",
   "metadata": {},
   "source": [
    "**Part 2:** Do men or women speed more often?"
   ]
  },
  {
   "cell_type": "markdown",
   "metadata": {},
   "source": [
    "Men speed more"
   ]
  },
  {
   "cell_type": "code",
   "execution_count": 8,
   "metadata": {},
   "outputs": [
    {
     "data": {
      "text/plain": [
       "driver_gender\n",
       "F    15482\n",
       "M    32979\n",
       "Name: violation, dtype: int64"
      ]
     },
     "execution_count": 8,
     "metadata": {},
     "output_type": "execute_result"
    }
   ],
   "source": [
    "ri[ri.violation=='Speeding'].groupby('driver_gender').violation.count()"
   ]
  },
  {
   "cell_type": "markdown",
   "metadata": {},
   "source": [
    "**Part 3:** Does gender affect who gets searched during a stop?"
   ]
  },
  {
   "cell_type": "markdown",
   "metadata": {},
   "source": [
    "Male drivers get searched significatly more than women"
   ]
  },
  {
   "cell_type": "code",
   "execution_count": 9,
   "metadata": {},
   "outputs": [
    {
     "data": {
      "text/plain": [
       "driver_gender\n",
       "F    135\n",
       "M    822\n",
       "Name: search_conducted, dtype: int64"
      ]
     },
     "execution_count": 9,
     "metadata": {},
     "output_type": "execute_result"
    }
   ],
   "source": [
    "ri[ri.violation=='Speeding'].groupby('driver_gender').search_conducted.sum()"
   ]
  },
  {
   "cell_type": "markdown",
   "metadata": {},
   "source": [
    "**Part 4:** Why is search_type missing so often?"
   ]
  },
  {
   "cell_type": "markdown",
   "metadata": {},
   "source": [
    "search_type is missing whenever no search was conducted"
   ]
  },
  {
   "cell_type": "code",
   "execution_count": 10,
   "metadata": {},
   "outputs": [
    {
     "data": {
      "text/plain": [
       "Series([], Name: search_type, dtype: int64)"
      ]
     },
     "execution_count": 10,
     "metadata": {},
     "output_type": "execute_result"
    }
   ],
   "source": [
    "ri[ri.search_conducted==0].search_type.value_counts()"
   ]
  },
  {
   "cell_type": "code",
   "execution_count": 11,
   "metadata": {},
   "outputs": [
    {
     "data": {
      "text/plain": [
       "Incident to Arrest                                          1219\n",
       "Probable Cause                                               891\n",
       "Inventory                                                    220\n",
       "Reasonable Suspicion                                         197\n",
       "Protective Frisk                                             161\n",
       "Incident to Arrest,Inventory                                 129\n",
       "Incident to Arrest,Probable Cause                            106\n",
       "Probable Cause,Reasonable Suspicion                           75\n",
       "Incident to Arrest,Inventory,Probable Cause                   34\n",
       "Probable Cause,Protective Frisk                               33\n",
       "Incident to Arrest,Protective Frisk                           33\n",
       "Inventory,Probable Cause                                      22\n",
       "Incident to Arrest,Reasonable Suspicion                       13\n",
       "Protective Frisk,Reasonable Suspicion                         11\n",
       "Inventory,Protective Frisk                                    11\n",
       "Incident to Arrest,Inventory,Protective Frisk                 11\n",
       "Incident to Arrest,Probable Cause,Protective Frisk            10\n",
       "Incident to Arrest,Probable Cause,Reasonable Suspicion         6\n",
       "Incident to Arrest,Inventory,Reasonable Suspicion              4\n",
       "Inventory,Reasonable Suspicion                                 4\n",
       "Inventory,Probable Cause,Reasonable Suspicion                  2\n",
       "Inventory,Probable Cause,Protective Frisk                      2\n",
       "Probable Cause,Protective Frisk,Reasonable Suspicion           1\n",
       "Incident to Arrest,Protective Frisk,Reasonable Suspicion       1\n",
       "Name: search_type, dtype: int64"
      ]
     },
     "execution_count": 11,
     "metadata": {},
     "output_type": "execute_result"
    }
   ],
   "source": [
    "ri[ri.search_conducted==1].search_type.value_counts()"
   ]
  },
  {
   "cell_type": "markdown",
   "metadata": {},
   "source": [
    "**Part 5:** During a search, how often is the driver frisked?"
   ]
  },
  {
   "cell_type": "markdown",
   "metadata": {},
   "source": [
    "People are frisked 8.57% of the time"
   ]
  },
  {
   "cell_type": "code",
   "execution_count": 12,
   "metadata": {},
   "outputs": [
    {
     "data": {
      "text/plain": [
       "274"
      ]
     },
     "execution_count": 12,
     "metadata": {},
     "output_type": "execute_result"
    }
   ],
   "source": [
    "totalfrisk=ri[(ri.search_conducted==1)&(ri.search_type.str.contains('Frisk'))].search_type.value_counts().sum()\n",
    "totalfrisk"
   ]
  },
  {
   "cell_type": "code",
   "execution_count": 13,
   "metadata": {},
   "outputs": [
    {
     "data": {
      "text/plain": [
       "3196"
      ]
     },
     "execution_count": 13,
     "metadata": {},
     "output_type": "execute_result"
    }
   ],
   "source": [
    "totalsearch=ri[ri.search_conducted==1].search_type.value_counts().sum()\n",
    "totalsearch"
   ]
  },
  {
   "cell_type": "code",
   "execution_count": 14,
   "metadata": {},
   "outputs": [
    {
     "data": {
      "text/plain": [
       "8.573216520650814"
      ]
     },
     "execution_count": 14,
     "metadata": {},
     "output_type": "execute_result"
    }
   ],
   "source": [
    "pct_frisk=100*(totalfrisk/totalsearch)\n",
    "pct_frisk"
   ]
  },
  {
   "cell_type": "markdown",
   "metadata": {},
   "source": [
    "**Part 6:**  Which year had the least number of stops?"
   ]
  },
  {
   "cell_type": "markdown",
   "metadata": {},
   "source": [
    "2005 had the least number of stops"
   ]
  },
  {
   "cell_type": "code",
   "execution_count": 15,
   "metadata": {},
   "outputs": [],
   "source": [
    "ri.stop_datetime=pd.to_datetime(ri.stop_datetime)"
   ]
  },
  {
   "cell_type": "code",
   "execution_count": 16,
   "metadata": {},
   "outputs": [],
   "source": [
    "ri.set_index(ri.stop_datetime,inplace=True)"
   ]
  },
  {
   "cell_type": "code",
   "execution_count": 17,
   "metadata": {},
   "outputs": [
    {
     "data": {
      "text/plain": [
       "<AxesSubplot:ylabel='stop_datetime'>"
      ]
     },
     "execution_count": 17,
     "metadata": {},
     "output_type": "execute_result"
    },
    {
     "data": {
      "image/png": "[encoded data removed]",
      "text/plain": [
       "<Figure size 432x288 with 1 Axes>"
      ]
     },
     "metadata": {
      "needs_background": "light"
     },
     "output_type": "display_data"
    }
   ],
   "source": [
    "ri.resample('Y').stop_datetime.count().plot(kind='barh')"
   ]
  },
  {
   "cell_type": "markdown",
   "metadata": {},
   "source": [
    "**Part 7:** How does drug activity change by time of day?"
   ]
  },
  {
   "cell_type": "markdown",
   "metadata": {},
   "source": [
    "## Drug related stops are the highest in the middle of the night"
   ]
  },
  {
   "cell_type": "code",
   "execution_count": 18,
   "metadata": {},
   "outputs": [
    {
     "data": {
      "text/plain": [
       "815"
      ]
     },
     "execution_count": 18,
     "metadata": {},
     "output_type": "execute_result"
    }
   ],
   "source": [
    "ri[ri.drugs_related_stop!=0].drugs_related_stop.count()"
   ]
  },
  {
   "cell_type": "code",
   "execution_count": 19,
   "metadata": {},
   "outputs": [
    {
     "data": {
      "text/html": [
       "<div>\n",
       "<style scoped>\n",
       "    .dataframe tbody tr th:only-of-type {\n",
       "        vertical-align: middle;\n",
       "    }\n",
       "\n",
       "    .dataframe tbody tr th {\n",
       "        vertical-align: top;\n",
       "    }\n",
       "\n",
       "    .dataframe thead th {\n",
       "        text-align: right;\n",
       "    }\n",
       "</style>\n",
       "<table border=\"1\" class=\"dataframe\">\n",
       "  <thead>\n",
       "    <tr style=\"text-align: right;\">\n",
       "      <th></th>\n",
       "      <th>stop_datetime</th>\n",
       "      <th>driver_gender</th>\n",
       "      <th>driver_age_raw</th>\n",
       "      <th>driver_age</th>\n",
       "      <th>driver_race</th>\n",
       "      <th>violation_raw</th>\n",
       "      <th>violation</th>\n",
       "      <th>search_conducted</th>\n",
       "      <th>search_type</th>\n",
       "      <th>stop_outcome</th>\n",
       "      <th>is_arrested</th>\n",
       "      <th>stop_duration</th>\n",
       "      <th>drugs_related_stop</th>\n",
       "    </tr>\n",
       "    <tr>\n",
       "      <th>stop_datetime</th>\n",
       "      <th></th>\n",
       "      <th></th>\n",
       "      <th></th>\n",
       "      <th></th>\n",
       "      <th></th>\n",
       "      <th></th>\n",
       "      <th></th>\n",
       "      <th></th>\n",
       "      <th></th>\n",
       "      <th></th>\n",
       "      <th></th>\n",
       "      <th></th>\n",
       "      <th></th>\n",
       "    </tr>\n",
       "  </thead>\n",
       "  <tbody>\n",
       "    <tr>\n",
       "      <th>2005-10-01 00:00:00</th>\n",
       "      <td>2005-10-01 00:00:00</td>\n",
       "      <td>M</td>\n",
       "      <td>1988.0</td>\n",
       "      <td>17.0</td>\n",
       "      <td>White</td>\n",
       "      <td>Equipment/Inspection Violation</td>\n",
       "      <td>Equipment</td>\n",
       "      <td>True</td>\n",
       "      <td>Probable Cause</td>\n",
       "      <td>Arrest Driver</td>\n",
       "      <td>True</td>\n",
       "      <td>16-30 Min</td>\n",
       "      <td>True</td>\n",
       "    </tr>\n",
       "    <tr>\n",
       "      <th>2005-10-01 00:00:00</th>\n",
       "      <td>2005-10-01 00:00:00</td>\n",
       "      <td>M</td>\n",
       "      <td>1988.0</td>\n",
       "      <td>17.0</td>\n",
       "      <td>White</td>\n",
       "      <td>Equipment/Inspection Violation</td>\n",
       "      <td>Equipment</td>\n",
       "      <td>True</td>\n",
       "      <td>Probable Cause</td>\n",
       "      <td>Citation</td>\n",
       "      <td>False</td>\n",
       "      <td>30+ Min</td>\n",
       "      <td>True</td>\n",
       "    </tr>\n",
       "    <tr>\n",
       "      <th>2005-10-04 01:20:00</th>\n",
       "      <td>2005-10-04 01:20:00</td>\n",
       "      <td>M</td>\n",
       "      <td>1956.0</td>\n",
       "      <td>49.0</td>\n",
       "      <td>White</td>\n",
       "      <td>Other Traffic Violation</td>\n",
       "      <td>Moving violation</td>\n",
       "      <td>True</td>\n",
       "      <td>Incident to Arrest</td>\n",
       "      <td>Arrest Driver</td>\n",
       "      <td>True</td>\n",
       "      <td>30+ Min</td>\n",
       "      <td>True</td>\n",
       "    </tr>\n",
       "    <tr>\n",
       "      <th>2005-10-05 00:20:00</th>\n",
       "      <td>2005-10-05 00:20:00</td>\n",
       "      <td>M</td>\n",
       "      <td>1980.0</td>\n",
       "      <td>25.0</td>\n",
       "      <td>Black</td>\n",
       "      <td>Equipment/Inspection Violation</td>\n",
       "      <td>Equipment</td>\n",
       "      <td>True</td>\n",
       "      <td>Probable Cause,Reasonable Suspicion</td>\n",
       "      <td>Arrest Driver</td>\n",
       "      <td>True</td>\n",
       "      <td>16-30 Min</td>\n",
       "      <td>True</td>\n",
       "    </tr>\n",
       "    <tr>\n",
       "      <th>2005-10-07 23:30:00</th>\n",
       "      <td>2005-10-07 23:30:00</td>\n",
       "      <td>M</td>\n",
       "      <td>1986.0</td>\n",
       "      <td>19.0</td>\n",
       "      <td>White</td>\n",
       "      <td>Suspicious Person</td>\n",
       "      <td>Other</td>\n",
       "      <td>True</td>\n",
       "      <td>Probable Cause</td>\n",
       "      <td>Arrest Passenger</td>\n",
       "      <td>True</td>\n",
       "      <td>16-30 Min</td>\n",
       "      <td>True</td>\n",
       "    </tr>\n",
       "    <tr>\n",
       "      <th>...</th>\n",
       "      <td>...</td>\n",
       "      <td>...</td>\n",
       "      <td>...</td>\n",
       "      <td>...</td>\n",
       "      <td>...</td>\n",
       "      <td>...</td>\n",
       "      <td>...</td>\n",
       "      <td>...</td>\n",
       "      <td>...</td>\n",
       "      <td>...</td>\n",
       "      <td>...</td>\n",
       "      <td>...</td>\n",
       "      <td>...</td>\n",
       "    </tr>\n",
       "    <tr>\n",
       "      <th>2015-12-03 14:48:00</th>\n",
       "      <td>2015-12-03 14:48:00</td>\n",
       "      <td>M</td>\n",
       "      <td>1991.0</td>\n",
       "      <td>24.0</td>\n",
       "      <td>Hispanic</td>\n",
       "      <td>Other Traffic Violation</td>\n",
       "      <td>Moving violation</td>\n",
       "      <td>True</td>\n",
       "      <td>Inventory</td>\n",
       "      <td>Citation</td>\n",
       "      <td>False</td>\n",
       "      <td>16-30 Min</td>\n",
       "      <td>True</td>\n",
       "    </tr>\n",
       "    <tr>\n",
       "      <th>2015-12-06 10:33:00</th>\n",
       "      <td>2015-12-06 10:33:00</td>\n",
       "      <td>M</td>\n",
       "      <td>1993.0</td>\n",
       "      <td>22.0</td>\n",
       "      <td>Hispanic</td>\n",
       "      <td>Speeding</td>\n",
       "      <td>Speeding</td>\n",
       "      <td>True</td>\n",
       "      <td>Protective Frisk</td>\n",
       "      <td>Citation</td>\n",
       "      <td>False</td>\n",
       "      <td>16-30 Min</td>\n",
       "      <td>True</td>\n",
       "    </tr>\n",
       "    <tr>\n",
       "      <th>2015-12-07 14:10:00</th>\n",
       "      <td>2015-12-07 14:10:00</td>\n",
       "      <td>M</td>\n",
       "      <td>1976.0</td>\n",
       "      <td>39.0</td>\n",
       "      <td>White</td>\n",
       "      <td>Other Traffic Violation</td>\n",
       "      <td>Moving violation</td>\n",
       "      <td>True</td>\n",
       "      <td>Probable Cause</td>\n",
       "      <td>Arrest Passenger</td>\n",
       "      <td>True</td>\n",
       "      <td>30+ Min</td>\n",
       "      <td>True</td>\n",
       "    </tr>\n",
       "    <tr>\n",
       "      <th>2015-12-28 11:05:00</th>\n",
       "      <td>2015-12-28 11:05:00</td>\n",
       "      <td>F</td>\n",
       "      <td>1996.0</td>\n",
       "      <td>19.0</td>\n",
       "      <td>White</td>\n",
       "      <td>APB</td>\n",
       "      <td>Other</td>\n",
       "      <td>True</td>\n",
       "      <td>Incident to Arrest</td>\n",
       "      <td>Citation</td>\n",
       "      <td>False</td>\n",
       "      <td>16-30 Min</td>\n",
       "      <td>True</td>\n",
       "    </tr>\n",
       "    <tr>\n",
       "      <th>2015-12-30 08:51:00</th>\n",
       "      <td>2015-12-30 08:51:00</td>\n",
       "      <td>F</td>\n",
       "      <td>1987.0</td>\n",
       "      <td>28.0</td>\n",
       "      <td>Hispanic</td>\n",
       "      <td>Speeding</td>\n",
       "      <td>Speeding</td>\n",
       "      <td>True</td>\n",
       "      <td>Probable Cause,Reasonable Suspicion</td>\n",
       "      <td>Citation</td>\n",
       "      <td>False</td>\n",
       "      <td>30+ Min</td>\n",
       "      <td>True</td>\n",
       "    </tr>\n",
       "  </tbody>\n",
       "</table>\n",
       "<p>815 rows × 13 columns</p>\n",
       "</div>"
      ],
      "text/plain": [
       "                          stop_datetime driver_gender  driver_age_raw  \\\n",
       "stop_datetime                                                           \n",
       "2005-10-01 00:00:00 2005-10-01 00:00:00             M          1988.0   \n",
       "2005-10-01 00:00:00 2005-10-01 00:00:00             M          1988.0   \n",
       "2005-10-04 01:20:00 2005-10-04 01:20:00             M          1956.0   \n",
       "2005-10-05 00:20:00 2005-10-05 00:20:00             M          1980.0   \n",
       "2005-10-07 23:30:00 2005-10-07 23:30:00             M          1986.0   \n",
       "...                                 ...           ...             ...   \n",
       "2015-12-03 14:48:00 2015-12-03 14:48:00             M          1991.0   \n",
       "2015-12-06 10:33:00 2015-12-06 10:33:00             M          1993.0   \n",
       "2015-12-07 14:10:00 2015-12-07 14:10:00             M          1976.0   \n",
       "2015-12-28 11:05:00 2015-12-28 11:05:00             F          1996.0   \n",
       "2015-12-30 08:51:00 2015-12-30 08:51:00             F          1987.0   \n",
       "\n",
       "                     driver_age driver_race                   violation_raw  \\\n",
       "stop_datetime                                                                 \n",
       "2005-10-01 00:00:00        17.0       White  Equipment/Inspection Violation   \n",
       "2005-10-01 00:00:00        17.0       White  Equipment/Inspection Violation   \n",
       "2005-10-04 01:20:00        49.0       White         Other Traffic Violation   \n",
       "2005-10-05 00:20:00        25.0       Black  Equipment/Inspection Violation   \n",
       "2005-10-07 23:30:00        19.0       White               Suspicious Person   \n",
       "...                         ...         ...                             ...   \n",
       "2015-12-03 14:48:00        24.0    Hispanic         Other Traffic Violation   \n",
       "2015-12-06 10:33:00        22.0    Hispanic                        Speeding   \n",
       "2015-12-07 14:10:00        39.0       White         Other Traffic Violation   \n",
       "2015-12-28 11:05:00        19.0       White                             APB   \n",
       "2015-12-30 08:51:00        28.0    Hispanic                        Speeding   \n",
       "\n",
       "                            violation  search_conducted  \\\n",
       "stop_datetime                                             \n",
       "2005-10-01 00:00:00         Equipment              True   \n",
       "2005-10-01 00:00:00         Equipment              True   \n",
       "2005-10-04 01:20:00  Moving violation              True   \n",
       "2005-10-05 00:20:00         Equipment              True   \n",
       "2005-10-07 23:30:00             Other              True   \n",
       "...                               ...               ...   \n",
       "2015-12-03 14:48:00  Moving violation              True   \n",
       "2015-12-06 10:33:00          Speeding              True   \n",
       "2015-12-07 14:10:00  Moving violation              True   \n",
       "2015-12-28 11:05:00             Other              True   \n",
       "2015-12-30 08:51:00          Speeding              True   \n",
       "\n",
       "                                             search_type      stop_outcome  \\\n",
       "stop_datetime                                                                \n",
       "2005-10-01 00:00:00                       Probable Cause     Arrest Driver   \n",
       "2005-10-01 00:00:00                       Probable Cause          Citation   \n",
       "2005-10-04 01:20:00                   Incident to Arrest     Arrest Driver   \n",
       "2005-10-05 00:20:00  Probable Cause,Reasonable Suspicion     Arrest Driver   \n",
       "2005-10-07 23:30:00                       Probable Cause  Arrest Passenger   \n",
       "...                                                  ...               ...   \n",
       "2015-12-03 14:48:00                            Inventory          Citation   \n",
       "2015-12-06 10:33:00                     Protective Frisk          Citation   \n",
       "2015-12-07 14:10:00                       Probable Cause  Arrest Passenger   \n",
       "2015-12-28 11:05:00                   Incident to Arrest          Citation   \n",
       "2015-12-30 08:51:00  Probable Cause,Reasonable Suspicion          Citation   \n",
       "\n",
       "                    is_arrested stop_duration  drugs_related_stop  \n",
       "stop_datetime                                                      \n",
       "2005-10-01 00:00:00        True     16-30 Min                True  \n",
       "2005-10-01 00:00:00       False       30+ Min                True  \n",
       "2005-10-04 01:20:00        True       30+ Min                True  \n",
       "2005-10-05 00:20:00        True     16-30 Min                True  \n",
       "2005-10-07 23:30:00        True     16-30 Min                True  \n",
       "...                         ...           ...                 ...  \n",
       "2015-12-03 14:48:00       False     16-30 Min                True  \n",
       "2015-12-06 10:33:00       False     16-30 Min                True  \n",
       "2015-12-07 14:10:00        True       30+ Min                True  \n",
       "2015-12-28 11:05:00       False     16-30 Min                True  \n",
       "2015-12-30 08:51:00       False       30+ Min                True  \n",
       "\n",
       "[815 rows x 13 columns]"
      ]
     },
     "execution_count": 19,
     "metadata": {},
     "output_type": "execute_result"
    }
   ],
   "source": [
    "drugstops=ri[ri.drugs_related_stop!=0]\n",
    "drugstops"
   ]
  },
  {
   "cell_type": "code",
   "execution_count": 20,
   "metadata": {},
   "outputs": [
    {
     "data": {
      "text/html": [
       "<div>\n",
       "<style scoped>\n",
       "    .dataframe tbody tr th:only-of-type {\n",
       "        vertical-align: middle;\n",
       "    }\n",
       "\n",
       "    .dataframe tbody tr th {\n",
       "        vertical-align: top;\n",
       "    }\n",
       "\n",
       "    .dataframe thead th {\n",
       "        text-align: right;\n",
       "    }\n",
       "</style>\n",
       "<table border=\"1\" class=\"dataframe\">\n",
       "  <thead>\n",
       "    <tr style=\"text-align: right;\">\n",
       "      <th>drugs_related_stop</th>\n",
       "      <th>True</th>\n",
       "    </tr>\n",
       "    <tr>\n",
       "      <th>stop_datetime</th>\n",
       "      <th></th>\n",
       "    </tr>\n",
       "  </thead>\n",
       "  <tbody>\n",
       "    <tr>\n",
       "      <th>0</th>\n",
       "      <td>103</td>\n",
       "    </tr>\n",
       "    <tr>\n",
       "      <th>1</th>\n",
       "      <td>60</td>\n",
       "    </tr>\n",
       "    <tr>\n",
       "      <th>2</th>\n",
       "      <td>46</td>\n",
       "    </tr>\n",
       "    <tr>\n",
       "      <th>3</th>\n",
       "      <td>20</td>\n",
       "    </tr>\n",
       "    <tr>\n",
       "      <th>4</th>\n",
       "      <td>3</td>\n",
       "    </tr>\n",
       "    <tr>\n",
       "      <th>5</th>\n",
       "      <td>1</td>\n",
       "    </tr>\n",
       "    <tr>\n",
       "      <th>6</th>\n",
       "      <td>10</td>\n",
       "    </tr>\n",
       "    <tr>\n",
       "      <th>7</th>\n",
       "      <td>15</td>\n",
       "    </tr>\n",
       "    <tr>\n",
       "      <th>8</th>\n",
       "      <td>14</td>\n",
       "    </tr>\n",
       "    <tr>\n",
       "      <th>9</th>\n",
       "      <td>43</td>\n",
       "    </tr>\n",
       "    <tr>\n",
       "      <th>10</th>\n",
       "      <td>42</td>\n",
       "    </tr>\n",
       "    <tr>\n",
       "      <th>11</th>\n",
       "      <td>41</td>\n",
       "    </tr>\n",
       "    <tr>\n",
       "      <th>12</th>\n",
       "      <td>16</td>\n",
       "    </tr>\n",
       "    <tr>\n",
       "      <th>13</th>\n",
       "      <td>50</td>\n",
       "    </tr>\n",
       "    <tr>\n",
       "      <th>14</th>\n",
       "      <td>44</td>\n",
       "    </tr>\n",
       "    <tr>\n",
       "      <th>15</th>\n",
       "      <td>31</td>\n",
       "    </tr>\n",
       "    <tr>\n",
       "      <th>16</th>\n",
       "      <td>22</td>\n",
       "    </tr>\n",
       "    <tr>\n",
       "      <th>17</th>\n",
       "      <td>16</td>\n",
       "    </tr>\n",
       "    <tr>\n",
       "      <th>18</th>\n",
       "      <td>22</td>\n",
       "    </tr>\n",
       "    <tr>\n",
       "      <th>19</th>\n",
       "      <td>30</td>\n",
       "    </tr>\n",
       "    <tr>\n",
       "      <th>20</th>\n",
       "      <td>27</td>\n",
       "    </tr>\n",
       "    <tr>\n",
       "      <th>21</th>\n",
       "      <td>20</td>\n",
       "    </tr>\n",
       "    <tr>\n",
       "      <th>22</th>\n",
       "      <td>47</td>\n",
       "    </tr>\n",
       "    <tr>\n",
       "      <th>23</th>\n",
       "      <td>92</td>\n",
       "    </tr>\n",
       "  </tbody>\n",
       "</table>\n",
       "</div>"
      ],
      "text/plain": [
       "drugs_related_stop  True\n",
       "stop_datetime           \n",
       "0                    103\n",
       "1                     60\n",
       "2                     46\n",
       "3                     20\n",
       "4                      3\n",
       "5                      1\n",
       "6                     10\n",
       "7                     15\n",
       "8                     14\n",
       "9                     43\n",
       "10                    42\n",
       "11                    41\n",
       "12                    16\n",
       "13                    50\n",
       "14                    44\n",
       "15                    31\n",
       "16                    22\n",
       "17                    16\n",
       "18                    22\n",
       "19                    30\n",
       "20                    27\n",
       "21                    20\n",
       "22                    47\n",
       "23                    92"
      ]
     },
     "execution_count": 20,
     "metadata": {},
     "output_type": "execute_result"
    }
   ],
   "source": [
    "table = drugstops.pivot_table(values='stop_datetime',index=drugstops.index.hour ,columns='drugs_related_stop',aggfunc='count')\n",
    "table"
   ]
  },
  {
   "cell_type": "code",
   "execution_count": 21,
   "metadata": {},
   "outputs": [
    {
     "data": {
      "text/plain": [
       "<AxesSubplot:>"
      ]
     },
     "execution_count": 21,
     "metadata": {},
     "output_type": "execute_result"
    },
    {
     "data": {
      "image/png": "[encoded data removed]",
      "text/plain": [
       "<Figure size 1080x720 with 1 Axes>"
      ]
     },
     "metadata": {
      "needs_background": "light"
     },
     "output_type": "display_data"
    }
   ],
   "source": [
    "table.index=['12:00AM','1:00AM','2:00AM','3:00AM','4:00AM','5:00AM','6:00AM','7:00AM','8:00AM','9:00AM','10:00AM','11:00AM','12:00PM','1:00PM','2:00PM','3:00PM','4:00PM','5:00PM','6:00PM','7:00PM','8:00PM','9:00PM','10:00PM','11:00PM']\n",
    "table.plot(kind='barh',figsize= (15,10))\n"
   ]
  },
  {
   "cell_type": "markdown",
   "metadata": {},
   "source": [
    "**Part 8:** Do most stops occur at night?"
   ]
  },
  {
   "cell_type": "code",
   "execution_count": 22,
   "metadata": {},
   "outputs": [
    {
     "data": {
      "text/plain": [
       "<AxesSubplot:>"
      ]
     },
     "execution_count": 22,
     "metadata": {},
     "output_type": "execute_result"
    },
    {
     "data": {
      "image/png": "[encoded data removed]",
      "text/plain": [
       "<Figure size 1080x720 with 1 Axes>"
      ]
     },
     "metadata": {
      "needs_background": "light"
     },
     "output_type": "display_data"
    }
   ],
   "source": [
    "table = ri.pivot_table(values='stop_datetime',index=ri.index.hour ,aggfunc='count')\n",
    "table\n",
    "table.index=['12:00AM','1:00AM','2:00AM','3:00AM','4:00AM','5:00AM','6:00AM','7:00AM','8:00AM','9:00AM','10:00AM','11:00AM','12:00PM','1:00PM','2:00PM','3:00PM','4:00PM','5:00PM','6:00PM','7:00PM','8:00PM','9:00PM','10:00PM','11:00PM']\n",
    "table.plot(kind='barh',figsize= (15,10))"
   ]
  },
  {
   "cell_type": "markdown",
   "metadata": {},
   "source": [
    "**Part 9:** Find the bad data in the stop_duration column and fix it"
   ]
  },
  {
   "cell_type": "code",
   "execution_count": 23,
   "metadata": {},
   "outputs": [
    {
     "data": {
      "text/plain": [
       "stop_datetime\n",
       "2005-01-02 01:55:00     0-15 Min\n",
       "2005-01-18 08:15:00     0-15 Min\n",
       "2005-01-23 23:15:00     0-15 Min\n",
       "2005-02-20 17:15:00    16-30 Min\n",
       "2005-03-14 10:00:00     0-15 Min\n",
       "                         ...    \n",
       "2015-12-31 20:27:00     0-15 Min\n",
       "2015-12-31 20:35:00     0-15 Min\n",
       "2015-12-31 20:45:00     0-15 Min\n",
       "2015-12-31 21:42:00     0-15 Min\n",
       "2015-12-31 22:46:00     0-15 Min\n",
       "Name: stop_duration, Length: 91741, dtype: object"
      ]
     },
     "execution_count": 23,
     "metadata": {},
     "output_type": "execute_result"
    }
   ],
   "source": [
    "ri.stop_duration"
   ]
  },
  {
   "cell_type": "code",
   "execution_count": 24,
   "metadata": {},
   "outputs": [
    {
     "data": {
      "text/plain": [
       "0-15 Min     69543\n",
       "16-30 Min    13635\n",
       "30+ Min       3228\n",
       "2                1\n",
       "1                1\n",
       "Name: stop_duration, dtype: int64"
      ]
     },
     "execution_count": 24,
     "metadata": {},
     "output_type": "execute_result"
    }
   ],
   "source": [
    "ri.stop_duration.value_counts()"
   ]
  },
  {
   "cell_type": "code",
   "execution_count": 25,
   "metadata": {},
   "outputs": [],
   "source": [
    "ri.drop(ri[(ri.stop_duration =='1')|(ri.stop_duration =='2')].index,inplace=True)\n",
    "##ri.loc[ri.stop_duration=='1']\n"
   ]
  },
  {
   "cell_type": "code",
   "execution_count": 26,
   "metadata": {},
   "outputs": [],
   "source": [
    "dic={'0-15 Min': 7,'16-30 Min': 23,'30+ Min': 40}"
   ]
  },
  {
   "cell_type": "code",
   "execution_count": 27,
   "metadata": {},
   "outputs": [],
   "source": [
    "ri['stop_time']=ri.stop_duration.map(dic)"
   ]
  },
  {
   "cell_type": "code",
   "execution_count": 28,
   "metadata": {},
   "outputs": [
    {
     "data": {
      "text/html": [
       "<div>\n",
       "<style scoped>\n",
       "    .dataframe tbody tr th:only-of-type {\n",
       "        vertical-align: middle;\n",
       "    }\n",
       "\n",
       "    .dataframe tbody tr th {\n",
       "        vertical-align: top;\n",
       "    }\n",
       "\n",
       "    .dataframe thead th {\n",
       "        text-align: right;\n",
       "    }\n",
       "</style>\n",
       "<table border=\"1\" class=\"dataframe\">\n",
       "  <thead>\n",
       "    <tr style=\"text-align: right;\">\n",
       "      <th></th>\n",
       "      <th>stop_datetime</th>\n",
       "      <th>driver_gender</th>\n",
       "      <th>driver_age_raw</th>\n",
       "      <th>driver_age</th>\n",
       "      <th>driver_race</th>\n",
       "      <th>violation_raw</th>\n",
       "      <th>violation</th>\n",
       "      <th>search_conducted</th>\n",
       "      <th>search_type</th>\n",
       "      <th>stop_outcome</th>\n",
       "      <th>is_arrested</th>\n",
       "      <th>stop_duration</th>\n",
       "      <th>drugs_related_stop</th>\n",
       "      <th>stop_time</th>\n",
       "    </tr>\n",
       "    <tr>\n",
       "      <th>stop_datetime</th>\n",
       "      <th></th>\n",
       "      <th></th>\n",
       "      <th></th>\n",
       "      <th></th>\n",
       "      <th></th>\n",
       "      <th></th>\n",
       "      <th></th>\n",
       "      <th></th>\n",
       "      <th></th>\n",
       "      <th></th>\n",
       "      <th></th>\n",
       "      <th></th>\n",
       "      <th></th>\n",
       "      <th></th>\n",
       "    </tr>\n",
       "  </thead>\n",
       "  <tbody>\n",
       "    <tr>\n",
       "      <th>2005-01-02 01:55:00</th>\n",
       "      <td>2005-01-02 01:55:00</td>\n",
       "      <td>M</td>\n",
       "      <td>1985.0</td>\n",
       "      <td>20.0</td>\n",
       "      <td>White</td>\n",
       "      <td>Speeding</td>\n",
       "      <td>Speeding</td>\n",
       "      <td>False</td>\n",
       "      <td>NaN</td>\n",
       "      <td>Citation</td>\n",
       "      <td>False</td>\n",
       "      <td>0-15 Min</td>\n",
       "      <td>False</td>\n",
       "      <td>7.0</td>\n",
       "    </tr>\n",
       "    <tr>\n",
       "      <th>2005-01-18 08:15:00</th>\n",
       "      <td>2005-01-18 08:15:00</td>\n",
       "      <td>M</td>\n",
       "      <td>1965.0</td>\n",
       "      <td>40.0</td>\n",
       "      <td>White</td>\n",
       "      <td>Speeding</td>\n",
       "      <td>Speeding</td>\n",
       "      <td>False</td>\n",
       "      <td>NaN</td>\n",
       "      <td>Citation</td>\n",
       "      <td>False</td>\n",
       "      <td>0-15 Min</td>\n",
       "      <td>False</td>\n",
       "      <td>7.0</td>\n",
       "    </tr>\n",
       "    <tr>\n",
       "      <th>2005-01-23 23:15:00</th>\n",
       "      <td>2005-01-23 23:15:00</td>\n",
       "      <td>M</td>\n",
       "      <td>1972.0</td>\n",
       "      <td>33.0</td>\n",
       "      <td>White</td>\n",
       "      <td>Speeding</td>\n",
       "      <td>Speeding</td>\n",
       "      <td>False</td>\n",
       "      <td>NaN</td>\n",
       "      <td>Citation</td>\n",
       "      <td>False</td>\n",
       "      <td>0-15 Min</td>\n",
       "      <td>False</td>\n",
       "      <td>7.0</td>\n",
       "    </tr>\n",
       "    <tr>\n",
       "      <th>2005-02-20 17:15:00</th>\n",
       "      <td>2005-02-20 17:15:00</td>\n",
       "      <td>M</td>\n",
       "      <td>1986.0</td>\n",
       "      <td>19.0</td>\n",
       "      <td>White</td>\n",
       "      <td>Call for Service</td>\n",
       "      <td>Other</td>\n",
       "      <td>False</td>\n",
       "      <td>NaN</td>\n",
       "      <td>Arrest Driver</td>\n",
       "      <td>True</td>\n",
       "      <td>16-30 Min</td>\n",
       "      <td>False</td>\n",
       "      <td>23.0</td>\n",
       "    </tr>\n",
       "    <tr>\n",
       "      <th>2005-03-14 10:00:00</th>\n",
       "      <td>2005-03-14 10:00:00</td>\n",
       "      <td>F</td>\n",
       "      <td>1984.0</td>\n",
       "      <td>21.0</td>\n",
       "      <td>White</td>\n",
       "      <td>Speeding</td>\n",
       "      <td>Speeding</td>\n",
       "      <td>False</td>\n",
       "      <td>NaN</td>\n",
       "      <td>Citation</td>\n",
       "      <td>False</td>\n",
       "      <td>0-15 Min</td>\n",
       "      <td>False</td>\n",
       "      <td>7.0</td>\n",
       "    </tr>\n",
       "    <tr>\n",
       "      <th>2005-03-23 09:45:00</th>\n",
       "      <td>2005-03-23 09:45:00</td>\n",
       "      <td>M</td>\n",
       "      <td>1982.0</td>\n",
       "      <td>23.0</td>\n",
       "      <td>Black</td>\n",
       "      <td>Equipment/Inspection Violation</td>\n",
       "      <td>Equipment</td>\n",
       "      <td>False</td>\n",
       "      <td>NaN</td>\n",
       "      <td>Citation</td>\n",
       "      <td>False</td>\n",
       "      <td>0-15 Min</td>\n",
       "      <td>False</td>\n",
       "      <td>7.0</td>\n",
       "    </tr>\n",
       "    <tr>\n",
       "      <th>2005-04-01 17:30:00</th>\n",
       "      <td>2005-04-01 17:30:00</td>\n",
       "      <td>M</td>\n",
       "      <td>1969.0</td>\n",
       "      <td>36.0</td>\n",
       "      <td>White</td>\n",
       "      <td>Speeding</td>\n",
       "      <td>Speeding</td>\n",
       "      <td>False</td>\n",
       "      <td>NaN</td>\n",
       "      <td>Citation</td>\n",
       "      <td>False</td>\n",
       "      <td>0-15 Min</td>\n",
       "      <td>False</td>\n",
       "      <td>7.0</td>\n",
       "    </tr>\n",
       "    <tr>\n",
       "      <th>2005-06-06 13:20:00</th>\n",
       "      <td>2005-06-06 13:20:00</td>\n",
       "      <td>F</td>\n",
       "      <td>1986.0</td>\n",
       "      <td>19.0</td>\n",
       "      <td>White</td>\n",
       "      <td>Speeding</td>\n",
       "      <td>Speeding</td>\n",
       "      <td>False</td>\n",
       "      <td>NaN</td>\n",
       "      <td>Citation</td>\n",
       "      <td>False</td>\n",
       "      <td>0-15 Min</td>\n",
       "      <td>False</td>\n",
       "      <td>7.0</td>\n",
       "    </tr>\n",
       "    <tr>\n",
       "      <th>2005-07-13 10:15:00</th>\n",
       "      <td>2005-07-13 10:15:00</td>\n",
       "      <td>M</td>\n",
       "      <td>1970.0</td>\n",
       "      <td>35.0</td>\n",
       "      <td>Black</td>\n",
       "      <td>Speeding</td>\n",
       "      <td>Speeding</td>\n",
       "      <td>False</td>\n",
       "      <td>NaN</td>\n",
       "      <td>Citation</td>\n",
       "      <td>False</td>\n",
       "      <td>0-15 Min</td>\n",
       "      <td>False</td>\n",
       "      <td>7.0</td>\n",
       "    </tr>\n",
       "    <tr>\n",
       "      <th>2005-07-13 15:45:00</th>\n",
       "      <td>2005-07-13 15:45:00</td>\n",
       "      <td>M</td>\n",
       "      <td>1970.0</td>\n",
       "      <td>35.0</td>\n",
       "      <td>White</td>\n",
       "      <td>Speeding</td>\n",
       "      <td>Speeding</td>\n",
       "      <td>False</td>\n",
       "      <td>NaN</td>\n",
       "      <td>Citation</td>\n",
       "      <td>False</td>\n",
       "      <td>0-15 Min</td>\n",
       "      <td>False</td>\n",
       "      <td>7.0</td>\n",
       "    </tr>\n",
       "  </tbody>\n",
       "</table>\n",
       "</div>"
      ],
      "text/plain": [
       "                          stop_datetime driver_gender  driver_age_raw  \\\n",
       "stop_datetime                                                           \n",
       "2005-01-02 01:55:00 2005-01-02 01:55:00             M          1985.0   \n",
       "2005-01-18 08:15:00 2005-01-18 08:15:00             M          1965.0   \n",
       "2005-01-23 23:15:00 2005-01-23 23:15:00             M          1972.0   \n",
       "2005-02-20 17:15:00 2005-02-20 17:15:00             M          1986.0   \n",
       "2005-03-14 10:00:00 2005-03-14 10:00:00             F          1984.0   \n",
       "2005-03-23 09:45:00 2005-03-23 09:45:00             M          1982.0   \n",
       "2005-04-01 17:30:00 2005-04-01 17:30:00             M          1969.0   \n",
       "2005-06-06 13:20:00 2005-06-06 13:20:00             F          1986.0   \n",
       "2005-07-13 10:15:00 2005-07-13 10:15:00             M          1970.0   \n",
       "2005-07-13 15:45:00 2005-07-13 15:45:00             M          1970.0   \n",
       "\n",
       "                     driver_age driver_race                   violation_raw  \\\n",
       "stop_datetime                                                                 \n",
       "2005-01-02 01:55:00        20.0       White                        Speeding   \n",
       "2005-01-18 08:15:00        40.0       White                        Speeding   \n",
       "2005-01-23 23:15:00        33.0       White                        Speeding   \n",
       "2005-02-20 17:15:00        19.0       White                Call for Service   \n",
       "2005-03-14 10:00:00        21.0       White                        Speeding   \n",
       "2005-03-23 09:45:00        23.0       Black  Equipment/Inspection Violation   \n",
       "2005-04-01 17:30:00        36.0       White                        Speeding   \n",
       "2005-06-06 13:20:00        19.0       White                        Speeding   \n",
       "2005-07-13 10:15:00        35.0       Black                        Speeding   \n",
       "2005-07-13 15:45:00        35.0       White                        Speeding   \n",
       "\n",
       "                     violation  search_conducted search_type   stop_outcome  \\\n",
       "stop_datetime                                                                 \n",
       "2005-01-02 01:55:00   Speeding             False         NaN       Citation   \n",
       "2005-01-18 08:15:00   Speeding             False         NaN       Citation   \n",
       "2005-01-23 23:15:00   Speeding             False         NaN       Citation   \n",
       "2005-02-20 17:15:00      Other             False         NaN  Arrest Driver   \n",
       "2005-03-14 10:00:00   Speeding             False         NaN       Citation   \n",
       "2005-03-23 09:45:00  Equipment             False         NaN       Citation   \n",
       "2005-04-01 17:30:00   Speeding             False         NaN       Citation   \n",
       "2005-06-06 13:20:00   Speeding             False         NaN       Citation   \n",
       "2005-07-13 10:15:00   Speeding             False         NaN       Citation   \n",
       "2005-07-13 15:45:00   Speeding             False         NaN       Citation   \n",
       "\n",
       "                    is_arrested stop_duration  drugs_related_stop  stop_time  \n",
       "stop_datetime                                                                 \n",
       "2005-01-02 01:55:00       False      0-15 Min               False        7.0  \n",
       "2005-01-18 08:15:00       False      0-15 Min               False        7.0  \n",
       "2005-01-23 23:15:00       False      0-15 Min               False        7.0  \n",
       "2005-02-20 17:15:00        True     16-30 Min               False       23.0  \n",
       "2005-03-14 10:00:00       False      0-15 Min               False        7.0  \n",
       "2005-03-23 09:45:00       False      0-15 Min               False        7.0  \n",
       "2005-04-01 17:30:00       False      0-15 Min               False        7.0  \n",
       "2005-06-06 13:20:00       False      0-15 Min               False        7.0  \n",
       "2005-07-13 10:15:00       False      0-15 Min               False        7.0  \n",
       "2005-07-13 15:45:00       False      0-15 Min               False        7.0  "
      ]
     },
     "execution_count": 28,
     "metadata": {},
     "output_type": "execute_result"
    }
   ],
   "source": [
    "ri.head(10)"
   ]
  },
  {
   "cell_type": "markdown",
   "metadata": {},
   "source": [
    "**Part 10:** What is the mean stop_duration for each violation_raw?"
   ]
  },
  {
   "cell_type": "code",
   "execution_count": 29,
   "metadata": {},
   "outputs": [
    {
     "data": {
      "text/plain": [
       "violation_raw\n",
       "APB                                 19.379747\n",
       "Call for Service                    20.395994\n",
       "Equipment/Inspection Violation      10.412886\n",
       "Motorist Assist/Courtesy            15.714286\n",
       "Other Traffic Violation             12.771436\n",
       "Registration Violation              12.738636\n",
       "Seatbelt Violation                   8.774390\n",
       "Special Detail/Directed Patrol      13.952342\n",
       "Speeding                             9.669473\n",
       "Suspicious Person                   17.196429\n",
       "Violation of City/Town Ordinance    12.563981\n",
       "Warrant                             20.000000\n",
       "Name: stop_time, dtype: float64"
      ]
     },
     "execution_count": 29,
     "metadata": {},
     "output_type": "execute_result"
    }
   ],
   "source": [
    "ri.groupby(ri.violation_raw).stop_time.mean()"
   ]
  },
  {
   "cell_type": "markdown",
   "metadata": {},
   "source": [
    "Compare the age distributions for each violation"
   ]
  },
  {
   "cell_type": "code",
   "execution_count": 30,
   "metadata": {},
   "outputs": [
    {
     "data": {
      "text/html": [
       "<div>\n",
       "<style scoped>\n",
       "    .dataframe tbody tr th:only-of-type {\n",
       "        vertical-align: middle;\n",
       "    }\n",
       "\n",
       "    .dataframe tbody tr th {\n",
       "        vertical-align: top;\n",
       "    }\n",
       "\n",
       "    .dataframe thead th {\n",
       "        text-align: right;\n",
       "    }\n",
       "</style>\n",
       "<table border=\"1\" class=\"dataframe\">\n",
       "  <thead>\n",
       "    <tr style=\"text-align: right;\">\n",
       "      <th>driver_age</th>\n",
       "      <th>15.0</th>\n",
       "      <th>16.0</th>\n",
       "      <th>17.0</th>\n",
       "      <th>18.0</th>\n",
       "      <th>19.0</th>\n",
       "      <th>20.0</th>\n",
       "      <th>21.0</th>\n",
       "      <th>22.0</th>\n",
       "      <th>23.0</th>\n",
       "      <th>24.0</th>\n",
       "      <th>...</th>\n",
       "      <th>83.0</th>\n",
       "      <th>84.0</th>\n",
       "      <th>85.0</th>\n",
       "      <th>86.0</th>\n",
       "      <th>87.0</th>\n",
       "      <th>88.0</th>\n",
       "      <th>89.0</th>\n",
       "      <th>90.0</th>\n",
       "      <th>94.0</th>\n",
       "      <th>99.0</th>\n",
       "    </tr>\n",
       "    <tr>\n",
       "      <th>violation_raw</th>\n",
       "      <th></th>\n",
       "      <th></th>\n",
       "      <th></th>\n",
       "      <th></th>\n",
       "      <th></th>\n",
       "      <th></th>\n",
       "      <th></th>\n",
       "      <th></th>\n",
       "      <th></th>\n",
       "      <th></th>\n",
       "      <th></th>\n",
       "      <th></th>\n",
       "      <th></th>\n",
       "      <th></th>\n",
       "      <th></th>\n",
       "      <th></th>\n",
       "      <th></th>\n",
       "      <th></th>\n",
       "      <th></th>\n",
       "      <th></th>\n",
       "      <th></th>\n",
       "    </tr>\n",
       "  </thead>\n",
       "  <tbody>\n",
       "    <tr>\n",
       "      <th>APB</th>\n",
       "      <td>NaN</td>\n",
       "      <td>NaN</td>\n",
       "      <td>NaN</td>\n",
       "      <td>1.0</td>\n",
       "      <td>1.0</td>\n",
       "      <td>NaN</td>\n",
       "      <td>8.0</td>\n",
       "      <td>4.0</td>\n",
       "      <td>1.0</td>\n",
       "      <td>1.0</td>\n",
       "      <td>...</td>\n",
       "      <td>NaN</td>\n",
       "      <td>NaN</td>\n",
       "      <td>NaN</td>\n",
       "      <td>NaN</td>\n",
       "      <td>NaN</td>\n",
       "      <td>NaN</td>\n",
       "      <td>NaN</td>\n",
       "      <td>NaN</td>\n",
       "      <td>NaN</td>\n",
       "      <td>NaN</td>\n",
       "    </tr>\n",
       "    <tr>\n",
       "      <th>Call for Service</th>\n",
       "      <td>NaN</td>\n",
       "      <td>2.0</td>\n",
       "      <td>8.0</td>\n",
       "      <td>22.0</td>\n",
       "      <td>50.0</td>\n",
       "      <td>61.0</td>\n",
       "      <td>56.0</td>\n",
       "      <td>68.0</td>\n",
       "      <td>48.0</td>\n",
       "      <td>64.0</td>\n",
       "      <td>...</td>\n",
       "      <td>1.0</td>\n",
       "      <td>NaN</td>\n",
       "      <td>NaN</td>\n",
       "      <td>1.0</td>\n",
       "      <td>2.0</td>\n",
       "      <td>NaN</td>\n",
       "      <td>NaN</td>\n",
       "      <td>NaN</td>\n",
       "      <td>NaN</td>\n",
       "      <td>NaN</td>\n",
       "    </tr>\n",
       "    <tr>\n",
       "      <th>Equipment/Inspection Violation</th>\n",
       "      <td>NaN</td>\n",
       "      <td>5.0</td>\n",
       "      <td>56.0</td>\n",
       "      <td>200.0</td>\n",
       "      <td>457.0</td>\n",
       "      <td>540.0</td>\n",
       "      <td>623.0</td>\n",
       "      <td>601.0</td>\n",
       "      <td>664.0</td>\n",
       "      <td>572.0</td>\n",
       "      <td>...</td>\n",
       "      <td>1.0</td>\n",
       "      <td>NaN</td>\n",
       "      <td>1.0</td>\n",
       "      <td>NaN</td>\n",
       "      <td>NaN</td>\n",
       "      <td>NaN</td>\n",
       "      <td>1.0</td>\n",
       "      <td>NaN</td>\n",
       "      <td>NaN</td>\n",
       "      <td>NaN</td>\n",
       "    </tr>\n",
       "    <tr>\n",
       "      <th>Motorist Assist/Courtesy</th>\n",
       "      <td>NaN</td>\n",
       "      <td>NaN</td>\n",
       "      <td>1.0</td>\n",
       "      <td>3.0</td>\n",
       "      <td>2.0</td>\n",
       "      <td>5.0</td>\n",
       "      <td>5.0</td>\n",
       "      <td>14.0</td>\n",
       "      <td>5.0</td>\n",
       "      <td>5.0</td>\n",
       "      <td>...</td>\n",
       "      <td>NaN</td>\n",
       "      <td>NaN</td>\n",
       "      <td>NaN</td>\n",
       "      <td>NaN</td>\n",
       "      <td>NaN</td>\n",
       "      <td>NaN</td>\n",
       "      <td>NaN</td>\n",
       "      <td>NaN</td>\n",
       "      <td>NaN</td>\n",
       "      <td>NaN</td>\n",
       "    </tr>\n",
       "    <tr>\n",
       "      <th>Other Traffic Violation</th>\n",
       "      <td>4.0</td>\n",
       "      <td>7.0</td>\n",
       "      <td>77.0</td>\n",
       "      <td>231.0</td>\n",
       "      <td>447.0</td>\n",
       "      <td>554.0</td>\n",
       "      <td>634.0</td>\n",
       "      <td>630.0</td>\n",
       "      <td>666.0</td>\n",
       "      <td>597.0</td>\n",
       "      <td>...</td>\n",
       "      <td>1.0</td>\n",
       "      <td>3.0</td>\n",
       "      <td>3.0</td>\n",
       "      <td>2.0</td>\n",
       "      <td>2.0</td>\n",
       "      <td>NaN</td>\n",
       "      <td>NaN</td>\n",
       "      <td>NaN</td>\n",
       "      <td>1.0</td>\n",
       "      <td>1.0</td>\n",
       "    </tr>\n",
       "    <tr>\n",
       "      <th>Registration Violation</th>\n",
       "      <td>NaN</td>\n",
       "      <td>5.0</td>\n",
       "      <td>10.0</td>\n",
       "      <td>48.0</td>\n",
       "      <td>93.0</td>\n",
       "      <td>147.0</td>\n",
       "      <td>144.0</td>\n",
       "      <td>182.0</td>\n",
       "      <td>167.0</td>\n",
       "      <td>164.0</td>\n",
       "      <td>...</td>\n",
       "      <td>NaN</td>\n",
       "      <td>NaN</td>\n",
       "      <td>NaN</td>\n",
       "      <td>NaN</td>\n",
       "      <td>NaN</td>\n",
       "      <td>NaN</td>\n",
       "      <td>NaN</td>\n",
       "      <td>NaN</td>\n",
       "      <td>NaN</td>\n",
       "      <td>NaN</td>\n",
       "    </tr>\n",
       "    <tr>\n",
       "      <th>Seatbelt Violation</th>\n",
       "      <td>NaN</td>\n",
       "      <td>NaN</td>\n",
       "      <td>8.0</td>\n",
       "      <td>39.0</td>\n",
       "      <td>79.0</td>\n",
       "      <td>105.0</td>\n",
       "      <td>152.0</td>\n",
       "      <td>142.0</td>\n",
       "      <td>157.0</td>\n",
       "      <td>169.0</td>\n",
       "      <td>...</td>\n",
       "      <td>NaN</td>\n",
       "      <td>NaN</td>\n",
       "      <td>NaN</td>\n",
       "      <td>NaN</td>\n",
       "      <td>NaN</td>\n",
       "      <td>NaN</td>\n",
       "      <td>NaN</td>\n",
       "      <td>NaN</td>\n",
       "      <td>NaN</td>\n",
       "      <td>NaN</td>\n",
       "    </tr>\n",
       "    <tr>\n",
       "      <th>Special Detail/Directed Patrol</th>\n",
       "      <td>NaN</td>\n",
       "      <td>NaN</td>\n",
       "      <td>1.0</td>\n",
       "      <td>3.0</td>\n",
       "      <td>13.0</td>\n",
       "      <td>12.0</td>\n",
       "      <td>17.0</td>\n",
       "      <td>17.0</td>\n",
       "      <td>27.0</td>\n",
       "      <td>30.0</td>\n",
       "      <td>...</td>\n",
       "      <td>NaN</td>\n",
       "      <td>NaN</td>\n",
       "      <td>NaN</td>\n",
       "      <td>NaN</td>\n",
       "      <td>NaN</td>\n",
       "      <td>NaN</td>\n",
       "      <td>NaN</td>\n",
       "      <td>NaN</td>\n",
       "      <td>NaN</td>\n",
       "      <td>NaN</td>\n",
       "    </tr>\n",
       "    <tr>\n",
       "      <th>Speeding</th>\n",
       "      <td>1.0</td>\n",
       "      <td>26.0</td>\n",
       "      <td>424.0</td>\n",
       "      <td>1181.0</td>\n",
       "      <td>2074.0</td>\n",
       "      <td>2354.0</td>\n",
       "      <td>2412.0</td>\n",
       "      <td>2453.0</td>\n",
       "      <td>2242.0</td>\n",
       "      <td>2168.0</td>\n",
       "      <td>...</td>\n",
       "      <td>4.0</td>\n",
       "      <td>6.0</td>\n",
       "      <td>2.0</td>\n",
       "      <td>4.0</td>\n",
       "      <td>2.0</td>\n",
       "      <td>2.0</td>\n",
       "      <td>NaN</td>\n",
       "      <td>1.0</td>\n",
       "      <td>NaN</td>\n",
       "      <td>NaN</td>\n",
       "    </tr>\n",
       "    <tr>\n",
       "      <th>Suspicious Person</th>\n",
       "      <td>NaN</td>\n",
       "      <td>NaN</td>\n",
       "      <td>NaN</td>\n",
       "      <td>2.0</td>\n",
       "      <td>4.0</td>\n",
       "      <td>4.0</td>\n",
       "      <td>1.0</td>\n",
       "      <td>1.0</td>\n",
       "      <td>2.0</td>\n",
       "      <td>2.0</td>\n",
       "      <td>...</td>\n",
       "      <td>NaN</td>\n",
       "      <td>NaN</td>\n",
       "      <td>NaN</td>\n",
       "      <td>NaN</td>\n",
       "      <td>NaN</td>\n",
       "      <td>NaN</td>\n",
       "      <td>NaN</td>\n",
       "      <td>NaN</td>\n",
       "      <td>NaN</td>\n",
       "      <td>NaN</td>\n",
       "    </tr>\n",
       "    <tr>\n",
       "      <th>Violation of City/Town Ordinance</th>\n",
       "      <td>NaN</td>\n",
       "      <td>NaN</td>\n",
       "      <td>NaN</td>\n",
       "      <td>3.0</td>\n",
       "      <td>8.0</td>\n",
       "      <td>11.0</td>\n",
       "      <td>8.0</td>\n",
       "      <td>13.0</td>\n",
       "      <td>7.0</td>\n",
       "      <td>8.0</td>\n",
       "      <td>...</td>\n",
       "      <td>NaN</td>\n",
       "      <td>NaN</td>\n",
       "      <td>NaN</td>\n",
       "      <td>NaN</td>\n",
       "      <td>NaN</td>\n",
       "      <td>NaN</td>\n",
       "      <td>NaN</td>\n",
       "      <td>NaN</td>\n",
       "      <td>NaN</td>\n",
       "      <td>NaN</td>\n",
       "    </tr>\n",
       "    <tr>\n",
       "      <th>Warrant</th>\n",
       "      <td>NaN</td>\n",
       "      <td>NaN</td>\n",
       "      <td>NaN</td>\n",
       "      <td>NaN</td>\n",
       "      <td>NaN</td>\n",
       "      <td>1.0</td>\n",
       "      <td>2.0</td>\n",
       "      <td>NaN</td>\n",
       "      <td>NaN</td>\n",
       "      <td>2.0</td>\n",
       "      <td>...</td>\n",
       "      <td>NaN</td>\n",
       "      <td>NaN</td>\n",
       "      <td>NaN</td>\n",
       "      <td>NaN</td>\n",
       "      <td>NaN</td>\n",
       "      <td>NaN</td>\n",
       "      <td>NaN</td>\n",
       "      <td>NaN</td>\n",
       "      <td>NaN</td>\n",
       "      <td>NaN</td>\n",
       "    </tr>\n",
       "  </tbody>\n",
       "</table>\n",
       "<p>12 rows × 78 columns</p>\n",
       "</div>"
      ],
      "text/plain": [
       "driver_age                        15.0  16.0   17.0    18.0    19.0    20.0  \\\n",
       "violation_raw                                                                 \n",
       "APB                                NaN   NaN    NaN     1.0     1.0     NaN   \n",
       "Call for Service                   NaN   2.0    8.0    22.0    50.0    61.0   \n",
       "Equipment/Inspection Violation     NaN   5.0   56.0   200.0   457.0   540.0   \n",
       "Motorist Assist/Courtesy           NaN   NaN    1.0     3.0     2.0     5.0   \n",
       "Other Traffic Violation            4.0   7.0   77.0   231.0   447.0   554.0   \n",
       "Registration Violation             NaN   5.0   10.0    48.0    93.0   147.0   \n",
       "Seatbelt Violation                 NaN   NaN    8.0    39.0    79.0   105.0   \n",
       "Special Detail/Directed Patrol     NaN   NaN    1.0     3.0    13.0    12.0   \n",
       "Speeding                           1.0  26.0  424.0  1181.0  2074.0  2354.0   \n",
       "Suspicious Person                  NaN   NaN    NaN     2.0     4.0     4.0   \n",
       "Violation of City/Town Ordinance   NaN   NaN    NaN     3.0     8.0    11.0   \n",
       "Warrant                            NaN   NaN    NaN     NaN     NaN     1.0   \n",
       "\n",
       "driver_age                          21.0    22.0    23.0    24.0  ...  83.0  \\\n",
       "violation_raw                                                     ...         \n",
       "APB                                  8.0     4.0     1.0     1.0  ...   NaN   \n",
       "Call for Service                    56.0    68.0    48.0    64.0  ...   1.0   \n",
       "Equipment/Inspection Violation     623.0   601.0   664.0   572.0  ...   1.0   \n",
       "Motorist Assist/Courtesy             5.0    14.0     5.0     5.0  ...   NaN   \n",
       "Other Traffic Violation            634.0   630.0   666.0   597.0  ...   1.0   \n",
       "Registration Violation             144.0   182.0   167.0   164.0  ...   NaN   \n",
       "Seatbelt Violation                 152.0   142.0   157.0   169.0  ...   NaN   \n",
       "Special Detail/Directed Patrol      17.0    17.0    27.0    30.0  ...   NaN   \n",
       "Speeding                          2412.0  2453.0  2242.0  2168.0  ...   4.0   \n",
       "Suspicious Person                    1.0     1.0     2.0     2.0  ...   NaN   \n",
       "Violation of City/Town Ordinance     8.0    13.0     7.0     8.0  ...   NaN   \n",
       "Warrant                              2.0     NaN     NaN     2.0  ...   NaN   \n",
       "\n",
       "driver_age                        84.0  85.0  86.0  87.0  88.0  89.0  90.0  \\\n",
       "violation_raw                                                                \n",
       "APB                                NaN   NaN   NaN   NaN   NaN   NaN   NaN   \n",
       "Call for Service                   NaN   NaN   1.0   2.0   NaN   NaN   NaN   \n",
       "Equipment/Inspection Violation     NaN   1.0   NaN   NaN   NaN   1.0   NaN   \n",
       "Motorist Assist/Courtesy           NaN   NaN   NaN   NaN   NaN   NaN   NaN   \n",
       "Other Traffic Violation            3.0   3.0   2.0   2.0   NaN   NaN   NaN   \n",
       "Registration Violation             NaN   NaN   NaN   NaN   NaN   NaN   NaN   \n",
       "Seatbelt Violation                 NaN   NaN   NaN   NaN   NaN   NaN   NaN   \n",
       "Special Detail/Directed Patrol     NaN   NaN   NaN   NaN   NaN   NaN   NaN   \n",
       "Speeding                           6.0   2.0   4.0   2.0   2.0   NaN   1.0   \n",
       "Suspicious Person                  NaN   NaN   NaN   NaN   NaN   NaN   NaN   \n",
       "Violation of City/Town Ordinance   NaN   NaN   NaN   NaN   NaN   NaN   NaN   \n",
       "Warrant                            NaN   NaN   NaN   NaN   NaN   NaN   NaN   \n",
       "\n",
       "driver_age                        94.0  99.0  \n",
       "violation_raw                                 \n",
       "APB                                NaN   NaN  \n",
       "Call for Service                   NaN   NaN  \n",
       "Equipment/Inspection Violation     NaN   NaN  \n",
       "Motorist Assist/Courtesy           NaN   NaN  \n",
       "Other Traffic Violation            1.0   1.0  \n",
       "Registration Violation             NaN   NaN  \n",
       "Seatbelt Violation                 NaN   NaN  \n",
       "Special Detail/Directed Patrol     NaN   NaN  \n",
       "Speeding                           NaN   NaN  \n",
       "Suspicious Person                  NaN   NaN  \n",
       "Violation of City/Town Ordinance   NaN   NaN  \n",
       "Warrant                            NaN   NaN  \n",
       "\n",
       "[12 rows x 78 columns]"
      ]
     },
     "execution_count": 30,
     "metadata": {},
     "output_type": "execute_result"
    }
   ],
   "source": [
    "ri.groupby(ri.violation_raw).driver_age.value_counts().unstack()"
   ]
  },
  {
   "cell_type": "code",
   "execution_count": 31,
   "metadata": {},
   "outputs": [
    {
     "data": {
      "text/plain": [
       "<AxesSubplot:xlabel='violation_raw'>"
      ]
     },
     "execution_count": 31,
     "metadata": {},
     "output_type": "execute_result"
    },
    {
     "data": {
      "image/png": "[encoded data removed]",
      "text/plain": [
       "<Figure size 432x288 with 1 Axes>"
      ]
     },
     "metadata": {
      "needs_background": "light"
     },
     "output_type": "display_data"
    }
   ],
   "source": [
    "ri.groupby(ri.violation_raw).driver_age.value_counts().unstack().plot()"
   ]
  },
  {
   "cell_type": "code",
   "execution_count": null,
   "metadata": {},
   "outputs": [],
   "source": []
  }
 ],
 "metadata": {
  "kernelspec": {
   "display_name": "Python 3",
   "language": "python",
   "name": "python3"
  },
  "language_info": {
   "codemirror_mode": {
    "name": "ipython",
    "version": 3
   },
   "file_extension": ".py",
   "mimetype": "text/x-python",
   "name": "python",
   "nbconvert_exporter": "python",
   "pygments_lexer": "ipython3",
   "version": "3.8.8"
  }
 },
 "nbformat": 4,
 "nbformat_minor": 4
}
