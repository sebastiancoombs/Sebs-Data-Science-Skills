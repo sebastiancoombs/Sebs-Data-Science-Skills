{
 "cells": [
  {
   "cell_type": "markdown",
   "id": "b368b21f",
   "metadata": {},
   "source": [
    "Artificial Neural Networks"
   ]
  },
  {
   "cell_type": "markdown",
   "id": "6b60de68",
   "metadata": {},
   "source": [
    "Rectified Linear Unit Function(ReLU)"
   ]
  },
  {
   "cell_type": "markdown",
   "id": "c131889c",
   "metadata": {},
   "source": [
    "Notation: ReLU:(t)\n",
    "        0 if T<= 0 \n",
    "        1 if T>0"
   ]
  },
  {
   "cell_type": "markdown",
   "id": "bd441890",
   "metadata": {},
   "source": [
    "### Every time you do the matrix * vector multiplication its called a 'layer'\n",
    "\n",
    "Relu(Relu(X01)X02)\n",
    "\n",
    "When you see the word deep learning it means there are atleast two layers\n"
   ]
  },
  {
   "cell_type": "code",
   "execution_count": 1,
   "id": "7c53f211",
   "metadata": {},
   "outputs": [],
   "source": [
    "import tensorflow as tf\n",
    "from tensorflow import keras\n",
    "import pandas as pd\n",
    "import matplotlib.pyplot as plt\n"
   ]
  },
  {
   "cell_type": "markdown",
   "id": "e917a120",
   "metadata": {},
   "source": [
    "# building a hand written digit classifier\n"
   ]
  },
  {
   "cell_type": "code",
   "execution_count": 2,
   "id": "64e6a407",
   "metadata": {},
   "outputs": [],
   "source": [
    "# use keras to import the MNIST dataset\n",
    "(X,y),(X_test,y_test)=keras.datasets.mnist.load_data()"
   ]
  },
  {
   "cell_type": "code",
   "execution_count": 3,
   "id": "4fcc9d0f",
   "metadata": {},
   "outputs": [
    {
     "data": {
      "text/plain": [
       "(60000, 28, 28)"
      ]
     },
     "execution_count": 3,
     "metadata": {},
     "output_type": "execute_result"
    }
   ],
   "source": [
    "X.shape"
   ]
  },
  {
   "cell_type": "code",
   "execution_count": 4,
   "id": "ecd5b6a9",
   "metadata": {},
   "outputs": [
    {
     "data": {
      "text/plain": [
       "<matplotlib.image.AxesImage at 0x1cf784aaa30>"
      ]
     },
     "execution_count": 4,
     "metadata": {},
     "output_type": "execute_result"
    },
    {
     "data": {
      "image/png": "[encoded data removed]",
      "text/plain": [
       "<Figure size 432x288 with 1 Axes>"
      ]
     },
     "metadata": {
      "needs_background": "light"
     },
     "output_type": "display_data"
    }
   ],
   "source": [
    "plt.imshow(X[5],cmap='gray')"
   ]
  },
  {
   "cell_type": "code",
   "execution_count": 5,
   "id": "ff8b0af3",
   "metadata": {},
   "outputs": [],
   "source": [
    "model= keras.Sequential([# sequentaial means apply one step after another ( there are other orders to do this is in)\n",
    "    keras.layers.Flatten(input_shape=[28,28]),\n",
    "    keras.layers.Dense(units=300 , activation ='relu'),\n",
    "    keras.layers.Dense(units=100 , activation ='relu'),\n",
    "    keras.layers.Dense(units=10, activation='softmax') # there are 10 classes from 0 to 9),\n",
    "])\n",
    "#matricies 0i are called the layers\n",
    "#the Rows (of the 0i) are called neurons"
   ]
  },
  {
   "cell_type": "code",
   "execution_count": 6,
   "id": "0cb8e0e0",
   "metadata": {},
   "outputs": [
    {
     "name": "stdout",
     "output_type": "stream",
     "text": [
      "Model: \"sequential\"\n",
      "_________________________________________________________________\n",
      " Layer (type)                Output Shape              Param #   \n",
      "=================================================================\n",
      " flatten (Flatten)           (None, 784)               0         \n",
      "                                                                 \n",
      " dense (Dense)               (None, 300)               235500    \n",
      "                                                                 \n",
      " dense_1 (Dense)             (None, 100)               30100     \n",
      "                                                                 \n",
      " dense_2 (Dense)             (None, 10)                1010      \n",
      "                                                                 \n",
      "=================================================================\n",
      "Total params: 266,610\n",
      "Trainable params: 266,610\n",
      "Non-trainable params: 0\n",
      "_________________________________________________________________\n"
     ]
    }
   ],
   "source": [
    "model.summary()"
   ]
  },
  {
   "cell_type": "code",
   "execution_count": 7,
   "id": "64c038dd",
   "metadata": {},
   "outputs": [],
   "source": [
    "# create a validation set 9 (to check whether the model is over fitting the data or not)\n",
    "from sklearn.model_selection import train_test_split\n",
    "X_train,X_val,y_train,y_val = train_test_split(X,y)"
   ]
  },
  {
   "cell_type": "code",
   "execution_count": 8,
   "id": "dc8e6eb3",
   "metadata": {},
   "outputs": [],
   "source": [
    "model.compile(loss='sparse_categorical_crossentropy', # Loss: the optimizer will minimize the loss function ( \n",
    "              #root mean swuared error(regression), \n",
    "              #sparse cross entropy(classification)),\n",
    "              \n",
    "             optimizer='adam', #optimizer: algorithms to train the model - \n",
    "              #gradient decent (1847) \n",
    "              #ADAM(2014)\n",
    "             metrics='accuracy') #metric to evaluate the model"
   ]
  },
  {
   "cell_type": "code",
   "execution_count": 9,
   "id": "a9dbe025",
   "metadata": {},
   "outputs": [
    {
     "name": "stdout",
     "output_type": "stream",
     "text": [
      "Epoch 1/30\n",
      "1407/1407 [==============================] - 6s 4ms/step - loss: 1.7550 - accuracy: 0.8607 - val_loss: 0.3991 - val_accuracy: 0.9076\n",
      "Epoch 2/30\n",
      "1407/1407 [==============================] - 4s 3ms/step - loss: 0.3103 - accuracy: 0.9223 - val_loss: 0.3347 - val_accuracy: 0.9181\n",
      "Epoch 3/30\n",
      "1407/1407 [==============================] - 4s 3ms/step - loss: 0.2064 - accuracy: 0.9446 - val_loss: 0.2299 - val_accuracy: 0.9443\n",
      "Epoch 4/30\n",
      "1407/1407 [==============================] - 4s 3ms/step - loss: 0.1757 - accuracy: 0.9526 - val_loss: 0.2097 - val_accuracy: 0.9477\n",
      "Epoch 5/30\n",
      "1407/1407 [==============================] - 5s 4ms/step - loss: 0.1451 - accuracy: 0.9601 - val_loss: 0.2119 - val_accuracy: 0.9487\n",
      "Epoch 6/30\n",
      "1407/1407 [==============================] - 5s 4ms/step - loss: 0.1365 - accuracy: 0.9628 - val_loss: 0.1899 - val_accuracy: 0.9556\n",
      "Epoch 7/30\n",
      "1407/1407 [==============================] - 4s 3ms/step - loss: 0.1172 - accuracy: 0.9687 - val_loss: 0.1938 - val_accuracy: 0.9568\n",
      "Epoch 8/30\n",
      "1407/1407 [==============================] - 5s 3ms/step - loss: 0.1097 - accuracy: 0.9712 - val_loss: 0.2123 - val_accuracy: 0.9556\n",
      "Epoch 9/30\n",
      "1407/1407 [==============================] - 3s 2ms/step - loss: 0.1039 - accuracy: 0.9730 - val_loss: 0.1892 - val_accuracy: 0.9607\n",
      "Epoch 10/30\n",
      "1407/1407 [==============================] - 5s 3ms/step - loss: 0.0925 - accuracy: 0.9765 - val_loss: 0.1725 - val_accuracy: 0.9621\n",
      "Epoch 11/30\n",
      "1407/1407 [==============================] - 3s 2ms/step - loss: 0.0854 - accuracy: 0.9791 - val_loss: 0.2306 - val_accuracy: 0.9562\n",
      "Epoch 12/30\n",
      "1407/1407 [==============================] - 5s 3ms/step - loss: 0.0900 - accuracy: 0.9782 - val_loss: 0.1894 - val_accuracy: 0.9619\n",
      "Epoch 13/30\n",
      "1407/1407 [==============================] - 6s 4ms/step - loss: 0.0750 - accuracy: 0.9825 - val_loss: 0.1775 - val_accuracy: 0.9674\n",
      "Epoch 14/30\n",
      "1407/1407 [==============================] - 4s 3ms/step - loss: 0.0709 - accuracy: 0.9828 - val_loss: 0.2067 - val_accuracy: 0.9638\n",
      "Epoch 15/30\n",
      "1407/1407 [==============================] - 5s 3ms/step - loss: 0.0657 - accuracy: 0.9843 - val_loss: 0.2138 - val_accuracy: 0.9629\n",
      "Epoch 16/30\n",
      "1407/1407 [==============================] - 4s 3ms/step - loss: 0.0685 - accuracy: 0.9838 - val_loss: 0.2069 - val_accuracy: 0.9659\n",
      "Epoch 17/30\n",
      "1407/1407 [==============================] - 5s 4ms/step - loss: 0.0588 - accuracy: 0.9865 - val_loss: 0.2006 - val_accuracy: 0.9665\n",
      "Epoch 18/30\n",
      "1407/1407 [==============================] - 6s 4ms/step - loss: 0.0628 - accuracy: 0.9857 - val_loss: 0.2305 - val_accuracy: 0.9677\n",
      "Epoch 19/30\n",
      "1407/1407 [==============================] - 5s 4ms/step - loss: 0.0638 - accuracy: 0.9864 - val_loss: 0.2444 - val_accuracy: 0.9690\n",
      "Epoch 20/30\n",
      "1407/1407 [==============================] - 4s 3ms/step - loss: 0.0620 - accuracy: 0.9865 - val_loss: 0.1930 - val_accuracy: 0.9673\n",
      "Epoch 21/30\n",
      "1407/1407 [==============================] - 4s 3ms/step - loss: 0.0525 - accuracy: 0.9879 - val_loss: 0.2344 - val_accuracy: 0.9701\n",
      "Epoch 22/30\n",
      "1407/1407 [==============================] - 5s 4ms/step - loss: 0.0651 - accuracy: 0.9859 - val_loss: 0.2453 - val_accuracy: 0.9655\n",
      "Epoch 23/30\n",
      "1407/1407 [==============================] - 5s 3ms/step - loss: 0.0531 - accuracy: 0.9882 - val_loss: 0.2963 - val_accuracy: 0.9655\n",
      "Epoch 24/30\n",
      "1407/1407 [==============================] - 5s 4ms/step - loss: 0.0488 - accuracy: 0.9892 - val_loss: 0.2592 - val_accuracy: 0.9687\n",
      "Epoch 25/30\n",
      "1407/1407 [==============================] - 6s 4ms/step - loss: 0.0572 - accuracy: 0.9876 - val_loss: 0.2722 - val_accuracy: 0.9585\n",
      "Epoch 26/30\n",
      "1407/1407 [==============================] - 5s 3ms/step - loss: 0.0616 - accuracy: 0.9869 - val_loss: 0.3367 - val_accuracy: 0.9631\n",
      "Epoch 27/30\n",
      "1407/1407 [==============================] - 5s 3ms/step - loss: 0.0431 - accuracy: 0.9899 - val_loss: 0.4195 - val_accuracy: 0.9649\n",
      "Epoch 28/30\n",
      "1407/1407 [==============================] - 5s 4ms/step - loss: 0.0557 - accuracy: 0.9885 - val_loss: 0.3218 - val_accuracy: 0.9615\n",
      "Epoch 29/30\n",
      "1407/1407 [==============================] - 5s 3ms/step - loss: 0.0549 - accuracy: 0.9877 - val_loss: 0.3805 - val_accuracy: 0.9665\n",
      "Epoch 30/30\n",
      "1407/1407 [==============================] - 4s 3ms/step - loss: 0.0493 - accuracy: 0.9899 - val_loss: 0.2882 - val_accuracy: 0.9684\n"
     ]
    }
   ],
   "source": [
    "training_history= model.fit(X_train,y_train,\n",
    "                           epochs=30,# number of time the optimizer will pass through the data\n",
    "                           validation_data=(X_val,y_val))"
   ]
  },
  {
   "cell_type": "code",
   "execution_count": 10,
   "id": "c3635871",
   "metadata": {},
   "outputs": [
    {
     "data": {
      "text/plain": [
       "<AxesSubplot:>"
      ]
     },
     "execution_count": 10,
     "metadata": {},
     "output_type": "execute_result"
    },
    {
     "data": {
      "image/png": "[encoded data removed]",
      "text/plain": [
       "<Figure size 432x288 with 1 Axes>"
      ]
     },
     "metadata": {
      "needs_background": "light"
     },
     "output_type": "display_data"
    }
   ],
   "source": [
    "pd.DataFrame(training_history.history).plot() # once the validation loss starts to increase you begin over fitting for model"
   ]
  },
  {
   "cell_type": "markdown",
   "id": "a8c3e0e6",
   "metadata": {},
   "source": [
    "### once the validation loss starts to increase is when the model is over fitting data for model\n",
    "- Use the epochs parameter to get the correct model"
   ]
  },
  {
   "cell_type": "code",
   "execution_count": 11,
   "id": "2fd92f7f",
   "metadata": {},
   "outputs": [
    {
     "name": "stdout",
     "output_type": "stream",
     "text": [
      "313/313 [==============================] - 1s 4ms/step - loss: 0.2450 - accuracy: 0.9701\n"
     ]
    },
    {
     "data": {
      "text/plain": [
       "[0.24501106142997742, 0.9700999855995178]"
      ]
     },
     "execution_count": 11,
     "metadata": {},
     "output_type": "execute_result"
    }
   ],
   "source": [
    "model.evaluate (X_test,y_test)\n"
   ]
  },
  {
   "cell_type": "code",
   "execution_count": 12,
   "id": "8c2e96da",
   "metadata": {},
   "outputs": [],
   "source": [
    "## 97 of correct classifications"
   ]
  },
  {
   "cell_type": "markdown",
   "id": "05d23607",
   "metadata": {},
   "source": [
    "## Regression Model"
   ]
  },
  {
   "cell_type": "code",
   "execution_count": null,
   "id": "7458b394",
   "metadata": {},
   "outputs": [],
   "source": []
  },
  {
   "cell_type": "code",
   "execution_count": 13,
   "id": "457070d5",
   "metadata": {},
   "outputs": [],
   "source": [
    "url = 'https://raw.githubusercontent.com/um-perez-alvaro/Data-Science-Practice/master/Data/kc_house_data.csv'"
   ]
  },
  {
   "cell_type": "code",
   "execution_count": 18,
   "id": "9058edc7",
   "metadata": {},
   "outputs": [
    {
     "data": {
      "text/html": [
       "<div>\n",
       "<style scoped>\n",
       "    .dataframe tbody tr th:only-of-type {\n",
       "        vertical-align: middle;\n",
       "    }\n",
       "\n",
       "    .dataframe tbody tr th {\n",
       "        vertical-align: top;\n",
       "    }\n",
       "\n",
       "    .dataframe thead th {\n",
       "        text-align: right;\n",
       "    }\n",
       "</style>\n",
       "<table border=\"1\" class=\"dataframe\">\n",
       "  <thead>\n",
       "    <tr style=\"text-align: right;\">\n",
       "      <th></th>\n",
       "      <th>id</th>\n",
       "      <th>date</th>\n",
       "      <th>price</th>\n",
       "      <th>bedrooms</th>\n",
       "      <th>bathrooms</th>\n",
       "      <th>sqft_living</th>\n",
       "      <th>sqft_lot</th>\n",
       "      <th>floors</th>\n",
       "      <th>waterfront</th>\n",
       "      <th>view</th>\n",
       "      <th>...</th>\n",
       "      <th>grade</th>\n",
       "      <th>sqft_above</th>\n",
       "      <th>sqft_basement</th>\n",
       "      <th>yr_built</th>\n",
       "      <th>yr_renovated</th>\n",
       "      <th>zipcode</th>\n",
       "      <th>lat</th>\n",
       "      <th>long</th>\n",
       "      <th>sqft_living15</th>\n",
       "      <th>sqft_lot15</th>\n",
       "    </tr>\n",
       "  </thead>\n",
       "  <tbody>\n",
       "    <tr>\n",
       "      <th>0</th>\n",
       "      <td>7129300520</td>\n",
       "      <td>20141013T000000</td>\n",
       "      <td>221900.0</td>\n",
       "      <td>3</td>\n",
       "      <td>1.00</td>\n",
       "      <td>1180</td>\n",
       "      <td>5650</td>\n",
       "      <td>1.0</td>\n",
       "      <td>0</td>\n",
       "      <td>0</td>\n",
       "      <td>...</td>\n",
       "      <td>7</td>\n",
       "      <td>1180</td>\n",
       "      <td>0</td>\n",
       "      <td>1955</td>\n",
       "      <td>0</td>\n",
       "      <td>98178</td>\n",
       "      <td>47.5112</td>\n",
       "      <td>-122.257</td>\n",
       "      <td>1340</td>\n",
       "      <td>5650</td>\n",
       "    </tr>\n",
       "    <tr>\n",
       "      <th>1</th>\n",
       "      <td>6414100192</td>\n",
       "      <td>20141209T000000</td>\n",
       "      <td>538000.0</td>\n",
       "      <td>3</td>\n",
       "      <td>2.25</td>\n",
       "      <td>2570</td>\n",
       "      <td>7242</td>\n",
       "      <td>2.0</td>\n",
       "      <td>0</td>\n",
       "      <td>0</td>\n",
       "      <td>...</td>\n",
       "      <td>7</td>\n",
       "      <td>2170</td>\n",
       "      <td>400</td>\n",
       "      <td>1951</td>\n",
       "      <td>1991</td>\n",
       "      <td>98125</td>\n",
       "      <td>47.7210</td>\n",
       "      <td>-122.319</td>\n",
       "      <td>1690</td>\n",
       "      <td>7639</td>\n",
       "    </tr>\n",
       "    <tr>\n",
       "      <th>2</th>\n",
       "      <td>5631500400</td>\n",
       "      <td>20150225T000000</td>\n",
       "      <td>180000.0</td>\n",
       "      <td>2</td>\n",
       "      <td>1.00</td>\n",
       "      <td>770</td>\n",
       "      <td>10000</td>\n",
       "      <td>1.0</td>\n",
       "      <td>0</td>\n",
       "      <td>0</td>\n",
       "      <td>...</td>\n",
       "      <td>6</td>\n",
       "      <td>770</td>\n",
       "      <td>0</td>\n",
       "      <td>1933</td>\n",
       "      <td>0</td>\n",
       "      <td>98028</td>\n",
       "      <td>47.7379</td>\n",
       "      <td>-122.233</td>\n",
       "      <td>2720</td>\n",
       "      <td>8062</td>\n",
       "    </tr>\n",
       "    <tr>\n",
       "      <th>3</th>\n",
       "      <td>2487200875</td>\n",
       "      <td>20141209T000000</td>\n",
       "      <td>604000.0</td>\n",
       "      <td>4</td>\n",
       "      <td>3.00</td>\n",
       "      <td>1960</td>\n",
       "      <td>5000</td>\n",
       "      <td>1.0</td>\n",
       "      <td>0</td>\n",
       "      <td>0</td>\n",
       "      <td>...</td>\n",
       "      <td>7</td>\n",
       "      <td>1050</td>\n",
       "      <td>910</td>\n",
       "      <td>1965</td>\n",
       "      <td>0</td>\n",
       "      <td>98136</td>\n",
       "      <td>47.5208</td>\n",
       "      <td>-122.393</td>\n",
       "      <td>1360</td>\n",
       "      <td>5000</td>\n",
       "    </tr>\n",
       "    <tr>\n",
       "      <th>4</th>\n",
       "      <td>1954400510</td>\n",
       "      <td>20150218T000000</td>\n",
       "      <td>510000.0</td>\n",
       "      <td>3</td>\n",
       "      <td>2.00</td>\n",
       "      <td>1680</td>\n",
       "      <td>8080</td>\n",
       "      <td>1.0</td>\n",
       "      <td>0</td>\n",
       "      <td>0</td>\n",
       "      <td>...</td>\n",
       "      <td>8</td>\n",
       "      <td>1680</td>\n",
       "      <td>0</td>\n",
       "      <td>1987</td>\n",
       "      <td>0</td>\n",
       "      <td>98074</td>\n",
       "      <td>47.6168</td>\n",
       "      <td>-122.045</td>\n",
       "      <td>1800</td>\n",
       "      <td>7503</td>\n",
       "    </tr>\n",
       "  </tbody>\n",
       "</table>\n",
       "<p>5 rows × 21 columns</p>\n",
       "</div>"
      ],
      "text/plain": [
       "           id             date     price  bedrooms  bathrooms  sqft_living  \\\n",
       "0  7129300520  20141013T000000  221900.0         3       1.00         1180   \n",
       "1  6414100192  20141209T000000  538000.0         3       2.25         2570   \n",
       "2  5631500400  20150225T000000  180000.0         2       1.00          770   \n",
       "3  2487200875  20141209T000000  604000.0         4       3.00         1960   \n",
       "4  1954400510  20150218T000000  510000.0         3       2.00         1680   \n",
       "\n",
       "   sqft_lot  floors  waterfront  view  ...  grade  sqft_above  sqft_basement  \\\n",
       "0      5650     1.0           0     0  ...      7        1180              0   \n",
       "1      7242     2.0           0     0  ...      7        2170            400   \n",
       "2     10000     1.0           0     0  ...      6         770              0   \n",
       "3      5000     1.0           0     0  ...      7        1050            910   \n",
       "4      8080     1.0           0     0  ...      8        1680              0   \n",
       "\n",
       "   yr_built  yr_renovated  zipcode      lat     long  sqft_living15  \\\n",
       "0      1955             0    98178  47.5112 -122.257           1340   \n",
       "1      1951          1991    98125  47.7210 -122.319           1690   \n",
       "2      1933             0    98028  47.7379 -122.233           2720   \n",
       "3      1965             0    98136  47.5208 -122.393           1360   \n",
       "4      1987             0    98074  47.6168 -122.045           1800   \n",
       "\n",
       "   sqft_lot15  \n",
       "0        5650  \n",
       "1        7639  \n",
       "2        8062  \n",
       "3        5000  \n",
       "4        7503  \n",
       "\n",
       "[5 rows x 21 columns]"
      ]
     },
     "execution_count": 18,
     "metadata": {},
     "output_type": "execute_result"
    }
   ],
   "source": [
    "data=pd.read_csv(url)\n",
    "data.head()"
   ]
  },
  {
   "cell_type": "code",
   "execution_count": 20,
   "id": "a33deb6f",
   "metadata": {},
   "outputs": [],
   "source": [
    "X=data.drop(['id','date','price'],axis='columns')\n",
    "y=data.price"
   ]
  },
  {
   "cell_type": "code",
   "execution_count": 21,
   "id": "f7dfc3ca",
   "metadata": {},
   "outputs": [],
   "source": [
    "# always scale the data before trying to train a neural network\n",
    "from sklearn.preprocessing import StandardScaler\n",
    "scaler=StandardScaler()\n",
    "scaler.fit(X)\n",
    "X_scaled=scaler.transform(X)"
   ]
  },
  {
   "cell_type": "code",
   "execution_count": 39,
   "id": "e9209694",
   "metadata": {},
   "outputs": [],
   "source": [
    "from sklearn.model_selection import train_test_split\n",
    "X_train,X_val,y_train,y_val=train_test_split(X_scaled,y)\n"
   ]
  },
  {
   "cell_type": "code",
   "execution_count": 40,
   "id": "72d02559",
   "metadata": {},
   "outputs": [],
   "source": [
    "#build a regression model\n",
    "model = keras.models.Sequential([\n",
    "    keras.layers.Dense(units=50,activation='relu'),\n",
    "    keras.layers.Dense(units=50,activation='relu'),\n",
    "    keras.layers.Dense(units=50,activation='relu'),\n",
    "    keras.layers.Dense(units=1)\n",
    "])"
   ]
  },
  {
   "cell_type": "code",
   "execution_count": 41,
   "id": "6822025b",
   "metadata": {},
   "outputs": [],
   "source": [
    "# compile the model\n",
    "model.compile(loss='mean_squared_error',\n",
    "              optimizer='adam',\n",
    "              metrics='mean_squared_error')"
   ]
  },
  {
   "cell_type": "code",
   "execution_count": 42,
   "id": "2d19d196",
   "metadata": {},
   "outputs": [
    {
     "name": "stdout",
     "output_type": "stream",
     "text": [
      "Epoch 1/100\n",
      "507/507 [==============================] - 2s 1ms/step - loss: 378307936256.0000 - mean_squared_error: 378307936256.0000 - val_loss: 198903250944.0000 - val_mean_squared_error: 198903250944.0000\n",
      "Epoch 2/100\n",
      "507/507 [==============================] - 1s 3ms/step - loss: 92198051840.0000 - mean_squared_error: 92198051840.0000 - val_loss: 62400307200.0000 - val_mean_squared_error: 62400307200.0000\n",
      "Epoch 3/100\n",
      "507/507 [==============================] - 1s 1ms/step - loss: 59599351808.0000 - mean_squared_error: 59599351808.0000 - val_loss: 51955388416.0000 - val_mean_squared_error: 51955388416.0000\n",
      "Epoch 4/100\n",
      "507/507 [==============================] - 1s 1ms/step - loss: 51115446272.0000 - mean_squared_error: 51115446272.0000 - val_loss: 44925992960.0000 - val_mean_squared_error: 44925992960.0000\n",
      "Epoch 5/100\n",
      "507/507 [==============================] - 1s 3ms/step - loss: 45029036032.0000 - mean_squared_error: 45029036032.0000 - val_loss: 39513698304.0000 - val_mean_squared_error: 39513698304.0000\n",
      "Epoch 6/100\n",
      "507/507 [==============================] - 1s 1ms/step - loss: 40739360768.0000 - mean_squared_error: 40739360768.0000 - val_loss: 36063059968.0000 - val_mean_squared_error: 36063059968.0000\n",
      "Epoch 7/100\n",
      "507/507 [==============================] - 1s 3ms/step - loss: 38031765504.0000 - mean_squared_error: 38031765504.0000 - val_loss: 33947060224.0000 - val_mean_squared_error: 33947060224.0000\n",
      "Epoch 8/100\n",
      "507/507 [==============================] - 1s 1ms/step - loss: 36322271232.0000 - mean_squared_error: 36322271232.0000 - val_loss: 32686540800.0000 - val_mean_squared_error: 32686540800.0000\n",
      "Epoch 9/100\n",
      "507/507 [==============================] - 1s 1ms/step - loss: 35270008832.0000 - mean_squared_error: 35270008832.0000 - val_loss: 31909842944.0000 - val_mean_squared_error: 31909842944.0000\n",
      "Epoch 10/100\n",
      "507/507 [==============================] - 1s 3ms/step - loss: 34596405248.0000 - mean_squared_error: 34596405248.0000 - val_loss: 31689965568.0000 - val_mean_squared_error: 31689965568.0000\n",
      "Epoch 11/100\n",
      "507/507 [==============================] - 1s 1ms/step - loss: 34191998976.0000 - mean_squared_error: 34191998976.0000 - val_loss: 31072862208.0000 - val_mean_squared_error: 31072862208.0000\n",
      "Epoch 12/100\n",
      "507/507 [==============================] - 1s 1ms/step - loss: 33831858176.0000 - mean_squared_error: 33831858176.0000 - val_loss: 30808702976.0000 - val_mean_squared_error: 30808702976.0000\n",
      "Epoch 13/100\n",
      "507/507 [==============================] - 1s 1ms/step - loss: 33506390016.0000 - mean_squared_error: 33506390016.0000 - val_loss: 30468388864.0000 - val_mean_squared_error: 30468388864.0000\n",
      "Epoch 14/100\n",
      "507/507 [==============================] - 1s 1ms/step - loss: 33223473152.0000 - mean_squared_error: 33223473152.0000 - val_loss: 30249086976.0000 - val_mean_squared_error: 30249086976.0000\n",
      "Epoch 15/100\n",
      "507/507 [==============================] - 1s 1ms/step - loss: 32971057152.0000 - mean_squared_error: 32971057152.0000 - val_loss: 30202507264.0000 - val_mean_squared_error: 30202507264.0000\n",
      "Epoch 16/100\n",
      "507/507 [==============================] - 1s 3ms/step - loss: 32830642176.0000 - mean_squared_error: 32830642176.0000 - val_loss: 29927720960.0000 - val_mean_squared_error: 29927720960.0000\n",
      "Epoch 17/100\n",
      "507/507 [==============================] - 1s 3ms/step - loss: 32562673664.0000 - mean_squared_error: 32562673664.0000 - val_loss: 29738211328.0000 - val_mean_squared_error: 29738211328.0000\n",
      "Epoch 18/100\n",
      "507/507 [==============================] - 1s 1ms/step - loss: 32410206208.0000 - mean_squared_error: 32410206208.0000 - val_loss: 29593114624.0000 - val_mean_squared_error: 29593114624.0000\n",
      "Epoch 19/100\n",
      "507/507 [==============================] - 1s 1ms/step - loss: 32218404864.0000 - mean_squared_error: 32218404864.0000 - val_loss: 29508304896.0000 - val_mean_squared_error: 29508304896.0000\n",
      "Epoch 20/100\n",
      "507/507 [==============================] - 1s 1ms/step - loss: 32050446336.0000 - mean_squared_error: 32050446336.0000 - val_loss: 29343127552.0000 - val_mean_squared_error: 29343127552.0000\n",
      "Epoch 21/100\n",
      "507/507 [==============================] - 1s 3ms/step - loss: 31890558976.0000 - mean_squared_error: 31890558976.0000 - val_loss: 29124231168.0000 - val_mean_squared_error: 29124231168.0000\n",
      "Epoch 22/100\n",
      "507/507 [==============================] - 1s 3ms/step - loss: 31698968576.0000 - mean_squared_error: 31698968576.0000 - val_loss: 29076412416.0000 - val_mean_squared_error: 29076412416.0000\n",
      "Epoch 23/100\n",
      "507/507 [==============================] - 1s 1ms/step - loss: 31557713920.0000 - mean_squared_error: 31557713920.0000 - val_loss: 29112860672.0000 - val_mean_squared_error: 29112860672.0000\n",
      "Epoch 24/100\n",
      "507/507 [==============================] - 1s 1ms/step - loss: 31436163072.0000 - mean_squared_error: 31436163072.0000 - val_loss: 28803598336.0000 - val_mean_squared_error: 28803598336.0000\n",
      "Epoch 25/100\n",
      "507/507 [==============================] - 1s 3ms/step - loss: 31322228736.0000 - mean_squared_error: 31322228736.0000 - val_loss: 28657360896.0000 - val_mean_squared_error: 28657360896.0000\n",
      "Epoch 26/100\n",
      "507/507 [==============================] - 1s 3ms/step - loss: 31238117376.0000 - mean_squared_error: 31238117376.0000 - val_loss: 28529446912.0000 - val_mean_squared_error: 28529446912.0000\n",
      "Epoch 27/100\n",
      "507/507 [==============================] - 1s 1ms/step - loss: 31085557760.0000 - mean_squared_error: 31085557760.0000 - val_loss: 28467722240.0000 - val_mean_squared_error: 28467722240.0000\n",
      "Epoch 28/100\n",
      "507/507 [==============================] - 1s 1ms/step - loss: 30933835776.0000 - mean_squared_error: 30933835776.0000 - val_loss: 28523302912.0000 - val_mean_squared_error: 28523302912.0000\n",
      "Epoch 29/100\n",
      "507/507 [==============================] - 1s 3ms/step - loss: 30828085248.0000 - mean_squared_error: 30828085248.0000 - val_loss: 28378265600.0000 - val_mean_squared_error: 28378265600.0000\n",
      "Epoch 30/100\n",
      "507/507 [==============================] - 1s 3ms/step - loss: 30729869312.0000 - mean_squared_error: 30729869312.0000 - val_loss: 28282458112.0000 - val_mean_squared_error: 28282458112.0000\n",
      "Epoch 31/100\n",
      "507/507 [==============================] - 1s 1ms/step - loss: 30641348608.0000 - mean_squared_error: 30641348608.0000 - val_loss: 28153864192.0000 - val_mean_squared_error: 28153864192.0000\n",
      "Epoch 32/100\n",
      "507/507 [==============================] - 2s 5ms/step - loss: 30591045632.0000 - mean_squared_error: 30591045632.0000 - val_loss: 28017801216.0000 - val_mean_squared_error: 28017801216.0000\n",
      "Epoch 33/100\n",
      "507/507 [==============================] - 1s 2ms/step - loss: 30461102080.0000 - mean_squared_error: 30461102080.0000 - val_loss: 27992406016.0000 - val_mean_squared_error: 27992406016.0000\n",
      "Epoch 34/100\n",
      "507/507 [==============================] - 1s 1ms/step - loss: 30321672192.0000 - mean_squared_error: 30321672192.0000 - val_loss: 28021579776.0000 - val_mean_squared_error: 28021579776.0000\n",
      "Epoch 35/100\n",
      "507/507 [==============================] - 1s 1ms/step - loss: 30332502016.0000 - mean_squared_error: 30332502016.0000 - val_loss: 27811588096.0000 - val_mean_squared_error: 27811588096.0000\n",
      "Epoch 36/100\n",
      "507/507 [==============================] - 1s 3ms/step - loss: 30203133952.0000 - mean_squared_error: 30203133952.0000 - val_loss: 27801393152.0000 - val_mean_squared_error: 27801393152.0000\n",
      "Epoch 37/100\n",
      "507/507 [==============================] - 1s 3ms/step - loss: 30118795264.0000 - mean_squared_error: 30118795264.0000 - val_loss: 27644078080.0000 - val_mean_squared_error: 27644078080.0000\n",
      "Epoch 38/100\n",
      "507/507 [==============================] - 1s 1ms/step - loss: 30003228672.0000 - mean_squared_error: 30003228672.0000 - val_loss: 27564093440.0000 - val_mean_squared_error: 27564093440.0000\n",
      "Epoch 39/100\n",
      "507/507 [==============================] - 1s 1ms/step - loss: 29978394624.0000 - mean_squared_error: 29978394624.0000 - val_loss: 27518023680.0000 - val_mean_squared_error: 27518023680.0000\n",
      "Epoch 40/100\n",
      "507/507 [==============================] - 1s 1ms/step - loss: 29792602112.0000 - mean_squared_error: 29792602112.0000 - val_loss: 27521343488.0000 - val_mean_squared_error: 27521343488.0000\n",
      "Epoch 41/100\n",
      "507/507 [==============================] - 1s 3ms/step - loss: 29814241280.0000 - mean_squared_error: 29814241280.0000 - val_loss: 27366721536.0000 - val_mean_squared_error: 27366721536.0000\n",
      "Epoch 42/100\n",
      "507/507 [==============================] - 1s 2ms/step - loss: 29732026368.0000 - mean_squared_error: 29732026368.0000 - val_loss: 27308771328.0000 - val_mean_squared_error: 27308771328.0000\n",
      "Epoch 43/100\n",
      "507/507 [==============================] - 1s 2ms/step - loss: 29646200832.0000 - mean_squared_error: 29646200832.0000 - val_loss: 27194984448.0000 - val_mean_squared_error: 27194984448.0000\n",
      "Epoch 44/100\n",
      "507/507 [==============================] - 1s 1ms/step - loss: 29633888256.0000 - mean_squared_error: 29633888256.0000 - val_loss: 27117516800.0000 - val_mean_squared_error: 27117516800.0000\n",
      "Epoch 45/100\n",
      "507/507 [==============================] - 1s 1ms/step - loss: 29487525888.0000 - mean_squared_error: 29487525888.0000 - val_loss: 27105185792.0000 - val_mean_squared_error: 27105185792.0000\n",
      "Epoch 46/100\n",
      "507/507 [==============================] - 1s 1ms/step - loss: 29404571648.0000 - mean_squared_error: 29404571648.0000 - val_loss: 27083354112.0000 - val_mean_squared_error: 27083354112.0000\n",
      "Epoch 47/100\n",
      "507/507 [==============================] - 1s 1ms/step - loss: 29384054784.0000 - mean_squared_error: 29384054784.0000 - val_loss: 27038916608.0000 - val_mean_squared_error: 27038916608.0000\n",
      "Epoch 48/100\n",
      "507/507 [==============================] - 1s 1ms/step - loss: 29273305088.0000 - mean_squared_error: 29273305088.0000 - val_loss: 27076904960.0000 - val_mean_squared_error: 27076904960.0000\n",
      "Epoch 49/100\n",
      "507/507 [==============================] - 1s 3ms/step - loss: 29171357696.0000 - mean_squared_error: 29171357696.0000 - val_loss: 26875252736.0000 - val_mean_squared_error: 26875252736.0000\n",
      "Epoch 50/100\n",
      "507/507 [==============================] - 1s 3ms/step - loss: 29114288128.0000 - mean_squared_error: 29114288128.0000 - val_loss: 26840891392.0000 - val_mean_squared_error: 26840891392.0000\n",
      "Epoch 51/100\n",
      "507/507 [==============================] - 1s 1ms/step - loss: 29085376512.0000 - mean_squared_error: 29085376512.0000 - val_loss: 26712248320.0000 - val_mean_squared_error: 26712248320.0000\n",
      "Epoch 52/100\n",
      "507/507 [==============================] - 1s 1ms/step - loss: 29055703040.0000 - mean_squared_error: 29055703040.0000 - val_loss: 26746148864.0000 - val_mean_squared_error: 26746148864.0000\n",
      "Epoch 53/100\n",
      "507/507 [==============================] - 1s 2ms/step - loss: 29017257984.0000 - mean_squared_error: 29017257984.0000 - val_loss: 26614331392.0000 - val_mean_squared_error: 26614331392.0000\n",
      "Epoch 54/100\n",
      "507/507 [==============================] - 1s 2ms/step - loss: 28904814592.0000 - mean_squared_error: 28904814592.0000 - val_loss: 26570754048.0000 - val_mean_squared_error: 26570754048.0000\n",
      "Epoch 55/100\n",
      "507/507 [==============================] - 1s 1ms/step - loss: 28827258880.0000 - mean_squared_error: 28827258880.0000 - val_loss: 26517454848.0000 - val_mean_squared_error: 26517454848.0000\n",
      "Epoch 56/100\n",
      "507/507 [==============================] - 1s 1ms/step - loss: 28730691584.0000 - mean_squared_error: 28730691584.0000 - val_loss: 26500761600.0000 - val_mean_squared_error: 26500761600.0000\n",
      "Epoch 57/100\n",
      "507/507 [==============================] - 1s 1ms/step - loss: 28715790336.0000 - mean_squared_error: 28715790336.0000 - val_loss: 26419662848.0000 - val_mean_squared_error: 26419662848.0000\n",
      "Epoch 58/100\n",
      "507/507 [==============================] - 1s 1ms/step - loss: 28662052864.0000 - mean_squared_error: 28662052864.0000 - val_loss: 26391250944.0000 - val_mean_squared_error: 26391250944.0000\n",
      "Epoch 59/100\n",
      "507/507 [==============================] - 1s 1ms/step - loss: 28605171712.0000 - mean_squared_error: 28605171712.0000 - val_loss: 26313848832.0000 - val_mean_squared_error: 26313848832.0000\n",
      "Epoch 60/100\n",
      "507/507 [==============================] - 1s 1ms/step - loss: 28511019008.0000 - mean_squared_error: 28511019008.0000 - val_loss: 26394374144.0000 - val_mean_squared_error: 26394374144.0000\n",
      "Epoch 61/100\n",
      "507/507 [==============================] - 1s 1ms/step - loss: 28419770368.0000 - mean_squared_error: 28419770368.0000 - val_loss: 26325510144.0000 - val_mean_squared_error: 26325510144.0000\n",
      "Epoch 62/100\n",
      "507/507 [==============================] - 1s 1ms/step - loss: 28441180160.0000 - mean_squared_error: 28441180160.0000 - val_loss: 26211987456.0000 - val_mean_squared_error: 26211987456.0000\n",
      "Epoch 63/100\n",
      "507/507 [==============================] - 1s 1ms/step - loss: 28398362624.0000 - mean_squared_error: 28398362624.0000 - val_loss: 26079930368.0000 - val_mean_squared_error: 26079930368.0000\n",
      "Epoch 64/100\n",
      "507/507 [==============================] - 1s 1ms/step - loss: 28347443200.0000 - mean_squared_error: 28347443200.0000 - val_loss: 26167238656.0000 - val_mean_squared_error: 26167238656.0000\n",
      "Epoch 65/100\n",
      "507/507 [==============================] - 1s 1ms/step - loss: 28255846400.0000 - mean_squared_error: 28255846400.0000 - val_loss: 26218059776.0000 - val_mean_squared_error: 26218059776.0000\n",
      "Epoch 66/100\n",
      "507/507 [==============================] - 1s 1ms/step - loss: 28290566144.0000 - mean_squared_error: 28290566144.0000 - val_loss: 26039396352.0000 - val_mean_squared_error: 26039396352.0000\n",
      "Epoch 67/100\n",
      "507/507 [==============================] - 1s 1ms/step - loss: 28215773184.0000 - mean_squared_error: 28215773184.0000 - val_loss: 25969750016.0000 - val_mean_squared_error: 25969750016.0000\n",
      "Epoch 68/100\n",
      "507/507 [==============================] - 1s 1ms/step - loss: 28192479232.0000 - mean_squared_error: 28192479232.0000 - val_loss: 25988276224.0000 - val_mean_squared_error: 25988276224.0000\n",
      "Epoch 69/100\n",
      "507/507 [==============================] - 1s 1ms/step - loss: 28071086080.0000 - mean_squared_error: 28071086080.0000 - val_loss: 26002880512.0000 - val_mean_squared_error: 26002880512.0000\n",
      "Epoch 70/100\n",
      "507/507 [==============================] - 1s 1ms/step - loss: 28153159680.0000 - mean_squared_error: 28153159680.0000 - val_loss: 25912672256.0000 - val_mean_squared_error: 25912672256.0000\n",
      "Epoch 71/100\n",
      "507/507 [==============================] - 1s 2ms/step - loss: 28043608064.0000 - mean_squared_error: 28043608064.0000 - val_loss: 25787750400.0000 - val_mean_squared_error: 25787750400.0000\n",
      "Epoch 72/100\n",
      "507/507 [==============================] - 2s 3ms/step - loss: 28004743168.0000 - mean_squared_error: 28004743168.0000 - val_loss: 25813004288.0000 - val_mean_squared_error: 25813004288.0000\n",
      "Epoch 73/100\n",
      "507/507 [==============================] - 1s 2ms/step - loss: 27992666112.0000 - mean_squared_error: 27992666112.0000 - val_loss: 25757607936.0000 - val_mean_squared_error: 25757607936.0000\n",
      "Epoch 74/100\n",
      "507/507 [==============================] - 1s 1ms/step - loss: 27980234752.0000 - mean_squared_error: 27980234752.0000 - val_loss: 25742936064.0000 - val_mean_squared_error: 25742936064.0000\n",
      "Epoch 75/100\n",
      "507/507 [==============================] - 1s 1ms/step - loss: 27900403712.0000 - mean_squared_error: 27900403712.0000 - val_loss: 25696258048.0000 - val_mean_squared_error: 25696258048.0000\n",
      "Epoch 76/100\n",
      "507/507 [==============================] - 1s 3ms/step - loss: 27842723840.0000 - mean_squared_error: 27842723840.0000 - val_loss: 25733435392.0000 - val_mean_squared_error: 25733435392.0000\n",
      "Epoch 77/100\n",
      "507/507 [==============================] - 1s 1ms/step - loss: 27774404608.0000 - mean_squared_error: 27774404608.0000 - val_loss: 25805862912.0000 - val_mean_squared_error: 25805862912.0000\n",
      "Epoch 78/100\n",
      "507/507 [==============================] - 1s 1ms/step - loss: 27778969600.0000 - mean_squared_error: 27778969600.0000 - val_loss: 25593991168.0000 - val_mean_squared_error: 25593991168.0000\n",
      "Epoch 79/100\n",
      "507/507 [==============================] - 1s 1ms/step - loss: 27685105664.0000 - mean_squared_error: 27685105664.0000 - val_loss: 25558575104.0000 - val_mean_squared_error: 25558575104.0000\n",
      "Epoch 80/100\n",
      "507/507 [==============================] - 1s 1ms/step - loss: 27685638144.0000 - mean_squared_error: 27685638144.0000 - val_loss: 25569538048.0000 - val_mean_squared_error: 25569538048.0000\n",
      "Epoch 81/100\n"
     ]
    },
    {
     "name": "stdout",
     "output_type": "stream",
     "text": [
      "507/507 [==============================] - 1s 3ms/step - loss: 27657558016.0000 - mean_squared_error: 27657558016.0000 - val_loss: 25567899648.0000 - val_mean_squared_error: 25567899648.0000\n",
      "Epoch 82/100\n",
      "507/507 [==============================] - 1s 3ms/step - loss: 27621226496.0000 - mean_squared_error: 27621226496.0000 - val_loss: 25500643328.0000 - val_mean_squared_error: 25500643328.0000\n",
      "Epoch 83/100\n",
      "507/507 [==============================] - 1s 1ms/step - loss: 27550750720.0000 - mean_squared_error: 27550750720.0000 - val_loss: 25406547968.0000 - val_mean_squared_error: 25406547968.0000\n",
      "Epoch 84/100\n",
      "507/507 [==============================] - 1s 3ms/step - loss: 27527694336.0000 - mean_squared_error: 27527694336.0000 - val_loss: 25514840064.0000 - val_mean_squared_error: 25514840064.0000\n",
      "Epoch 85/100\n",
      "507/507 [==============================] - 1s 1ms/step - loss: 27505338368.0000 - mean_squared_error: 27505338368.0000 - val_loss: 25389959168.0000 - val_mean_squared_error: 25389959168.0000\n",
      "Epoch 86/100\n",
      "507/507 [==============================] - 1s 1ms/step - loss: 27467440128.0000 - mean_squared_error: 27467440128.0000 - val_loss: 25496496128.0000 - val_mean_squared_error: 25496496128.0000\n",
      "Epoch 87/100\n",
      "507/507 [==============================] - 1s 1ms/step - loss: 27432202240.0000 - mean_squared_error: 27432202240.0000 - val_loss: 25237473280.0000 - val_mean_squared_error: 25237473280.0000\n",
      "Epoch 88/100\n",
      "507/507 [==============================] - 1s 1ms/step - loss: 27345950720.0000 - mean_squared_error: 27345950720.0000 - val_loss: 25278875648.0000 - val_mean_squared_error: 25278875648.0000\n",
      "Epoch 89/100\n",
      "507/507 [==============================] - 1s 1ms/step - loss: 27300505600.0000 - mean_squared_error: 27300505600.0000 - val_loss: 25242419200.0000 - val_mean_squared_error: 25242419200.0000\n",
      "Epoch 90/100\n",
      "507/507 [==============================] - 2s 3ms/step - loss: 27305306112.0000 - mean_squared_error: 27305306112.0000 - val_loss: 25323003904.0000 - val_mean_squared_error: 25323003904.0000\n",
      "Epoch 91/100\n",
      "507/507 [==============================] - 1s 2ms/step - loss: 27214026752.0000 - mean_squared_error: 27214026752.0000 - val_loss: 25215047680.0000 - val_mean_squared_error: 25215047680.0000\n",
      "Epoch 92/100\n",
      "507/507 [==============================] - 1s 1ms/step - loss: 27179823104.0000 - mean_squared_error: 27179823104.0000 - val_loss: 25256646656.0000 - val_mean_squared_error: 25256646656.0000\n",
      "Epoch 93/100\n",
      "507/507 [==============================] - 1s 1ms/step - loss: 27187136512.0000 - mean_squared_error: 27187136512.0000 - val_loss: 25188601856.0000 - val_mean_squared_error: 25188601856.0000\n",
      "Epoch 94/100\n",
      "507/507 [==============================] - 1s 3ms/step - loss: 27100717056.0000 - mean_squared_error: 27100717056.0000 - val_loss: 25025003520.0000 - val_mean_squared_error: 25025003520.0000\n",
      "Epoch 95/100\n",
      "507/507 [==============================] - 1s 1ms/step - loss: 27080796160.0000 - mean_squared_error: 27080796160.0000 - val_loss: 25033041920.0000 - val_mean_squared_error: 25033041920.0000\n",
      "Epoch 96/100\n",
      "507/507 [==============================] - 1s 1ms/step - loss: 26969663488.0000 - mean_squared_error: 26969663488.0000 - val_loss: 25070819328.0000 - val_mean_squared_error: 25070819328.0000\n",
      "Epoch 97/100\n",
      "507/507 [==============================] - 1s 1ms/step - loss: 26970777600.0000 - mean_squared_error: 26970777600.0000 - val_loss: 24936116224.0000 - val_mean_squared_error: 24936116224.0000\n",
      "Epoch 98/100\n",
      "507/507 [==============================] - 1s 1ms/step - loss: 26964029440.0000 - mean_squared_error: 26964029440.0000 - val_loss: 25016078336.0000 - val_mean_squared_error: 25016078336.0000\n",
      "Epoch 99/100\n",
      "507/507 [==============================] - 1s 1ms/step - loss: 26820042752.0000 - mean_squared_error: 26820042752.0000 - val_loss: 24872159232.0000 - val_mean_squared_error: 24872159232.0000\n",
      "Epoch 100/100\n",
      "507/507 [==============================] - 1s 1ms/step - loss: 26908616704.0000 - mean_squared_error: 26908616704.0000 - val_loss: 24865986560.0000 - val_mean_squared_error: 24865986560.0000\n"
     ]
    },
    {
     "data": {
      "text/plain": [
       "<keras.callbacks.History at 0x1cf07f18af0>"
      ]
     },
     "execution_count": 42,
     "metadata": {},
     "output_type": "execute_result"
    }
   ],
   "source": [
    "# train\n",
    "model.fit(X_train,y_train,\n",
    "         epochs=100,\n",
    "         validation_data=(X_val,y_val))"
   ]
  },
  {
   "cell_type": "code",
   "execution_count": 43,
   "id": "2214bd95",
   "metadata": {},
   "outputs": [],
   "source": [
    "y_train_pred=model.predict(X_train)\n",
    "y_val_pred=model.predict(X_val)"
   ]
  },
  {
   "cell_type": "code",
   "execution_count": 45,
   "id": "e591c78c",
   "metadata": {},
   "outputs": [
    {
     "data": {
      "text/plain": [
       "[<matplotlib.lines.Line2D at 0x1cf0a795af0>]"
      ]
     },
     "execution_count": 45,
     "metadata": {},
     "output_type": "execute_result"
    },
    {
     "data": {
      "image/png": "[encoded data removed]",
      "text/plain": [
       "<Figure size 432x288 with 1 Axes>"
      ]
     },
     "metadata": {
      "needs_background": "light"
     },
     "output_type": "display_data"
    }
   ],
   "source": [
    "plt.scatter(y_train,y_train_pred)\n",
    "plt.plot([0,7e6],[0,7e6],'--',color='red')"
   ]
  },
  {
   "cell_type": "code",
   "execution_count": 46,
   "id": "b680c0c1",
   "metadata": {},
   "outputs": [
    {
     "data": {
      "text/plain": [
       "[<matplotlib.lines.Line2D at 0x1cf0a64e640>]"
      ]
     },
     "execution_count": 46,
     "metadata": {},
     "output_type": "execute_result"
    },
    {
     "data": {
      "image/png": "[encoded data removed]",
      "text/plain": [
       "<Figure size 432x288 with 1 Axes>"
      ]
     },
     "metadata": {
      "needs_background": "light"
     },
     "output_type": "display_data"
    }
   ],
   "source": [
    "plt.scatter(y_val,y_val_pred)\n",
    "plt.plot([0,7e6],[0,7e6],'--',color='red')"
   ]
  },
  {
   "cell_type": "code",
   "execution_count": null,
   "id": "08210a30",
   "metadata": {},
   "outputs": [],
   "source": [
    "## use a regular Machine learning linear Regession model and compare "
   ]
  }
 ],
 "metadata": {
  "kernelspec": {
   "display_name": "Python 3 (ipykernel)",
   "language": "python",
   "name": "python3"
  },
  "language_info": {
   "codemirror_mode": {
    "name": "ipython",
    "version": 3
   },
   "file_extension": ".py",
   "mimetype": "text/x-python",
   "name": "python",
   "nbconvert_exporter": "python",
   "pygments_lexer": "ipython3",
   "version": "3.9.7"
  }
 },
 "nbformat": 4,
 "nbformat_minor": 5
}
