{
 "cells": [
  {
   "cell_type": "code",
   "execution_count": 1,
   "metadata": {},
   "outputs": [],
   "source": [
    "import numpy as np\n",
    "import pandas as pd\n",
    "import matplotlib.pyplot as plt\n",
    "from scipy.signal import correlate2d, convolve2d # scipy.signal is a signal processing library"
   ]
  },
  {
   "cell_type": "markdown",
   "metadata": {},
   "source": [
    "# The MNIST dataset "
   ]
  },
  {
   "cell_type": "markdown",
   "metadata": {},
   "source": [
    "The goal is to build a neural network to recognize handwritten digits.\n",
    "We'll use the MNIST dataset."
   ]
  },
  {
   "cell_type": "markdown",
   "metadata": {},
   "source": [
    "**Contents:**\n",
    "- [Neural Network Stuff](#Neural-Network-Stuff)\n",
    "- [The training and testing MNIST datasets](#The-training-and-testing-MNIST-datasets)\n",
    "- [Two-layer Neural Network](#Two-layer-Neural-Network)\n",
    "- [Three-layer Neural Network](#Three-layer-Neural-Network)"
   ]
  },
  {
   "cell_type": "markdown",
   "metadata": {},
   "source": [
    "## Neural Network Stuff"
   ]
  },
  {
   "cell_type": "code",
   "execution_count": 2,
   "metadata": {},
   "outputs": [],
   "source": [
    "# neural network layer\n",
    "class layer:\n",
    "    \n",
    "    # initialization (weights and biases)\n",
    "    def __init__(self,n_inputs, n_neurons): # self represents the instance of the class\n",
    "        self.weights = 0.1*np.random.randn(n_inputs,n_neurons) # small random numbers\n",
    "        self.biases = np.zeros((1,n_neurons))# zeros\n",
    "        \n",
    "        # initialize momentums and caches\n",
    "        self.weight_momentums = np.zeros(self.weights.shape)\n",
    "        self.weight_caches = np.zeros(self.weights.shape)\n",
    "        self.bias_momentums = np.zeros(self.biases.shape)\n",
    "        self.bias_caches = np.zeros(self.biases.shape)\n",
    "        \n",
    "    # forward pass: pass the data through the layer\n",
    "    def forward(self, inputs):\n",
    "        # we need to store the output\n",
    "        self.output = inputs.dot(self.weights) + self.biases\n",
    "        \n",
    "        # remember input values\n",
    "        self.inputs = inputs\n",
    "        \n",
    "    def backward(self, dinputs):\n",
    "        \n",
    "        # gradient\n",
    "        self.dinputs = dinputs.dot(self.weights.T)\n",
    "        \n",
    "        # gradients on parameters\n",
    "        self.dweights = self.inputs.T.dot(dinputs)\n",
    "        self.dbiases = np.sum(dinputs, axis=0, keepdims=True)\n",
    "        \n",
    "\n",
    "        \n",
    "# activation function\n",
    "class ReLU:\n",
    "    def forward(self, inputs):\n",
    "        self.output = np.maximum(0, inputs)\n",
    "        \n",
    "        # remember input values\n",
    "        self.inputs = inputs\n",
    "        \n",
    "    def backward(self, dinputs):\n",
    "\n",
    "        # copy dvalues\n",
    "        self.dinputs = dinputs.copy()\n",
    "        \n",
    "        # zero gradient where input values were negative\n",
    "        self.dinputs[self.inputs <= 0] = 0\n",
    "        \n",
    "        \n",
    "\n",
    "        \n",
    "# softmax activation function\n",
    "class softmax:\n",
    "    \n",
    "    def forward(self, inputs):\n",
    "        \n",
    "        # unnormalized probabilities\n",
    "        exp_values = np.exp(inputs)\n",
    "        \n",
    "        # normalized probabilities\n",
    "        probabilities = exp_values / np.sum(exp_values, axis=1, keepdims=True)\n",
    "        self.output = probabilities\n",
    "        \n",
    "        # remember input values\n",
    "        self.inputs = inputs\n",
    "        \n",
    "    def backward(self,dinputs):\n",
    "\n",
    "        \n",
    "        # initialized gradient array\n",
    "        self.dinputs = np.zeros(dinputs.shape)\n",
    "        \n",
    "        # For each data point, compute gradient\n",
    "        for i in range(len(dinputs)):\n",
    "            \n",
    "            # probabilities \n",
    "            proba = self.output[i]\n",
    "            \n",
    "            # loss gradients\n",
    "            dinputs_row = dinputs[i]\n",
    "\n",
    "\n",
    "            # calculate derivative matrix of the output\n",
    "            derivative_matrix = np.diag(proba) - proba.reshape(-1,1).dot(proba.reshape(1,-1))\n",
    "            \n",
    "            # store gradient\n",
    "            self.dinputs[i] = dinputs_row.dot(derivative_matrix)\n",
    "            \n",
    "\n",
    "class loss_crossentropy():\n",
    "    \n",
    "    def forward(self, y_hat, y):\n",
    "        \n",
    "        # number of data points\n",
    "        n_samples = len(y)\n",
    "        \n",
    "        # clip data to prevent division by 0\n",
    "        y_hat_clipped = np.clip(y_hat, 1e-7,1 - 1e-7)\n",
    "        \n",
    "        # predicted class probabilities\n",
    "        pred_proba = y_hat_clipped[range(n_samples),y]\n",
    "       \n",
    "        # sample losses \n",
    "        losses = -np.log(pred_proba)\n",
    "        \n",
    "        return losses\n",
    "    \n",
    "    \n",
    "    def backward(self, p, y):\n",
    "        \n",
    "        \n",
    "        # number of samples\n",
    "        n_samples = len(y)\n",
    "    \n",
    "        # one-hot matrix\n",
    "        Y = np.zeros(p.shape)\n",
    "        Y[np.arange(len(y)),y] = 1\n",
    "        \n",
    "        # calculate gradient\n",
    "        self.dinputs = -Y / p\n",
    "        \n",
    "        # normalized gradient\n",
    "        self.dinputs = self.dinputs / n_samples\n",
    "            \n",
    "            \n",
    "        \n",
    "class optimizer_GD:\n",
    "\n",
    "    def __init__(self, learning_rate=1):\n",
    "        self.learning_rate = learning_rate\n",
    "        \n",
    "    def update_parameters(self, layer):\n",
    "        \n",
    "        # apply gradient descent iteration\n",
    "        layer.weights = layer.weights - self.learning_rate*layer.dweights\n",
    "        layer.biases = layer.biases - self.learning_rate*layer.dbiases\n",
    "        \n",
    "        \n",
    "# Adam optimizer\n",
    "class optimizer_ADAM:\n",
    "    \n",
    "    # Initialize optimizer - set parameters\n",
    "    def __init__(self, learning_rate=0.001, decay=0., epsilon=1e-7,beta_1=0.9, beta_2=0.999):\n",
    "        \n",
    "        # initial learning rate\n",
    "        self.learning_rate = learning_rate\n",
    "        self.current_learning_rate = learning_rate\n",
    "        \n",
    "        # decay parameters\n",
    "        self.decay = decay\n",
    "        \n",
    "        # number of epochs\n",
    "        self.epoch = 0\n",
    "        \n",
    "        # update learning rate parameter\n",
    "        self.epsilon = epsilon\n",
    "        \n",
    "        # momentum parameter\n",
    "        self.beta_1 = beta_1\n",
    "        \n",
    "        # cache parameter\n",
    "        self.beta_2 = beta_2\n",
    "        \n",
    "        \n",
    "    # update learning rate\n",
    "    def pre_update_parameters(self):\n",
    "        \n",
    "        # update learning rate\n",
    "        self.current_learning_rate = self.learning_rate * (1 / (1 + self.decay * self.epoch))\n",
    "            \n",
    "    # Update weights/biases\n",
    "    def update_parameters(self, layer):\n",
    "                   \n",
    "        # momentums\n",
    "        layer.weight_momentums = self.beta_1 * layer.weight_momentums + (1 - self.beta_1) * layer.dweights\n",
    "        layer.bias_momentums = self.beta_1 * layer.bias_momentums + (1 - self.beta_1) * layer.dbiases\n",
    "        \n",
    "        # corrected momentums\n",
    "        weight_momentums_corrected = layer.weight_momentums / (1 - self.beta_1 ** (self.epoch + 1))\n",
    "        bias_momentums_corrected = layer.bias_momentums / (1 - self.beta_1 ** (self.epoch + 1))\n",
    "        \n",
    "        # cache\n",
    "        layer.weight_caches = self.beta_2 * layer.weight_caches + (1 - self.beta_2) * layer.dweights**2  \n",
    "        layer.bias_caches = self.beta_2 * layer.bias_caches + (1 - self.beta_2) * layer.dbiases**2\n",
    "        \n",
    "        # corrected cache\n",
    "        weight_caches_corrected = layer.weight_caches / (1 - self.beta_2 ** (self.epoch + 1))\n",
    "        bias_caches_corrected = layer.bias_caches / (1 - self.beta_2 ** (self.epoch + 1))\n",
    "        \n",
    "        # update weights and biases\n",
    "        layer.weights += -self.current_learning_rate * weight_momentums_corrected / (np.sqrt(weight_caches_corrected) + self.epsilon)\n",
    "        layer.biases += -self.current_learning_rate * bias_momentums_corrected / (np.sqrt(bias_caches_corrected) + self.epsilon)\n",
    "        \n",
    "    # update epoch\n",
    "    def post_update_parameters(self):\n",
    "        self.epoch += 1\n",
    "        \n",
    "        \n",
    "# dropout layer\n",
    "class dropout:\n",
    "    \n",
    "    # initialization - set the dropout rate\n",
    "    def __init__(self, rate):\n",
    "        self.rate = rate\n",
    "        \n",
    "    # forward pass\n",
    "    def forward(self, inputs):\n",
    "        # save inputs \n",
    "        self.inputs = inputs\n",
    "        # mask\n",
    "        self.mask = np.random.binomial(1, 1 - self.rate, size = inputs.shape) / (1 - self.rate)\n",
    "        # apply mask\n",
    "        self.output = inputs * self.mask\n",
    "        \n",
    "    # backward pass\n",
    "    def backward(self, dinputs):\n",
    "        self.dinputs = dinputs*self.mask"
   ]
  },
  {
   "cell_type": "markdown",
   "metadata": {},
   "source": [
    "## The training and testing MNIST datasets"
   ]
  },
  {
   "cell_type": "code",
   "execution_count": 21,
   "metadata": {},
   "outputs": [
    {
     "data": {
      "text/plain": [
       "((5000, 784), (5000,))"
      ]
     },
     "execution_count": 21,
     "metadata": {},
     "output_type": "execute_result"
    }
   ],
   "source": [
    "# load the training dataset\n",
    "url = 'https://raw.githubusercontent.com/um-perez-alvaro/Data-Science-Theory/master/Data/digits.csv'\n",
    "data_train = pd.read_csv(url)\n",
    "\n",
    "# feature matrix X - target vector y\n",
    "X = data_train.iloc[:,0:784].to_numpy() # pixels\n",
    "y = data_train['label'].to_numpy() # labels\n",
    "X \n",
    "X.shape,y.shape"
   ]
  },
  {
   "cell_type": "code",
   "execution_count": 22,
   "metadata": {},
   "outputs": [],
   "source": [
    "X_plot=X.reshape(len(X),1,28,28)\n"
   ]
  },
  {
   "cell_type": "code",
   "execution_count": 23,
   "metadata": {},
   "outputs": [
    {
     "data": {
      "text/plain": [
       "<matplotlib.image.AxesImage at 0x28300d94850>"
      ]
     },
     "execution_count": 23,
     "metadata": {},
     "output_type": "execute_result"
    },
    {
     "data": {
      "image/png": "[encoded data removed]",
      "text/plain": [
       "<Figure size 432x288 with 1 Axes>"
      ]
     },
     "metadata": {
      "needs_background": "light"
     },
     "output_type": "display_data"
    }
   ],
   "source": [
    "plt.imshow(X_plot[2,0],cmap='gray')"
   ]
  },
  {
   "cell_type": "code",
   "execution_count": 24,
   "metadata": {},
   "outputs": [
    {
     "data": {
      "text/plain": [
       "(784,)"
      ]
     },
     "execution_count": 24,
     "metadata": {},
     "output_type": "execute_result"
    }
   ],
   "source": [
    "X[1].shape"
   ]
  },
  {
   "cell_type": "code",
   "execution_count": 25,
   "metadata": {},
   "outputs": [],
   "source": [
    "# load the testing dataset\n",
    "url = 'https://raw.githubusercontent.com/um-perez-alvaro/Data-Science-Theory/master/Data/digits_test.csv'\n",
    "data_test = pd.read_csv(url)\n",
    "\n",
    "# feature matrix X - target vector y\n",
    "X_test = data_test.iloc[:,0:784].to_numpy() # pixels\n",
    "y_test = data_test['label'].to_numpy() # labels"
   ]
  },
  {
   "cell_type": "code",
   "execution_count": 26,
   "metadata": {},
   "outputs": [],
   "source": [
    "#X_test=X_test.reshape(len(X_test),-1)\n"
   ]
  },
  {
   "cell_type": "markdown",
   "metadata": {},
   "source": [
    "## Two-layer Neural Network"
   ]
  },
  {
   "cell_type": "markdown",
   "metadata": {},
   "source": [
    "**Part 1:** Fit a neural network with two layers to the training dataset"
   ]
  },
  {
   "cell_type": "code",
   "execution_count": 27,
   "metadata": {},
   "outputs": [],
   "source": [
    "# build the neural network \n",
    "# layer 1\n",
    "layer1 = layer(n_inputs = 784, n_neurons = 784*4)\n",
    "activation1 = ReLU()\n",
    "\n",
    "# layer 2\n",
    "layer2 = layer(n_inputs = 784*4, n_neurons = 784)\n",
    "activation2 = softmax()\n",
    "\n",
    "\n",
    "# loss function \n",
    "loss_function = loss_crossentropy()\n",
    "\n",
    "# optimizer\n",
    "optimizer = optimizer_ADAM(learning_rate=0.01)\n"
   ]
  },
  {
   "cell_type": "code",
   "execution_count": 28,
   "metadata": {
    "scrolled": true
   },
   "outputs": [
    {
     "name": "stdout",
     "output_type": "stream",
     "text": [
      "epoch: 0\n",
      "loss: 12.864\n",
      "accuracy: 0.0\n",
      "------------------------\n",
      "epoch: 1\n",
      "loss: 2.543\n",
      "accuracy: 62.63999999999999\n",
      "------------------------\n",
      "epoch: 2\n",
      "loss: 4.094\n",
      "accuracy: 59.199999999999996\n",
      "------------------------\n",
      "epoch: 3\n",
      "loss: 3.334\n",
      "accuracy: 68.58\n",
      "------------------------\n",
      "epoch: 4\n",
      "loss: 2.222\n",
      "accuracy: 76.8\n",
      "------------------------\n",
      "epoch: 5\n",
      "loss: 1.243\n",
      "accuracy: 85.48\n",
      "------------------------\n",
      "epoch: 6\n",
      "loss: 1.22\n",
      "accuracy: 85.58\n",
      "------------------------\n",
      "epoch: 7\n",
      "loss: 1.213\n",
      "accuracy: 86.02\n",
      "------------------------\n",
      "epoch: 8\n",
      "loss: 1.243\n",
      "accuracy: 86.88\n",
      "------------------------\n",
      "epoch: 9\n",
      "loss: 1.244\n",
      "accuracy: 86.08\n",
      "------------------------\n"
     ]
    }
   ],
   "source": [
    "n_epochs = 10\n",
    "loss_adam = np.zeros(n_epochs)\n",
    "accuracy_adam = np.zeros(n_epochs)\n",
    "# gradient descent iterations\n",
    "for epoch in range(n_epochs):\n",
    "\n",
    "    # forward pass\n",
    "    layer1.forward(X)\n",
    "    activation1.forward(layer1.output)\n",
    "    layer2.forward(activation1.output)\n",
    "    activation2.forward(layer2.output)\n",
    "\n",
    "    # loss (mean squared error)\n",
    "    losses = loss_function.forward(activation2.output,y)\n",
    "    loss_adam[epoch] = np.mean(losses)\n",
    "    \n",
    "    # accuracy\n",
    "    y_pred = np.argmax(activation2.output,axis=1)\n",
    "    accuracy_adam[epoch] = 100*np.mean(y_pred == y)\n",
    "\n",
    "    # backward pass\n",
    "    loss_function.backward(activation2.output,y)\n",
    "    activation2.backward(loss_function.dinputs)\n",
    "    layer2.backward(activation2.dinputs)\n",
    "    activation1.backward(layer2.dinputs)\n",
    "    layer1.backward(activation1.dinputs)\n",
    "    \n",
    "    \n",
    "    # update weights and biases\n",
    "    optimizer.pre_update_parameters()\n",
    "    optimizer.update_parameters(layer1)\n",
    "#     optimizer.update_parameters(layer2)\n",
    "    optimizer.post_update_parameters()\n",
    "\n",
    "    \n",
    "    \n",
    "    # print loss and accuracy\n",
    "    # loss\n",
    "    loss = np.round(np.mean(losses),3)\n",
    "    # accuracy (percentage of correct classifications)\n",
    "    y_pred = np.argmax(activation2.output,axis=1)\n",
    "    accuracy = np.round(100*np.mean(y==y_pred),3)\n",
    "    print('epoch: '+str(epoch))\n",
    "    print('loss: '+str(np.round(loss_adam[epoch],3)))\n",
    "    print('accuracy: '+str(accuracy_adam[epoch]))\n",
    "    print('------------------------')"
   ]
  },
  {
   "cell_type": "code",
   "execution_count": 39,
   "metadata": {},
   "outputs": [
    {
     "data": {
      "text/plain": [
       "[<matplotlib.lines.Line2D at 0x283058ca280>]"
      ]
     },
     "execution_count": 39,
     "metadata": {},
     "output_type": "execute_result"
    },
    {
     "data": {
      "image/png": "[encoded data removed]",
      "text/plain": [
       "<Figure size 432x288 with 1 Axes>"
      ]
     },
     "metadata": {
      "needs_background": "light"
     },
     "output_type": "display_data"
    }
   ],
   "source": [
    "# plot the loss as a function of the number of epochs\n",
    "plt.plot(loss_adam)"
   ]
  },
  {
   "cell_type": "code",
   "execution_count": 40,
   "metadata": {},
   "outputs": [
    {
     "data": {
      "text/plain": [
       "[<matplotlib.lines.Line2D at 0x2830592b130>]"
      ]
     },
     "execution_count": 40,
     "metadata": {},
     "output_type": "execute_result"
    },
    {
     "data": {
      "image/png": "[encoded data removed]",
      "text/plain": [
       "<Figure size 432x288 with 1 Axes>"
      ]
     },
     "metadata": {
      "needs_background": "light"
     },
     "output_type": "display_data"
    }
   ],
   "source": [
    "# plot the accuracy as a function of the number of epochs\n",
    "plt.plot(accuracy_adam)"
   ]
  },
  {
   "cell_type": "markdown",
   "metadata": {},
   "source": [
    "**Part 2:** Test your neural network on the test set.\n",
    "Compute the accuracy and the confusion matrix."
   ]
  },
  {
   "cell_type": "code",
   "execution_count": 41,
   "metadata": {},
   "outputs": [],
   "source": [
    "\n",
    "# forward pass\n",
    "layer1.forward(X_test)\n",
    "activation1.forward(layer1.output)\n",
    "layer2.forward(activation1.output)\n",
    "activation2.forward(layer2.output)\n",
    "\n",
    "# loss (mean squared error)\n",
    "losses = loss_function.forward(activation2.output,y_test)\n",
    "loss_adam[epoch] = np.mean(losses)\n",
    "\n",
    "# accuracy\n",
    "y_test_pred = np.argmax(activation2.output,axis=1)\n",
    "accuracy_adam[epoch] = 100*np.mean(y_test_pred == y_test)"
   ]
  },
  {
   "cell_type": "code",
   "execution_count": 42,
   "metadata": {},
   "outputs": [
    {
     "data": {
      "text/plain": [
       "array([8, 7, 9, ..., 8, 3, 7], dtype=int64)"
      ]
     },
     "execution_count": 42,
     "metadata": {},
     "output_type": "execute_result"
    }
   ],
   "source": [
    "# predictions\n",
    "y_test_pred"
   ]
  },
  {
   "cell_type": "code",
   "execution_count": 43,
   "metadata": {},
   "outputs": [
    {
     "data": {
      "text/plain": [
       "0.8465"
      ]
     },
     "execution_count": 43,
     "metadata": {},
     "output_type": "execute_result"
    }
   ],
   "source": [
    "# accuracy\n",
    "from sklearn.metrics import accuracy_score, confusion_matrix\n",
    "accuracy=accuracy_score(y_test,y_test_pred)\n",
    "accuracy"
   ]
  },
  {
   "cell_type": "code",
   "execution_count": 44,
   "metadata": {},
   "outputs": [
    {
     "data": {
      "text/plain": [
       "array([[195,   0,   4,   2,   0,   0,   3,   0,   0,   1],\n",
       "       [  0, 204,   9,   8,   1,   0,   2,   0,   0,   0],\n",
       "       [  4,   0, 165,   9,   0,   0,   5,   0,   2,   0],\n",
       "       [  7,   0,   9, 171,   0,   3,   1,   1,   3,   0],\n",
       "       [  5,   1,   1,   3, 175,   2,   5,   0,   1,  11],\n",
       "       [ 23,   0,   0,   5,   0, 151,   2,   2,   1,   1],\n",
       "       [ 13,   0,   3,   1,   0,   3, 174,   0,   0,   0],\n",
       "       [  7,   0,   2,  25,   1,   0,   0, 161,   1,  13],\n",
       "       [  9,   2,   3,  29,   0,   8,   1,   0, 127,   4],\n",
       "       [  3,   1,   2,  25,   5,   4,   0,   4,   1, 170]], dtype=int64)"
      ]
     },
     "execution_count": 44,
     "metadata": {},
     "output_type": "execute_result"
    }
   ],
   "source": [
    "# confusion matrix\n",
    "confusion=confusion_matrix(y_test,y_test_pred)\n",
    "confusion"
   ]
  },
  {
   "cell_type": "markdown",
   "metadata": {},
   "source": [
    "**Part 3:** Display some of the misclassified digits."
   ]
  },
  {
   "cell_type": "markdown",
   "metadata": {},
   "source": [
    "## Three-layer Neural Network"
   ]
  },
  {
   "cell_type": "code",
   "execution_count": 50,
   "metadata": {},
   "outputs": [],
   "source": [
    "class convolutional_layer():\n",
    "    def __init__(self, input_shape, kernel_size, depth):\n",
    "        \n",
    "        # input_shape = (depth, width, height) of each input\n",
    "        input_depth, input_height, input_width = input_shape\n",
    "        self.input_shape = input_shape\n",
    "        self.input_depth = input_depth\n",
    "        \n",
    "        \n",
    "        # depth = number of kernels\n",
    "        self.depth = depth\n",
    "        \n",
    "        # output shape\n",
    "        self.output_shape = (depth, input_height - kernel_size + 1, input_width - kernel_size + 1)\n",
    "        \n",
    "        # initialize kernels (weights) and biases\n",
    "        self.kernels_shape = (depth, input_depth, kernel_size, kernel_size)\n",
    "        self.weights = 0.1*np.random.randn(depth, input_depth, kernel_size, kernel_size)\n",
    "        self.biases = np.zeros(self.output_shape)\n",
    "\n",
    "        # initialize momentums and caches (for ADAM)\n",
    "        self.weight_momentums = np.zeros(self.weights.shape)\n",
    "        self.weight_caches = np.zeros(self.weights.shape)\n",
    "        self.bias_momentums = np.zeros(self.biases.shape)\n",
    "        self.bias_caches = np.zeros(self.biases.shape)\n",
    "        \n",
    "    def forward(self, inputs):\n",
    "        \n",
    "        # save inputs\n",
    "        self.inputs = inputs\n",
    "        \n",
    "        # initialize output array\n",
    "        self.output = np.copy(self.biases)\n",
    "        \n",
    "        # loop over kernels\n",
    "        for i in range(self.depth):\n",
    "            for j in range(self.input_depth):\n",
    "                self.output[i] += correlate2d(self.inputs[j], self.weights[i, j], \"valid\")\n",
    "                \n",
    "    def backward(self, dinputs):\n",
    "\n",
    "        # initialize gradients\n",
    "        self.dweights = np.zeros(self.kernels_shape) # weights = kernels Kij\n",
    "        self.dinputs = np.zeros(self.input_shape)\n",
    "        self.dbiases = dinputs\n",
    "        \n",
    "        for i in range(self.depth):\n",
    "            for j in range(self.input_depth):\n",
    "                self.dweights[i, j] = correlate2d(self.inputs[j], dinputs[i], \"valid\")\n",
    "                self.dinputs[j] += convolve2d(dinputs[i], self.weights[i, j], \"full\")\n",
    "\n",
    "    \n",
    "    \n",
    "    \n",
    "class reshape:\n",
    "    def __init__(self, input_shape, output_shape):\n",
    "        self.input_shape = input_shape\n",
    "        self.output_shape = output_shape\n",
    "\n",
    "    def forward(self, inputs):\n",
    "        self.output = np.reshape(inputs, self.output_shape)\n",
    "\n",
    "    def backward(self, dinputs):\n",
    "        self.dinputs = np.reshape(dinputs, self.input_shape)\n",
    "        \n",
    "# neural network layer\n",
    "class layer:\n",
    "    \n",
    "    # initialization (weights and biases)\n",
    "    def __init__(self,n_inputs, n_neurons): # self represents the instance of the class\n",
    "        self.weights = 0.1*np.random.randn(n_inputs,n_neurons) # small random numbers\n",
    "        self.biases = np.zeros((1,n_neurons))# zeros\n",
    "        \n",
    "        # initialize momentums and caches\n",
    "        self.weight_momentums = np.zeros(self.weights.shape)\n",
    "        self.weight_caches = np.zeros(self.weights.shape)\n",
    "        self.bias_momentums = np.zeros(self.biases.shape)\n",
    "        self.bias_caches = np.zeros(self.biases.shape)\n",
    "        \n",
    "    # forward pass: pass the data through the layer\n",
    "    def forward(self, inputs):\n",
    "        # we need to store the output\n",
    "        self.output = inputs.dot(self.weights) + self.biases\n",
    "        \n",
    "        # remember input values\n",
    "        self.inputs = inputs\n",
    "        \n",
    "    def backward(self, dinputs):\n",
    "        \n",
    "        # gradient\n",
    "        self.dinputs = dinputs.dot(self.weights.T)\n",
    "        \n",
    "        # gradients on parameters\n",
    "        self.dweights = self.inputs.T.dot(dinputs)\n",
    "        self.dbiases = np.sum(dinputs, axis=0, keepdims=True)\n",
    "        \n",
    "\n",
    "        \n",
    "# activation function\n",
    "class ReLU:\n",
    "    def forward(self, inputs):\n",
    "        self.output = np.maximum(0, inputs)\n",
    "        \n",
    "        # remember input values\n",
    "        self.inputs = inputs\n",
    "        \n",
    "    def backward(self, dinputs):\n",
    "\n",
    "        # copy dvalues\n",
    "        self.dinputs = dinputs.copy()\n",
    "        \n",
    "        # zero gradient where input values were negative\n",
    "        self.dinputs[self.inputs <= 0] = 0\n",
    "        \n",
    "        \n",
    "\n",
    "        \n",
    "# softmax activation function\n",
    "class softmax:\n",
    "    \n",
    "    def forward(self, inputs):\n",
    "        \n",
    "        # unnormalized probabilities\n",
    "        exp_values = np.exp(inputs-np.max(inputs,axis=1, keepdims=True))\n",
    "        \n",
    "        # normalized probabilities\n",
    "        probabilities = exp_values / np.sum(exp_values, axis=1, keepdims=True)\n",
    "        self.output = probabilities\n",
    "        \n",
    "        # remember input values\n",
    "        self.inputs = inputs\n",
    "        \n",
    "        \n",
    "    def backward(self,dinputs):\n",
    "\n",
    "        \n",
    "        # initialized gradient array\n",
    "        self.dinputs = np.zeros(dinputs.shape)\n",
    "        \n",
    "        # For each data point, compute gradient\n",
    "        for i in range(len(dinputs)):\n",
    "            \n",
    "            # probabilities \n",
    "            proba = self.output[i]\n",
    "            \n",
    "            # loss gradients\n",
    "            dinputs_row = dinputs[i]\n",
    "\n",
    "\n",
    "            # calculate derivative matrix of the output\n",
    "            derivative_matrix = np.diag(proba) - proba.reshape(-1,1).dot(proba.reshape(1,-1))\n",
    "            \n",
    "            # store gradient\n",
    "            self.dinputs[i] = dinputs_row.dot(derivative_matrix)\n",
    "            \n",
    "\n",
    "class loss_crossentropy():\n",
    "    \n",
    "    def forward(self, y_hat, y):\n",
    "        \n",
    "        # number of data points\n",
    "        n_samples = len(y)\n",
    "        \n",
    "        # clip data to prevent division by 0\n",
    "        y_hat_clipped = np.clip(y_hat, 1e-7,1 - 1e-7)\n",
    "        \n",
    "        # predicted class probabilities\n",
    "        pred_proba = y_hat_clipped[range(n_samples),y]\n",
    "       \n",
    "        # sample losses \n",
    "        losses = -np.log(pred_proba)\n",
    "        \n",
    "        return losses\n",
    "    \n",
    "    \n",
    "    def backward(self, p, y):\n",
    "        \n",
    "        \n",
    "        # number of samples\n",
    "        n_samples = len(y)\n",
    "    \n",
    "        # one-hot matrix\n",
    "        Y = np.zeros(p.shape)\n",
    "        Y[np.arange(len(y)),y] = 1\n",
    "        \n",
    "        # calculate gradient\n",
    "        self.dinputs = -Y / p\n",
    "        \n",
    "        # normalized gradient\n",
    "        self.dinputs = self.dinputs / n_samples\n",
    "            \n",
    "            \n",
    "        \n",
    "class optimizer_GD:\n",
    "\n",
    "    def __init__(self, learning_rate=1):\n",
    "        self.learning_rate = learning_rate\n",
    "        \n",
    "    def update_parameters(self, layer):\n",
    "        \n",
    "        # apply gradient descent iteration\n",
    "        layer.weights = layer.weights - self.learning_rate*layer.dweights\n",
    "        layer.biases = layer.biases - self.learning_rate*layer.dbiases\n",
    "        \n",
    "        \n",
    "# Adam optimizer\n",
    "class optimizer_ADAM:\n",
    "    \n",
    "    # Initialize optimizer - set parameters\n",
    "    def __init__(self, learning_rate=0.001, decay=0., epsilon=1e-7,beta_1=0.9, beta_2=0.999):\n",
    "        \n",
    "        # initial learning rate\n",
    "        self.learning_rate = learning_rate\n",
    "        self.current_learning_rate = learning_rate\n",
    "        \n",
    "        # decay parameters\n",
    "        self.decay = decay\n",
    "        \n",
    "        # number of epochs\n",
    "        self.epoch = 0\n",
    "        \n",
    "        # update learning rate parameter\n",
    "        self.epsilon = epsilon\n",
    "        \n",
    "        # momentum parameter\n",
    "        self.beta_1 = beta_1\n",
    "        \n",
    "        # cache parameter\n",
    "        self.beta_2 = beta_2\n",
    "        \n",
    "        \n",
    "    # update learning rate\n",
    "    def pre_update_parameters(self):\n",
    "        \n",
    "        # update learning rate\n",
    "        self.current_learning_rate = self.learning_rate * (1 / (1 + self.decay * self.epoch))\n",
    "            \n",
    "    # Update weights/biases\n",
    "    def update_parameters(self, layer):\n",
    "                   \n",
    "        # momentums\n",
    "        layer.weight_momentums = self.beta_1 * layer.weight_momentums + (1 - self.beta_1) * layer.dweights\n",
    "        layer.bias_momentums = self.beta_1 * layer.bias_momentums + (1 - self.beta_1) * layer.dbiases\n",
    "        \n",
    "        # corrected momentums\n",
    "        weight_momentums_corrected = layer.weight_momentums / (1 - self.beta_1 ** (self.epoch + 1))\n",
    "        bias_momentums_corrected = layer.bias_momentums / (1 - self.beta_1 ** (self.epoch + 1))\n",
    "        \n",
    "        # cache\n",
    "        layer.weight_caches = self.beta_2 * layer.weight_caches + (1 - self.beta_2) * layer.dweights**2  \n",
    "        layer.bias_caches = self.beta_2 * layer.bias_caches + (1 - self.beta_2) * layer.dbiases**2\n",
    "        \n",
    "        # corrected cache\n",
    "        weight_caches_corrected = layer.weight_caches / (1 - self.beta_2 ** (self.epoch + 1))\n",
    "        bias_caches_corrected = layer.bias_caches / (1 - self.beta_2 ** (self.epoch + 1))\n",
    "        \n",
    "        # update weights and biases\n",
    "        layer.weights += -self.current_learning_rate * weight_momentums_corrected / (np.sqrt(weight_caches_corrected) + self.epsilon)\n",
    "        layer.biases += -self.current_learning_rate * bias_momentums_corrected / (np.sqrt(bias_caches_corrected) + self.epsilon)\n",
    "        \n",
    "    # update epoch\n",
    "    def post_update_parameters(self):\n",
    "        self.epoch += 1\n",
    "        \n",
    "        \n",
    "# dropout layer\n",
    "class dropout:\n",
    "    \n",
    "    # initialization - set the dropout rate\n",
    "    def __init__(self, rate):\n",
    "        self.rate = rate\n",
    "        \n",
    "    # forward pass\n",
    "    def forward(self, inputs):\n",
    "        # save inputs \n",
    "        self.inputs = inputs\n",
    "        # mask\n",
    "        self.mask = np.random.binomial(1, 1 - self.rate, size = inputs.shape) / (1 - self.rate)\n",
    "        # apply mask\n",
    "        self.output = inputs * self.mask\n",
    "        \n",
    "    # backward pass\n",
    "    def backward(self, dinputs):\n",
    "        self.dinputs = dinputs*self.mask"
   ]
  },
  {
   "cell_type": "markdown",
   "metadata": {},
   "source": [
    "**Part 1:** Fit a neural network with three layers to the training dataset"
   ]
  },
  {
   "cell_type": "code",
   "execution_count": 53,
   "metadata": {},
   "outputs": [],
   "source": [
    "X = X.reshape(len(X),1,28,28)"
   ]
  },
  {
   "cell_type": "code",
   "execution_count": 54,
   "metadata": {},
   "outputs": [],
   "source": [
    "# layer 1\n",
    "layer1 = convolutional_layer(input_shape=(1,28,28), kernel_size=3, depth=5)\n",
    "activation1 = ReLU()\n",
    "\n",
    "# layer 2\n",
    "layer2 = reshape(input_shape=(5,26,26), output_shape=(1,5*26*26)) # 26 = 28-3+1\n",
    "\n",
    "# layer 3\n",
    "layer3 = layer(n_inputs = 5 * 26 * 26, n_neurons = 10)\n",
    "activation3 = softmax()\n",
    "\n",
    "\n",
    "# loss function \n",
    "loss_function = loss_crossentropy()\n",
    "\n",
    "# optimizer\n",
    "optimizer = optimizer_ADAM(learning_rate=0.01)"
   ]
  },
  {
   "cell_type": "code",
   "execution_count": 55,
   "metadata": {},
   "outputs": [
    {
     "name": "stdout",
     "output_type": "stream",
     "text": [
      "epoch: 0\n",
      "loss: 0.604\n",
      "accuracy: 84.32\n",
      "------------------------\n",
      "epoch: 1\n",
      "loss: 0.42\n",
      "accuracy: 91.56\n",
      "------------------------\n",
      "epoch: 2\n",
      "loss: 0.364\n",
      "accuracy: 93.88\n",
      "------------------------\n",
      "epoch: 3\n",
      "loss: 0.336\n",
      "accuracy: 94.89999999999999\n",
      "------------------------\n",
      "epoch: 4\n",
      "loss: 0.278\n",
      "accuracy: 95.92\n",
      "------------------------\n",
      "epoch: 5\n",
      "loss: 0.248\n",
      "accuracy: 96.6\n",
      "------------------------\n",
      "epoch: 6\n",
      "loss: 0.245\n",
      "accuracy: 96.98\n",
      "------------------------\n",
      "epoch: 7\n",
      "loss: 0.236\n",
      "accuracy: 97.38\n",
      "------------------------\n",
      "epoch: 8\n",
      "loss: 0.201\n",
      "accuracy: 97.8\n",
      "------------------------\n",
      "epoch: 9\n",
      "loss: 0.149\n",
      "accuracy: 98.4\n",
      "------------------------\n"
     ]
    }
   ],
   "source": [
    "# warning: CNNs on CPUs are very slow. To speed it up, we need to run this on GPUs\n",
    "n_epochs = 10\n",
    "loss = np.zeros(n_epochs)\n",
    "accuracy = np.zeros(n_epochs)\n",
    "# gradient descent iterations\n",
    "for epoch in range(n_epochs):\n",
    "    \n",
    "    # EPOCH = loop over all datapoints\n",
    "    losses = np.zeros(len(X))\n",
    "    y_pred = np.zeros(len(X))\n",
    "    for i in range(len(X)):\n",
    "\n",
    "        # forward pass\n",
    "        layer1.forward(X[i])\n",
    "        activation1.forward(layer1.output)\n",
    "\n",
    "        layer2.forward(activation1.output)\n",
    "        \n",
    "        layer3.forward(layer2.output)\n",
    "        activation3.forward(layer3.output)\n",
    "        \n",
    "\n",
    "        # sample loss\n",
    "        losses[i] = loss_function.forward(activation3.output,y[i].reshape(1))\n",
    "        # prediction\n",
    "        y_pred[i] = np.argmax(activation3.output,axis=1)\n",
    "        \n",
    "\n",
    "        # backward pass\n",
    "        loss_function.backward(activation3.output,y[i].reshape(1))\n",
    "        activation3.backward(loss_function.dinputs)\n",
    "        layer3.backward(activation3.dinputs)\n",
    "\n",
    "\n",
    "        layer2.backward(layer3.dinputs)\n",
    "\n",
    "        activation1.backward(layer2.dinputs)\n",
    "        layer1.backward(activation1.dinputs)\n",
    "\n",
    "\n",
    "        # update weights and biases\n",
    "        optimizer.pre_update_parameters()\n",
    "        optimizer.update_parameters(layer1)\n",
    "        optimizer.update_parameters(layer3)\n",
    "        optimizer.post_update_parameters()\n",
    "\n",
    "    # loss and accuracy\n",
    "    loss[epoch] = np.mean(losses)\n",
    "    accuracy[epoch] = 100*np.mean(y_pred == y)\n",
    "    \n",
    "    \n",
    "    # print loss and accuracy (every 100 epochs)\n",
    "    print('epoch: '+str(epoch))\n",
    "    print('loss: '+str(np.round(loss[epoch],3)))\n",
    "    print('accuracy: '+str(accuracy[epoch]))\n",
    "    print('------------------------')"
   ]
  },
  {
   "cell_type": "code",
   "execution_count": 56,
   "metadata": {},
   "outputs": [
    {
     "data": {
      "text/plain": [
       "[<matplotlib.lines.Line2D at 0x28300f10970>]"
      ]
     },
     "execution_count": 56,
     "metadata": {},
     "output_type": "execute_result"
    },
    {
     "data": {
      "image/png": "[encoded data removed]",
      "text/plain": [
       "<Figure size 432x288 with 1 Axes>"
      ]
     },
     "metadata": {
      "needs_background": "light"
     },
     "output_type": "display_data"
    }
   ],
   "source": [
    "# plot the loss as a function of the number of epochs\n",
    "plt.plot(loss)\n"
   ]
  },
  {
   "cell_type": "code",
   "execution_count": 57,
   "metadata": {},
   "outputs": [
    {
     "data": {
      "text/plain": [
       "[<matplotlib.lines.Line2D at 0x28300f9f8e0>]"
      ]
     },
     "execution_count": 57,
     "metadata": {},
     "output_type": "execute_result"
    },
    {
     "data": {
      "image/png": "[encoded data removed]",
      "text/plain": [
       "<Figure size 432x288 with 1 Axes>"
      ]
     },
     "metadata": {
      "needs_background": "light"
     },
     "output_type": "display_data"
    }
   ],
   "source": [
    "# plot the accuracy as a function of the number of epochs\n",
    "plt.plot(accuracy)"
   ]
  },
  {
   "cell_type": "markdown",
   "metadata": {},
   "source": [
    "**Part 2:** Test your neural network on the test set.\n",
    "Compute the accuracy and the confusion matrix."
   ]
  },
  {
   "cell_type": "code",
   "execution_count": 60,
   "metadata": {},
   "outputs": [],
   "source": [
    "X_test=X_test.reshape(len(X_test),1,28,28)"
   ]
  },
  {
   "cell_type": "code",
   "execution_count": 61,
   "metadata": {},
   "outputs": [],
   "source": [
    "# warning: CNNs on CPUs are very slow. To speed it up, we need to run this on GPUs\n",
    "n_epochs = 10\n",
    "loss = np.zeros(n_epochs)\n",
    "accuracy = np.zeros(n_epochs)\n",
    "# gradient descent iterations\n",
    "for epoch in range(n_epochs):\n",
    "    \n",
    "    # EPOCH = loop over all datapoints\n",
    "    losses = np.zeros(len(X_test))\n",
    "    y_test_pred = np.zeros(len(X_test))\n",
    "    for i in range(len(X_test)):\n",
    "\n",
    "        # forward pass\n",
    "        layer1.forward(X_test[i])\n",
    "        activation1.forward(layer1.output)\n",
    "\n",
    "        layer2.forward(activation1.output)\n",
    "\n",
    "        layer3.forward(layer2.output)\n",
    "        activation3.forward(layer3.output)\n",
    "\n",
    "\n",
    "        # sample loss\n",
    "        losses[i] = loss_function.forward(activation3.output,y_test[i].reshape(1))\n",
    "        # prediction\n",
    "        y_test_pred[i] = np.argmax(activation3.output,axis=1)"
   ]
  },
  {
   "cell_type": "code",
   "execution_count": 62,
   "metadata": {},
   "outputs": [
    {
     "data": {
      "text/plain": [
       "7.0"
      ]
     },
     "execution_count": 62,
     "metadata": {},
     "output_type": "execute_result"
    }
   ],
   "source": [
    "# predictions\n",
    "y_test_pred[i]"
   ]
  },
  {
   "cell_type": "code",
   "execution_count": 63,
   "metadata": {},
   "outputs": [
    {
     "data": {
      "text/plain": [
       "0.9195"
      ]
     },
     "execution_count": 63,
     "metadata": {},
     "output_type": "execute_result"
    }
   ],
   "source": [
    "# accuracy\n",
    "from sklearn.metrics import accuracy_score, confusion_matrix\n",
    "accuracy=accuracy_score(y_test,y_test_pred)\n",
    "accuracy"
   ]
  },
  {
   "cell_type": "code",
   "execution_count": 64,
   "metadata": {},
   "outputs": [
    {
     "data": {
      "text/plain": [
       "array([[187,   0,   8,   0,   1,   1,   5,   1,   1,   1],\n",
       "       [  0, 216,   5,   1,   0,   0,   0,   0,   2,   0],\n",
       "       [  0,   0, 176,   3,   2,   0,   1,   1,   2,   0],\n",
       "       [  0,   2,   8, 179,   0,   2,   0,   2,   1,   1],\n",
       "       [  0,   2,   3,   1, 189,   0,   4,   3,   1,   1],\n",
       "       [  0,   0,   0,  10,   0, 166,   7,   0,   2,   0],\n",
       "       [  0,   0,   1,   0,   0,   1, 190,   0,   2,   0],\n",
       "       [  0,   0,   1,   4,   3,   1,   0, 196,   2,   3],\n",
       "       [  1,   5,   3,  11,   0,   1,   7,   0, 152,   3],\n",
       "       [  0,   2,   0,  10,   7,   1,   0,   6,   1, 188]], dtype=int64)"
      ]
     },
     "execution_count": 64,
     "metadata": {},
     "output_type": "execute_result"
    }
   ],
   "source": [
    "# confusion matrix\n",
    "confusion=confusion_matrix(y_test,y_test_pred)\n",
    "confusion"
   ]
  },
  {
   "cell_type": "markdown",
   "metadata": {},
   "source": [
    "**Part 3:** Display some of the misclassified digits."
   ]
  },
  {
   "cell_type": "code",
   "execution_count": 65,
   "metadata": {},
   "outputs": [
    {
     "data": {
      "text/plain": [
       "(array([  11,   41,   43,   60,   63,   65,   85,  115,  123,  141,  145,\n",
       "         150,  171,  182,  186,  194,  196,  202,  204,  210,  214,  238,\n",
       "         240,  243,  248,  250,  255,  260,  264,  272,  300,  311,  339,\n",
       "         357,  381,  411,  437,  440,  445,  513,  532,  543,  615,  621,\n",
       "         643,  700,  702,  709,  715,  725,  731,  735,  741,  755,  778,\n",
       "         779,  799,  800,  851,  861,  865,  870,  883,  911,  943,  954,\n",
       "         976,  981,  991,  994, 1015, 1024, 1029, 1038, 1073, 1103, 1121,\n",
       "        1125, 1159, 1161, 1197, 1198, 1201, 1203, 1205, 1209, 1233, 1244,\n",
       "        1264, 1287, 1291, 1297, 1316, 1321, 1350, 1367, 1369, 1372, 1390,\n",
       "        1395, 1402, 1405, 1407, 1409, 1413, 1441, 1467, 1481, 1500, 1501,\n",
       "        1515, 1533, 1535, 1544, 1549, 1556, 1569, 1577, 1585, 1599, 1604,\n",
       "        1610, 1613, 1614, 1616, 1618, 1623, 1638, 1644, 1646, 1656, 1688,\n",
       "        1697, 1704, 1707, 1710, 1733, 1736, 1739, 1744, 1748, 1766, 1774,\n",
       "        1783, 1809, 1828, 1829, 1841, 1850, 1862, 1869, 1879, 1881, 1884,\n",
       "        1903, 1929, 1932, 1948, 1949, 1952, 1991], dtype=int64),)"
      ]
     },
     "execution_count": 65,
     "metadata": {},
     "output_type": "execute_result"
    }
   ],
   "source": [
    "np.where(y_test!=y_test_pred)"
   ]
  },
  {
   "cell_type": "code",
   "execution_count": 66,
   "metadata": {},
   "outputs": [
    {
     "name": "stdout",
     "output_type": "stream",
     "text": [
      "7.0 7\n"
     ]
    },
    {
     "data": {
      "text/plain": [
       "<matplotlib.image.AxesImage at 0x28301007a60>"
      ]
     },
     "execution_count": 66,
     "metadata": {},
     "output_type": "execute_result"
    },
    {
     "data": {
      "image/png": "[encoded data removed]",
      "text/plain": [
       "<Figure size 432x288 with 1 Axes>"
      ]
     },
     "metadata": {
      "needs_background": "light"
     },
     "output_type": "display_data"
    }
   ],
   "source": [
    "i=130\n",
    "\n",
    "print(y_test_pred[i],y_test[i])\n",
    "plt.imshow(X_test[i][0],cmap='gray')"
   ]
  },
  {
   "cell_type": "code",
   "execution_count": 67,
   "metadata": {},
   "outputs": [
    {
     "name": "stdout",
     "output_type": "stream",
     "text": [
      "2.0 3\n"
     ]
    },
    {
     "data": {
      "text/plain": [
       "<matplotlib.image.AxesImage at 0x28301068e20>"
      ]
     },
     "execution_count": 67,
     "metadata": {},
     "output_type": "execute_result"
    },
    {
     "data": {
      "image/png": "[encoded data removed]",
      "text/plain": [
       "<Figure size 432x288 with 1 Axes>"
      ]
     },
     "metadata": {
      "needs_background": "light"
     },
     "output_type": "display_data"
    }
   ],
   "source": [
    "i=41\n",
    "\n",
    "print(y_test_pred[i],y_test[i])\n",
    "plt.imshow(X_test[i][0],cmap='gray')"
   ]
  },
  {
   "cell_type": "code",
   "execution_count": 68,
   "metadata": {},
   "outputs": [
    {
     "name": "stdout",
     "output_type": "stream",
     "text": [
      "9.0 9\n"
     ]
    },
    {
     "data": {
      "text/plain": [
       "<matplotlib.image.AxesImage at 0x283010ce4f0>"
      ]
     },
     "execution_count": 68,
     "metadata": {},
     "output_type": "execute_result"
    },
    {
     "data": {
      "image/png": "[encoded data removed]",
      "text/plain": [
       "<Figure size 432x288 with 1 Axes>"
      ]
     },
     "metadata": {
      "needs_background": "light"
     },
     "output_type": "display_data"
    }
   ],
   "source": [
    "i=22\n",
    "\n",
    "print(y_test_pred[i],y_test[i])\n",
    "plt.imshow(X_test[i][0],cmap='gray')"
   ]
  },
  {
   "cell_type": "code",
   "execution_count": null,
   "metadata": {},
   "outputs": [],
   "source": []
  }
 ],
 "metadata": {
  "kernelspec": {
   "display_name": "Python 3 (ipykernel)",
   "language": "python",
   "name": "python3"
  },
  "language_info": {
   "codemirror_mode": {
    "name": "ipython",
    "version": 3
   },
   "file_extension": ".py",
   "mimetype": "text/x-python",
   "name": "python",
   "nbconvert_exporter": "python",
   "pygments_lexer": "ipython3",
   "version": "3.9.7"
  }
 },
 "nbformat": 4,
 "nbformat_minor": 4
}
